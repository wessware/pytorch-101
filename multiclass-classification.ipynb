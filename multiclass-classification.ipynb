{
 "cells": [
  {
   "cell_type": "code",
   "execution_count": 1,
   "id": "2a8e039a",
   "metadata": {
    "_cell_guid": "b1076dfc-b9ad-4769-8c92-a6c4dae69d19",
    "_uuid": "8f2839f25d086af736a60e9eeb907d3b93b6e0e5",
    "execution": {
     "iopub.execute_input": "2023-02-24T08:47:53.066422Z",
     "iopub.status.busy": "2023-02-24T08:47:53.065789Z",
     "iopub.status.idle": "2023-02-24T08:47:55.942956Z",
     "shell.execute_reply": "2023-02-24T08:47:55.941636Z"
    },
    "papermill": {
     "duration": 2.89418,
     "end_time": "2023-02-24T08:47:55.946034",
     "exception": false,
     "start_time": "2023-02-24T08:47:53.051854",
     "status": "completed"
    },
    "tags": []
   },
   "outputs": [],
   "source": [
    "import numpy as np\n",
    "import pandas as pd \n",
    "\n",
    "from sklearn.preprocessing import MinMaxScaler\n",
    "from sklearn.preprocessing import OneHotEncoder\n",
    "from sklearn.model_selection import train_test_split\n",
    "\n",
    "import matplotlib.pyplot as plt\n",
    "\n",
    "import torch\n",
    "import torch.nn as nn\n",
    "import torch.optim as optim\n",
    "import tqdm"
   ]
  },
  {
   "cell_type": "code",
   "execution_count": 2,
   "id": "4c4bc4bf",
   "metadata": {
    "execution": {
     "iopub.execute_input": "2023-02-24T08:47:55.964738Z",
     "iopub.status.busy": "2023-02-24T08:47:55.963082Z",
     "iopub.status.idle": "2023-02-24T08:47:56.779251Z",
     "shell.execute_reply": "2023-02-24T08:47:56.778191Z"
    },
    "papermill": {
     "duration": 0.82799,
     "end_time": "2023-02-24T08:47:56.781750",
     "exception": false,
     "start_time": "2023-02-24T08:47:55.953760",
     "status": "completed"
    },
    "tags": []
   },
   "outputs": [],
   "source": [
    "df = pd.read_csv('/kaggle/input/clean-data-australia-rainfall/rainfall_data_australia.csv', index_col=None)"
   ]
  },
  {
   "cell_type": "code",
   "execution_count": 3,
   "id": "1c8aacba",
   "metadata": {
    "execution": {
     "iopub.execute_input": "2023-02-24T08:47:56.798748Z",
     "iopub.status.busy": "2023-02-24T08:47:56.798345Z",
     "iopub.status.idle": "2023-02-24T08:47:56.808104Z",
     "shell.execute_reply": "2023-02-24T08:47:56.806796Z"
    },
    "papermill": {
     "duration": 0.021718,
     "end_time": "2023-02-24T08:47:56.811171",
     "exception": false,
     "start_time": "2023-02-24T08:47:56.789453",
     "status": "completed"
    },
    "tags": []
   },
   "outputs": [
    {
     "data": {
      "text/plain": [
       "(351587, 18)"
      ]
     },
     "execution_count": 3,
     "metadata": {},
     "output_type": "execute_result"
    }
   ],
   "source": [
    "df.shape"
   ]
  },
  {
   "cell_type": "code",
   "execution_count": 4,
   "id": "97a88fb7",
   "metadata": {
    "execution": {
     "iopub.execute_input": "2023-02-24T08:47:56.828382Z",
     "iopub.status.busy": "2023-02-24T08:47:56.827986Z",
     "iopub.status.idle": "2023-02-24T08:47:56.859566Z",
     "shell.execute_reply": "2023-02-24T08:47:56.858265Z"
    },
    "papermill": {
     "duration": 0.043219,
     "end_time": "2023-02-24T08:47:56.862315",
     "exception": false,
     "start_time": "2023-02-24T08:47:56.819096",
     "status": "completed"
    },
    "tags": []
   },
   "outputs": [
    {
     "data": {
      "text/html": [
       "<div>\n",
       "<style scoped>\n",
       "    .dataframe tbody tr th:only-of-type {\n",
       "        vertical-align: middle;\n",
       "    }\n",
       "\n",
       "    .dataframe tbody tr th {\n",
       "        vertical-align: top;\n",
       "    }\n",
       "\n",
       "    .dataframe thead th {\n",
       "        text-align: right;\n",
       "    }\n",
       "</style>\n",
       "<table border=\"1\" class=\"dataframe\">\n",
       "  <thead>\n",
       "    <tr style=\"text-align: right;\">\n",
       "      <th></th>\n",
       "      <th>MinTemp</th>\n",
       "      <th>MaxTemp</th>\n",
       "      <th>Rainfall</th>\n",
       "      <th>Evaporation</th>\n",
       "      <th>Sunshine</th>\n",
       "      <th>WindGustSpeed</th>\n",
       "      <th>WindSpeed9am</th>\n",
       "      <th>WindSpeed3pm</th>\n",
       "      <th>Humidity9am</th>\n",
       "      <th>Humidity3pm</th>\n",
       "      <th>Pressure9am</th>\n",
       "      <th>Pressure3pm</th>\n",
       "      <th>Cloud9am</th>\n",
       "      <th>Cloud3pm</th>\n",
       "      <th>Temp9am</th>\n",
       "      <th>Temp3pm</th>\n",
       "      <th>RainToday</th>\n",
       "      <th>RainTomorrow</th>\n",
       "    </tr>\n",
       "  </thead>\n",
       "  <tbody>\n",
       "    <tr>\n",
       "      <th>0</th>\n",
       "      <td>17.9</td>\n",
       "      <td>35.2</td>\n",
       "      <td>0.0</td>\n",
       "      <td>12.0</td>\n",
       "      <td>12.3</td>\n",
       "      <td>48</td>\n",
       "      <td>6.0</td>\n",
       "      <td>20.0</td>\n",
       "      <td>20</td>\n",
       "      <td>13.0</td>\n",
       "      <td>1006.3</td>\n",
       "      <td>1004.4</td>\n",
       "      <td>2</td>\n",
       "      <td>5</td>\n",
       "      <td>26.6</td>\n",
       "      <td>33.4</td>\n",
       "      <td>2</td>\n",
       "      <td>2</td>\n",
       "    </tr>\n",
       "    <tr>\n",
       "      <th>1</th>\n",
       "      <td>17.9</td>\n",
       "      <td>35.2</td>\n",
       "      <td>0.0</td>\n",
       "      <td>12.0</td>\n",
       "      <td>12.3</td>\n",
       "      <td>48</td>\n",
       "      <td>6.0</td>\n",
       "      <td>20.0</td>\n",
       "      <td>20</td>\n",
       "      <td>13.0</td>\n",
       "      <td>1006.3</td>\n",
       "      <td>1004.4</td>\n",
       "      <td>2</td>\n",
       "      <td>5</td>\n",
       "      <td>26.6</td>\n",
       "      <td>33.4</td>\n",
       "      <td>2</td>\n",
       "      <td>2</td>\n",
       "    </tr>\n",
       "    <tr>\n",
       "      <th>2</th>\n",
       "      <td>17.9</td>\n",
       "      <td>35.2</td>\n",
       "      <td>0.0</td>\n",
       "      <td>12.0</td>\n",
       "      <td>12.3</td>\n",
       "      <td>48</td>\n",
       "      <td>6.0</td>\n",
       "      <td>20.0</td>\n",
       "      <td>20</td>\n",
       "      <td>13.0</td>\n",
       "      <td>1006.3</td>\n",
       "      <td>1004.4</td>\n",
       "      <td>2</td>\n",
       "      <td>5</td>\n",
       "      <td>26.6</td>\n",
       "      <td>33.4</td>\n",
       "      <td>2</td>\n",
       "      <td>2</td>\n",
       "    </tr>\n",
       "    <tr>\n",
       "      <th>3</th>\n",
       "      <td>17.9</td>\n",
       "      <td>35.2</td>\n",
       "      <td>0.0</td>\n",
       "      <td>12.0</td>\n",
       "      <td>12.3</td>\n",
       "      <td>48</td>\n",
       "      <td>6.0</td>\n",
       "      <td>20.0</td>\n",
       "      <td>20</td>\n",
       "      <td>13.0</td>\n",
       "      <td>1006.3</td>\n",
       "      <td>1004.4</td>\n",
       "      <td>2</td>\n",
       "      <td>5</td>\n",
       "      <td>26.6</td>\n",
       "      <td>33.4</td>\n",
       "      <td>2</td>\n",
       "      <td>2</td>\n",
       "    </tr>\n",
       "    <tr>\n",
       "      <th>4</th>\n",
       "      <td>17.9</td>\n",
       "      <td>35.2</td>\n",
       "      <td>0.0</td>\n",
       "      <td>12.0</td>\n",
       "      <td>12.3</td>\n",
       "      <td>48</td>\n",
       "      <td>6.0</td>\n",
       "      <td>20.0</td>\n",
       "      <td>20</td>\n",
       "      <td>13.0</td>\n",
       "      <td>1006.3</td>\n",
       "      <td>1004.4</td>\n",
       "      <td>2</td>\n",
       "      <td>5</td>\n",
       "      <td>26.6</td>\n",
       "      <td>33.4</td>\n",
       "      <td>2</td>\n",
       "      <td>2</td>\n",
       "    </tr>\n",
       "  </tbody>\n",
       "</table>\n",
       "</div>"
      ],
      "text/plain": [
       "   MinTemp  MaxTemp  Rainfall  Evaporation  Sunshine  WindGustSpeed  \\\n",
       "0     17.9     35.2       0.0         12.0      12.3             48   \n",
       "1     17.9     35.2       0.0         12.0      12.3             48   \n",
       "2     17.9     35.2       0.0         12.0      12.3             48   \n",
       "3     17.9     35.2       0.0         12.0      12.3             48   \n",
       "4     17.9     35.2       0.0         12.0      12.3             48   \n",
       "\n",
       "   WindSpeed9am  WindSpeed3pm  Humidity9am  Humidity3pm  Pressure9am  \\\n",
       "0           6.0          20.0           20         13.0       1006.3   \n",
       "1           6.0          20.0           20         13.0       1006.3   \n",
       "2           6.0          20.0           20         13.0       1006.3   \n",
       "3           6.0          20.0           20         13.0       1006.3   \n",
       "4           6.0          20.0           20         13.0       1006.3   \n",
       "\n",
       "   Pressure3pm  Cloud9am  Cloud3pm  Temp9am  Temp3pm  RainToday  RainTomorrow  \n",
       "0       1004.4         2         5     26.6     33.4          2             2  \n",
       "1       1004.4         2         5     26.6     33.4          2             2  \n",
       "2       1004.4         2         5     26.6     33.4          2             2  \n",
       "3       1004.4         2         5     26.6     33.4          2             2  \n",
       "4       1004.4         2         5     26.6     33.4          2             2  "
      ]
     },
     "execution_count": 4,
     "metadata": {},
     "output_type": "execute_result"
    }
   ],
   "source": [
    "df.head()"
   ]
  },
  {
   "cell_type": "code",
   "execution_count": 5,
   "id": "bfd80455",
   "metadata": {
    "execution": {
     "iopub.execute_input": "2023-02-24T08:47:56.880462Z",
     "iopub.status.busy": "2023-02-24T08:47:56.880047Z",
     "iopub.status.idle": "2023-02-24T08:47:56.894223Z",
     "shell.execute_reply": "2023-02-24T08:47:56.892992Z"
    },
    "papermill": {
     "duration": 0.026115,
     "end_time": "2023-02-24T08:47:56.896732",
     "exception": false,
     "start_time": "2023-02-24T08:47:56.870617",
     "status": "completed"
    },
    "tags": []
   },
   "outputs": [
    {
     "data": {
      "text/plain": [
       "MinTemp           True\n",
       "MaxTemp           True\n",
       "Rainfall         False\n",
       "Evaporation       True\n",
       "Sunshine         False\n",
       "WindGustSpeed    False\n",
       "WindSpeed9am      True\n",
       "WindSpeed3pm      True\n",
       "Humidity9am      False\n",
       "Humidity3pm       True\n",
       "Pressure9am       True\n",
       "Pressure3pm       True\n",
       "Cloud9am         False\n",
       "Cloud3pm         False\n",
       "Temp9am          False\n",
       "Temp3pm           True\n",
       "RainToday        False\n",
       "RainTomorrow     False\n",
       "dtype: bool"
      ]
     },
     "execution_count": 5,
     "metadata": {},
     "output_type": "execute_result"
    }
   ],
   "source": [
    "df.isna().any()"
   ]
  },
  {
   "cell_type": "code",
   "execution_count": 6,
   "id": "5a630355",
   "metadata": {
    "execution": {
     "iopub.execute_input": "2023-02-24T08:47:56.914744Z",
     "iopub.status.busy": "2023-02-24T08:47:56.914355Z",
     "iopub.status.idle": "2023-02-24T08:47:56.978602Z",
     "shell.execute_reply": "2023-02-24T08:47:56.977555Z"
    },
    "papermill": {
     "duration": 0.076305,
     "end_time": "2023-02-24T08:47:56.981191",
     "exception": false,
     "start_time": "2023-02-24T08:47:56.904886",
     "status": "completed"
    },
    "tags": []
   },
   "outputs": [],
   "source": [
    "df = df.dropna()"
   ]
  },
  {
   "cell_type": "code",
   "execution_count": 7,
   "id": "6eb63486",
   "metadata": {
    "execution": {
     "iopub.execute_input": "2023-02-24T08:47:56.999301Z",
     "iopub.status.busy": "2023-02-24T08:47:56.998843Z",
     "iopub.status.idle": "2023-02-24T08:47:57.013337Z",
     "shell.execute_reply": "2023-02-24T08:47:57.012109Z"
    },
    "papermill": {
     "duration": 0.026779,
     "end_time": "2023-02-24T08:47:57.016081",
     "exception": false,
     "start_time": "2023-02-24T08:47:56.989302",
     "status": "completed"
    },
    "tags": []
   },
   "outputs": [
    {
     "data": {
      "text/plain": [
       "MinTemp          False\n",
       "MaxTemp          False\n",
       "Rainfall         False\n",
       "Evaporation      False\n",
       "Sunshine         False\n",
       "WindGustSpeed    False\n",
       "WindSpeed9am     False\n",
       "WindSpeed3pm     False\n",
       "Humidity9am      False\n",
       "Humidity3pm      False\n",
       "Pressure9am      False\n",
       "Pressure3pm      False\n",
       "Cloud9am         False\n",
       "Cloud3pm         False\n",
       "Temp9am          False\n",
       "Temp3pm          False\n",
       "RainToday        False\n",
       "RainTomorrow     False\n",
       "dtype: bool"
      ]
     },
     "execution_count": 7,
     "metadata": {},
     "output_type": "execute_result"
    }
   ],
   "source": [
    "df.isna().any()"
   ]
  },
  {
   "cell_type": "code",
   "execution_count": 8,
   "id": "8cd4350d",
   "metadata": {
    "execution": {
     "iopub.execute_input": "2023-02-24T08:47:57.034895Z",
     "iopub.status.busy": "2023-02-24T08:47:57.033753Z",
     "iopub.status.idle": "2023-02-24T08:47:57.040144Z",
     "shell.execute_reply": "2023-02-24T08:47:57.038998Z"
    },
    "papermill": {
     "duration": 0.017944,
     "end_time": "2023-02-24T08:47:57.042270",
     "exception": false,
     "start_time": "2023-02-24T08:47:57.024326",
     "status": "completed"
    },
    "tags": []
   },
   "outputs": [
    {
     "data": {
      "text/plain": [
       "(349416, 18)"
      ]
     },
     "execution_count": 8,
     "metadata": {},
     "output_type": "execute_result"
    }
   ],
   "source": [
    "df.shape"
   ]
  },
  {
   "cell_type": "code",
   "execution_count": 9,
   "id": "b44fe183",
   "metadata": {
    "execution": {
     "iopub.execute_input": "2023-02-24T08:47:57.060944Z",
     "iopub.status.busy": "2023-02-24T08:47:57.059830Z",
     "iopub.status.idle": "2023-02-24T08:47:57.066166Z",
     "shell.execute_reply": "2023-02-24T08:47:57.065336Z"
    },
    "papermill": {
     "duration": 0.017769,
     "end_time": "2023-02-24T08:47:57.068187",
     "exception": false,
     "start_time": "2023-02-24T08:47:57.050418",
     "status": "completed"
    },
    "tags": []
   },
   "outputs": [
    {
     "data": {
      "text/plain": [
       "Index(['MinTemp', 'MaxTemp', 'Rainfall', 'Evaporation', 'Sunshine',\n",
       "       'WindGustSpeed', 'WindSpeed9am', 'WindSpeed3pm', 'Humidity9am',\n",
       "       'Humidity3pm', 'Pressure9am', 'Pressure3pm', 'Cloud9am', 'Cloud3pm',\n",
       "       'Temp9am', 'Temp3pm', 'RainToday', 'RainTomorrow'],\n",
       "      dtype='object')"
      ]
     },
     "execution_count": 9,
     "metadata": {},
     "output_type": "execute_result"
    }
   ],
   "source": [
    "df.columns"
   ]
  },
  {
   "cell_type": "code",
   "execution_count": 10,
   "id": "3bee29dc",
   "metadata": {
    "execution": {
     "iopub.execute_input": "2023-02-24T08:47:57.087077Z",
     "iopub.status.busy": "2023-02-24T08:47:57.086630Z",
     "iopub.status.idle": "2023-02-24T08:47:57.102752Z",
     "shell.execute_reply": "2023-02-24T08:47:57.101439Z"
    },
    "papermill": {
     "duration": 0.028696,
     "end_time": "2023-02-24T08:47:57.105285",
     "exception": false,
     "start_time": "2023-02-24T08:47:57.076589",
     "status": "completed"
    },
    "tags": []
   },
   "outputs": [
    {
     "data": {
      "text/plain": [
       "array([2, 1, 3])"
      ]
     },
     "execution_count": 10,
     "metadata": {},
     "output_type": "execute_result"
    }
   ],
   "source": [
    "df['RainTomorrow'].unique()"
   ]
  },
  {
   "cell_type": "code",
   "execution_count": 11,
   "id": "320c396e",
   "metadata": {
    "execution": {
     "iopub.execute_input": "2023-02-24T08:47:57.124352Z",
     "iopub.status.busy": "2023-02-24T08:47:57.123930Z",
     "iopub.status.idle": "2023-02-24T08:47:57.179332Z",
     "shell.execute_reply": "2023-02-24T08:47:57.178025Z"
    },
    "papermill": {
     "duration": 0.06778,
     "end_time": "2023-02-24T08:47:57.181942",
     "exception": false,
     "start_time": "2023-02-24T08:47:57.114162",
     "status": "completed"
    },
    "tags": []
   },
   "outputs": [],
   "source": [
    "string_var = {'RainTomorrow': {1:'Yes', 2:'No', 3:'Yes_No'}}\n",
    "\n",
    "df = df.replace(string_var)"
   ]
  },
  {
   "cell_type": "code",
   "execution_count": 12,
   "id": "b8ad8960",
   "metadata": {
    "execution": {
     "iopub.execute_input": "2023-02-24T08:47:57.201115Z",
     "iopub.status.busy": "2023-02-24T08:47:57.200643Z",
     "iopub.status.idle": "2023-02-24T08:47:57.206553Z",
     "shell.execute_reply": "2023-02-24T08:47:57.205290Z"
    },
    "papermill": {
     "duration": 0.018489,
     "end_time": "2023-02-24T08:47:57.208945",
     "exception": false,
     "start_time": "2023-02-24T08:47:57.190456",
     "status": "completed"
    },
    "tags": []
   },
   "outputs": [],
   "source": [
    "x_cols = ['MinTemp', 'MaxTemp', 'Rainfall', 'Evaporation', 'Sunshine',\n",
    "       'WindGustSpeed', 'WindSpeed9am', 'WindSpeed3pm', 'Humidity9am',\n",
    "       'Humidity3pm', 'Pressure9am', 'Pressure3pm', 'Cloud9am', 'Cloud3pm',\n",
    "       'Temp9am', 'Temp3pm', 'RainToday']"
   ]
  },
  {
   "cell_type": "code",
   "execution_count": 13,
   "id": "09fb7590",
   "metadata": {
    "execution": {
     "iopub.execute_input": "2023-02-24T08:47:57.227734Z",
     "iopub.status.busy": "2023-02-24T08:47:57.227332Z",
     "iopub.status.idle": "2023-02-24T08:47:57.252989Z",
     "shell.execute_reply": "2023-02-24T08:47:57.251810Z"
    },
    "papermill": {
     "duration": 0.038341,
     "end_time": "2023-02-24T08:47:57.255882",
     "exception": false,
     "start_time": "2023-02-24T08:47:57.217541",
     "status": "completed"
    },
    "tags": []
   },
   "outputs": [],
   "source": [
    "x = df[x_cols]\n",
    "\n",
    "y = df[['RainTomorrow']]"
   ]
  },
  {
   "cell_type": "code",
   "execution_count": 14,
   "id": "cb0c74b5",
   "metadata": {
    "execution": {
     "iopub.execute_input": "2023-02-24T08:47:57.274593Z",
     "iopub.status.busy": "2023-02-24T08:47:57.274204Z",
     "iopub.status.idle": "2023-02-24T08:47:57.308635Z",
     "shell.execute_reply": "2023-02-24T08:47:57.307490Z"
    },
    "papermill": {
     "duration": 0.046681,
     "end_time": "2023-02-24T08:47:57.311191",
     "exception": false,
     "start_time": "2023-02-24T08:47:57.264510",
     "status": "completed"
    },
    "tags": []
   },
   "outputs": [
    {
     "data": {
      "text/html": [
       "<div>\n",
       "<style scoped>\n",
       "    .dataframe tbody tr th:only-of-type {\n",
       "        vertical-align: middle;\n",
       "    }\n",
       "\n",
       "    .dataframe tbody tr th {\n",
       "        vertical-align: top;\n",
       "    }\n",
       "\n",
       "    .dataframe thead th {\n",
       "        text-align: right;\n",
       "    }\n",
       "</style>\n",
       "<table border=\"1\" class=\"dataframe\">\n",
       "  <thead>\n",
       "    <tr style=\"text-align: right;\">\n",
       "      <th></th>\n",
       "      <th>MinTemp</th>\n",
       "      <th>MaxTemp</th>\n",
       "      <th>Rainfall</th>\n",
       "      <th>Evaporation</th>\n",
       "      <th>Sunshine</th>\n",
       "      <th>WindGustSpeed</th>\n",
       "      <th>WindSpeed9am</th>\n",
       "      <th>WindSpeed3pm</th>\n",
       "      <th>Humidity9am</th>\n",
       "      <th>Humidity3pm</th>\n",
       "      <th>Pressure9am</th>\n",
       "      <th>Pressure3pm</th>\n",
       "      <th>Cloud9am</th>\n",
       "      <th>Cloud3pm</th>\n",
       "      <th>Temp9am</th>\n",
       "      <th>Temp3pm</th>\n",
       "      <th>RainToday</th>\n",
       "    </tr>\n",
       "  </thead>\n",
       "  <tbody>\n",
       "    <tr>\n",
       "      <th>0</th>\n",
       "      <td>17.9</td>\n",
       "      <td>35.2</td>\n",
       "      <td>0.0</td>\n",
       "      <td>12.0</td>\n",
       "      <td>12.3</td>\n",
       "      <td>48</td>\n",
       "      <td>6.0</td>\n",
       "      <td>20.0</td>\n",
       "      <td>20</td>\n",
       "      <td>13.0</td>\n",
       "      <td>1006.3</td>\n",
       "      <td>1004.4</td>\n",
       "      <td>2</td>\n",
       "      <td>5</td>\n",
       "      <td>26.6</td>\n",
       "      <td>33.4</td>\n",
       "      <td>2</td>\n",
       "    </tr>\n",
       "    <tr>\n",
       "      <th>1</th>\n",
       "      <td>17.9</td>\n",
       "      <td>35.2</td>\n",
       "      <td>0.0</td>\n",
       "      <td>12.0</td>\n",
       "      <td>12.3</td>\n",
       "      <td>48</td>\n",
       "      <td>6.0</td>\n",
       "      <td>20.0</td>\n",
       "      <td>20</td>\n",
       "      <td>13.0</td>\n",
       "      <td>1006.3</td>\n",
       "      <td>1004.4</td>\n",
       "      <td>2</td>\n",
       "      <td>5</td>\n",
       "      <td>26.6</td>\n",
       "      <td>33.4</td>\n",
       "      <td>2</td>\n",
       "    </tr>\n",
       "    <tr>\n",
       "      <th>2</th>\n",
       "      <td>17.9</td>\n",
       "      <td>35.2</td>\n",
       "      <td>0.0</td>\n",
       "      <td>12.0</td>\n",
       "      <td>12.3</td>\n",
       "      <td>48</td>\n",
       "      <td>6.0</td>\n",
       "      <td>20.0</td>\n",
       "      <td>20</td>\n",
       "      <td>13.0</td>\n",
       "      <td>1006.3</td>\n",
       "      <td>1004.4</td>\n",
       "      <td>2</td>\n",
       "      <td>5</td>\n",
       "      <td>26.6</td>\n",
       "      <td>33.4</td>\n",
       "      <td>2</td>\n",
       "    </tr>\n",
       "    <tr>\n",
       "      <th>3</th>\n",
       "      <td>17.9</td>\n",
       "      <td>35.2</td>\n",
       "      <td>0.0</td>\n",
       "      <td>12.0</td>\n",
       "      <td>12.3</td>\n",
       "      <td>48</td>\n",
       "      <td>6.0</td>\n",
       "      <td>20.0</td>\n",
       "      <td>20</td>\n",
       "      <td>13.0</td>\n",
       "      <td>1006.3</td>\n",
       "      <td>1004.4</td>\n",
       "      <td>2</td>\n",
       "      <td>5</td>\n",
       "      <td>26.6</td>\n",
       "      <td>33.4</td>\n",
       "      <td>2</td>\n",
       "    </tr>\n",
       "    <tr>\n",
       "      <th>4</th>\n",
       "      <td>17.9</td>\n",
       "      <td>35.2</td>\n",
       "      <td>0.0</td>\n",
       "      <td>12.0</td>\n",
       "      <td>12.3</td>\n",
       "      <td>48</td>\n",
       "      <td>6.0</td>\n",
       "      <td>20.0</td>\n",
       "      <td>20</td>\n",
       "      <td>13.0</td>\n",
       "      <td>1006.3</td>\n",
       "      <td>1004.4</td>\n",
       "      <td>2</td>\n",
       "      <td>5</td>\n",
       "      <td>26.6</td>\n",
       "      <td>33.4</td>\n",
       "      <td>2</td>\n",
       "    </tr>\n",
       "    <tr>\n",
       "      <th>...</th>\n",
       "      <td>...</td>\n",
       "      <td>...</td>\n",
       "      <td>...</td>\n",
       "      <td>...</td>\n",
       "      <td>...</td>\n",
       "      <td>...</td>\n",
       "      <td>...</td>\n",
       "      <td>...</td>\n",
       "      <td>...</td>\n",
       "      <td>...</td>\n",
       "      <td>...</td>\n",
       "      <td>...</td>\n",
       "      <td>...</td>\n",
       "      <td>...</td>\n",
       "      <td>...</td>\n",
       "      <td>...</td>\n",
       "      <td>...</td>\n",
       "    </tr>\n",
       "    <tr>\n",
       "      <th>351582</th>\n",
       "      <td>20.2</td>\n",
       "      <td>31.7</td>\n",
       "      <td>0.0</td>\n",
       "      <td>5.6</td>\n",
       "      <td>10.7</td>\n",
       "      <td>30</td>\n",
       "      <td>15.0</td>\n",
       "      <td>7.0</td>\n",
       "      <td>73</td>\n",
       "      <td>32.0</td>\n",
       "      <td>1013.9</td>\n",
       "      <td>1009.7</td>\n",
       "      <td>6</td>\n",
       "      <td>5</td>\n",
       "      <td>25.4</td>\n",
       "      <td>31.0</td>\n",
       "      <td>2</td>\n",
       "    </tr>\n",
       "    <tr>\n",
       "      <th>351583</th>\n",
       "      <td>20.2</td>\n",
       "      <td>31.7</td>\n",
       "      <td>0.0</td>\n",
       "      <td>5.6</td>\n",
       "      <td>10.7</td>\n",
       "      <td>30</td>\n",
       "      <td>15.0</td>\n",
       "      <td>7.0</td>\n",
       "      <td>73</td>\n",
       "      <td>32.0</td>\n",
       "      <td>1013.9</td>\n",
       "      <td>1009.7</td>\n",
       "      <td>6</td>\n",
       "      <td>5</td>\n",
       "      <td>25.4</td>\n",
       "      <td>31.0</td>\n",
       "      <td>2</td>\n",
       "    </tr>\n",
       "    <tr>\n",
       "      <th>351584</th>\n",
       "      <td>20.2</td>\n",
       "      <td>31.7</td>\n",
       "      <td>0.0</td>\n",
       "      <td>5.6</td>\n",
       "      <td>10.7</td>\n",
       "      <td>30</td>\n",
       "      <td>15.0</td>\n",
       "      <td>7.0</td>\n",
       "      <td>73</td>\n",
       "      <td>32.0</td>\n",
       "      <td>1013.9</td>\n",
       "      <td>1009.7</td>\n",
       "      <td>6</td>\n",
       "      <td>5</td>\n",
       "      <td>25.4</td>\n",
       "      <td>31.0</td>\n",
       "      <td>2</td>\n",
       "    </tr>\n",
       "    <tr>\n",
       "      <th>351585</th>\n",
       "      <td>20.2</td>\n",
       "      <td>31.7</td>\n",
       "      <td>0.0</td>\n",
       "      <td>5.6</td>\n",
       "      <td>10.7</td>\n",
       "      <td>30</td>\n",
       "      <td>15.0</td>\n",
       "      <td>7.0</td>\n",
       "      <td>73</td>\n",
       "      <td>32.0</td>\n",
       "      <td>1013.9</td>\n",
       "      <td>1009.7</td>\n",
       "      <td>6</td>\n",
       "      <td>5</td>\n",
       "      <td>25.4</td>\n",
       "      <td>31.0</td>\n",
       "      <td>2</td>\n",
       "    </tr>\n",
       "    <tr>\n",
       "      <th>351586</th>\n",
       "      <td>20.2</td>\n",
       "      <td>31.7</td>\n",
       "      <td>0.0</td>\n",
       "      <td>5.6</td>\n",
       "      <td>10.7</td>\n",
       "      <td>30</td>\n",
       "      <td>15.0</td>\n",
       "      <td>7.0</td>\n",
       "      <td>73</td>\n",
       "      <td>32.0</td>\n",
       "      <td>1013.9</td>\n",
       "      <td>1009.7</td>\n",
       "      <td>6</td>\n",
       "      <td>5</td>\n",
       "      <td>25.4</td>\n",
       "      <td>31.0</td>\n",
       "      <td>2</td>\n",
       "    </tr>\n",
       "  </tbody>\n",
       "</table>\n",
       "<p>349416 rows × 17 columns</p>\n",
       "</div>"
      ],
      "text/plain": [
       "        MinTemp  MaxTemp  Rainfall  Evaporation  Sunshine  WindGustSpeed  \\\n",
       "0          17.9     35.2       0.0         12.0      12.3             48   \n",
       "1          17.9     35.2       0.0         12.0      12.3             48   \n",
       "2          17.9     35.2       0.0         12.0      12.3             48   \n",
       "3          17.9     35.2       0.0         12.0      12.3             48   \n",
       "4          17.9     35.2       0.0         12.0      12.3             48   \n",
       "...         ...      ...       ...          ...       ...            ...   \n",
       "351582     20.2     31.7       0.0          5.6      10.7             30   \n",
       "351583     20.2     31.7       0.0          5.6      10.7             30   \n",
       "351584     20.2     31.7       0.0          5.6      10.7             30   \n",
       "351585     20.2     31.7       0.0          5.6      10.7             30   \n",
       "351586     20.2     31.7       0.0          5.6      10.7             30   \n",
       "\n",
       "        WindSpeed9am  WindSpeed3pm  Humidity9am  Humidity3pm  Pressure9am  \\\n",
       "0                6.0          20.0           20         13.0       1006.3   \n",
       "1                6.0          20.0           20         13.0       1006.3   \n",
       "2                6.0          20.0           20         13.0       1006.3   \n",
       "3                6.0          20.0           20         13.0       1006.3   \n",
       "4                6.0          20.0           20         13.0       1006.3   \n",
       "...              ...           ...          ...          ...          ...   \n",
       "351582          15.0           7.0           73         32.0       1013.9   \n",
       "351583          15.0           7.0           73         32.0       1013.9   \n",
       "351584          15.0           7.0           73         32.0       1013.9   \n",
       "351585          15.0           7.0           73         32.0       1013.9   \n",
       "351586          15.0           7.0           73         32.0       1013.9   \n",
       "\n",
       "        Pressure3pm  Cloud9am  Cloud3pm  Temp9am  Temp3pm  RainToday  \n",
       "0            1004.4         2         5     26.6     33.4          2  \n",
       "1            1004.4         2         5     26.6     33.4          2  \n",
       "2            1004.4         2         5     26.6     33.4          2  \n",
       "3            1004.4         2         5     26.6     33.4          2  \n",
       "4            1004.4         2         5     26.6     33.4          2  \n",
       "...             ...       ...       ...      ...      ...        ...  \n",
       "351582       1009.7         6         5     25.4     31.0          2  \n",
       "351583       1009.7         6         5     25.4     31.0          2  \n",
       "351584       1009.7         6         5     25.4     31.0          2  \n",
       "351585       1009.7         6         5     25.4     31.0          2  \n",
       "351586       1009.7         6         5     25.4     31.0          2  \n",
       "\n",
       "[349416 rows x 17 columns]"
      ]
     },
     "execution_count": 14,
     "metadata": {},
     "output_type": "execute_result"
    }
   ],
   "source": [
    "x"
   ]
  },
  {
   "cell_type": "code",
   "execution_count": 15,
   "id": "8d61a34d",
   "metadata": {
    "execution": {
     "iopub.execute_input": "2023-02-24T08:47:57.331523Z",
     "iopub.status.busy": "2023-02-24T08:47:57.331050Z",
     "iopub.status.idle": "2023-02-24T08:47:57.433478Z",
     "shell.execute_reply": "2023-02-24T08:47:57.431934Z"
    },
    "papermill": {
     "duration": 0.116411,
     "end_time": "2023-02-24T08:47:57.436654",
     "exception": false,
     "start_time": "2023-02-24T08:47:57.320243",
     "status": "completed"
    },
    "tags": []
   },
   "outputs": [],
   "source": [
    "scaler = MinMaxScaler().fit(x)\n",
    "\n",
    "x = scaler.transform(x)"
   ]
  },
  {
   "cell_type": "code",
   "execution_count": 16,
   "id": "71bb2314",
   "metadata": {
    "execution": {
     "iopub.execute_input": "2023-02-24T08:47:57.456794Z",
     "iopub.status.busy": "2023-02-24T08:47:57.456394Z",
     "iopub.status.idle": "2023-02-24T08:47:57.463744Z",
     "shell.execute_reply": "2023-02-24T08:47:57.462675Z"
    },
    "papermill": {
     "duration": 0.020287,
     "end_time": "2023-02-24T08:47:57.466102",
     "exception": false,
     "start_time": "2023-02-24T08:47:57.445815",
     "status": "completed"
    },
    "tags": []
   },
   "outputs": [
    {
     "data": {
      "text/plain": [
       "array([[0.64566929, 0.70681818, 0.        , ..., 0.68238213, 0.7004717 ,\n",
       "        1.        ],\n",
       "       [0.64566929, 0.70681818, 0.        , ..., 0.68238213, 0.7004717 ,\n",
       "        1.        ],\n",
       "       [0.64566929, 0.70681818, 0.        , ..., 0.68238213, 0.7004717 ,\n",
       "        1.        ],\n",
       "       ...,\n",
       "       [0.70603675, 0.62727273, 0.        , ..., 0.65260546, 0.64386792,\n",
       "        1.        ],\n",
       "       [0.70603675, 0.62727273, 0.        , ..., 0.65260546, 0.64386792,\n",
       "        1.        ],\n",
       "       [0.70603675, 0.62727273, 0.        , ..., 0.65260546, 0.64386792,\n",
       "        1.        ]])"
      ]
     },
     "execution_count": 16,
     "metadata": {},
     "output_type": "execute_result"
    }
   ],
   "source": [
    "x"
   ]
  },
  {
   "cell_type": "code",
   "execution_count": 17,
   "id": "5ab3fc86",
   "metadata": {
    "execution": {
     "iopub.execute_input": "2023-02-24T08:47:57.487498Z",
     "iopub.status.busy": "2023-02-24T08:47:57.486423Z",
     "iopub.status.idle": "2023-02-24T08:47:57.497885Z",
     "shell.execute_reply": "2023-02-24T08:47:57.496692Z"
    },
    "papermill": {
     "duration": 0.024396,
     "end_time": "2023-02-24T08:47:57.500393",
     "exception": false,
     "start_time": "2023-02-24T08:47:57.475997",
     "status": "completed"
    },
    "tags": []
   },
   "outputs": [
    {
     "data": {
      "text/html": [
       "<div>\n",
       "<style scoped>\n",
       "    .dataframe tbody tr th:only-of-type {\n",
       "        vertical-align: middle;\n",
       "    }\n",
       "\n",
       "    .dataframe tbody tr th {\n",
       "        vertical-align: top;\n",
       "    }\n",
       "\n",
       "    .dataframe thead th {\n",
       "        text-align: right;\n",
       "    }\n",
       "</style>\n",
       "<table border=\"1\" class=\"dataframe\">\n",
       "  <thead>\n",
       "    <tr style=\"text-align: right;\">\n",
       "      <th></th>\n",
       "      <th>RainTomorrow</th>\n",
       "    </tr>\n",
       "  </thead>\n",
       "  <tbody>\n",
       "    <tr>\n",
       "      <th>0</th>\n",
       "      <td>No</td>\n",
       "    </tr>\n",
       "    <tr>\n",
       "      <th>1</th>\n",
       "      <td>No</td>\n",
       "    </tr>\n",
       "    <tr>\n",
       "      <th>2</th>\n",
       "      <td>No</td>\n",
       "    </tr>\n",
       "    <tr>\n",
       "      <th>3</th>\n",
       "      <td>No</td>\n",
       "    </tr>\n",
       "    <tr>\n",
       "      <th>4</th>\n",
       "      <td>No</td>\n",
       "    </tr>\n",
       "    <tr>\n",
       "      <th>...</th>\n",
       "      <td>...</td>\n",
       "    </tr>\n",
       "    <tr>\n",
       "      <th>351582</th>\n",
       "      <td>No</td>\n",
       "    </tr>\n",
       "    <tr>\n",
       "      <th>351583</th>\n",
       "      <td>No</td>\n",
       "    </tr>\n",
       "    <tr>\n",
       "      <th>351584</th>\n",
       "      <td>No</td>\n",
       "    </tr>\n",
       "    <tr>\n",
       "      <th>351585</th>\n",
       "      <td>No</td>\n",
       "    </tr>\n",
       "    <tr>\n",
       "      <th>351586</th>\n",
       "      <td>No</td>\n",
       "    </tr>\n",
       "  </tbody>\n",
       "</table>\n",
       "<p>349416 rows × 1 columns</p>\n",
       "</div>"
      ],
      "text/plain": [
       "       RainTomorrow\n",
       "0                No\n",
       "1                No\n",
       "2                No\n",
       "3                No\n",
       "4                No\n",
       "...             ...\n",
       "351582           No\n",
       "351583           No\n",
       "351584           No\n",
       "351585           No\n",
       "351586           No\n",
       "\n",
       "[349416 rows x 1 columns]"
      ]
     },
     "execution_count": 17,
     "metadata": {},
     "output_type": "execute_result"
    }
   ],
   "source": [
    "y"
   ]
  },
  {
   "cell_type": "code",
   "execution_count": 18,
   "id": "59df1419",
   "metadata": {
    "execution": {
     "iopub.execute_input": "2023-02-24T08:47:57.522050Z",
     "iopub.status.busy": "2023-02-24T08:47:57.521243Z",
     "iopub.status.idle": "2023-02-24T08:47:57.526116Z",
     "shell.execute_reply": "2023-02-24T08:47:57.524963Z"
    },
    "papermill": {
     "duration": 0.018577,
     "end_time": "2023-02-24T08:47:57.528401",
     "exception": false,
     "start_time": "2023-02-24T08:47:57.509824",
     "status": "completed"
    },
    "tags": []
   },
   "outputs": [],
   "source": [
    "#y_ = y.toarray()"
   ]
  },
  {
   "cell_type": "code",
   "execution_count": 19,
   "id": "197d6a91",
   "metadata": {
    "execution": {
     "iopub.execute_input": "2023-02-24T08:47:57.548976Z",
     "iopub.status.busy": "2023-02-24T08:47:57.548272Z",
     "iopub.status.idle": "2023-02-24T08:47:57.667494Z",
     "shell.execute_reply": "2023-02-24T08:47:57.666154Z"
    },
    "papermill": {
     "duration": 0.132961,
     "end_time": "2023-02-24T08:47:57.670544",
     "exception": false,
     "start_time": "2023-02-24T08:47:57.537583",
     "status": "completed"
    },
    "tags": []
   },
   "outputs": [],
   "source": [
    "encoder = OneHotEncoder(handle_unknown='ignore', sparse=False).fit(y)\n",
    "\n",
    "y = encoder.transform(y)"
   ]
  },
  {
   "cell_type": "code",
   "execution_count": 20,
   "id": "a19ccd15",
   "metadata": {
    "execution": {
     "iopub.execute_input": "2023-02-24T08:47:57.691781Z",
     "iopub.status.busy": "2023-02-24T08:47:57.691344Z",
     "iopub.status.idle": "2023-02-24T08:47:57.698948Z",
     "shell.execute_reply": "2023-02-24T08:47:57.697854Z"
    },
    "papermill": {
     "duration": 0.021158,
     "end_time": "2023-02-24T08:47:57.701242",
     "exception": false,
     "start_time": "2023-02-24T08:47:57.680084",
     "status": "completed"
    },
    "tags": []
   },
   "outputs": [
    {
     "data": {
      "text/plain": [
       "array([[1., 0., 0.],\n",
       "       [1., 0., 0.],\n",
       "       [1., 0., 0.],\n",
       "       ...,\n",
       "       [1., 0., 0.],\n",
       "       [1., 0., 0.],\n",
       "       [1., 0., 0.]])"
      ]
     },
     "execution_count": 20,
     "metadata": {},
     "output_type": "execute_result"
    }
   ],
   "source": [
    "y"
   ]
  },
  {
   "cell_type": "code",
   "execution_count": 21,
   "id": "51e857be",
   "metadata": {
    "execution": {
     "iopub.execute_input": "2023-02-24T08:47:57.721853Z",
     "iopub.status.busy": "2023-02-24T08:47:57.721427Z",
     "iopub.status.idle": "2023-02-24T08:47:57.727101Z",
     "shell.execute_reply": "2023-02-24T08:47:57.725856Z"
    },
    "papermill": {
     "duration": 0.018816,
     "end_time": "2023-02-24T08:47:57.729449",
     "exception": false,
     "start_time": "2023-02-24T08:47:57.710633",
     "status": "completed"
    },
    "tags": []
   },
   "outputs": [],
   "source": [
    "x_ = pd.DataFrame(x)"
   ]
  },
  {
   "cell_type": "code",
   "execution_count": 22,
   "id": "a0af2f0b",
   "metadata": {
    "execution": {
     "iopub.execute_input": "2023-02-24T08:47:57.750898Z",
     "iopub.status.busy": "2023-02-24T08:47:57.750481Z",
     "iopub.status.idle": "2023-02-24T08:47:57.801416Z",
     "shell.execute_reply": "2023-02-24T08:47:57.800092Z"
    },
    "papermill": {
     "duration": 0.06495,
     "end_time": "2023-02-24T08:47:57.804257",
     "exception": false,
     "start_time": "2023-02-24T08:47:57.739307",
     "status": "completed"
    },
    "tags": []
   },
   "outputs": [],
   "source": [
    "X = torch.tensor(x_.values, dtype=torch.float32)"
   ]
  },
  {
   "cell_type": "code",
   "execution_count": 23,
   "id": "d1dd852f",
   "metadata": {
    "execution": {
     "iopub.execute_input": "2023-02-24T08:47:57.827489Z",
     "iopub.status.busy": "2023-02-24T08:47:57.827089Z",
     "iopub.status.idle": "2023-02-24T08:47:57.832362Z",
     "shell.execute_reply": "2023-02-24T08:47:57.831337Z"
    },
    "papermill": {
     "duration": 0.018435,
     "end_time": "2023-02-24T08:47:57.834710",
     "exception": false,
     "start_time": "2023-02-24T08:47:57.816275",
     "status": "completed"
    },
    "tags": []
   },
   "outputs": [],
   "source": [
    "y_ = pd.DataFrame(y)"
   ]
  },
  {
   "cell_type": "code",
   "execution_count": 24,
   "id": "0e0a4a74",
   "metadata": {
    "execution": {
     "iopub.execute_input": "2023-02-24T08:47:57.855803Z",
     "iopub.status.busy": "2023-02-24T08:47:57.855392Z",
     "iopub.status.idle": "2023-02-24T08:47:57.871186Z",
     "shell.execute_reply": "2023-02-24T08:47:57.869998Z"
    },
    "papermill": {
     "duration": 0.028968,
     "end_time": "2023-02-24T08:47:57.873482",
     "exception": false,
     "start_time": "2023-02-24T08:47:57.844514",
     "status": "completed"
    },
    "tags": []
   },
   "outputs": [
    {
     "data": {
      "text/html": [
       "<div>\n",
       "<style scoped>\n",
       "    .dataframe tbody tr th:only-of-type {\n",
       "        vertical-align: middle;\n",
       "    }\n",
       "\n",
       "    .dataframe tbody tr th {\n",
       "        vertical-align: top;\n",
       "    }\n",
       "\n",
       "    .dataframe thead th {\n",
       "        text-align: right;\n",
       "    }\n",
       "</style>\n",
       "<table border=\"1\" class=\"dataframe\">\n",
       "  <thead>\n",
       "    <tr style=\"text-align: right;\">\n",
       "      <th></th>\n",
       "      <th>0</th>\n",
       "      <th>1</th>\n",
       "      <th>2</th>\n",
       "    </tr>\n",
       "  </thead>\n",
       "  <tbody>\n",
       "    <tr>\n",
       "      <th>0</th>\n",
       "      <td>1.0</td>\n",
       "      <td>0.0</td>\n",
       "      <td>0.0</td>\n",
       "    </tr>\n",
       "    <tr>\n",
       "      <th>1</th>\n",
       "      <td>1.0</td>\n",
       "      <td>0.0</td>\n",
       "      <td>0.0</td>\n",
       "    </tr>\n",
       "    <tr>\n",
       "      <th>2</th>\n",
       "      <td>1.0</td>\n",
       "      <td>0.0</td>\n",
       "      <td>0.0</td>\n",
       "    </tr>\n",
       "    <tr>\n",
       "      <th>3</th>\n",
       "      <td>1.0</td>\n",
       "      <td>0.0</td>\n",
       "      <td>0.0</td>\n",
       "    </tr>\n",
       "    <tr>\n",
       "      <th>4</th>\n",
       "      <td>1.0</td>\n",
       "      <td>0.0</td>\n",
       "      <td>0.0</td>\n",
       "    </tr>\n",
       "    <tr>\n",
       "      <th>...</th>\n",
       "      <td>...</td>\n",
       "      <td>...</td>\n",
       "      <td>...</td>\n",
       "    </tr>\n",
       "    <tr>\n",
       "      <th>349411</th>\n",
       "      <td>1.0</td>\n",
       "      <td>0.0</td>\n",
       "      <td>0.0</td>\n",
       "    </tr>\n",
       "    <tr>\n",
       "      <th>349412</th>\n",
       "      <td>1.0</td>\n",
       "      <td>0.0</td>\n",
       "      <td>0.0</td>\n",
       "    </tr>\n",
       "    <tr>\n",
       "      <th>349413</th>\n",
       "      <td>1.0</td>\n",
       "      <td>0.0</td>\n",
       "      <td>0.0</td>\n",
       "    </tr>\n",
       "    <tr>\n",
       "      <th>349414</th>\n",
       "      <td>1.0</td>\n",
       "      <td>0.0</td>\n",
       "      <td>0.0</td>\n",
       "    </tr>\n",
       "    <tr>\n",
       "      <th>349415</th>\n",
       "      <td>1.0</td>\n",
       "      <td>0.0</td>\n",
       "      <td>0.0</td>\n",
       "    </tr>\n",
       "  </tbody>\n",
       "</table>\n",
       "<p>349416 rows × 3 columns</p>\n",
       "</div>"
      ],
      "text/plain": [
       "          0    1    2\n",
       "0       1.0  0.0  0.0\n",
       "1       1.0  0.0  0.0\n",
       "2       1.0  0.0  0.0\n",
       "3       1.0  0.0  0.0\n",
       "4       1.0  0.0  0.0\n",
       "...     ...  ...  ...\n",
       "349411  1.0  0.0  0.0\n",
       "349412  1.0  0.0  0.0\n",
       "349413  1.0  0.0  0.0\n",
       "349414  1.0  0.0  0.0\n",
       "349415  1.0  0.0  0.0\n",
       "\n",
       "[349416 rows x 3 columns]"
      ]
     },
     "execution_count": 24,
     "metadata": {},
     "output_type": "execute_result"
    }
   ],
   "source": [
    "y_"
   ]
  },
  {
   "cell_type": "code",
   "execution_count": 25,
   "id": "3f1dc653",
   "metadata": {
    "execution": {
     "iopub.execute_input": "2023-02-24T08:47:57.895699Z",
     "iopub.status.busy": "2023-02-24T08:47:57.895288Z",
     "iopub.status.idle": "2023-02-24T08:47:57.900873Z",
     "shell.execute_reply": "2023-02-24T08:47:57.899706Z"
    },
    "papermill": {
     "duration": 0.019964,
     "end_time": "2023-02-24T08:47:57.903525",
     "exception": false,
     "start_time": "2023-02-24T08:47:57.883561",
     "status": "completed"
    },
    "tags": []
   },
   "outputs": [],
   "source": [
    "y = torch.tensor(y, dtype=torch.float32)"
   ]
  },
  {
   "cell_type": "code",
   "execution_count": 26,
   "id": "e013c28d",
   "metadata": {
    "execution": {
     "iopub.execute_input": "2023-02-24T08:47:57.926734Z",
     "iopub.status.busy": "2023-02-24T08:47:57.926351Z",
     "iopub.status.idle": "2023-02-24T08:47:58.012585Z",
     "shell.execute_reply": "2023-02-24T08:47:58.011656Z"
    },
    "papermill": {
     "duration": 0.099852,
     "end_time": "2023-02-24T08:47:58.015082",
     "exception": false,
     "start_time": "2023-02-24T08:47:57.915230",
     "status": "completed"
    },
    "tags": []
   },
   "outputs": [],
   "source": [
    "x_train, x_test, y_train, y_test = train_test_split(X, y, train_size=0.7, shuffle=True)"
   ]
  },
  {
   "cell_type": "code",
   "execution_count": 27,
   "id": "49aa8c2d",
   "metadata": {
    "execution": {
     "iopub.execute_input": "2023-02-24T08:47:58.038463Z",
     "iopub.status.busy": "2023-02-24T08:47:58.038054Z",
     "iopub.status.idle": "2023-02-24T08:47:58.044849Z",
     "shell.execute_reply": "2023-02-24T08:47:58.043780Z"
    },
    "papermill": {
     "duration": 0.021529,
     "end_time": "2023-02-24T08:47:58.047927",
     "exception": false,
     "start_time": "2023-02-24T08:47:58.026398",
     "status": "completed"
    },
    "tags": []
   },
   "outputs": [
    {
     "name": "stdout",
     "output_type": "stream",
     "text": [
      "torch.Size([244591, 17])\n",
      "torch.Size([104825, 17])\n",
      "torch.Size([244591, 3])\n",
      "torch.Size([104825, 3])\n"
     ]
    }
   ],
   "source": [
    "print(x_train.shape)\n",
    "print(x_test.shape)\n",
    "print(y_train.shape)\n",
    "print(y_test.shape)"
   ]
  },
  {
   "cell_type": "code",
   "execution_count": 28,
   "id": "b7a18adb",
   "metadata": {
    "execution": {
     "iopub.execute_input": "2023-02-24T08:47:58.070209Z",
     "iopub.status.busy": "2023-02-24T08:47:58.069556Z",
     "iopub.status.idle": "2023-02-24T08:47:58.076111Z",
     "shell.execute_reply": "2023-02-24T08:47:58.075127Z"
    },
    "papermill": {
     "duration": 0.02033,
     "end_time": "2023-02-24T08:47:58.078654",
     "exception": false,
     "start_time": "2023-02-24T08:47:58.058324",
     "status": "completed"
    },
    "tags": []
   },
   "outputs": [],
   "source": [
    "class Multiclass(nn.Module):\n",
    "    \n",
    "    def __init__(self):\n",
    "        super().__init__()\n",
    "        self.hidden = nn.Linear(17, 34)\n",
    "        self.act = nn.ReLU()\n",
    "        self.output = nn.Linear(34, 3)\n",
    "        \n",
    "    def forward(self, x):\n",
    "        x = self.act(self.hidden(x))\n",
    "        x = self.output(x)\n",
    "        \n",
    "        return x"
   ]
  },
  {
   "cell_type": "code",
   "execution_count": 29,
   "id": "c4963d90",
   "metadata": {
    "execution": {
     "iopub.execute_input": "2023-02-24T08:47:58.100354Z",
     "iopub.status.busy": "2023-02-24T08:47:58.099685Z",
     "iopub.status.idle": "2023-02-24T08:47:58.118008Z",
     "shell.execute_reply": "2023-02-24T08:47:58.116882Z"
    },
    "papermill": {
     "duration": 0.032047,
     "end_time": "2023-02-24T08:47:58.120438",
     "exception": false,
     "start_time": "2023-02-24T08:47:58.088391",
     "status": "completed"
    },
    "tags": []
   },
   "outputs": [],
   "source": [
    "model = Multiclass()\n",
    "loss_fn = nn.CrossEntropyLoss()\n",
    "optimizer = optim.Adam(model.parameters(), lr=0.001)"
   ]
  },
  {
   "cell_type": "code",
   "execution_count": 30,
   "id": "fa8745a7",
   "metadata": {
    "execution": {
     "iopub.execute_input": "2023-02-24T08:47:58.141881Z",
     "iopub.status.busy": "2023-02-24T08:47:58.141141Z",
     "iopub.status.idle": "2023-02-24T08:47:58.146440Z",
     "shell.execute_reply": "2023-02-24T08:47:58.145505Z"
    },
    "papermill": {
     "duration": 0.018623,
     "end_time": "2023-02-24T08:47:58.148584",
     "exception": false,
     "start_time": "2023-02-24T08:47:58.129961",
     "status": "completed"
    },
    "tags": []
   },
   "outputs": [],
   "source": [
    "n_epochs = 200\n",
    "batch_size = 5\n",
    "batches_per_epoch = len(x_train)\n",
    "\n",
    "best_acc = - np.inf\n",
    "best_weights = None\n",
    "\n",
    "train_loss_hist = []\n",
    "train_acc_hist = []\n",
    "\n",
    "test_loss_hist = []\n",
    "test_acc_hist = []"
   ]
  },
  {
   "cell_type": "code",
   "execution_count": null,
   "id": "a8857364",
   "metadata": {
    "papermill": {
     "duration": 0.009283,
     "end_time": "2023-02-24T08:47:58.167450",
     "exception": false,
     "start_time": "2023-02-24T08:47:58.158167",
     "status": "completed"
    },
    "tags": []
   },
   "outputs": [],
   "source": []
  }
 ],
 "metadata": {
  "kernelspec": {
   "display_name": "Python 3",
   "language": "python",
   "name": "python3"
  },
  "language_info": {
   "codemirror_mode": {
    "name": "ipython",
    "version": 3
   },
   "file_extension": ".py",
   "mimetype": "text/x-python",
   "name": "python",
   "nbconvert_exporter": "python",
   "pygments_lexer": "ipython3",
   "version": "3.7.12"
  },
  "papermill": {
   "default_parameters": {},
   "duration": 14.749995,
   "end_time": "2023-02-24T08:47:59.099623",
   "environment_variables": {},
   "exception": null,
   "input_path": "__notebook__.ipynb",
   "output_path": "__notebook__.ipynb",
   "parameters": {},
   "start_time": "2023-02-24T08:47:44.349628",
   "version": "2.3.4"
  }
 },
 "nbformat": 4,
 "nbformat_minor": 5
}
