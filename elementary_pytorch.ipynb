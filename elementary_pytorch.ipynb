{
 "cells": [
  {
   "cell_type": "code",
   "execution_count": 1,
   "metadata": {},
   "outputs": [],
   "source": [
    "import torch"
   ]
  },
  {
   "cell_type": "code",
   "execution_count": 2,
   "metadata": {},
   "outputs": [],
   "source": [
    "a  = torch.tensor([[1,2,3], [4,5,6]], dtype=torch.int32)"
   ]
  },
  {
   "cell_type": "code",
   "execution_count": 3,
   "metadata": {},
   "outputs": [
    {
     "name": "stdout",
     "output_type": "stream",
     "text": [
      "tensor([[1, 2, 3],\n",
      "        [4, 5, 6]], dtype=torch.int32)\n"
     ]
    }
   ],
   "source": [
    "print(a)"
   ]
  },
  {
   "cell_type": "code",
   "execution_count": 4,
   "metadata": {},
   "outputs": [],
   "source": [
    "#ten evenly distributed values between 1 and -1\n",
    "b = torch.linspace(-1, 1, 10)"
   ]
  },
  {
   "cell_type": "code",
   "execution_count": 5,
   "metadata": {},
   "outputs": [
    {
     "name": "stdout",
     "output_type": "stream",
     "text": [
      "tensor([-1.0000, -0.7778, -0.5556, -0.3333, -0.1111,  0.1111,  0.3333,  0.5556,\n",
      "         0.7778,  1.0000])\n"
     ]
    }
   ],
   "source": [
    "print(b)"
   ]
  },
  {
   "cell_type": "code",
   "execution_count": 6,
   "metadata": {},
   "outputs": [],
   "source": [
    "#random number generator\n",
    "c = torch.rand(3, 4)"
   ]
  },
  {
   "cell_type": "code",
   "execution_count": 7,
   "metadata": {},
   "outputs": [
    {
     "name": "stdout",
     "output_type": "stream",
     "text": [
      "tensor([[0.2521, 0.5153, 0.9227, 0.2004],\n",
      "        [0.4450, 0.8499, 0.9100, 0.9325],\n",
      "        [0.4122, 0.4410, 0.8380, 0.1649]])\n"
     ]
    }
   ],
   "source": [
    "print(c)"
   ]
  },
  {
   "cell_type": "code",
   "execution_count": 8,
   "metadata": {},
   "outputs": [
    {
     "name": "stdout",
     "output_type": "stream",
     "text": [
      "tensor([[ 1.5516,  0.2968, -0.2504,  0.8325],\n",
      "        [ 0.6332,  1.1294,  0.0073, -0.1100],\n",
      "        [ 1.0460, -0.2264, -0.6363, -1.0746]])\n"
     ]
    }
   ],
   "source": [
    "#normal distribution\n",
    "c  = torch.randn(3, 4)\n",
    "print(c)"
   ]
  },
  {
   "cell_type": "code",
   "execution_count": 9,
   "metadata": {},
   "outputs": [
    {
     "name": "stdout",
     "output_type": "stream",
     "text": [
      "tensor([[8, 9, 9, 6],\n",
      "        [6, 4, 5, 7],\n",
      "        [3, 4, 9, 5],\n",
      "        [9, 6, 5, 3]])\n"
     ]
    }
   ],
   "source": [
    "#random integers generator within range and dimensions\n",
    "d  = torch.randint(3, 10, size=(4, 4))\n",
    "\n",
    "print(d)"
   ]
  },
  {
   "cell_type": "code",
   "execution_count": 10,
   "metadata": {},
   "outputs": [
    {
     "name": "stdout",
     "output_type": "stream",
     "text": [
      "tensor([[6, 4, 1, 6],\n",
      "        [9, 6, 5, 3],\n",
      "        [3, 2, 8, 3],\n",
      "        [9, 0, 3, 5]])\n"
     ]
    }
   ],
   "source": [
    "#setting the upper bound only for integer generator\n",
    "e = torch.randint(10, size=(4,4))\n",
    "\n",
    "print(e)"
   ]
  },
  {
   "cell_type": "code",
   "execution_count": 11,
   "metadata": {},
   "outputs": [],
   "source": [
    "f = torch.zeros(2,3,4)"
   ]
  },
  {
   "cell_type": "code",
   "execution_count": 12,
   "metadata": {},
   "outputs": [
    {
     "data": {
      "text/plain": [
       "tensor([[[0., 0., 0., 0.],\n",
       "         [0., 0., 0., 0.],\n",
       "         [0., 0., 0., 0.]],\n",
       "\n",
       "        [[0., 0., 0., 0.],\n",
       "         [0., 0., 0., 0.],\n",
       "         [0., 0., 0., 0.]]])"
      ]
     },
     "execution_count": 12,
     "metadata": {},
     "output_type": "execute_result"
    }
   ],
   "source": [
    "f"
   ]
  },
  {
   "cell_type": "code",
   "execution_count": 13,
   "metadata": {},
   "outputs": [
    {
     "data": {
      "text/plain": [
       "tensor([[[5, 5, 5, 5],\n",
       "         [5, 5, 5, 5],\n",
       "         [5, 5, 5, 5]],\n",
       "\n",
       "        [[5, 5, 5, 5],\n",
       "         [5, 5, 5, 5],\n",
       "         [5, 5, 5, 5]]])"
      ]
     },
     "execution_count": 13,
     "metadata": {},
     "output_type": "execute_result"
    }
   ],
   "source": [
    "#same value tensors\n",
    "g = torch.full((2,3,4), 5)\n",
    "\n",
    "g"
   ]
  },
  {
   "cell_type": "code",
   "execution_count": 14,
   "metadata": {},
   "outputs": [
    {
     "data": {
      "text/plain": [
       "tensor([[[1., 1., 1., 1.],\n",
       "         [1., 1., 1., 1.],\n",
       "         [1., 1., 1., 1.]],\n",
       "\n",
       "        [[1., 1., 1., 1.],\n",
       "         [1., 1., 1., 1.],\n",
       "         [1., 1., 1., 1.]]])"
      ]
     },
     "execution_count": 14,
     "metadata": {},
     "output_type": "execute_result"
    }
   ],
   "source": [
    "h = torch.ones(2,3,4)\n",
    "\n",
    "h"
   ]
  },
  {
   "cell_type": "code",
   "execution_count": 15,
   "metadata": {},
   "outputs": [
    {
     "data": {
      "text/plain": [
       "tensor([[1., 0., 0., 0.],\n",
       "        [0., 1., 0., 0.],\n",
       "        [0., 0., 1., 0.],\n",
       "        [0., 0., 0., 1.]])"
      ]
     },
     "execution_count": 15,
     "metadata": {},
     "output_type": "execute_result"
    }
   ],
   "source": [
    "i = torch.eye(4)\n",
    "\n",
    "i"
   ]
  },
  {
   "cell_type": "code",
   "execution_count": 16,
   "metadata": {},
   "outputs": [
    {
     "data": {
      "text/plain": [
       "tensor([6, 6, 8, 5])"
      ]
     },
     "execution_count": 16,
     "metadata": {},
     "output_type": "execute_result"
    }
   ],
   "source": [
    "j = torch.diag(e)\n",
    "\n",
    "j"
   ]
  },
  {
   "cell_type": "code",
   "execution_count": 17,
   "metadata": {},
   "outputs": [
    {
     "data": {
      "text/plain": [
       "tensor([[6, 4, 1, 6],\n",
       "        [9, 6, 5, 3],\n",
       "        [3, 2, 8, 3],\n",
       "        [9, 0, 3, 5]])"
      ]
     },
     "execution_count": 17,
     "metadata": {},
     "output_type": "execute_result"
    }
   ],
   "source": [
    "e"
   ]
  },
  {
   "cell_type": "code",
   "execution_count": 18,
   "metadata": {},
   "outputs": [
    {
     "data": {
      "text/plain": [
       "torch.Size([4, 4])"
      ]
     },
     "execution_count": 18,
     "metadata": {},
     "output_type": "execute_result"
    }
   ],
   "source": [
    "e.shape"
   ]
  },
  {
   "cell_type": "code",
   "execution_count": 19,
   "metadata": {},
   "outputs": [
    {
     "data": {
      "text/plain": [
       "torch.Size([4, 4])"
      ]
     },
     "execution_count": 19,
     "metadata": {},
     "output_type": "execute_result"
    }
   ],
   "source": [
    "e.size()"
   ]
  },
  {
   "cell_type": "code",
   "execution_count": 20,
   "metadata": {},
   "outputs": [
    {
     "data": {
      "text/plain": [
       "2"
      ]
     },
     "execution_count": 20,
     "metadata": {},
     "output_type": "execute_result"
    }
   ],
   "source": [
    "e.ndim"
   ]
  },
  {
   "cell_type": "code",
   "execution_count": 21,
   "metadata": {},
   "outputs": [
    {
     "data": {
      "text/plain": [
       "4"
      ]
     },
     "execution_count": 21,
     "metadata": {},
     "output_type": "execute_result"
    }
   ],
   "source": [
    "len(e)"
   ]
  },
  {
   "cell_type": "code",
   "execution_count": 22,
   "metadata": {},
   "outputs": [
    {
     "data": {
      "text/plain": [
       "torch.int64"
      ]
     },
     "execution_count": 22,
     "metadata": {},
     "output_type": "execute_result"
    }
   ],
   "source": [
    "e.dtype"
   ]
  },
  {
   "cell_type": "code",
   "execution_count": 23,
   "metadata": {},
   "outputs": [
    {
     "data": {
      "text/plain": [
       "torch.float64"
      ]
     },
     "execution_count": 23,
     "metadata": {},
     "output_type": "execute_result"
    }
   ],
   "source": [
    "j = e.type(torch.float64)\n",
    "\n",
    "j.dtype"
   ]
  },
  {
   "cell_type": "code",
   "execution_count": 24,
   "metadata": {},
   "outputs": [
    {
     "data": {
      "text/plain": [
       "tensor([[[-0.3508,  0.0827,  0.2053, -1.1591,  0.0518],\n",
       "         [-0.4701,  0.0057,  0.5433, -1.1736, -0.3837],\n",
       "         [ 1.5479,  2.4236,  0.2433, -1.8217, -0.3956],\n",
       "         [ 0.2593,  0.1377, -0.0543, -2.2811,  0.3066]],\n",
       "\n",
       "        [[-1.4489,  0.7073,  0.8868,  1.4575, -1.4494],\n",
       "         [-0.4884, -1.3832, -0.8376, -0.5320, -1.2606],\n",
       "         [-0.6051,  3.0393, -0.5477,  0.8935,  1.7834],\n",
       "         [-1.9805,  0.1053,  0.0537,  0.4205,  0.7123]],\n",
       "\n",
       "        [[ 0.4460, -0.3049,  0.2118,  1.3635, -0.0485],\n",
       "         [ 0.9861, -1.6776, -1.0222,  0.0347, -0.0239],\n",
       "         [-0.3486,  0.8184, -0.8377, -1.6845,  0.0869],\n",
       "         [ 0.0291, -0.9610, -0.5746, -0.4323,  0.2548]]])"
      ]
     },
     "execution_count": 24,
     "metadata": {},
     "output_type": "execute_result"
    }
   ],
   "source": [
    "k = torch.randn(3,4,5)\n",
    "\n",
    "k"
   ]
  },
  {
   "cell_type": "code",
   "execution_count": 25,
   "metadata": {},
   "outputs": [
    {
     "name": "stdout",
     "output_type": "stream",
     "text": [
      "tensor([[-1.4489,  0.7073,  0.8868,  1.4575, -1.4494],\n",
      "        [-0.4884, -1.3832, -0.8376, -0.5320, -1.2606],\n",
      "        [-0.6051,  3.0393, -0.5477,  0.8935,  1.7834],\n",
      "        [-1.9805,  0.1053,  0.0537,  0.4205,  0.7123]])\n"
     ]
    }
   ],
   "source": [
    "print(k[1])"
   ]
  },
  {
   "cell_type": "code",
   "execution_count": 26,
   "metadata": {},
   "outputs": [
    {
     "data": {
      "text/plain": [
       "tensor([[ 0.4460, -0.3049,  0.2118,  1.3635, -0.0485],\n",
       "        [ 0.9861, -1.6776, -1.0222,  0.0347, -0.0239],\n",
       "        [-0.3486,  0.8184, -0.8377, -1.6845,  0.0869],\n",
       "        [ 0.0291, -0.9610, -0.5746, -0.4323,  0.2548]])"
      ]
     },
     "execution_count": 26,
     "metadata": {},
     "output_type": "execute_result"
    }
   ],
   "source": [
    "l = (k[2])\n",
    "l"
   ]
  },
  {
   "cell_type": "code",
   "execution_count": 27,
   "metadata": {},
   "outputs": [
    {
     "name": "stdout",
     "output_type": "stream",
     "text": [
      "tensor([[[-0.6051,  3.0393, -0.5477,  0.8935,  1.7834],\n",
      "         [-1.9805,  0.1053,  0.0537,  0.4205,  0.7123]],\n",
      "\n",
      "        [[-0.3486,  0.8184, -0.8377, -1.6845,  0.0869],\n",
      "         [ 0.0291, -0.9610, -0.5746, -0.4323,  0.2548]]])\n"
     ]
    }
   ],
   "source": [
    "print(k[1:, 2:4])"
   ]
  },
  {
   "cell_type": "code",
   "execution_count": 28,
   "metadata": {},
   "outputs": [
    {
     "name": "stdout",
     "output_type": "stream",
     "text": [
      "torch.Size([3, 1, 4, 1, 5])\n"
     ]
    }
   ],
   "source": [
    "print(k[:, None, :, None].shape)"
   ]
  },
  {
   "cell_type": "code",
   "execution_count": 29,
   "metadata": {},
   "outputs": [
    {
     "name": "stdout",
     "output_type": "stream",
     "text": [
      "torch.Size([3, 4, 5])\n",
      "torch.Size([3, 4, 5, 1])\n"
     ]
    }
   ],
   "source": [
    "m = torch.unsqueeze(k, dim=3)\n",
    "\n",
    "print(k.shape)\n",
    "print(m.shape)"
   ]
  },
  {
   "cell_type": "code",
   "execution_count": 30,
   "metadata": {},
   "outputs": [
    {
     "name": "stdout",
     "output_type": "stream",
     "text": [
      "tensor([[-0.0548, -0.4899, -0.1264, -1.0077],\n",
      "        [ 0.8891, -1.2443,  0.1830,  0.5362],\n",
      "        [ 1.2248, -0.9656, -0.0473, -1.0177]])\n"
     ]
    }
   ],
   "source": [
    "n = torch.randn(3,4)\n",
    "\n",
    "print(n)"
   ]
  },
  {
   "cell_type": "code",
   "execution_count": 31,
   "metadata": {},
   "outputs": [
    {
     "name": "stdout",
     "output_type": "stream",
     "text": [
      "tensor([[-0.0548, -0.1264],\n",
      "        [ 0.8891,  0.1830],\n",
      "        [ 1.2248, -0.0473]])\n"
     ]
    }
   ],
   "source": [
    "print(n[:, (n > -1).all(axis=0)])"
   ]
  },
  {
   "cell_type": "code",
   "execution_count": 32,
   "metadata": {},
   "outputs": [
    {
     "data": {
      "text/plain": [
       "tensor([[-0.0548, -0.4899, -0.1264, -1.0077],\n",
       "        [ 0.8891, -1.2443,  0.1830,  0.5362],\n",
       "        [ 1.2248, -0.9656, -0.0473, -1.0177]])"
      ]
     },
     "execution_count": 32,
     "metadata": {},
     "output_type": "execute_result"
    }
   ],
   "source": [
    "n"
   ]
  },
  {
   "cell_type": "code",
   "execution_count": 34,
   "metadata": {},
   "outputs": [
    {
     "name": "stdout",
     "output_type": "stream",
     "text": [
      "torch.Size([3, 4])\n",
      "torch.Size([3, 4, 1])\n"
     ]
    }
   ],
   "source": [
    "m = torch.unsqueeze(n, dim=2)\n",
    "\n",
    "print(n.shape)\n",
    "print(m.shape)"
   ]
  },
  {
   "cell_type": "code",
   "execution_count": 37,
   "metadata": {},
   "outputs": [
    {
     "name": "stdout",
     "output_type": "stream",
     "text": [
      "tensor([[ 0.3341, -1.0784, -0.0481, -0.2946, -1.5876],\n",
      "        [ 1.1691, -0.5613,  2.1671, -1.1272, -0.9665],\n",
      "        [-1.0297,  0.1757, -0.6859,  1.5059,  0.2509],\n",
      "        [-1.9490,  0.0161, -0.3797,  1.1315,  1.7057]])\n",
      "tensor([[-0.0481],\n",
      "        [ 2.1671],\n",
      "        [-0.6859],\n",
      "        [-0.3797]])\n"
     ]
    }
   ],
   "source": [
    "p = torch.randn(4,5)\n",
    "\n",
    "print(p)\n",
    "print(p[:, (p > -1).all(axis=0)])"
   ]
  },
  {
   "cell_type": "code",
   "execution_count": 38,
   "metadata": {},
   "outputs": [
    {
     "name": "stdout",
     "output_type": "stream",
     "text": [
      "tensor([[ 1.0064,  0.9194, -0.9043,  0.7594, -0.2050],\n",
      "        [-0.4598,  0.6706,  0.3470,  1.7483, -3.2241],\n",
      "        [-1.5873,  1.4041, -0.9714,  0.8032, -0.2419],\n",
      "        [ 1.8750, -0.2841,  2.0248, -2.1486, -0.5423]])\n",
      "tensor([ 1.0064,  0.9194, -0.9043,  0.7594, -0.2050, -0.4598,  0.6706,  0.3470,\n",
      "         1.7483, -3.2241, -1.5873,  1.4041, -0.9714,  0.8032, -0.2419,  1.8750,\n",
      "        -0.2841,  2.0248, -2.1486, -0.5423])\n"
     ]
    }
   ],
   "source": [
    "#concerting a 2d tensor to1d\n",
    "r = torch.randn(4,5)\n",
    "\n",
    "print(r)\n",
    "print(r.ravel())"
   ]
  },
  {
   "cell_type": "code",
   "execution_count": 39,
   "metadata": {},
   "outputs": [
    {
     "name": "stdout",
     "output_type": "stream",
     "text": [
      "tensor([ 1.0064,  0.9194, -0.9043,  0.7594, -0.2050, -0.4598,  0.6706,  0.3470,\n",
      "         1.7483, -3.2241, -1.5873,  1.4041, -0.9714,  0.8032, -0.2419,  1.8750,\n",
      "        -0.2841,  2.0248, -2.1486, -0.5423])\n"
     ]
    }
   ],
   "source": [
    "print(r.reshape(-1))"
   ]
  },
  {
   "cell_type": "code",
   "execution_count": 43,
   "metadata": {},
   "outputs": [
    {
     "name": "stdout",
     "output_type": "stream",
     "text": [
      "tensor([[-0.7459, -1.7248, -0.9540,  0.5134],\n",
      "        [ 1.1178,  2.1547,  0.6326,  0.2454],\n",
      "        [-1.7774, -0.4646, -0.5091,  0.2749]])\n"
     ]
    }
   ],
   "source": [
    "q = torch.randn(3,4)\n",
    "\n",
    "print(q)"
   ]
  },
  {
   "cell_type": "code",
   "execution_count": 44,
   "metadata": {},
   "outputs": [
    {
     "name": "stdout",
     "output_type": "stream",
     "text": [
      "tensor([[[-0.7459, -1.7248],\n",
      "         [-0.9540,  0.5134]],\n",
      "\n",
      "        [[ 1.1178,  2.1547],\n",
      "         [ 0.6326,  0.2454]],\n",
      "\n",
      "        [[-1.7774, -0.4646],\n",
      "         [-0.5091,  0.2749]]])\n"
     ]
    }
   ],
   "source": [
    "print(q.reshape(3,2,2))"
   ]
  },
  {
   "cell_type": "code",
   "execution_count": 45,
   "metadata": {},
   "outputs": [
    {
     "data": {
      "text/plain": [
       "tensor([[-0.7459, -1.7248, -0.9540,  0.5134],\n",
       "        [ 1.1178,  2.1547,  0.6326,  0.2454],\n",
       "        [-1.7774, -0.4646, -0.5091,  0.2749]])"
      ]
     },
     "execution_count": 45,
     "metadata": {},
     "output_type": "execute_result"
    }
   ],
   "source": [
    "q"
   ]
  },
  {
   "cell_type": "code",
   "execution_count": 46,
   "metadata": {},
   "outputs": [
    {
     "data": {
      "text/plain": [
       "tensor([[-0.7459,  1.1178, -1.7774],\n",
       "        [-1.7248,  2.1547, -0.4646],\n",
       "        [-0.9540,  0.6326, -0.5091],\n",
       "        [ 0.5134,  0.2454,  0.2749]])"
      ]
     },
     "execution_count": 46,
     "metadata": {},
     "output_type": "execute_result"
    }
   ],
   "source": [
    "q.T"
   ]
  },
  {
   "cell_type": "code",
   "execution_count": 47,
   "metadata": {},
   "outputs": [
    {
     "name": "stdout",
     "output_type": "stream",
     "text": [
      "tensor([[-0.7459,  1.1178, -1.7774],\n",
      "        [-1.7248,  2.1547, -0.4646],\n",
      "        [-0.9540,  0.6326, -0.5091],\n",
      "        [ 0.5134,  0.2454,  0.2749]])\n"
     ]
    }
   ],
   "source": [
    "print(q.transpose(0, 1))"
   ]
  },
  {
   "cell_type": "code",
   "execution_count": 48,
   "metadata": {},
   "outputs": [
    {
     "name": "stdout",
     "output_type": "stream",
     "text": [
      "tensor([[ 0.9291, -0.2403,  1.0731, -1.1680],\n",
      "        [ 0.0997,  0.6117, -0.2439, -2.0763],\n",
      "        [ 0.8409, -2.6320, -0.4934, -0.6460],\n",
      "        [ 0.4238, -0.9089,  1.1591,  0.3881]])\n",
      "tensor([[-0.4876,  1.2621, -1.7413,  1.5330],\n",
      "        [ 0.3412,  0.9417, -0.3743,  1.3055],\n",
      "        [-0.8461,  1.9758,  0.8051,  1.2793],\n",
      "        [ 0.8921, -0.1653,  0.1793,  0.0662]])\n"
     ]
    }
   ],
   "source": [
    "r = torch.randn(4,4)\n",
    "s = torch.randn(4,4)\n",
    "\n",
    "print(r)\n",
    "print(s)"
   ]
  },
  {
   "cell_type": "code",
   "execution_count": 49,
   "metadata": {},
   "outputs": [
    {
     "name": "stdout",
     "output_type": "stream",
     "text": [
      "tensor([[ 0.9291, -0.2403,  1.0731, -1.1680],\n",
      "        [ 0.0997,  0.6117, -0.2439, -2.0763],\n",
      "        [ 0.8409, -2.6320, -0.4934, -0.6460],\n",
      "        [ 0.4238, -0.9089,  1.1591,  0.3881],\n",
      "        [-0.4876,  1.2621, -1.7413,  1.5330],\n",
      "        [ 0.3412,  0.9417, -0.3743,  1.3055],\n",
      "        [-0.8461,  1.9758,  0.8051,  1.2793],\n",
      "        [ 0.8921, -0.1653,  0.1793,  0.0662]])\n"
     ]
    }
   ],
   "source": [
    "print(torch.vstack([r, s]))"
   ]
  },
  {
   "cell_type": "code",
   "execution_count": 50,
   "metadata": {},
   "outputs": [
    {
     "name": "stdout",
     "output_type": "stream",
     "text": [
      "tensor([[-0.9512,  2.9190,  1.9148],\n",
      "        [ 0.3170,  0.3525,  1.0101],\n",
      "        [-0.5349, -1.7453,  0.9757]])\n",
      "tensor([[-0.8054, -0.1563, -0.4371],\n",
      "        [-1.2176, -0.5007,  0.3743],\n",
      "        [ 0.2207,  0.2166, -0.0418]])\n"
     ]
    }
   ],
   "source": [
    "t = torch.randn(3, 3)\n",
    "u = torch.randn(3, 3)\n",
    "\n",
    "print(t)\n",
    "print(u)"
   ]
  },
  {
   "cell_type": "code",
   "execution_count": 51,
   "metadata": {},
   "outputs": [
    {
     "name": "stdout",
     "output_type": "stream",
     "text": [
      "tensor([[-0.9512,  2.9190,  1.9148],\n",
      "        [ 0.3170,  0.3525,  1.0101],\n",
      "        [-0.5349, -1.7453,  0.9757],\n",
      "        [-0.8054, -0.1563, -0.4371],\n",
      "        [-1.2176, -0.5007,  0.3743],\n",
      "        [ 0.2207,  0.2166, -0.0418]])\n"
     ]
    }
   ],
   "source": [
    "sa = torch.concatenate([t, u])\n",
    "\n",
    "print(sa)"
   ]
  },
  {
   "cell_type": "code",
   "execution_count": 52,
   "metadata": {},
   "outputs": [
    {
     "name": "stdout",
     "output_type": "stream",
     "text": [
      "(tensor([[-0.9512,  2.9190,  1.9148],\n",
      "        [ 0.3170,  0.3525,  1.0101],\n",
      "        [-0.5349, -1.7453,  0.9757]]), tensor([[-0.8054, -0.1563, -0.4371],\n",
      "        [-1.2176, -0.5007,  0.3743],\n",
      "        [ 0.2207,  0.2166, -0.0418]]))\n"
     ]
    }
   ],
   "source": [
    "sb = torch.vsplit(sa, 2)\n",
    "\n",
    "print(sb)"
   ]
  },
  {
   "cell_type": "code",
   "execution_count": 54,
   "metadata": {},
   "outputs": [
    {
     "name": "stdout",
     "output_type": "stream",
     "text": [
      "(tensor([[-0.9512,  2.9190,  1.9148],\n",
      "        [ 0.3170,  0.3525,  1.0101],\n",
      "        [-0.5349, -1.7453,  0.9757]]), tensor([[-0.8054, -0.1563, -0.4371],\n",
      "        [-1.2176, -0.5007,  0.3743],\n",
      "        [ 0.2207,  0.2166, -0.0418]]))\n"
     ]
    }
   ],
   "source": [
    "sc = torch.split(sa, 3, dim=0)\n",
    "\n",
    "print(sc)"
   ]
  },
  {
   "cell_type": "code",
   "execution_count": 55,
   "metadata": {},
   "outputs": [
    {
     "name": "stdout",
     "output_type": "stream",
     "text": [
      "tensor([[-6.7594e-01, -1.0467e+00, -4.6179e-01, -8.3141e-01, -1.4954e-01],\n",
      "        [ 5.8815e-01, -4.3514e-01, -3.2614e-01, -3.0862e-01, -2.7493e+00],\n",
      "        [-8.4392e-01,  8.3161e-01, -8.4794e-05,  1.3431e-01, -8.6761e-01],\n",
      "        [ 5.3568e-01,  7.1176e-01,  8.9693e-01,  7.2236e-01,  2.5861e+00]])\n"
     ]
    }
   ],
   "source": [
    "v = torch.randn(4, 5)\n",
    "\n",
    "print(v)"
   ]
  },
  {
   "cell_type": "markdown",
   "metadata": {},
   "source": [
    "Pytorch Functions"
   ]
  },
  {
   "cell_type": "code",
   "execution_count": 56,
   "metadata": {},
   "outputs": [
    {
     "name": "stdout",
     "output_type": "stream",
     "text": [
      "tensor([[ 0.5087,  0.3511,  0.6302,  0.4354,  0.8611],\n",
      "        [ 1.8007,  0.6472,  0.7217,  0.7345,  0.0640],\n",
      "        [ 0.4300,  2.2970,  0.9999,  1.1438,  0.4200],\n",
      "        [ 1.7086,  2.0376,  2.4521,  2.0593, 13.2781]])\n"
     ]
    }
   ],
   "source": [
    "print(torch.exp(v))"
   ]
  },
  {
   "cell_type": "code",
   "execution_count": 57,
   "metadata": {},
   "outputs": [
    {
     "name": "stdout",
     "output_type": "stream",
     "text": [
      "tensor([[    nan,     nan,     nan,     nan,     nan],\n",
      "        [-0.5308,     nan,     nan,     nan,     nan],\n",
      "        [    nan, -0.1844,     nan, -2.0076,     nan],\n",
      "        [-0.6242, -0.3400, -0.1088, -0.3252,  0.9502]])\n"
     ]
    }
   ],
   "source": [
    "print(torch.log(v))"
   ]
  },
  {
   "cell_type": "code",
   "execution_count": 58,
   "metadata": {},
   "outputs": [
    {
     "name": "stdout",
     "output_type": "stream",
     "text": [
      "tensor([[-6.2563e-01, -8.6579e-01, -4.4555e-01, -7.3889e-01, -1.4898e-01],\n",
      "        [ 5.5482e-01, -4.2154e-01, -3.2039e-01, -3.0374e-01, -3.8232e-01],\n",
      "        [-7.4725e-01,  7.3902e-01, -8.4794e-05,  1.3391e-01, -7.6279e-01],\n",
      "        [ 5.1043e-01,  6.5317e-01,  7.8142e-01,  6.6116e-01,  5.2735e-01]])\n"
     ]
    }
   ],
   "source": [
    "print(torch.sin(v))"
   ]
  },
  {
   "cell_type": "code",
   "execution_count": null,
   "metadata": {},
   "outputs": [],
   "source": [
    "print(torch.arctan(a))"
   ]
  },
  {
   "cell_type": "code",
   "execution_count": null,
   "metadata": {},
   "outputs": [],
   "source": [
    "print(torch.abs(a))"
   ]
  },
  {
   "cell_type": "code",
   "execution_count": null,
   "metadata": {},
   "outputs": [],
   "source": [
    "print(torch.square(a))"
   ]
  },
  {
   "cell_type": "code",
   "execution_count": null,
   "metadata": {},
   "outputs": [],
   "source": [
    "print(torch.sqrt(a))"
   ]
  },
  {
   "cell_type": "code",
   "execution_count": null,
   "metadata": {},
   "outputs": [],
   "source": [
    "print(torch.ceil(a))"
   ]
  },
  {
   "cell_type": "code",
   "execution_count": null,
   "metadata": {},
   "outputs": [],
   "source": [
    "print(torch.round(a))"
   ]
  },
  {
   "cell_type": "code",
   "execution_count": null,
   "metadata": {},
   "outputs": [],
   "source": [
    "print(torch.clip(a, 0.1, 0.9))"
   ]
  }
 ],
 "metadata": {
  "kernelspec": {
   "display_name": "Python 3",
   "language": "python",
   "name": "python3"
  },
  "language_info": {
   "codemirror_mode": {
    "name": "ipython",
    "version": 3
   },
   "file_extension": ".py",
   "mimetype": "text/x-python",
   "name": "python",
   "nbconvert_exporter": "python",
   "pygments_lexer": "ipython3",
   "version": "3.10.4"
  },
  "orig_nbformat": 4,
  "vscode": {
   "interpreter": {
    "hash": "3ad933181bd8a04b432d3370b9dc3b0662ad032c4dfaa4e4f1596c548f763858"
   }
  }
 },
 "nbformat": 4,
 "nbformat_minor": 2
}
