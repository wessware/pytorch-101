{
 "cells": [
  {
   "cell_type": "code",
   "execution_count": 1,
   "id": "b89090e1",
   "metadata": {
    "_execution_state": "idle",
    "_uuid": "051d70d956493feee0c6d64651c6a088724dca2a",
    "execution": {
     "iopub.execute_input": "2023-02-21T14:44:51.583281Z",
     "iopub.status.busy": "2023-02-21T14:44:51.582639Z",
     "iopub.status.idle": "2023-02-21T14:44:52.665822Z",
     "shell.execute_reply": "2023-02-21T14:44:52.664755Z"
    },
    "papermill": {
     "duration": 1.094853,
     "end_time": "2023-02-21T14:44:52.668659",
     "exception": false,
     "start_time": "2023-02-21T14:44:51.573806",
     "status": "completed"
    },
    "tags": []
   },
   "outputs": [],
   "source": [
    "import pandas as pd\n",
    "import numpy as np\n",
    "\n",
    "from sklearn.preprocessing import MinMaxScaler\n",
    "from sklearn.preprocessing import OneHotEncoder"
   ]
  },
  {
   "cell_type": "code",
   "execution_count": 2,
   "id": "69df31bc",
   "metadata": {
    "execution": {
     "iopub.execute_input": "2023-02-21T14:44:52.685622Z",
     "iopub.status.busy": "2023-02-21T14:44:52.684394Z",
     "iopub.status.idle": "2023-02-21T14:48:47.591031Z",
     "shell.execute_reply": "2023-02-21T14:48:47.589747Z"
    },
    "papermill": {
     "duration": 234.916903,
     "end_time": "2023-02-21T14:48:47.594265",
     "exception": false,
     "start_time": "2023-02-21T14:44:52.677362",
     "status": "completed"
    },
    "tags": []
   },
   "outputs": [],
   "source": [
    "df = pd.read_excel('/kaggle/input/weather-imputed-data/imputed_numerical.xlsx')"
   ]
  },
  {
   "cell_type": "code",
   "execution_count": 3,
   "id": "1102b89b",
   "metadata": {
    "execution": {
     "iopub.execute_input": "2023-02-21T14:48:47.607661Z",
     "iopub.status.busy": "2023-02-21T14:48:47.607225Z",
     "iopub.status.idle": "2023-02-21T14:48:47.972516Z",
     "shell.execute_reply": "2023-02-21T14:48:47.971374Z"
    },
    "papermill": {
     "duration": 0.375046,
     "end_time": "2023-02-21T14:48:47.975180",
     "exception": false,
     "start_time": "2023-02-21T14:48:47.600134",
     "status": "completed"
    },
    "tags": []
   },
   "outputs": [
    {
     "data": {
      "text/html": [
       "<div>\n",
       "<style scoped>\n",
       "    .dataframe tbody tr th:only-of-type {\n",
       "        vertical-align: middle;\n",
       "    }\n",
       "\n",
       "    .dataframe tbody tr th {\n",
       "        vertical-align: top;\n",
       "    }\n",
       "\n",
       "    .dataframe thead th {\n",
       "        text-align: right;\n",
       "    }\n",
       "</style>\n",
       "<table border=\"1\" class=\"dataframe\">\n",
       "  <thead>\n",
       "    <tr style=\"text-align: right;\">\n",
       "      <th></th>\n",
       "      <th>Date</th>\n",
       "      <th>Location</th>\n",
       "      <th>MinTemp</th>\n",
       "      <th>MaxTemp</th>\n",
       "      <th>Rainfall</th>\n",
       "      <th>Evaporation</th>\n",
       "      <th>Sunshine</th>\n",
       "      <th>WindGustDir</th>\n",
       "      <th>WindGustSpeed</th>\n",
       "      <th>WindDir9am</th>\n",
       "      <th>...</th>\n",
       "      <th>Pressure3pm</th>\n",
       "      <th>Cloud9am</th>\n",
       "      <th>Cloud3pm</th>\n",
       "      <th>Temp9am</th>\n",
       "      <th>Temp3pm</th>\n",
       "      <th>RainToday</th>\n",
       "      <th>RainTomorrow</th>\n",
       "      <th>.imp</th>\n",
       "      <th>.id</th>\n",
       "      <th>RainTomorrow.1</th>\n",
       "    </tr>\n",
       "  </thead>\n",
       "  <tbody>\n",
       "    <tr>\n",
       "      <th>0</th>\n",
       "      <td>12/1/2008</td>\n",
       "      <td>Albury</td>\n",
       "      <td>13.4</td>\n",
       "      <td>22.9</td>\n",
       "      <td>0.6</td>\n",
       "      <td>NaN</td>\n",
       "      <td>NaN</td>\n",
       "      <td>W</td>\n",
       "      <td>44.0</td>\n",
       "      <td>W</td>\n",
       "      <td>...</td>\n",
       "      <td>1007.1</td>\n",
       "      <td>8.0</td>\n",
       "      <td>NaN</td>\n",
       "      <td>16.9</td>\n",
       "      <td>21.8</td>\n",
       "      <td>No</td>\n",
       "      <td>2</td>\n",
       "      <td>0</td>\n",
       "      <td>1</td>\n",
       "      <td>2</td>\n",
       "    </tr>\n",
       "    <tr>\n",
       "      <th>1</th>\n",
       "      <td>12/2/2008</td>\n",
       "      <td>Albury</td>\n",
       "      <td>7.4</td>\n",
       "      <td>25.1</td>\n",
       "      <td>0.0</td>\n",
       "      <td>NaN</td>\n",
       "      <td>NaN</td>\n",
       "      <td>WNW</td>\n",
       "      <td>44.0</td>\n",
       "      <td>NNW</td>\n",
       "      <td>...</td>\n",
       "      <td>1007.8</td>\n",
       "      <td>NaN</td>\n",
       "      <td>NaN</td>\n",
       "      <td>17.2</td>\n",
       "      <td>24.3</td>\n",
       "      <td>No</td>\n",
       "      <td>2</td>\n",
       "      <td>0</td>\n",
       "      <td>2</td>\n",
       "      <td>2</td>\n",
       "    </tr>\n",
       "    <tr>\n",
       "      <th>2</th>\n",
       "      <td>12/3/2008</td>\n",
       "      <td>Albury</td>\n",
       "      <td>12.9</td>\n",
       "      <td>25.7</td>\n",
       "      <td>0.0</td>\n",
       "      <td>NaN</td>\n",
       "      <td>NaN</td>\n",
       "      <td>WSW</td>\n",
       "      <td>46.0</td>\n",
       "      <td>W</td>\n",
       "      <td>...</td>\n",
       "      <td>1008.7</td>\n",
       "      <td>NaN</td>\n",
       "      <td>2.0</td>\n",
       "      <td>21.0</td>\n",
       "      <td>23.2</td>\n",
       "      <td>No</td>\n",
       "      <td>2</td>\n",
       "      <td>0</td>\n",
       "      <td>3</td>\n",
       "      <td>2</td>\n",
       "    </tr>\n",
       "    <tr>\n",
       "      <th>3</th>\n",
       "      <td>12/4/2008</td>\n",
       "      <td>Albury</td>\n",
       "      <td>9.2</td>\n",
       "      <td>28.0</td>\n",
       "      <td>0.0</td>\n",
       "      <td>NaN</td>\n",
       "      <td>NaN</td>\n",
       "      <td>NE</td>\n",
       "      <td>24.0</td>\n",
       "      <td>SE</td>\n",
       "      <td>...</td>\n",
       "      <td>1012.8</td>\n",
       "      <td>NaN</td>\n",
       "      <td>NaN</td>\n",
       "      <td>18.1</td>\n",
       "      <td>26.5</td>\n",
       "      <td>No</td>\n",
       "      <td>2</td>\n",
       "      <td>0</td>\n",
       "      <td>4</td>\n",
       "      <td>2</td>\n",
       "    </tr>\n",
       "    <tr>\n",
       "      <th>4</th>\n",
       "      <td>12/5/2008</td>\n",
       "      <td>Albury</td>\n",
       "      <td>17.5</td>\n",
       "      <td>32.3</td>\n",
       "      <td>1.0</td>\n",
       "      <td>NaN</td>\n",
       "      <td>NaN</td>\n",
       "      <td>W</td>\n",
       "      <td>41.0</td>\n",
       "      <td>ENE</td>\n",
       "      <td>...</td>\n",
       "      <td>1006.0</td>\n",
       "      <td>7.0</td>\n",
       "      <td>8.0</td>\n",
       "      <td>17.8</td>\n",
       "      <td>29.7</td>\n",
       "      <td>No</td>\n",
       "      <td>2</td>\n",
       "      <td>0</td>\n",
       "      <td>5</td>\n",
       "      <td>2</td>\n",
       "    </tr>\n",
       "  </tbody>\n",
       "</table>\n",
       "<p>5 rows × 26 columns</p>\n",
       "</div>"
      ],
      "text/plain": [
       "        Date Location  MinTemp  MaxTemp  Rainfall  Evaporation  Sunshine  \\\n",
       "0  12/1/2008   Albury     13.4     22.9       0.6          NaN       NaN   \n",
       "1  12/2/2008   Albury      7.4     25.1       0.0          NaN       NaN   \n",
       "2  12/3/2008   Albury     12.9     25.7       0.0          NaN       NaN   \n",
       "3  12/4/2008   Albury      9.2     28.0       0.0          NaN       NaN   \n",
       "4  12/5/2008   Albury     17.5     32.3       1.0          NaN       NaN   \n",
       "\n",
       "  WindGustDir  WindGustSpeed WindDir9am  ... Pressure3pm  Cloud9am  Cloud3pm  \\\n",
       "0           W           44.0          W  ...      1007.1       8.0       NaN   \n",
       "1         WNW           44.0        NNW  ...      1007.8       NaN       NaN   \n",
       "2         WSW           46.0          W  ...      1008.7       NaN       2.0   \n",
       "3          NE           24.0         SE  ...      1012.8       NaN       NaN   \n",
       "4           W           41.0        ENE  ...      1006.0       7.0       8.0   \n",
       "\n",
       "   Temp9am  Temp3pm  RainToday  RainTomorrow  .imp  .id  RainTomorrow.1  \n",
       "0     16.9     21.8         No             2     0    1               2  \n",
       "1     17.2     24.3         No             2     0    2               2  \n",
       "2     21.0     23.2         No             2     0    3               2  \n",
       "3     18.1     26.5         No             2     0    4               2  \n",
       "4     17.8     29.7         No             2     0    5               2  \n",
       "\n",
       "[5 rows x 26 columns]"
      ]
     },
     "execution_count": 3,
     "metadata": {},
     "output_type": "execute_result"
    }
   ],
   "source": [
    "df.head()"
   ]
  },
  {
   "cell_type": "code",
   "execution_count": 4,
   "id": "be38f2e9",
   "metadata": {
    "execution": {
     "iopub.execute_input": "2023-02-21T14:48:47.989416Z",
     "iopub.status.busy": "2023-02-21T14:48:47.988998Z",
     "iopub.status.idle": "2023-02-21T14:48:47.996309Z",
     "shell.execute_reply": "2023-02-21T14:48:47.995157Z"
    },
    "papermill": {
     "duration": 0.017309,
     "end_time": "2023-02-21T14:48:47.998796",
     "exception": false,
     "start_time": "2023-02-21T14:48:47.981487",
     "status": "completed"
    },
    "tags": []
   },
   "outputs": [
    {
     "data": {
      "text/plain": [
       "(473168, 26)"
      ]
     },
     "execution_count": 4,
     "metadata": {},
     "output_type": "execute_result"
    }
   ],
   "source": [
    "df.shape"
   ]
  },
  {
   "cell_type": "code",
   "execution_count": 5,
   "id": "26e1d156",
   "metadata": {
    "execution": {
     "iopub.execute_input": "2023-02-21T14:48:48.012872Z",
     "iopub.status.busy": "2023-02-21T14:48:48.012439Z",
     "iopub.status.idle": "2023-02-21T14:48:48.029966Z",
     "shell.execute_reply": "2023-02-21T14:48:48.028746Z"
    },
    "papermill": {
     "duration": 0.027455,
     "end_time": "2023-02-21T14:48:48.032474",
     "exception": false,
     "start_time": "2023-02-21T14:48:48.005019",
     "status": "completed"
    },
    "tags": []
   },
   "outputs": [
    {
     "data": {
      "text/plain": [
       "array([2, 1, 3])"
      ]
     },
     "execution_count": 5,
     "metadata": {},
     "output_type": "execute_result"
    }
   ],
   "source": [
    "df['RainTomorrow'].unique()"
   ]
  },
  {
   "cell_type": "code",
   "execution_count": 6,
   "id": "8ed9ecde",
   "metadata": {
    "execution": {
     "iopub.execute_input": "2023-02-21T14:48:48.046908Z",
     "iopub.status.busy": "2023-02-21T14:48:48.046184Z",
     "iopub.status.idle": "2023-02-21T14:48:48.055725Z",
     "shell.execute_reply": "2023-02-21T14:48:48.054769Z"
    },
    "papermill": {
     "duration": 0.019349,
     "end_time": "2023-02-21T14:48:48.058060",
     "exception": false,
     "start_time": "2023-02-21T14:48:48.038711",
     "status": "completed"
    },
    "tags": []
   },
   "outputs": [
    {
     "data": {
      "text/plain": [
       "array([2, 1, 3])"
      ]
     },
     "execution_count": 6,
     "metadata": {},
     "output_type": "execute_result"
    }
   ],
   "source": [
    "df['RainTomorrow.1'].unique()"
   ]
  },
  {
   "cell_type": "code",
   "execution_count": 7,
   "id": "15d8be87",
   "metadata": {
    "execution": {
     "iopub.execute_input": "2023-02-21T14:48:48.073168Z",
     "iopub.status.busy": "2023-02-21T14:48:48.072498Z",
     "iopub.status.idle": "2023-02-21T14:48:48.396965Z",
     "shell.execute_reply": "2023-02-21T14:48:48.395754Z"
    },
    "papermill": {
     "duration": 0.334801,
     "end_time": "2023-02-21T14:48:48.399357",
     "exception": false,
     "start_time": "2023-02-21T14:48:48.064556",
     "status": "completed"
    },
    "tags": []
   },
   "outputs": [
    {
     "data": {
      "text/html": [
       "<div>\n",
       "<style scoped>\n",
       "    .dataframe tbody tr th:only-of-type {\n",
       "        vertical-align: middle;\n",
       "    }\n",
       "\n",
       "    .dataframe tbody tr th {\n",
       "        vertical-align: top;\n",
       "    }\n",
       "\n",
       "    .dataframe thead th {\n",
       "        text-align: right;\n",
       "    }\n",
       "</style>\n",
       "<table border=\"1\" class=\"dataframe\">\n",
       "  <thead>\n",
       "    <tr style=\"text-align: right;\">\n",
       "      <th></th>\n",
       "      <th>MinTemp</th>\n",
       "      <th>MaxTemp</th>\n",
       "      <th>Rainfall</th>\n",
       "      <th>Evaporation</th>\n",
       "      <th>Sunshine</th>\n",
       "      <th>WindGustDir</th>\n",
       "      <th>WindGustSpeed</th>\n",
       "      <th>WindDir9am</th>\n",
       "      <th>WindDir3pm</th>\n",
       "      <th>WindSpeed9am</th>\n",
       "      <th>...</th>\n",
       "      <th>Humidity9am</th>\n",
       "      <th>Humidity3pm</th>\n",
       "      <th>Pressure9am</th>\n",
       "      <th>Pressure3pm</th>\n",
       "      <th>Cloud9am</th>\n",
       "      <th>Cloud3pm</th>\n",
       "      <th>Temp9am</th>\n",
       "      <th>Temp3pm</th>\n",
       "      <th>RainToday</th>\n",
       "      <th>RainTomorrow</th>\n",
       "    </tr>\n",
       "  </thead>\n",
       "  <tbody>\n",
       "    <tr>\n",
       "      <th>0</th>\n",
       "      <td>13.4</td>\n",
       "      <td>22.9</td>\n",
       "      <td>0.6</td>\n",
       "      <td>NaN</td>\n",
       "      <td>NaN</td>\n",
       "      <td>W</td>\n",
       "      <td>44.0</td>\n",
       "      <td>W</td>\n",
       "      <td>WNW</td>\n",
       "      <td>20.0</td>\n",
       "      <td>...</td>\n",
       "      <td>71.0</td>\n",
       "      <td>22.0</td>\n",
       "      <td>1007.7</td>\n",
       "      <td>1007.1</td>\n",
       "      <td>8.0</td>\n",
       "      <td>NaN</td>\n",
       "      <td>16.9</td>\n",
       "      <td>21.8</td>\n",
       "      <td>No</td>\n",
       "      <td>2</td>\n",
       "    </tr>\n",
       "    <tr>\n",
       "      <th>1</th>\n",
       "      <td>7.4</td>\n",
       "      <td>25.1</td>\n",
       "      <td>0.0</td>\n",
       "      <td>NaN</td>\n",
       "      <td>NaN</td>\n",
       "      <td>WNW</td>\n",
       "      <td>44.0</td>\n",
       "      <td>NNW</td>\n",
       "      <td>WSW</td>\n",
       "      <td>4.0</td>\n",
       "      <td>...</td>\n",
       "      <td>44.0</td>\n",
       "      <td>25.0</td>\n",
       "      <td>1010.6</td>\n",
       "      <td>1007.8</td>\n",
       "      <td>NaN</td>\n",
       "      <td>NaN</td>\n",
       "      <td>17.2</td>\n",
       "      <td>24.3</td>\n",
       "      <td>No</td>\n",
       "      <td>2</td>\n",
       "    </tr>\n",
       "    <tr>\n",
       "      <th>2</th>\n",
       "      <td>12.9</td>\n",
       "      <td>25.7</td>\n",
       "      <td>0.0</td>\n",
       "      <td>NaN</td>\n",
       "      <td>NaN</td>\n",
       "      <td>WSW</td>\n",
       "      <td>46.0</td>\n",
       "      <td>W</td>\n",
       "      <td>WSW</td>\n",
       "      <td>19.0</td>\n",
       "      <td>...</td>\n",
       "      <td>38.0</td>\n",
       "      <td>30.0</td>\n",
       "      <td>1007.6</td>\n",
       "      <td>1008.7</td>\n",
       "      <td>NaN</td>\n",
       "      <td>2.0</td>\n",
       "      <td>21.0</td>\n",
       "      <td>23.2</td>\n",
       "      <td>No</td>\n",
       "      <td>2</td>\n",
       "    </tr>\n",
       "    <tr>\n",
       "      <th>3</th>\n",
       "      <td>9.2</td>\n",
       "      <td>28.0</td>\n",
       "      <td>0.0</td>\n",
       "      <td>NaN</td>\n",
       "      <td>NaN</td>\n",
       "      <td>NE</td>\n",
       "      <td>24.0</td>\n",
       "      <td>SE</td>\n",
       "      <td>E</td>\n",
       "      <td>11.0</td>\n",
       "      <td>...</td>\n",
       "      <td>45.0</td>\n",
       "      <td>16.0</td>\n",
       "      <td>1017.6</td>\n",
       "      <td>1012.8</td>\n",
       "      <td>NaN</td>\n",
       "      <td>NaN</td>\n",
       "      <td>18.1</td>\n",
       "      <td>26.5</td>\n",
       "      <td>No</td>\n",
       "      <td>2</td>\n",
       "    </tr>\n",
       "    <tr>\n",
       "      <th>4</th>\n",
       "      <td>17.5</td>\n",
       "      <td>32.3</td>\n",
       "      <td>1.0</td>\n",
       "      <td>NaN</td>\n",
       "      <td>NaN</td>\n",
       "      <td>W</td>\n",
       "      <td>41.0</td>\n",
       "      <td>ENE</td>\n",
       "      <td>NW</td>\n",
       "      <td>7.0</td>\n",
       "      <td>...</td>\n",
       "      <td>82.0</td>\n",
       "      <td>33.0</td>\n",
       "      <td>1010.8</td>\n",
       "      <td>1006.0</td>\n",
       "      <td>7.0</td>\n",
       "      <td>8.0</td>\n",
       "      <td>17.8</td>\n",
       "      <td>29.7</td>\n",
       "      <td>No</td>\n",
       "      <td>2</td>\n",
       "    </tr>\n",
       "    <tr>\n",
       "      <th>...</th>\n",
       "      <td>...</td>\n",
       "      <td>...</td>\n",
       "      <td>...</td>\n",
       "      <td>...</td>\n",
       "      <td>...</td>\n",
       "      <td>...</td>\n",
       "      <td>...</td>\n",
       "      <td>...</td>\n",
       "      <td>...</td>\n",
       "      <td>...</td>\n",
       "      <td>...</td>\n",
       "      <td>...</td>\n",
       "      <td>...</td>\n",
       "      <td>...</td>\n",
       "      <td>...</td>\n",
       "      <td>...</td>\n",
       "      <td>...</td>\n",
       "      <td>...</td>\n",
       "      <td>...</td>\n",
       "      <td>...</td>\n",
       "      <td>...</td>\n",
       "    </tr>\n",
       "    <tr>\n",
       "      <th>473163</th>\n",
       "      <td>2.8</td>\n",
       "      <td>23.4</td>\n",
       "      <td>0.0</td>\n",
       "      <td>NaN</td>\n",
       "      <td>NaN</td>\n",
       "      <td>E</td>\n",
       "      <td>31.0</td>\n",
       "      <td>SE</td>\n",
       "      <td>ENE</td>\n",
       "      <td>13.0</td>\n",
       "      <td>...</td>\n",
       "      <td>51.0</td>\n",
       "      <td>24.0</td>\n",
       "      <td>1024.6</td>\n",
       "      <td>1020.3</td>\n",
       "      <td>NaN</td>\n",
       "      <td>NaN</td>\n",
       "      <td>10.1</td>\n",
       "      <td>22.4</td>\n",
       "      <td>No</td>\n",
       "      <td>2</td>\n",
       "    </tr>\n",
       "    <tr>\n",
       "      <th>473164</th>\n",
       "      <td>3.6</td>\n",
       "      <td>25.3</td>\n",
       "      <td>0.0</td>\n",
       "      <td>NaN</td>\n",
       "      <td>NaN</td>\n",
       "      <td>NNW</td>\n",
       "      <td>22.0</td>\n",
       "      <td>SE</td>\n",
       "      <td>N</td>\n",
       "      <td>13.0</td>\n",
       "      <td>...</td>\n",
       "      <td>56.0</td>\n",
       "      <td>21.0</td>\n",
       "      <td>1023.5</td>\n",
       "      <td>1019.1</td>\n",
       "      <td>NaN</td>\n",
       "      <td>NaN</td>\n",
       "      <td>10.9</td>\n",
       "      <td>24.5</td>\n",
       "      <td>No</td>\n",
       "      <td>2</td>\n",
       "    </tr>\n",
       "    <tr>\n",
       "      <th>473165</th>\n",
       "      <td>5.4</td>\n",
       "      <td>26.9</td>\n",
       "      <td>0.0</td>\n",
       "      <td>NaN</td>\n",
       "      <td>NaN</td>\n",
       "      <td>N</td>\n",
       "      <td>37.0</td>\n",
       "      <td>SE</td>\n",
       "      <td>WNW</td>\n",
       "      <td>9.0</td>\n",
       "      <td>...</td>\n",
       "      <td>53.0</td>\n",
       "      <td>24.0</td>\n",
       "      <td>1021.0</td>\n",
       "      <td>1016.8</td>\n",
       "      <td>NaN</td>\n",
       "      <td>NaN</td>\n",
       "      <td>12.5</td>\n",
       "      <td>26.1</td>\n",
       "      <td>No</td>\n",
       "      <td>2</td>\n",
       "    </tr>\n",
       "    <tr>\n",
       "      <th>473166</th>\n",
       "      <td>7.8</td>\n",
       "      <td>27.0</td>\n",
       "      <td>0.0</td>\n",
       "      <td>NaN</td>\n",
       "      <td>NaN</td>\n",
       "      <td>SE</td>\n",
       "      <td>28.0</td>\n",
       "      <td>SSE</td>\n",
       "      <td>N</td>\n",
       "      <td>13.0</td>\n",
       "      <td>...</td>\n",
       "      <td>51.0</td>\n",
       "      <td>24.0</td>\n",
       "      <td>1019.4</td>\n",
       "      <td>1016.5</td>\n",
       "      <td>3.0</td>\n",
       "      <td>2.0</td>\n",
       "      <td>15.1</td>\n",
       "      <td>26.0</td>\n",
       "      <td>No</td>\n",
       "      <td>2</td>\n",
       "    </tr>\n",
       "    <tr>\n",
       "      <th>473167</th>\n",
       "      <td>14.9</td>\n",
       "      <td>NaN</td>\n",
       "      <td>0.0</td>\n",
       "      <td>NaN</td>\n",
       "      <td>NaN</td>\n",
       "      <td>NaN</td>\n",
       "      <td>NaN</td>\n",
       "      <td>ESE</td>\n",
       "      <td>ESE</td>\n",
       "      <td>17.0</td>\n",
       "      <td>...</td>\n",
       "      <td>62.0</td>\n",
       "      <td>36.0</td>\n",
       "      <td>1020.2</td>\n",
       "      <td>1017.9</td>\n",
       "      <td>8.0</td>\n",
       "      <td>8.0</td>\n",
       "      <td>15.0</td>\n",
       "      <td>20.9</td>\n",
       "      <td>No</td>\n",
       "      <td>3</td>\n",
       "    </tr>\n",
       "  </tbody>\n",
       "</table>\n",
       "<p>473168 rows × 21 columns</p>\n",
       "</div>"
      ],
      "text/plain": [
       "        MinTemp  MaxTemp  Rainfall  Evaporation  Sunshine WindGustDir  \\\n",
       "0          13.4     22.9       0.6          NaN       NaN           W   \n",
       "1           7.4     25.1       0.0          NaN       NaN         WNW   \n",
       "2          12.9     25.7       0.0          NaN       NaN         WSW   \n",
       "3           9.2     28.0       0.0          NaN       NaN          NE   \n",
       "4          17.5     32.3       1.0          NaN       NaN           W   \n",
       "...         ...      ...       ...          ...       ...         ...   \n",
       "473163      2.8     23.4       0.0          NaN       NaN           E   \n",
       "473164      3.6     25.3       0.0          NaN       NaN         NNW   \n",
       "473165      5.4     26.9       0.0          NaN       NaN           N   \n",
       "473166      7.8     27.0       0.0          NaN       NaN          SE   \n",
       "473167     14.9      NaN       0.0          NaN       NaN         NaN   \n",
       "\n",
       "        WindGustSpeed WindDir9am WindDir3pm  WindSpeed9am  ...  Humidity9am  \\\n",
       "0                44.0          W        WNW          20.0  ...         71.0   \n",
       "1                44.0        NNW        WSW           4.0  ...         44.0   \n",
       "2                46.0          W        WSW          19.0  ...         38.0   \n",
       "3                24.0         SE          E          11.0  ...         45.0   \n",
       "4                41.0        ENE         NW           7.0  ...         82.0   \n",
       "...               ...        ...        ...           ...  ...          ...   \n",
       "473163           31.0         SE        ENE          13.0  ...         51.0   \n",
       "473164           22.0         SE          N          13.0  ...         56.0   \n",
       "473165           37.0         SE        WNW           9.0  ...         53.0   \n",
       "473166           28.0        SSE          N          13.0  ...         51.0   \n",
       "473167            NaN        ESE        ESE          17.0  ...         62.0   \n",
       "\n",
       "        Humidity3pm  Pressure9am  Pressure3pm  Cloud9am  Cloud3pm  Temp9am  \\\n",
       "0              22.0       1007.7       1007.1       8.0       NaN     16.9   \n",
       "1              25.0       1010.6       1007.8       NaN       NaN     17.2   \n",
       "2              30.0       1007.6       1008.7       NaN       2.0     21.0   \n",
       "3              16.0       1017.6       1012.8       NaN       NaN     18.1   \n",
       "4              33.0       1010.8       1006.0       7.0       8.0     17.8   \n",
       "...             ...          ...          ...       ...       ...      ...   \n",
       "473163         24.0       1024.6       1020.3       NaN       NaN     10.1   \n",
       "473164         21.0       1023.5       1019.1       NaN       NaN     10.9   \n",
       "473165         24.0       1021.0       1016.8       NaN       NaN     12.5   \n",
       "473166         24.0       1019.4       1016.5       3.0       2.0     15.1   \n",
       "473167         36.0       1020.2       1017.9       8.0       8.0     15.0   \n",
       "\n",
       "        Temp3pm  RainToday RainTomorrow  \n",
       "0          21.8         No            2  \n",
       "1          24.3         No            2  \n",
       "2          23.2         No            2  \n",
       "3          26.5         No            2  \n",
       "4          29.7         No            2  \n",
       "...         ...        ...          ...  \n",
       "473163     22.4         No            2  \n",
       "473164     24.5         No            2  \n",
       "473165     26.1         No            2  \n",
       "473166     26.0         No            2  \n",
       "473167     20.9         No            3  \n",
       "\n",
       "[473168 rows x 21 columns]"
      ]
     },
     "execution_count": 7,
     "metadata": {},
     "output_type": "execute_result"
    }
   ],
   "source": [
    "df.drop(['RainTomorrow.1', '.imp', '.id', 'Date', 'Location'], axis=1)"
   ]
  },
  {
   "cell_type": "code",
   "execution_count": 8,
   "id": "8497a2c2",
   "metadata": {
    "execution": {
     "iopub.execute_input": "2023-02-21T14:48:48.415040Z",
     "iopub.status.busy": "2023-02-21T14:48:48.414064Z",
     "iopub.status.idle": "2023-02-21T14:48:48.422531Z",
     "shell.execute_reply": "2023-02-21T14:48:48.421457Z"
    },
    "papermill": {
     "duration": 0.018701,
     "end_time": "2023-02-21T14:48:48.424809",
     "exception": false,
     "start_time": "2023-02-21T14:48:48.406108",
     "status": "completed"
    },
    "tags": []
   },
   "outputs": [
    {
     "data": {
      "text/plain": [
       "99316"
      ]
     },
     "execution_count": 8,
     "metadata": {},
     "output_type": "execute_result"
    }
   ],
   "source": [
    "df['Evaporation'].isna().sum().sum()"
   ]
  },
  {
   "cell_type": "code",
   "execution_count": 9,
   "id": "4a135ff9",
   "metadata": {
    "execution": {
     "iopub.execute_input": "2023-02-21T14:48:48.440450Z",
     "iopub.status.busy": "2023-02-21T14:48:48.440043Z",
     "iopub.status.idle": "2023-02-21T14:48:48.448848Z",
     "shell.execute_reply": "2023-02-21T14:48:48.447733Z"
    },
    "papermill": {
     "duration": 0.019388,
     "end_time": "2023-02-21T14:48:48.451294",
     "exception": false,
     "start_time": "2023-02-21T14:48:48.431906",
     "status": "completed"
    },
    "tags": []
   },
   "outputs": [
    {
     "data": {
      "text/plain": [
       "106361"
      ]
     },
     "execution_count": 9,
     "metadata": {},
     "output_type": "execute_result"
    }
   ],
   "source": [
    "df['Sunshine'].isna().sum().sum()"
   ]
  },
  {
   "cell_type": "code",
   "execution_count": 10,
   "id": "74e3c19d",
   "metadata": {
    "execution": {
     "iopub.execute_input": "2023-02-21T14:48:48.467377Z",
     "iopub.status.busy": "2023-02-21T14:48:48.466739Z",
     "iopub.status.idle": "2023-02-21T14:48:48.539427Z",
     "shell.execute_reply": "2023-02-21T14:48:48.538358Z"
    },
    "papermill": {
     "duration": 0.083745,
     "end_time": "2023-02-21T14:48:48.541990",
     "exception": false,
     "start_time": "2023-02-21T14:48:48.458245",
     "status": "completed"
    },
    "tags": []
   },
   "outputs": [],
   "source": [
    "numerical_cols = df.select_dtypes(include=np.number).columns.tolist()\n",
    "categorical_cols = df.select_dtypes('object').columns.tolist()"
   ]
  },
  {
   "cell_type": "code",
   "execution_count": 11,
   "id": "cefccf43",
   "metadata": {
    "execution": {
     "iopub.execute_input": "2023-02-21T14:48:48.558067Z",
     "iopub.status.busy": "2023-02-21T14:48:48.557613Z",
     "iopub.status.idle": "2023-02-21T14:48:48.564478Z",
     "shell.execute_reply": "2023-02-21T14:48:48.563655Z"
    },
    "papermill": {
     "duration": 0.017819,
     "end_time": "2023-02-21T14:48:48.566723",
     "exception": false,
     "start_time": "2023-02-21T14:48:48.548904",
     "status": "completed"
    },
    "tags": []
   },
   "outputs": [
    {
     "data": {
      "text/plain": [
       "['MinTemp',\n",
       " 'MaxTemp',\n",
       " 'Rainfall',\n",
       " 'Evaporation',\n",
       " 'Sunshine',\n",
       " 'WindGustSpeed',\n",
       " 'WindSpeed9am',\n",
       " 'WindSpeed3pm',\n",
       " 'Humidity9am',\n",
       " 'Humidity3pm',\n",
       " 'Pressure9am',\n",
       " 'Pressure3pm',\n",
       " 'Cloud9am',\n",
       " 'Cloud3pm',\n",
       " 'Temp9am',\n",
       " 'Temp3pm',\n",
       " 'RainTomorrow',\n",
       " '.imp',\n",
       " '.id',\n",
       " 'RainTomorrow.1']"
      ]
     },
     "execution_count": 11,
     "metadata": {},
     "output_type": "execute_result"
    }
   ],
   "source": [
    "numerical_cols"
   ]
  },
  {
   "cell_type": "code",
   "execution_count": 12,
   "id": "46f7bf6a",
   "metadata": {
    "execution": {
     "iopub.execute_input": "2023-02-21T14:48:48.582615Z",
     "iopub.status.busy": "2023-02-21T14:48:48.582175Z",
     "iopub.status.idle": "2023-02-21T14:48:48.589537Z",
     "shell.execute_reply": "2023-02-21T14:48:48.588332Z"
    },
    "papermill": {
     "duration": 0.018097,
     "end_time": "2023-02-21T14:48:48.591857",
     "exception": false,
     "start_time": "2023-02-21T14:48:48.573760",
     "status": "completed"
    },
    "tags": []
   },
   "outputs": [
    {
     "data": {
      "text/plain": [
       "['Date', 'Location', 'WindGustDir', 'WindDir9am', 'WindDir3pm', 'RainToday']"
      ]
     },
     "execution_count": 12,
     "metadata": {},
     "output_type": "execute_result"
    }
   ],
   "source": [
    "categorical_cols"
   ]
  },
  {
   "cell_type": "code",
   "execution_count": 13,
   "id": "8bce736c",
   "metadata": {
    "execution": {
     "iopub.execute_input": "2023-02-21T14:48:48.609097Z",
     "iopub.status.busy": "2023-02-21T14:48:48.608174Z",
     "iopub.status.idle": "2023-02-21T14:48:48.708241Z",
     "shell.execute_reply": "2023-02-21T14:48:48.707004Z"
    },
    "papermill": {
     "duration": 0.111848,
     "end_time": "2023-02-21T14:48:48.711069",
     "exception": false,
     "start_time": "2023-02-21T14:48:48.599221",
     "status": "completed"
    },
    "tags": []
   },
   "outputs": [],
   "source": [
    "df = df[numerical_cols].dropna()"
   ]
  },
  {
   "cell_type": "code",
   "execution_count": 14,
   "id": "26e2acdf",
   "metadata": {
    "execution": {
     "iopub.execute_input": "2023-02-21T14:48:48.727532Z",
     "iopub.status.busy": "2023-02-21T14:48:48.726891Z",
     "iopub.status.idle": "2023-02-21T14:48:48.733869Z",
     "shell.execute_reply": "2023-02-21T14:48:48.732749Z"
    },
    "papermill": {
     "duration": 0.017868,
     "end_time": "2023-02-21T14:48:48.736270",
     "exception": false,
     "start_time": "2023-02-21T14:48:48.718402",
     "status": "completed"
    },
    "tags": []
   },
   "outputs": [
    {
     "data": {
      "text/plain": [
       "(349416, 20)"
      ]
     },
     "execution_count": 14,
     "metadata": {},
     "output_type": "execute_result"
    }
   ],
   "source": [
    "df.shape"
   ]
  },
  {
   "cell_type": "code",
   "execution_count": 15,
   "id": "86d183ff",
   "metadata": {
    "execution": {
     "iopub.execute_input": "2023-02-21T14:48:48.752424Z",
     "iopub.status.busy": "2023-02-21T14:48:48.752001Z",
     "iopub.status.idle": "2023-02-21T14:48:48.760734Z",
     "shell.execute_reply": "2023-02-21T14:48:48.759508Z"
    },
    "papermill": {
     "duration": 0.019625,
     "end_time": "2023-02-21T14:48:48.763163",
     "exception": false,
     "start_time": "2023-02-21T14:48:48.743538",
     "status": "completed"
    },
    "tags": []
   },
   "outputs": [
    {
     "data": {
      "text/plain": [
       "0"
      ]
     },
     "execution_count": 15,
     "metadata": {},
     "output_type": "execute_result"
    }
   ],
   "source": [
    "df['Evaporation'].isna().sum().sum()"
   ]
  },
  {
   "cell_type": "code",
   "execution_count": 16,
   "id": "257614ce",
   "metadata": {
    "execution": {
     "iopub.execute_input": "2023-02-21T14:48:48.783956Z",
     "iopub.status.busy": "2023-02-21T14:48:48.783231Z",
     "iopub.status.idle": "2023-02-21T14:48:48.824467Z",
     "shell.execute_reply": "2023-02-21T14:48:48.823199Z"
    },
    "papermill": {
     "duration": 0.056157,
     "end_time": "2023-02-21T14:48:48.827203",
     "exception": false,
     "start_time": "2023-02-21T14:48:48.771046",
     "status": "completed"
    },
    "tags": []
   },
   "outputs": [
    {
     "data": {
      "text/plain": [
       "0"
      ]
     },
     "execution_count": 16,
     "metadata": {},
     "output_type": "execute_result"
    }
   ],
   "source": [
    "df[numerical_cols].isna().sum().sum()"
   ]
  },
  {
   "cell_type": "code",
   "execution_count": 17,
   "id": "bdfa6951",
   "metadata": {
    "execution": {
     "iopub.execute_input": "2023-02-21T14:48:48.844211Z",
     "iopub.status.busy": "2023-02-21T14:48:48.843814Z",
     "iopub.status.idle": "2023-02-21T14:48:48.848394Z",
     "shell.execute_reply": "2023-02-21T14:48:48.847153Z"
    },
    "papermill": {
     "duration": 0.015813,
     "end_time": "2023-02-21T14:48:48.850619",
     "exception": false,
     "start_time": "2023-02-21T14:48:48.834806",
     "status": "completed"
    },
    "tags": []
   },
   "outputs": [],
   "source": [
    "#df = MinMaxScaler().fit_transform(df[(numerical_cols),])"
   ]
  },
  {
   "cell_type": "code",
   "execution_count": 18,
   "id": "b1bf1be7",
   "metadata": {
    "execution": {
     "iopub.execute_input": "2023-02-21T14:48:48.867878Z",
     "iopub.status.busy": "2023-02-21T14:48:48.866932Z",
     "iopub.status.idle": "2023-02-21T14:48:48.874586Z",
     "shell.execute_reply": "2023-02-21T14:48:48.873544Z"
    },
    "papermill": {
     "duration": 0.018716,
     "end_time": "2023-02-21T14:48:48.876827",
     "exception": false,
     "start_time": "2023-02-21T14:48:48.858111",
     "status": "completed"
    },
    "tags": []
   },
   "outputs": [
    {
     "data": {
      "text/plain": [
       "['Date', 'Location', 'WindGustDir', 'WindDir9am', 'WindDir3pm', 'RainToday']"
      ]
     },
     "execution_count": 18,
     "metadata": {},
     "output_type": "execute_result"
    }
   ],
   "source": [
    "categorical_cols"
   ]
  },
  {
   "cell_type": "code",
   "execution_count": 19,
   "id": "4b7a4ec5",
   "metadata": {
    "execution": {
     "iopub.execute_input": "2023-02-21T14:48:48.894144Z",
     "iopub.status.busy": "2023-02-21T14:48:48.893025Z",
     "iopub.status.idle": "2023-02-21T14:48:48.898218Z",
     "shell.execute_reply": "2023-02-21T14:48:48.897416Z"
    },
    "papermill": {
     "duration": 0.016126,
     "end_time": "2023-02-21T14:48:48.900399",
     "exception": false,
     "start_time": "2023-02-21T14:48:48.884273",
     "status": "completed"
    },
    "tags": []
   },
   "outputs": [],
   "source": [
    "#df = OneHotEncoder(sparse=False, handle_unknown='ignore').fit_transform(df[(categorical_cols),])"
   ]
  },
  {
   "cell_type": "code",
   "execution_count": 20,
   "id": "7cd64e4c",
   "metadata": {
    "execution": {
     "iopub.execute_input": "2023-02-21T14:48:48.918359Z",
     "iopub.status.busy": "2023-02-21T14:48:48.917250Z",
     "iopub.status.idle": "2023-02-21T14:48:48.955435Z",
     "shell.execute_reply": "2023-02-21T14:48:48.954034Z"
    },
    "papermill": {
     "duration": 0.050271,
     "end_time": "2023-02-21T14:48:48.958238",
     "exception": false,
     "start_time": "2023-02-21T14:48:48.907967",
     "status": "completed"
    },
    "tags": []
   },
   "outputs": [
    {
     "data": {
      "text/html": [
       "<div>\n",
       "<style scoped>\n",
       "    .dataframe tbody tr th:only-of-type {\n",
       "        vertical-align: middle;\n",
       "    }\n",
       "\n",
       "    .dataframe tbody tr th {\n",
       "        vertical-align: top;\n",
       "    }\n",
       "\n",
       "    .dataframe thead th {\n",
       "        text-align: right;\n",
       "    }\n",
       "</style>\n",
       "<table border=\"1\" class=\"dataframe\">\n",
       "  <thead>\n",
       "    <tr style=\"text-align: right;\">\n",
       "      <th></th>\n",
       "      <th>MinTemp</th>\n",
       "      <th>MaxTemp</th>\n",
       "      <th>Rainfall</th>\n",
       "      <th>Evaporation</th>\n",
       "      <th>Sunshine</th>\n",
       "      <th>WindGustSpeed</th>\n",
       "      <th>WindSpeed9am</th>\n",
       "      <th>WindSpeed3pm</th>\n",
       "      <th>Humidity9am</th>\n",
       "      <th>Humidity3pm</th>\n",
       "      <th>Pressure9am</th>\n",
       "      <th>Pressure3pm</th>\n",
       "      <th>Cloud9am</th>\n",
       "      <th>Cloud3pm</th>\n",
       "      <th>Temp9am</th>\n",
       "      <th>Temp3pm</th>\n",
       "      <th>RainTomorrow</th>\n",
       "      <th>.imp</th>\n",
       "      <th>.id</th>\n",
       "      <th>RainTomorrow.1</th>\n",
       "    </tr>\n",
       "  </thead>\n",
       "  <tbody>\n",
       "    <tr>\n",
       "      <th>10513</th>\n",
       "      <td>17.9</td>\n",
       "      <td>35.2</td>\n",
       "      <td>0.0</td>\n",
       "      <td>12.0</td>\n",
       "      <td>12.3</td>\n",
       "      <td>48.0</td>\n",
       "      <td>6.0</td>\n",
       "      <td>20.0</td>\n",
       "      <td>20.0</td>\n",
       "      <td>13.0</td>\n",
       "      <td>1006.3</td>\n",
       "      <td>1004.4</td>\n",
       "      <td>2.0</td>\n",
       "      <td>5.0</td>\n",
       "      <td>26.6</td>\n",
       "      <td>33.4</td>\n",
       "      <td>2</td>\n",
       "      <td>0</td>\n",
       "      <td>6050</td>\n",
       "      <td>2</td>\n",
       "    </tr>\n",
       "    <tr>\n",
       "      <th>10514</th>\n",
       "      <td>17.9</td>\n",
       "      <td>35.2</td>\n",
       "      <td>0.0</td>\n",
       "      <td>12.0</td>\n",
       "      <td>12.3</td>\n",
       "      <td>48.0</td>\n",
       "      <td>6.0</td>\n",
       "      <td>20.0</td>\n",
       "      <td>20.0</td>\n",
       "      <td>13.0</td>\n",
       "      <td>1006.3</td>\n",
       "      <td>1004.4</td>\n",
       "      <td>2.0</td>\n",
       "      <td>5.0</td>\n",
       "      <td>26.6</td>\n",
       "      <td>33.4</td>\n",
       "      <td>2</td>\n",
       "      <td>1</td>\n",
       "      <td>6050</td>\n",
       "      <td>2</td>\n",
       "    </tr>\n",
       "    <tr>\n",
       "      <th>10515</th>\n",
       "      <td>17.9</td>\n",
       "      <td>35.2</td>\n",
       "      <td>0.0</td>\n",
       "      <td>12.0</td>\n",
       "      <td>12.3</td>\n",
       "      <td>48.0</td>\n",
       "      <td>6.0</td>\n",
       "      <td>20.0</td>\n",
       "      <td>20.0</td>\n",
       "      <td>13.0</td>\n",
       "      <td>1006.3</td>\n",
       "      <td>1004.4</td>\n",
       "      <td>2.0</td>\n",
       "      <td>5.0</td>\n",
       "      <td>26.6</td>\n",
       "      <td>33.4</td>\n",
       "      <td>2</td>\n",
       "      <td>2</td>\n",
       "      <td>6050</td>\n",
       "      <td>2</td>\n",
       "    </tr>\n",
       "    <tr>\n",
       "      <th>10516</th>\n",
       "      <td>17.9</td>\n",
       "      <td>35.2</td>\n",
       "      <td>0.0</td>\n",
       "      <td>12.0</td>\n",
       "      <td>12.3</td>\n",
       "      <td>48.0</td>\n",
       "      <td>6.0</td>\n",
       "      <td>20.0</td>\n",
       "      <td>20.0</td>\n",
       "      <td>13.0</td>\n",
       "      <td>1006.3</td>\n",
       "      <td>1004.4</td>\n",
       "      <td>2.0</td>\n",
       "      <td>5.0</td>\n",
       "      <td>26.6</td>\n",
       "      <td>33.4</td>\n",
       "      <td>2</td>\n",
       "      <td>3</td>\n",
       "      <td>6050</td>\n",
       "      <td>2</td>\n",
       "    </tr>\n",
       "    <tr>\n",
       "      <th>10517</th>\n",
       "      <td>17.9</td>\n",
       "      <td>35.2</td>\n",
       "      <td>0.0</td>\n",
       "      <td>12.0</td>\n",
       "      <td>12.3</td>\n",
       "      <td>48.0</td>\n",
       "      <td>6.0</td>\n",
       "      <td>20.0</td>\n",
       "      <td>20.0</td>\n",
       "      <td>13.0</td>\n",
       "      <td>1006.3</td>\n",
       "      <td>1004.4</td>\n",
       "      <td>2.0</td>\n",
       "      <td>5.0</td>\n",
       "      <td>26.6</td>\n",
       "      <td>33.4</td>\n",
       "      <td>2</td>\n",
       "      <td>4</td>\n",
       "      <td>6050</td>\n",
       "      <td>2</td>\n",
       "    </tr>\n",
       "    <tr>\n",
       "      <th>...</th>\n",
       "      <td>...</td>\n",
       "      <td>...</td>\n",
       "      <td>...</td>\n",
       "      <td>...</td>\n",
       "      <td>...</td>\n",
       "      <td>...</td>\n",
       "      <td>...</td>\n",
       "      <td>...</td>\n",
       "      <td>...</td>\n",
       "      <td>...</td>\n",
       "      <td>...</td>\n",
       "      <td>...</td>\n",
       "      <td>...</td>\n",
       "      <td>...</td>\n",
       "      <td>...</td>\n",
       "      <td>...</td>\n",
       "      <td>...</td>\n",
       "      <td>...</td>\n",
       "      <td>...</td>\n",
       "      <td>...</td>\n",
       "    </tr>\n",
       "    <tr>\n",
       "      <th>469820</th>\n",
       "      <td>20.2</td>\n",
       "      <td>31.7</td>\n",
       "      <td>0.0</td>\n",
       "      <td>5.6</td>\n",
       "      <td>10.7</td>\n",
       "      <td>30.0</td>\n",
       "      <td>15.0</td>\n",
       "      <td>7.0</td>\n",
       "      <td>73.0</td>\n",
       "      <td>32.0</td>\n",
       "      <td>1013.9</td>\n",
       "      <td>1009.7</td>\n",
       "      <td>6.0</td>\n",
       "      <td>5.0</td>\n",
       "      <td>25.4</td>\n",
       "      <td>31.0</td>\n",
       "      <td>2</td>\n",
       "      <td>1</td>\n",
       "      <td>142303</td>\n",
       "      <td>2</td>\n",
       "    </tr>\n",
       "    <tr>\n",
       "      <th>469821</th>\n",
       "      <td>20.2</td>\n",
       "      <td>31.7</td>\n",
       "      <td>0.0</td>\n",
       "      <td>5.6</td>\n",
       "      <td>10.7</td>\n",
       "      <td>30.0</td>\n",
       "      <td>15.0</td>\n",
       "      <td>7.0</td>\n",
       "      <td>73.0</td>\n",
       "      <td>32.0</td>\n",
       "      <td>1013.9</td>\n",
       "      <td>1009.7</td>\n",
       "      <td>6.0</td>\n",
       "      <td>5.0</td>\n",
       "      <td>25.4</td>\n",
       "      <td>31.0</td>\n",
       "      <td>2</td>\n",
       "      <td>2</td>\n",
       "      <td>142303</td>\n",
       "      <td>2</td>\n",
       "    </tr>\n",
       "    <tr>\n",
       "      <th>469822</th>\n",
       "      <td>20.2</td>\n",
       "      <td>31.7</td>\n",
       "      <td>0.0</td>\n",
       "      <td>5.6</td>\n",
       "      <td>10.7</td>\n",
       "      <td>30.0</td>\n",
       "      <td>15.0</td>\n",
       "      <td>7.0</td>\n",
       "      <td>73.0</td>\n",
       "      <td>32.0</td>\n",
       "      <td>1013.9</td>\n",
       "      <td>1009.7</td>\n",
       "      <td>6.0</td>\n",
       "      <td>5.0</td>\n",
       "      <td>25.4</td>\n",
       "      <td>31.0</td>\n",
       "      <td>2</td>\n",
       "      <td>3</td>\n",
       "      <td>142303</td>\n",
       "      <td>2</td>\n",
       "    </tr>\n",
       "    <tr>\n",
       "      <th>469823</th>\n",
       "      <td>20.2</td>\n",
       "      <td>31.7</td>\n",
       "      <td>0.0</td>\n",
       "      <td>5.6</td>\n",
       "      <td>10.7</td>\n",
       "      <td>30.0</td>\n",
       "      <td>15.0</td>\n",
       "      <td>7.0</td>\n",
       "      <td>73.0</td>\n",
       "      <td>32.0</td>\n",
       "      <td>1013.9</td>\n",
       "      <td>1009.7</td>\n",
       "      <td>6.0</td>\n",
       "      <td>5.0</td>\n",
       "      <td>25.4</td>\n",
       "      <td>31.0</td>\n",
       "      <td>2</td>\n",
       "      <td>4</td>\n",
       "      <td>142303</td>\n",
       "      <td>2</td>\n",
       "    </tr>\n",
       "    <tr>\n",
       "      <th>469824</th>\n",
       "      <td>20.2</td>\n",
       "      <td>31.7</td>\n",
       "      <td>0.0</td>\n",
       "      <td>5.6</td>\n",
       "      <td>10.7</td>\n",
       "      <td>30.0</td>\n",
       "      <td>15.0</td>\n",
       "      <td>7.0</td>\n",
       "      <td>73.0</td>\n",
       "      <td>32.0</td>\n",
       "      <td>1013.9</td>\n",
       "      <td>1009.7</td>\n",
       "      <td>6.0</td>\n",
       "      <td>5.0</td>\n",
       "      <td>25.4</td>\n",
       "      <td>31.0</td>\n",
       "      <td>2</td>\n",
       "      <td>5</td>\n",
       "      <td>142303</td>\n",
       "      <td>2</td>\n",
       "    </tr>\n",
       "  </tbody>\n",
       "</table>\n",
       "<p>349416 rows × 20 columns</p>\n",
       "</div>"
      ],
      "text/plain": [
       "        MinTemp  MaxTemp  Rainfall  Evaporation  Sunshine  WindGustSpeed  \\\n",
       "10513      17.9     35.2       0.0         12.0      12.3           48.0   \n",
       "10514      17.9     35.2       0.0         12.0      12.3           48.0   \n",
       "10515      17.9     35.2       0.0         12.0      12.3           48.0   \n",
       "10516      17.9     35.2       0.0         12.0      12.3           48.0   \n",
       "10517      17.9     35.2       0.0         12.0      12.3           48.0   \n",
       "...         ...      ...       ...          ...       ...            ...   \n",
       "469820     20.2     31.7       0.0          5.6      10.7           30.0   \n",
       "469821     20.2     31.7       0.0          5.6      10.7           30.0   \n",
       "469822     20.2     31.7       0.0          5.6      10.7           30.0   \n",
       "469823     20.2     31.7       0.0          5.6      10.7           30.0   \n",
       "469824     20.2     31.7       0.0          5.6      10.7           30.0   \n",
       "\n",
       "        WindSpeed9am  WindSpeed3pm  Humidity9am  Humidity3pm  Pressure9am  \\\n",
       "10513            6.0          20.0         20.0         13.0       1006.3   \n",
       "10514            6.0          20.0         20.0         13.0       1006.3   \n",
       "10515            6.0          20.0         20.0         13.0       1006.3   \n",
       "10516            6.0          20.0         20.0         13.0       1006.3   \n",
       "10517            6.0          20.0         20.0         13.0       1006.3   \n",
       "...              ...           ...          ...          ...          ...   \n",
       "469820          15.0           7.0         73.0         32.0       1013.9   \n",
       "469821          15.0           7.0         73.0         32.0       1013.9   \n",
       "469822          15.0           7.0         73.0         32.0       1013.9   \n",
       "469823          15.0           7.0         73.0         32.0       1013.9   \n",
       "469824          15.0           7.0         73.0         32.0       1013.9   \n",
       "\n",
       "        Pressure3pm  Cloud9am  Cloud3pm  Temp9am  Temp3pm  RainTomorrow  .imp  \\\n",
       "10513        1004.4       2.0       5.0     26.6     33.4             2     0   \n",
       "10514        1004.4       2.0       5.0     26.6     33.4             2     1   \n",
       "10515        1004.4       2.0       5.0     26.6     33.4             2     2   \n",
       "10516        1004.4       2.0       5.0     26.6     33.4             2     3   \n",
       "10517        1004.4       2.0       5.0     26.6     33.4             2     4   \n",
       "...             ...       ...       ...      ...      ...           ...   ...   \n",
       "469820       1009.7       6.0       5.0     25.4     31.0             2     1   \n",
       "469821       1009.7       6.0       5.0     25.4     31.0             2     2   \n",
       "469822       1009.7       6.0       5.0     25.4     31.0             2     3   \n",
       "469823       1009.7       6.0       5.0     25.4     31.0             2     4   \n",
       "469824       1009.7       6.0       5.0     25.4     31.0             2     5   \n",
       "\n",
       "           .id  RainTomorrow.1  \n",
       "10513     6050               2  \n",
       "10514     6050               2  \n",
       "10515     6050               2  \n",
       "10516     6050               2  \n",
       "10517     6050               2  \n",
       "...        ...             ...  \n",
       "469820  142303               2  \n",
       "469821  142303               2  \n",
       "469822  142303               2  \n",
       "469823  142303               2  \n",
       "469824  142303               2  \n",
       "\n",
       "[349416 rows x 20 columns]"
      ]
     },
     "execution_count": 20,
     "metadata": {},
     "output_type": "execute_result"
    }
   ],
   "source": [
    "df"
   ]
  },
  {
   "cell_type": "code",
   "execution_count": null,
   "id": "12550d64",
   "metadata": {
    "papermill": {
     "duration": 0.007892,
     "end_time": "2023-02-21T14:48:48.974375",
     "exception": false,
     "start_time": "2023-02-21T14:48:48.966483",
     "status": "completed"
    },
    "tags": []
   },
   "outputs": [],
   "source": []
  }
 ],
 "metadata": {
  "kernelspec": {
   "display_name": "Python 3",
   "language": "python",
   "name": "python3"
  },
  "language_info": {
   "codemirror_mode": {
    "name": "ipython",
    "version": 3
   },
   "file_extension": ".py",
   "mimetype": "text/x-python",
   "name": "python",
   "nbconvert_exporter": "python",
   "pygments_lexer": "ipython3",
   "version": "3.7.12"
  },
  "papermill": {
   "default_parameters": {},
   "duration": 246.929538,
   "end_time": "2023-02-21T14:48:49.805936",
   "environment_variables": {},
   "exception": null,
   "input_path": "__notebook__.ipynb",
   "output_path": "__notebook__.ipynb",
   "parameters": {},
   "start_time": "2023-02-21T14:44:42.876398",
   "version": "2.3.4"
  }
 },
 "nbformat": 4,
 "nbformat_minor": 5
}
