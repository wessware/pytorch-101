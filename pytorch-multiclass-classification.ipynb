{
 "cells": [
  {
   "cell_type": "code",
   "execution_count": 1,
   "id": "117864df",
   "metadata": {
    "_execution_state": "idle",
    "_uuid": "051d70d956493feee0c6d64651c6a088724dca2a",
    "execution": {
     "iopub.execute_input": "2023-02-21T13:59:14.072824Z",
     "iopub.status.busy": "2023-02-21T13:59:14.072292Z",
     "iopub.status.idle": "2023-02-21T13:59:15.373944Z",
     "shell.execute_reply": "2023-02-21T13:59:15.372688Z"
    },
    "papermill": {
     "duration": 1.316541,
     "end_time": "2023-02-21T13:59:15.377001",
     "exception": false,
     "start_time": "2023-02-21T13:59:14.060460",
     "status": "completed"
    },
    "tags": []
   },
   "outputs": [],
   "source": [
    "import pandas as pd\n",
    "import numpy as np\n",
    "\n",
    "from sklearn.impute import SimpleImputer"
   ]
  },
  {
   "cell_type": "code",
   "execution_count": 2,
   "id": "9c370108",
   "metadata": {
    "execution": {
     "iopub.execute_input": "2023-02-21T13:59:15.389067Z",
     "iopub.status.busy": "2023-02-21T13:59:15.388639Z",
     "iopub.status.idle": "2023-02-21T14:03:25.039165Z",
     "shell.execute_reply": "2023-02-21T14:03:25.037784Z"
    },
    "papermill": {
     "duration": 249.660693,
     "end_time": "2023-02-21T14:03:25.042821",
     "exception": false,
     "start_time": "2023-02-21T13:59:15.382128",
     "status": "completed"
    },
    "tags": []
   },
   "outputs": [],
   "source": [
    "df = pd.read_excel('/kaggle/input/weather-imputed-data/imputed_numerical.xlsx')"
   ]
  },
  {
   "cell_type": "code",
   "execution_count": 3,
   "id": "2bbf1afc",
   "metadata": {
    "execution": {
     "iopub.execute_input": "2023-02-21T14:03:25.055192Z",
     "iopub.status.busy": "2023-02-21T14:03:25.054706Z",
     "iopub.status.idle": "2023-02-21T14:03:25.419902Z",
     "shell.execute_reply": "2023-02-21T14:03:25.418481Z"
    },
    "papermill": {
     "duration": 0.37523,
     "end_time": "2023-02-21T14:03:25.423400",
     "exception": false,
     "start_time": "2023-02-21T14:03:25.048170",
     "status": "completed"
    },
    "tags": []
   },
   "outputs": [
    {
     "data": {
      "text/html": [
       "<div>\n",
       "<style scoped>\n",
       "    .dataframe tbody tr th:only-of-type {\n",
       "        vertical-align: middle;\n",
       "    }\n",
       "\n",
       "    .dataframe tbody tr th {\n",
       "        vertical-align: top;\n",
       "    }\n",
       "\n",
       "    .dataframe thead th {\n",
       "        text-align: right;\n",
       "    }\n",
       "</style>\n",
       "<table border=\"1\" class=\"dataframe\">\n",
       "  <thead>\n",
       "    <tr style=\"text-align: right;\">\n",
       "      <th></th>\n",
       "      <th>Date</th>\n",
       "      <th>Location</th>\n",
       "      <th>MinTemp</th>\n",
       "      <th>MaxTemp</th>\n",
       "      <th>Rainfall</th>\n",
       "      <th>Evaporation</th>\n",
       "      <th>Sunshine</th>\n",
       "      <th>WindGustDir</th>\n",
       "      <th>WindGustSpeed</th>\n",
       "      <th>WindDir9am</th>\n",
       "      <th>...</th>\n",
       "      <th>Pressure3pm</th>\n",
       "      <th>Cloud9am</th>\n",
       "      <th>Cloud3pm</th>\n",
       "      <th>Temp9am</th>\n",
       "      <th>Temp3pm</th>\n",
       "      <th>RainToday</th>\n",
       "      <th>RainTomorrow</th>\n",
       "      <th>.imp</th>\n",
       "      <th>.id</th>\n",
       "      <th>RainTomorrow.1</th>\n",
       "    </tr>\n",
       "  </thead>\n",
       "  <tbody>\n",
       "    <tr>\n",
       "      <th>0</th>\n",
       "      <td>12/1/2008</td>\n",
       "      <td>Albury</td>\n",
       "      <td>13.4</td>\n",
       "      <td>22.9</td>\n",
       "      <td>0.6</td>\n",
       "      <td>NaN</td>\n",
       "      <td>NaN</td>\n",
       "      <td>W</td>\n",
       "      <td>44.0</td>\n",
       "      <td>W</td>\n",
       "      <td>...</td>\n",
       "      <td>1007.1</td>\n",
       "      <td>8.0</td>\n",
       "      <td>NaN</td>\n",
       "      <td>16.9</td>\n",
       "      <td>21.8</td>\n",
       "      <td>No</td>\n",
       "      <td>2</td>\n",
       "      <td>0</td>\n",
       "      <td>1</td>\n",
       "      <td>2</td>\n",
       "    </tr>\n",
       "    <tr>\n",
       "      <th>1</th>\n",
       "      <td>12/2/2008</td>\n",
       "      <td>Albury</td>\n",
       "      <td>7.4</td>\n",
       "      <td>25.1</td>\n",
       "      <td>0.0</td>\n",
       "      <td>NaN</td>\n",
       "      <td>NaN</td>\n",
       "      <td>WNW</td>\n",
       "      <td>44.0</td>\n",
       "      <td>NNW</td>\n",
       "      <td>...</td>\n",
       "      <td>1007.8</td>\n",
       "      <td>NaN</td>\n",
       "      <td>NaN</td>\n",
       "      <td>17.2</td>\n",
       "      <td>24.3</td>\n",
       "      <td>No</td>\n",
       "      <td>2</td>\n",
       "      <td>0</td>\n",
       "      <td>2</td>\n",
       "      <td>2</td>\n",
       "    </tr>\n",
       "    <tr>\n",
       "      <th>2</th>\n",
       "      <td>12/3/2008</td>\n",
       "      <td>Albury</td>\n",
       "      <td>12.9</td>\n",
       "      <td>25.7</td>\n",
       "      <td>0.0</td>\n",
       "      <td>NaN</td>\n",
       "      <td>NaN</td>\n",
       "      <td>WSW</td>\n",
       "      <td>46.0</td>\n",
       "      <td>W</td>\n",
       "      <td>...</td>\n",
       "      <td>1008.7</td>\n",
       "      <td>NaN</td>\n",
       "      <td>2.0</td>\n",
       "      <td>21.0</td>\n",
       "      <td>23.2</td>\n",
       "      <td>No</td>\n",
       "      <td>2</td>\n",
       "      <td>0</td>\n",
       "      <td>3</td>\n",
       "      <td>2</td>\n",
       "    </tr>\n",
       "    <tr>\n",
       "      <th>3</th>\n",
       "      <td>12/4/2008</td>\n",
       "      <td>Albury</td>\n",
       "      <td>9.2</td>\n",
       "      <td>28.0</td>\n",
       "      <td>0.0</td>\n",
       "      <td>NaN</td>\n",
       "      <td>NaN</td>\n",
       "      <td>NE</td>\n",
       "      <td>24.0</td>\n",
       "      <td>SE</td>\n",
       "      <td>...</td>\n",
       "      <td>1012.8</td>\n",
       "      <td>NaN</td>\n",
       "      <td>NaN</td>\n",
       "      <td>18.1</td>\n",
       "      <td>26.5</td>\n",
       "      <td>No</td>\n",
       "      <td>2</td>\n",
       "      <td>0</td>\n",
       "      <td>4</td>\n",
       "      <td>2</td>\n",
       "    </tr>\n",
       "    <tr>\n",
       "      <th>4</th>\n",
       "      <td>12/5/2008</td>\n",
       "      <td>Albury</td>\n",
       "      <td>17.5</td>\n",
       "      <td>32.3</td>\n",
       "      <td>1.0</td>\n",
       "      <td>NaN</td>\n",
       "      <td>NaN</td>\n",
       "      <td>W</td>\n",
       "      <td>41.0</td>\n",
       "      <td>ENE</td>\n",
       "      <td>...</td>\n",
       "      <td>1006.0</td>\n",
       "      <td>7.0</td>\n",
       "      <td>8.0</td>\n",
       "      <td>17.8</td>\n",
       "      <td>29.7</td>\n",
       "      <td>No</td>\n",
       "      <td>2</td>\n",
       "      <td>0</td>\n",
       "      <td>5</td>\n",
       "      <td>2</td>\n",
       "    </tr>\n",
       "  </tbody>\n",
       "</table>\n",
       "<p>5 rows × 26 columns</p>\n",
       "</div>"
      ],
      "text/plain": [
       "        Date Location  MinTemp  MaxTemp  Rainfall  Evaporation  Sunshine  \\\n",
       "0  12/1/2008   Albury     13.4     22.9       0.6          NaN       NaN   \n",
       "1  12/2/2008   Albury      7.4     25.1       0.0          NaN       NaN   \n",
       "2  12/3/2008   Albury     12.9     25.7       0.0          NaN       NaN   \n",
       "3  12/4/2008   Albury      9.2     28.0       0.0          NaN       NaN   \n",
       "4  12/5/2008   Albury     17.5     32.3       1.0          NaN       NaN   \n",
       "\n",
       "  WindGustDir  WindGustSpeed WindDir9am  ... Pressure3pm  Cloud9am  Cloud3pm  \\\n",
       "0           W           44.0          W  ...      1007.1       8.0       NaN   \n",
       "1         WNW           44.0        NNW  ...      1007.8       NaN       NaN   \n",
       "2         WSW           46.0          W  ...      1008.7       NaN       2.0   \n",
       "3          NE           24.0         SE  ...      1012.8       NaN       NaN   \n",
       "4           W           41.0        ENE  ...      1006.0       7.0       8.0   \n",
       "\n",
       "   Temp9am  Temp3pm  RainToday  RainTomorrow  .imp  .id  RainTomorrow.1  \n",
       "0     16.9     21.8         No             2     0    1               2  \n",
       "1     17.2     24.3         No             2     0    2               2  \n",
       "2     21.0     23.2         No             2     0    3               2  \n",
       "3     18.1     26.5         No             2     0    4               2  \n",
       "4     17.8     29.7         No             2     0    5               2  \n",
       "\n",
       "[5 rows x 26 columns]"
      ]
     },
     "execution_count": 3,
     "metadata": {},
     "output_type": "execute_result"
    }
   ],
   "source": [
    "df.head()"
   ]
  },
  {
   "cell_type": "code",
   "execution_count": 4,
   "id": "c6cffb0f",
   "metadata": {
    "execution": {
     "iopub.execute_input": "2023-02-21T14:03:25.435883Z",
     "iopub.status.busy": "2023-02-21T14:03:25.435419Z",
     "iopub.status.idle": "2023-02-21T14:03:25.443471Z",
     "shell.execute_reply": "2023-02-21T14:03:25.442196Z"
    },
    "papermill": {
     "duration": 0.01734,
     "end_time": "2023-02-21T14:03:25.446170",
     "exception": false,
     "start_time": "2023-02-21T14:03:25.428830",
     "status": "completed"
    },
    "tags": []
   },
   "outputs": [
    {
     "data": {
      "text/plain": [
       "(473168, 26)"
      ]
     },
     "execution_count": 4,
     "metadata": {},
     "output_type": "execute_result"
    }
   ],
   "source": [
    "df.shape"
   ]
  },
  {
   "cell_type": "code",
   "execution_count": 5,
   "id": "1b4e7552",
   "metadata": {
    "execution": {
     "iopub.execute_input": "2023-02-21T14:03:25.459521Z",
     "iopub.status.busy": "2023-02-21T14:03:25.458644Z",
     "iopub.status.idle": "2023-02-21T14:03:25.478103Z",
     "shell.execute_reply": "2023-02-21T14:03:25.476721Z"
    },
    "papermill": {
     "duration": 0.029618,
     "end_time": "2023-02-21T14:03:25.481337",
     "exception": false,
     "start_time": "2023-02-21T14:03:25.451719",
     "status": "completed"
    },
    "tags": []
   },
   "outputs": [
    {
     "data": {
      "text/plain": [
       "array([2, 1, 3])"
      ]
     },
     "execution_count": 5,
     "metadata": {},
     "output_type": "execute_result"
    }
   ],
   "source": [
    "df['RainTomorrow'].unique()"
   ]
  },
  {
   "cell_type": "code",
   "execution_count": 6,
   "id": "49de244b",
   "metadata": {
    "execution": {
     "iopub.execute_input": "2023-02-21T14:03:25.494902Z",
     "iopub.status.busy": "2023-02-21T14:03:25.494415Z",
     "iopub.status.idle": "2023-02-21T14:03:25.506643Z",
     "shell.execute_reply": "2023-02-21T14:03:25.505154Z"
    },
    "papermill": {
     "duration": 0.022056,
     "end_time": "2023-02-21T14:03:25.509334",
     "exception": false,
     "start_time": "2023-02-21T14:03:25.487278",
     "status": "completed"
    },
    "tags": []
   },
   "outputs": [
    {
     "data": {
      "text/plain": [
       "array([2, 1, 3])"
      ]
     },
     "execution_count": 6,
     "metadata": {},
     "output_type": "execute_result"
    }
   ],
   "source": [
    "df['RainTomorrow.1'].unique()"
   ]
  },
  {
   "cell_type": "code",
   "execution_count": 7,
   "id": "87b77906",
   "metadata": {
    "execution": {
     "iopub.execute_input": "2023-02-21T14:03:25.522461Z",
     "iopub.status.busy": "2023-02-21T14:03:25.522016Z",
     "iopub.status.idle": "2023-02-21T14:03:25.926244Z",
     "shell.execute_reply": "2023-02-21T14:03:25.924884Z"
    },
    "papermill": {
     "duration": 0.414386,
     "end_time": "2023-02-21T14:03:25.929251",
     "exception": false,
     "start_time": "2023-02-21T14:03:25.514865",
     "status": "completed"
    },
    "tags": []
   },
   "outputs": [
    {
     "data": {
      "text/html": [
       "<div>\n",
       "<style scoped>\n",
       "    .dataframe tbody tr th:only-of-type {\n",
       "        vertical-align: middle;\n",
       "    }\n",
       "\n",
       "    .dataframe tbody tr th {\n",
       "        vertical-align: top;\n",
       "    }\n",
       "\n",
       "    .dataframe thead th {\n",
       "        text-align: right;\n",
       "    }\n",
       "</style>\n",
       "<table border=\"1\" class=\"dataframe\">\n",
       "  <thead>\n",
       "    <tr style=\"text-align: right;\">\n",
       "      <th></th>\n",
       "      <th>Date</th>\n",
       "      <th>Location</th>\n",
       "      <th>MinTemp</th>\n",
       "      <th>MaxTemp</th>\n",
       "      <th>Rainfall</th>\n",
       "      <th>Evaporation</th>\n",
       "      <th>Sunshine</th>\n",
       "      <th>WindGustDir</th>\n",
       "      <th>WindGustSpeed</th>\n",
       "      <th>WindDir9am</th>\n",
       "      <th>...</th>\n",
       "      <th>Humidity9am</th>\n",
       "      <th>Humidity3pm</th>\n",
       "      <th>Pressure9am</th>\n",
       "      <th>Pressure3pm</th>\n",
       "      <th>Cloud9am</th>\n",
       "      <th>Cloud3pm</th>\n",
       "      <th>Temp9am</th>\n",
       "      <th>Temp3pm</th>\n",
       "      <th>RainToday</th>\n",
       "      <th>RainTomorrow</th>\n",
       "    </tr>\n",
       "  </thead>\n",
       "  <tbody>\n",
       "    <tr>\n",
       "      <th>0</th>\n",
       "      <td>12/1/2008</td>\n",
       "      <td>Albury</td>\n",
       "      <td>13.4</td>\n",
       "      <td>22.9</td>\n",
       "      <td>0.6</td>\n",
       "      <td>NaN</td>\n",
       "      <td>NaN</td>\n",
       "      <td>W</td>\n",
       "      <td>44.0</td>\n",
       "      <td>W</td>\n",
       "      <td>...</td>\n",
       "      <td>71.0</td>\n",
       "      <td>22.0</td>\n",
       "      <td>1007.7</td>\n",
       "      <td>1007.1</td>\n",
       "      <td>8.0</td>\n",
       "      <td>NaN</td>\n",
       "      <td>16.9</td>\n",
       "      <td>21.8</td>\n",
       "      <td>No</td>\n",
       "      <td>2</td>\n",
       "    </tr>\n",
       "    <tr>\n",
       "      <th>1</th>\n",
       "      <td>12/2/2008</td>\n",
       "      <td>Albury</td>\n",
       "      <td>7.4</td>\n",
       "      <td>25.1</td>\n",
       "      <td>0.0</td>\n",
       "      <td>NaN</td>\n",
       "      <td>NaN</td>\n",
       "      <td>WNW</td>\n",
       "      <td>44.0</td>\n",
       "      <td>NNW</td>\n",
       "      <td>...</td>\n",
       "      <td>44.0</td>\n",
       "      <td>25.0</td>\n",
       "      <td>1010.6</td>\n",
       "      <td>1007.8</td>\n",
       "      <td>NaN</td>\n",
       "      <td>NaN</td>\n",
       "      <td>17.2</td>\n",
       "      <td>24.3</td>\n",
       "      <td>No</td>\n",
       "      <td>2</td>\n",
       "    </tr>\n",
       "    <tr>\n",
       "      <th>2</th>\n",
       "      <td>12/3/2008</td>\n",
       "      <td>Albury</td>\n",
       "      <td>12.9</td>\n",
       "      <td>25.7</td>\n",
       "      <td>0.0</td>\n",
       "      <td>NaN</td>\n",
       "      <td>NaN</td>\n",
       "      <td>WSW</td>\n",
       "      <td>46.0</td>\n",
       "      <td>W</td>\n",
       "      <td>...</td>\n",
       "      <td>38.0</td>\n",
       "      <td>30.0</td>\n",
       "      <td>1007.6</td>\n",
       "      <td>1008.7</td>\n",
       "      <td>NaN</td>\n",
       "      <td>2.0</td>\n",
       "      <td>21.0</td>\n",
       "      <td>23.2</td>\n",
       "      <td>No</td>\n",
       "      <td>2</td>\n",
       "    </tr>\n",
       "    <tr>\n",
       "      <th>3</th>\n",
       "      <td>12/4/2008</td>\n",
       "      <td>Albury</td>\n",
       "      <td>9.2</td>\n",
       "      <td>28.0</td>\n",
       "      <td>0.0</td>\n",
       "      <td>NaN</td>\n",
       "      <td>NaN</td>\n",
       "      <td>NE</td>\n",
       "      <td>24.0</td>\n",
       "      <td>SE</td>\n",
       "      <td>...</td>\n",
       "      <td>45.0</td>\n",
       "      <td>16.0</td>\n",
       "      <td>1017.6</td>\n",
       "      <td>1012.8</td>\n",
       "      <td>NaN</td>\n",
       "      <td>NaN</td>\n",
       "      <td>18.1</td>\n",
       "      <td>26.5</td>\n",
       "      <td>No</td>\n",
       "      <td>2</td>\n",
       "    </tr>\n",
       "    <tr>\n",
       "      <th>4</th>\n",
       "      <td>12/5/2008</td>\n",
       "      <td>Albury</td>\n",
       "      <td>17.5</td>\n",
       "      <td>32.3</td>\n",
       "      <td>1.0</td>\n",
       "      <td>NaN</td>\n",
       "      <td>NaN</td>\n",
       "      <td>W</td>\n",
       "      <td>41.0</td>\n",
       "      <td>ENE</td>\n",
       "      <td>...</td>\n",
       "      <td>82.0</td>\n",
       "      <td>33.0</td>\n",
       "      <td>1010.8</td>\n",
       "      <td>1006.0</td>\n",
       "      <td>7.0</td>\n",
       "      <td>8.0</td>\n",
       "      <td>17.8</td>\n",
       "      <td>29.7</td>\n",
       "      <td>No</td>\n",
       "      <td>2</td>\n",
       "    </tr>\n",
       "    <tr>\n",
       "      <th>...</th>\n",
       "      <td>...</td>\n",
       "      <td>...</td>\n",
       "      <td>...</td>\n",
       "      <td>...</td>\n",
       "      <td>...</td>\n",
       "      <td>...</td>\n",
       "      <td>...</td>\n",
       "      <td>...</td>\n",
       "      <td>...</td>\n",
       "      <td>...</td>\n",
       "      <td>...</td>\n",
       "      <td>...</td>\n",
       "      <td>...</td>\n",
       "      <td>...</td>\n",
       "      <td>...</td>\n",
       "      <td>...</td>\n",
       "      <td>...</td>\n",
       "      <td>...</td>\n",
       "      <td>...</td>\n",
       "      <td>...</td>\n",
       "      <td>...</td>\n",
       "    </tr>\n",
       "    <tr>\n",
       "      <th>473163</th>\n",
       "      <td>6/21/2017</td>\n",
       "      <td>Uluru</td>\n",
       "      <td>2.8</td>\n",
       "      <td>23.4</td>\n",
       "      <td>0.0</td>\n",
       "      <td>NaN</td>\n",
       "      <td>NaN</td>\n",
       "      <td>E</td>\n",
       "      <td>31.0</td>\n",
       "      <td>SE</td>\n",
       "      <td>...</td>\n",
       "      <td>51.0</td>\n",
       "      <td>24.0</td>\n",
       "      <td>1024.6</td>\n",
       "      <td>1020.3</td>\n",
       "      <td>NaN</td>\n",
       "      <td>NaN</td>\n",
       "      <td>10.1</td>\n",
       "      <td>22.4</td>\n",
       "      <td>No</td>\n",
       "      <td>2</td>\n",
       "    </tr>\n",
       "    <tr>\n",
       "      <th>473164</th>\n",
       "      <td>6/22/2017</td>\n",
       "      <td>Uluru</td>\n",
       "      <td>3.6</td>\n",
       "      <td>25.3</td>\n",
       "      <td>0.0</td>\n",
       "      <td>NaN</td>\n",
       "      <td>NaN</td>\n",
       "      <td>NNW</td>\n",
       "      <td>22.0</td>\n",
       "      <td>SE</td>\n",
       "      <td>...</td>\n",
       "      <td>56.0</td>\n",
       "      <td>21.0</td>\n",
       "      <td>1023.5</td>\n",
       "      <td>1019.1</td>\n",
       "      <td>NaN</td>\n",
       "      <td>NaN</td>\n",
       "      <td>10.9</td>\n",
       "      <td>24.5</td>\n",
       "      <td>No</td>\n",
       "      <td>2</td>\n",
       "    </tr>\n",
       "    <tr>\n",
       "      <th>473165</th>\n",
       "      <td>6/23/2017</td>\n",
       "      <td>Uluru</td>\n",
       "      <td>5.4</td>\n",
       "      <td>26.9</td>\n",
       "      <td>0.0</td>\n",
       "      <td>NaN</td>\n",
       "      <td>NaN</td>\n",
       "      <td>N</td>\n",
       "      <td>37.0</td>\n",
       "      <td>SE</td>\n",
       "      <td>...</td>\n",
       "      <td>53.0</td>\n",
       "      <td>24.0</td>\n",
       "      <td>1021.0</td>\n",
       "      <td>1016.8</td>\n",
       "      <td>NaN</td>\n",
       "      <td>NaN</td>\n",
       "      <td>12.5</td>\n",
       "      <td>26.1</td>\n",
       "      <td>No</td>\n",
       "      <td>2</td>\n",
       "    </tr>\n",
       "    <tr>\n",
       "      <th>473166</th>\n",
       "      <td>6/24/2017</td>\n",
       "      <td>Uluru</td>\n",
       "      <td>7.8</td>\n",
       "      <td>27.0</td>\n",
       "      <td>0.0</td>\n",
       "      <td>NaN</td>\n",
       "      <td>NaN</td>\n",
       "      <td>SE</td>\n",
       "      <td>28.0</td>\n",
       "      <td>SSE</td>\n",
       "      <td>...</td>\n",
       "      <td>51.0</td>\n",
       "      <td>24.0</td>\n",
       "      <td>1019.4</td>\n",
       "      <td>1016.5</td>\n",
       "      <td>3.0</td>\n",
       "      <td>2.0</td>\n",
       "      <td>15.1</td>\n",
       "      <td>26.0</td>\n",
       "      <td>No</td>\n",
       "      <td>2</td>\n",
       "    </tr>\n",
       "    <tr>\n",
       "      <th>473167</th>\n",
       "      <td>6/25/2017</td>\n",
       "      <td>Uluru</td>\n",
       "      <td>14.9</td>\n",
       "      <td>NaN</td>\n",
       "      <td>0.0</td>\n",
       "      <td>NaN</td>\n",
       "      <td>NaN</td>\n",
       "      <td>NaN</td>\n",
       "      <td>NaN</td>\n",
       "      <td>ESE</td>\n",
       "      <td>...</td>\n",
       "      <td>62.0</td>\n",
       "      <td>36.0</td>\n",
       "      <td>1020.2</td>\n",
       "      <td>1017.9</td>\n",
       "      <td>8.0</td>\n",
       "      <td>8.0</td>\n",
       "      <td>15.0</td>\n",
       "      <td>20.9</td>\n",
       "      <td>No</td>\n",
       "      <td>3</td>\n",
       "    </tr>\n",
       "  </tbody>\n",
       "</table>\n",
       "<p>473168 rows × 23 columns</p>\n",
       "</div>"
      ],
      "text/plain": [
       "             Date Location  MinTemp  MaxTemp  Rainfall  Evaporation  Sunshine  \\\n",
       "0       12/1/2008   Albury     13.4     22.9       0.6          NaN       NaN   \n",
       "1       12/2/2008   Albury      7.4     25.1       0.0          NaN       NaN   \n",
       "2       12/3/2008   Albury     12.9     25.7       0.0          NaN       NaN   \n",
       "3       12/4/2008   Albury      9.2     28.0       0.0          NaN       NaN   \n",
       "4       12/5/2008   Albury     17.5     32.3       1.0          NaN       NaN   \n",
       "...           ...      ...      ...      ...       ...          ...       ...   \n",
       "473163  6/21/2017    Uluru      2.8     23.4       0.0          NaN       NaN   \n",
       "473164  6/22/2017    Uluru      3.6     25.3       0.0          NaN       NaN   \n",
       "473165  6/23/2017    Uluru      5.4     26.9       0.0          NaN       NaN   \n",
       "473166  6/24/2017    Uluru      7.8     27.0       0.0          NaN       NaN   \n",
       "473167  6/25/2017    Uluru     14.9      NaN       0.0          NaN       NaN   \n",
       "\n",
       "       WindGustDir  WindGustSpeed WindDir9am  ... Humidity9am  Humidity3pm  \\\n",
       "0                W           44.0          W  ...        71.0         22.0   \n",
       "1              WNW           44.0        NNW  ...        44.0         25.0   \n",
       "2              WSW           46.0          W  ...        38.0         30.0   \n",
       "3               NE           24.0         SE  ...        45.0         16.0   \n",
       "4                W           41.0        ENE  ...        82.0         33.0   \n",
       "...            ...            ...        ...  ...         ...          ...   \n",
       "473163           E           31.0         SE  ...        51.0         24.0   \n",
       "473164         NNW           22.0         SE  ...        56.0         21.0   \n",
       "473165           N           37.0         SE  ...        53.0         24.0   \n",
       "473166          SE           28.0        SSE  ...        51.0         24.0   \n",
       "473167         NaN            NaN        ESE  ...        62.0         36.0   \n",
       "\n",
       "        Pressure9am  Pressure3pm  Cloud9am  Cloud3pm  Temp9am  Temp3pm  \\\n",
       "0            1007.7       1007.1       8.0       NaN     16.9     21.8   \n",
       "1            1010.6       1007.8       NaN       NaN     17.2     24.3   \n",
       "2            1007.6       1008.7       NaN       2.0     21.0     23.2   \n",
       "3            1017.6       1012.8       NaN       NaN     18.1     26.5   \n",
       "4            1010.8       1006.0       7.0       8.0     17.8     29.7   \n",
       "...             ...          ...       ...       ...      ...      ...   \n",
       "473163       1024.6       1020.3       NaN       NaN     10.1     22.4   \n",
       "473164       1023.5       1019.1       NaN       NaN     10.9     24.5   \n",
       "473165       1021.0       1016.8       NaN       NaN     12.5     26.1   \n",
       "473166       1019.4       1016.5       3.0       2.0     15.1     26.0   \n",
       "473167       1020.2       1017.9       8.0       8.0     15.0     20.9   \n",
       "\n",
       "        RainToday  RainTomorrow  \n",
       "0              No             2  \n",
       "1              No             2  \n",
       "2              No             2  \n",
       "3              No             2  \n",
       "4              No             2  \n",
       "...           ...           ...  \n",
       "473163         No             2  \n",
       "473164         No             2  \n",
       "473165         No             2  \n",
       "473166         No             2  \n",
       "473167         No             3  \n",
       "\n",
       "[473168 rows x 23 columns]"
      ]
     },
     "execution_count": 7,
     "metadata": {},
     "output_type": "execute_result"
    }
   ],
   "source": [
    "df.drop(['RainTomorrow.1', '.imp', '.id'], axis=1)"
   ]
  },
  {
   "cell_type": "code",
   "execution_count": 8,
   "id": "73af3d62",
   "metadata": {
    "execution": {
     "iopub.execute_input": "2023-02-21T14:03:25.943648Z",
     "iopub.status.busy": "2023-02-21T14:03:25.943190Z",
     "iopub.status.idle": "2023-02-21T14:03:25.952218Z",
     "shell.execute_reply": "2023-02-21T14:03:25.950931Z"
    },
    "papermill": {
     "duration": 0.019624,
     "end_time": "2023-02-21T14:03:25.955081",
     "exception": false,
     "start_time": "2023-02-21T14:03:25.935457",
     "status": "completed"
    },
    "tags": []
   },
   "outputs": [
    {
     "data": {
      "text/plain": [
       "99316"
      ]
     },
     "execution_count": 8,
     "metadata": {},
     "output_type": "execute_result"
    }
   ],
   "source": [
    "df['Evaporation'].isna().sum().sum()"
   ]
  },
  {
   "cell_type": "code",
   "execution_count": 9,
   "id": "2fdca9d3",
   "metadata": {
    "execution": {
     "iopub.execute_input": "2023-02-21T14:03:25.969366Z",
     "iopub.status.busy": "2023-02-21T14:03:25.968931Z",
     "iopub.status.idle": "2023-02-21T14:03:25.978579Z",
     "shell.execute_reply": "2023-02-21T14:03:25.976912Z"
    },
    "papermill": {
     "duration": 0.020545,
     "end_time": "2023-02-21T14:03:25.981720",
     "exception": false,
     "start_time": "2023-02-21T14:03:25.961175",
     "status": "completed"
    },
    "tags": []
   },
   "outputs": [
    {
     "data": {
      "text/plain": [
       "106361"
      ]
     },
     "execution_count": 9,
     "metadata": {},
     "output_type": "execute_result"
    }
   ],
   "source": [
    "df['Sunshine'].isna().sum().sum()"
   ]
  },
  {
   "cell_type": "code",
   "execution_count": 10,
   "id": "861de9d5",
   "metadata": {
    "execution": {
     "iopub.execute_input": "2023-02-21T14:03:25.997050Z",
     "iopub.status.busy": "2023-02-21T14:03:25.996618Z",
     "iopub.status.idle": "2023-02-21T14:03:26.085827Z",
     "shell.execute_reply": "2023-02-21T14:03:26.084727Z"
    },
    "papermill": {
     "duration": 0.100319,
     "end_time": "2023-02-21T14:03:26.088738",
     "exception": false,
     "start_time": "2023-02-21T14:03:25.988419",
     "status": "completed"
    },
    "tags": []
   },
   "outputs": [],
   "source": [
    "numerical_cols = df.select_dtypes(include=np.number).columns.tolist()\n",
    "categorical_cols = df.select_dtypes('object').columns.tolist()"
   ]
  },
  {
   "cell_type": "code",
   "execution_count": 11,
   "id": "e2d22c90",
   "metadata": {
    "execution": {
     "iopub.execute_input": "2023-02-21T14:03:26.103456Z",
     "iopub.status.busy": "2023-02-21T14:03:26.103028Z",
     "iopub.status.idle": "2023-02-21T14:03:26.110972Z",
     "shell.execute_reply": "2023-02-21T14:03:26.109578Z"
    },
    "papermill": {
     "duration": 0.018604,
     "end_time": "2023-02-21T14:03:26.113634",
     "exception": false,
     "start_time": "2023-02-21T14:03:26.095030",
     "status": "completed"
    },
    "tags": []
   },
   "outputs": [
    {
     "data": {
      "text/plain": [
       "['MinTemp',\n",
       " 'MaxTemp',\n",
       " 'Rainfall',\n",
       " 'Evaporation',\n",
       " 'Sunshine',\n",
       " 'WindGustSpeed',\n",
       " 'WindSpeed9am',\n",
       " 'WindSpeed3pm',\n",
       " 'Humidity9am',\n",
       " 'Humidity3pm',\n",
       " 'Pressure9am',\n",
       " 'Pressure3pm',\n",
       " 'Cloud9am',\n",
       " 'Cloud3pm',\n",
       " 'Temp9am',\n",
       " 'Temp3pm',\n",
       " 'RainTomorrow',\n",
       " '.imp',\n",
       " '.id',\n",
       " 'RainTomorrow.1']"
      ]
     },
     "execution_count": 11,
     "metadata": {},
     "output_type": "execute_result"
    }
   ],
   "source": [
    "numerical_cols"
   ]
  },
  {
   "cell_type": "code",
   "execution_count": 12,
   "id": "6bf1af81",
   "metadata": {
    "execution": {
     "iopub.execute_input": "2023-02-21T14:03:26.128785Z",
     "iopub.status.busy": "2023-02-21T14:03:26.128314Z",
     "iopub.status.idle": "2023-02-21T14:03:26.135923Z",
     "shell.execute_reply": "2023-02-21T14:03:26.134715Z"
    },
    "papermill": {
     "duration": 0.018321,
     "end_time": "2023-02-21T14:03:26.138471",
     "exception": false,
     "start_time": "2023-02-21T14:03:26.120150",
     "status": "completed"
    },
    "tags": []
   },
   "outputs": [
    {
     "data": {
      "text/plain": [
       "['Date', 'Location', 'WindGustDir', 'WindDir9am', 'WindDir3pm', 'RainToday']"
      ]
     },
     "execution_count": 12,
     "metadata": {},
     "output_type": "execute_result"
    }
   ],
   "source": [
    "categorical_cols"
   ]
  },
  {
   "cell_type": "code",
   "execution_count": 13,
   "id": "6a2ac3ef",
   "metadata": {
    "execution": {
     "iopub.execute_input": "2023-02-21T14:03:26.154445Z",
     "iopub.status.busy": "2023-02-21T14:03:26.153940Z",
     "iopub.status.idle": "2023-02-21T14:03:26.295912Z",
     "shell.execute_reply": "2023-02-21T14:03:26.294269Z"
    },
    "papermill": {
     "duration": 0.154166,
     "end_time": "2023-02-21T14:03:26.299175",
     "exception": false,
     "start_time": "2023-02-21T14:03:26.145009",
     "status": "completed"
    },
    "tags": []
   },
   "outputs": [],
   "source": [
    "df = df[numerical_cols].dropna()"
   ]
  },
  {
   "cell_type": "code",
   "execution_count": 14,
   "id": "a78fc20a",
   "metadata": {
    "execution": {
     "iopub.execute_input": "2023-02-21T14:03:26.315738Z",
     "iopub.status.busy": "2023-02-21T14:03:26.315254Z",
     "iopub.status.idle": "2023-02-21T14:03:26.323840Z",
     "shell.execute_reply": "2023-02-21T14:03:26.322399Z"
    },
    "papermill": {
     "duration": 0.020452,
     "end_time": "2023-02-21T14:03:26.327164",
     "exception": false,
     "start_time": "2023-02-21T14:03:26.306712",
     "status": "completed"
    },
    "tags": []
   },
   "outputs": [
    {
     "data": {
      "text/plain": [
       "(349416, 20)"
      ]
     },
     "execution_count": 14,
     "metadata": {},
     "output_type": "execute_result"
    }
   ],
   "source": [
    "df.shape"
   ]
  },
  {
   "cell_type": "code",
   "execution_count": 15,
   "id": "4f1737dd",
   "metadata": {
    "execution": {
     "iopub.execute_input": "2023-02-21T14:03:26.343116Z",
     "iopub.status.busy": "2023-02-21T14:03:26.342648Z",
     "iopub.status.idle": "2023-02-21T14:03:26.353546Z",
     "shell.execute_reply": "2023-02-21T14:03:26.352000Z"
    },
    "papermill": {
     "duration": 0.02332,
     "end_time": "2023-02-21T14:03:26.357316",
     "exception": false,
     "start_time": "2023-02-21T14:03:26.333996",
     "status": "completed"
    },
    "tags": []
   },
   "outputs": [
    {
     "data": {
      "text/plain": [
       "0"
      ]
     },
     "execution_count": 15,
     "metadata": {},
     "output_type": "execute_result"
    }
   ],
   "source": [
    "df['Evaporation'].isna().sum().sum()"
   ]
  },
  {
   "cell_type": "code",
   "execution_count": null,
   "id": "28b30728",
   "metadata": {
    "papermill": {
     "duration": 0.007731,
     "end_time": "2023-02-21T14:03:26.372064",
     "exception": false,
     "start_time": "2023-02-21T14:03:26.364333",
     "status": "completed"
    },
    "tags": []
   },
   "outputs": [],
   "source": []
  }
 ],
 "metadata": {
  "kernelspec": {
   "display_name": "Python 3",
   "language": "python",
   "name": "python3"
  },
  "language_info": {
   "codemirror_mode": {
    "name": "ipython",
    "version": 3
   },
   "file_extension": ".py",
   "mimetype": "text/x-python",
   "name": "python",
   "nbconvert_exporter": "python",
   "pygments_lexer": "ipython3",
   "version": "3.7.12"
  },
  "papermill": {
   "default_parameters": {},
   "duration": 263.260824,
   "end_time": "2023-02-21T14:03:27.304628",
   "environment_variables": {},
   "exception": null,
   "input_path": "__notebook__.ipynb",
   "output_path": "__notebook__.ipynb",
   "parameters": {},
   "start_time": "2023-02-21T13:59:04.043804",
   "version": "2.3.4"
  }
 },
 "nbformat": 4,
 "nbformat_minor": 5
}
