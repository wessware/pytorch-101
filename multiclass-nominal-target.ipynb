{
 "cells": [
  {
   "cell_type": "code",
   "execution_count": 1,
   "id": "364916aa",
   "metadata": {
    "_cell_guid": "b1076dfc-b9ad-4769-8c92-a6c4dae69d19",
    "_uuid": "8f2839f25d086af736a60e9eeb907d3b93b6e0e5",
    "execution": {
     "iopub.execute_input": "2023-02-23T17:36:25.948075Z",
     "iopub.status.busy": "2023-02-23T17:36:25.947204Z",
     "iopub.status.idle": "2023-02-23T17:36:29.033983Z",
     "shell.execute_reply": "2023-02-23T17:36:29.032732Z"
    },
    "papermill": {
     "duration": 3.104038,
     "end_time": "2023-02-23T17:36:29.037614",
     "exception": false,
     "start_time": "2023-02-23T17:36:25.933576",
     "status": "completed"
    },
    "tags": []
   },
   "outputs": [],
   "source": [
    "import numpy as np\n",
    "import pandas as pd \n",
    "\n",
    "from sklearn.preprocessing import MinMaxScaler\n",
    "from sklearn.preprocessing import OneHotEncoder\n",
    "from sklearn.model_selection import train_test_split\n",
    "\n",
    "import matplotlib.pyplot as plt\n",
    "\n",
    "import torch\n",
    "import torch.nn as nn\n",
    "import torch.optim as optim\n",
    "import tqdm"
   ]
  },
  {
   "cell_type": "code",
   "execution_count": 2,
   "id": "9af6d48f",
   "metadata": {
    "execution": {
     "iopub.execute_input": "2023-02-23T17:36:29.055277Z",
     "iopub.status.busy": "2023-02-23T17:36:29.054054Z",
     "iopub.status.idle": "2023-02-23T17:36:30.088230Z",
     "shell.execute_reply": "2023-02-23T17:36:30.086929Z"
    },
    "papermill": {
     "duration": 1.046063,
     "end_time": "2023-02-23T17:36:30.091425",
     "exception": false,
     "start_time": "2023-02-23T17:36:29.045362",
     "status": "completed"
    },
    "tags": []
   },
   "outputs": [],
   "source": [
    "df = pd.read_csv('/kaggle/input/clean-data-australia-rainfall/rainfall_data_australia.csv', index_col=None)"
   ]
  },
  {
   "cell_type": "code",
   "execution_count": 3,
   "id": "3552ce81",
   "metadata": {
    "execution": {
     "iopub.execute_input": "2023-02-23T17:36:30.103810Z",
     "iopub.status.busy": "2023-02-23T17:36:30.103359Z",
     "iopub.status.idle": "2023-02-23T17:36:30.112713Z",
     "shell.execute_reply": "2023-02-23T17:36:30.111806Z"
    },
    "papermill": {
     "duration": 0.01873,
     "end_time": "2023-02-23T17:36:30.115420",
     "exception": false,
     "start_time": "2023-02-23T17:36:30.096690",
     "status": "completed"
    },
    "tags": []
   },
   "outputs": [
    {
     "data": {
      "text/plain": [
       "(351587, 18)"
      ]
     },
     "execution_count": 3,
     "metadata": {},
     "output_type": "execute_result"
    }
   ],
   "source": [
    "df.shape"
   ]
  },
  {
   "cell_type": "code",
   "execution_count": 4,
   "id": "2f035058",
   "metadata": {
    "execution": {
     "iopub.execute_input": "2023-02-23T17:36:30.128251Z",
     "iopub.status.busy": "2023-02-23T17:36:30.127174Z",
     "iopub.status.idle": "2023-02-23T17:36:30.158083Z",
     "shell.execute_reply": "2023-02-23T17:36:30.156544Z"
    },
    "papermill": {
     "duration": 0.040206,
     "end_time": "2023-02-23T17:36:30.160791",
     "exception": false,
     "start_time": "2023-02-23T17:36:30.120585",
     "status": "completed"
    },
    "tags": []
   },
   "outputs": [
    {
     "data": {
      "text/html": [
       "<div>\n",
       "<style scoped>\n",
       "    .dataframe tbody tr th:only-of-type {\n",
       "        vertical-align: middle;\n",
       "    }\n",
       "\n",
       "    .dataframe tbody tr th {\n",
       "        vertical-align: top;\n",
       "    }\n",
       "\n",
       "    .dataframe thead th {\n",
       "        text-align: right;\n",
       "    }\n",
       "</style>\n",
       "<table border=\"1\" class=\"dataframe\">\n",
       "  <thead>\n",
       "    <tr style=\"text-align: right;\">\n",
       "      <th></th>\n",
       "      <th>MinTemp</th>\n",
       "      <th>MaxTemp</th>\n",
       "      <th>Rainfall</th>\n",
       "      <th>Evaporation</th>\n",
       "      <th>Sunshine</th>\n",
       "      <th>WindGustSpeed</th>\n",
       "      <th>WindSpeed9am</th>\n",
       "      <th>WindSpeed3pm</th>\n",
       "      <th>Humidity9am</th>\n",
       "      <th>Humidity3pm</th>\n",
       "      <th>Pressure9am</th>\n",
       "      <th>Pressure3pm</th>\n",
       "      <th>Cloud9am</th>\n",
       "      <th>Cloud3pm</th>\n",
       "      <th>Temp9am</th>\n",
       "      <th>Temp3pm</th>\n",
       "      <th>RainToday</th>\n",
       "      <th>RainTomorrow</th>\n",
       "    </tr>\n",
       "  </thead>\n",
       "  <tbody>\n",
       "    <tr>\n",
       "      <th>0</th>\n",
       "      <td>17.9</td>\n",
       "      <td>35.2</td>\n",
       "      <td>0.0</td>\n",
       "      <td>12.0</td>\n",
       "      <td>12.3</td>\n",
       "      <td>48</td>\n",
       "      <td>6.0</td>\n",
       "      <td>20.0</td>\n",
       "      <td>20</td>\n",
       "      <td>13.0</td>\n",
       "      <td>1006.3</td>\n",
       "      <td>1004.4</td>\n",
       "      <td>2</td>\n",
       "      <td>5</td>\n",
       "      <td>26.6</td>\n",
       "      <td>33.4</td>\n",
       "      <td>2</td>\n",
       "      <td>2</td>\n",
       "    </tr>\n",
       "    <tr>\n",
       "      <th>1</th>\n",
       "      <td>17.9</td>\n",
       "      <td>35.2</td>\n",
       "      <td>0.0</td>\n",
       "      <td>12.0</td>\n",
       "      <td>12.3</td>\n",
       "      <td>48</td>\n",
       "      <td>6.0</td>\n",
       "      <td>20.0</td>\n",
       "      <td>20</td>\n",
       "      <td>13.0</td>\n",
       "      <td>1006.3</td>\n",
       "      <td>1004.4</td>\n",
       "      <td>2</td>\n",
       "      <td>5</td>\n",
       "      <td>26.6</td>\n",
       "      <td>33.4</td>\n",
       "      <td>2</td>\n",
       "      <td>2</td>\n",
       "    </tr>\n",
       "    <tr>\n",
       "      <th>2</th>\n",
       "      <td>17.9</td>\n",
       "      <td>35.2</td>\n",
       "      <td>0.0</td>\n",
       "      <td>12.0</td>\n",
       "      <td>12.3</td>\n",
       "      <td>48</td>\n",
       "      <td>6.0</td>\n",
       "      <td>20.0</td>\n",
       "      <td>20</td>\n",
       "      <td>13.0</td>\n",
       "      <td>1006.3</td>\n",
       "      <td>1004.4</td>\n",
       "      <td>2</td>\n",
       "      <td>5</td>\n",
       "      <td>26.6</td>\n",
       "      <td>33.4</td>\n",
       "      <td>2</td>\n",
       "      <td>2</td>\n",
       "    </tr>\n",
       "    <tr>\n",
       "      <th>3</th>\n",
       "      <td>17.9</td>\n",
       "      <td>35.2</td>\n",
       "      <td>0.0</td>\n",
       "      <td>12.0</td>\n",
       "      <td>12.3</td>\n",
       "      <td>48</td>\n",
       "      <td>6.0</td>\n",
       "      <td>20.0</td>\n",
       "      <td>20</td>\n",
       "      <td>13.0</td>\n",
       "      <td>1006.3</td>\n",
       "      <td>1004.4</td>\n",
       "      <td>2</td>\n",
       "      <td>5</td>\n",
       "      <td>26.6</td>\n",
       "      <td>33.4</td>\n",
       "      <td>2</td>\n",
       "      <td>2</td>\n",
       "    </tr>\n",
       "    <tr>\n",
       "      <th>4</th>\n",
       "      <td>17.9</td>\n",
       "      <td>35.2</td>\n",
       "      <td>0.0</td>\n",
       "      <td>12.0</td>\n",
       "      <td>12.3</td>\n",
       "      <td>48</td>\n",
       "      <td>6.0</td>\n",
       "      <td>20.0</td>\n",
       "      <td>20</td>\n",
       "      <td>13.0</td>\n",
       "      <td>1006.3</td>\n",
       "      <td>1004.4</td>\n",
       "      <td>2</td>\n",
       "      <td>5</td>\n",
       "      <td>26.6</td>\n",
       "      <td>33.4</td>\n",
       "      <td>2</td>\n",
       "      <td>2</td>\n",
       "    </tr>\n",
       "  </tbody>\n",
       "</table>\n",
       "</div>"
      ],
      "text/plain": [
       "   MinTemp  MaxTemp  Rainfall  Evaporation  Sunshine  WindGustSpeed  \\\n",
       "0     17.9     35.2       0.0         12.0      12.3             48   \n",
       "1     17.9     35.2       0.0         12.0      12.3             48   \n",
       "2     17.9     35.2       0.0         12.0      12.3             48   \n",
       "3     17.9     35.2       0.0         12.0      12.3             48   \n",
       "4     17.9     35.2       0.0         12.0      12.3             48   \n",
       "\n",
       "   WindSpeed9am  WindSpeed3pm  Humidity9am  Humidity3pm  Pressure9am  \\\n",
       "0           6.0          20.0           20         13.0       1006.3   \n",
       "1           6.0          20.0           20         13.0       1006.3   \n",
       "2           6.0          20.0           20         13.0       1006.3   \n",
       "3           6.0          20.0           20         13.0       1006.3   \n",
       "4           6.0          20.0           20         13.0       1006.3   \n",
       "\n",
       "   Pressure3pm  Cloud9am  Cloud3pm  Temp9am  Temp3pm  RainToday  RainTomorrow  \n",
       "0       1004.4         2         5     26.6     33.4          2             2  \n",
       "1       1004.4         2         5     26.6     33.4          2             2  \n",
       "2       1004.4         2         5     26.6     33.4          2             2  \n",
       "3       1004.4         2         5     26.6     33.4          2             2  \n",
       "4       1004.4         2         5     26.6     33.4          2             2  "
      ]
     },
     "execution_count": 4,
     "metadata": {},
     "output_type": "execute_result"
    }
   ],
   "source": [
    "df.head()"
   ]
  },
  {
   "cell_type": "code",
   "execution_count": 5,
   "id": "04b106e0",
   "metadata": {
    "execution": {
     "iopub.execute_input": "2023-02-23T17:36:30.173312Z",
     "iopub.status.busy": "2023-02-23T17:36:30.172894Z",
     "iopub.status.idle": "2023-02-23T17:36:30.187256Z",
     "shell.execute_reply": "2023-02-23T17:36:30.186066Z"
    },
    "papermill": {
     "duration": 0.023886,
     "end_time": "2023-02-23T17:36:30.190100",
     "exception": false,
     "start_time": "2023-02-23T17:36:30.166214",
     "status": "completed"
    },
    "tags": []
   },
   "outputs": [
    {
     "data": {
      "text/plain": [
       "MinTemp           True\n",
       "MaxTemp           True\n",
       "Rainfall         False\n",
       "Evaporation       True\n",
       "Sunshine         False\n",
       "WindGustSpeed    False\n",
       "WindSpeed9am      True\n",
       "WindSpeed3pm      True\n",
       "Humidity9am      False\n",
       "Humidity3pm       True\n",
       "Pressure9am       True\n",
       "Pressure3pm       True\n",
       "Cloud9am         False\n",
       "Cloud3pm         False\n",
       "Temp9am          False\n",
       "Temp3pm           True\n",
       "RainToday        False\n",
       "RainTomorrow     False\n",
       "dtype: bool"
      ]
     },
     "execution_count": 5,
     "metadata": {},
     "output_type": "execute_result"
    }
   ],
   "source": [
    "df.isna().any()"
   ]
  },
  {
   "cell_type": "code",
   "execution_count": 6,
   "id": "5c650314",
   "metadata": {
    "execution": {
     "iopub.execute_input": "2023-02-23T17:36:30.203446Z",
     "iopub.status.busy": "2023-02-23T17:36:30.202989Z",
     "iopub.status.idle": "2023-02-23T17:36:30.270132Z",
     "shell.execute_reply": "2023-02-23T17:36:30.268820Z"
    },
    "papermill": {
     "duration": 0.077243,
     "end_time": "2023-02-23T17:36:30.273070",
     "exception": false,
     "start_time": "2023-02-23T17:36:30.195827",
     "status": "completed"
    },
    "tags": []
   },
   "outputs": [],
   "source": [
    "df = df.dropna()"
   ]
  },
  {
   "cell_type": "code",
   "execution_count": 7,
   "id": "4381bf7b",
   "metadata": {
    "execution": {
     "iopub.execute_input": "2023-02-23T17:36:30.286355Z",
     "iopub.status.busy": "2023-02-23T17:36:30.285242Z",
     "iopub.status.idle": "2023-02-23T17:36:30.301559Z",
     "shell.execute_reply": "2023-02-23T17:36:30.300208Z"
    },
    "papermill": {
     "duration": 0.02646,
     "end_time": "2023-02-23T17:36:30.304950",
     "exception": false,
     "start_time": "2023-02-23T17:36:30.278490",
     "status": "completed"
    },
    "tags": []
   },
   "outputs": [
    {
     "data": {
      "text/plain": [
       "MinTemp          False\n",
       "MaxTemp          False\n",
       "Rainfall         False\n",
       "Evaporation      False\n",
       "Sunshine         False\n",
       "WindGustSpeed    False\n",
       "WindSpeed9am     False\n",
       "WindSpeed3pm     False\n",
       "Humidity9am      False\n",
       "Humidity3pm      False\n",
       "Pressure9am      False\n",
       "Pressure3pm      False\n",
       "Cloud9am         False\n",
       "Cloud3pm         False\n",
       "Temp9am          False\n",
       "Temp3pm          False\n",
       "RainToday        False\n",
       "RainTomorrow     False\n",
       "dtype: bool"
      ]
     },
     "execution_count": 7,
     "metadata": {},
     "output_type": "execute_result"
    }
   ],
   "source": [
    "df.isna().any()"
   ]
  },
  {
   "cell_type": "code",
   "execution_count": 8,
   "id": "9780f934",
   "metadata": {
    "execution": {
     "iopub.execute_input": "2023-02-23T17:36:30.318259Z",
     "iopub.status.busy": "2023-02-23T17:36:30.317523Z",
     "iopub.status.idle": "2023-02-23T17:36:30.325483Z",
     "shell.execute_reply": "2023-02-23T17:36:30.324426Z"
    },
    "papermill": {
     "duration": 0.017362,
     "end_time": "2023-02-23T17:36:30.327911",
     "exception": false,
     "start_time": "2023-02-23T17:36:30.310549",
     "status": "completed"
    },
    "tags": []
   },
   "outputs": [
    {
     "data": {
      "text/plain": [
       "Index(['MinTemp', 'MaxTemp', 'Rainfall', 'Evaporation', 'Sunshine',\n",
       "       'WindGustSpeed', 'WindSpeed9am', 'WindSpeed3pm', 'Humidity9am',\n",
       "       'Humidity3pm', 'Pressure9am', 'Pressure3pm', 'Cloud9am', 'Cloud3pm',\n",
       "       'Temp9am', 'Temp3pm', 'RainToday', 'RainTomorrow'],\n",
       "      dtype='object')"
      ]
     },
     "execution_count": 8,
     "metadata": {},
     "output_type": "execute_result"
    }
   ],
   "source": [
    "df.columns"
   ]
  },
  {
   "cell_type": "code",
   "execution_count": 9,
   "id": "b9fc3394",
   "metadata": {
    "execution": {
     "iopub.execute_input": "2023-02-23T17:36:30.341745Z",
     "iopub.status.busy": "2023-02-23T17:36:30.340663Z",
     "iopub.status.idle": "2023-02-23T17:36:30.356230Z",
     "shell.execute_reply": "2023-02-23T17:36:30.354996Z"
    },
    "papermill": {
     "duration": 0.024899,
     "end_time": "2023-02-23T17:36:30.358528",
     "exception": false,
     "start_time": "2023-02-23T17:36:30.333629",
     "status": "completed"
    },
    "tags": []
   },
   "outputs": [
    {
     "data": {
      "text/plain": [
       "array([2, 1, 3])"
      ]
     },
     "execution_count": 9,
     "metadata": {},
     "output_type": "execute_result"
    }
   ],
   "source": [
    "df['RainTomorrow'].unique()"
   ]
  },
  {
   "cell_type": "code",
   "execution_count": 10,
   "id": "dee6752d",
   "metadata": {
    "execution": {
     "iopub.execute_input": "2023-02-23T17:36:30.372298Z",
     "iopub.status.busy": "2023-02-23T17:36:30.371622Z",
     "iopub.status.idle": "2023-02-23T17:36:30.377040Z",
     "shell.execute_reply": "2023-02-23T17:36:30.376193Z"
    },
    "papermill": {
     "duration": 0.014977,
     "end_time": "2023-02-23T17:36:30.379268",
     "exception": false,
     "start_time": "2023-02-23T17:36:30.364291",
     "status": "completed"
    },
    "tags": []
   },
   "outputs": [],
   "source": [
    "x_cols = ['MinTemp', 'MaxTemp', 'Rainfall', 'Evaporation', 'Sunshine',\n",
    "       'WindGustSpeed', 'WindSpeed9am', 'WindSpeed3pm', 'Humidity9am',\n",
    "       'Humidity3pm', 'Pressure9am', 'Pressure3pm', 'Cloud9am', 'Cloud3pm',\n",
    "       'Temp9am', 'Temp3pm', 'RainToday']"
   ]
  },
  {
   "cell_type": "code",
   "execution_count": 11,
   "id": "5446aad7",
   "metadata": {
    "execution": {
     "iopub.execute_input": "2023-02-23T17:36:30.393115Z",
     "iopub.status.busy": "2023-02-23T17:36:30.392455Z",
     "iopub.status.idle": "2023-02-23T17:36:30.419396Z",
     "shell.execute_reply": "2023-02-23T17:36:30.418077Z"
    },
    "papermill": {
     "duration": 0.037154,
     "end_time": "2023-02-23T17:36:30.422216",
     "exception": false,
     "start_time": "2023-02-23T17:36:30.385062",
     "status": "completed"
    },
    "tags": []
   },
   "outputs": [],
   "source": [
    "x = df[x_cols]\n",
    "\n",
    "y = df[['RainTomorrow']]"
   ]
  },
  {
   "cell_type": "code",
   "execution_count": 12,
   "id": "9518789a",
   "metadata": {
    "execution": {
     "iopub.execute_input": "2023-02-23T17:36:30.435974Z",
     "iopub.status.busy": "2023-02-23T17:36:30.435173Z",
     "iopub.status.idle": "2023-02-23T17:36:30.470454Z",
     "shell.execute_reply": "2023-02-23T17:36:30.469347Z"
    },
    "papermill": {
     "duration": 0.045026,
     "end_time": "2023-02-23T17:36:30.473077",
     "exception": false,
     "start_time": "2023-02-23T17:36:30.428051",
     "status": "completed"
    },
    "tags": []
   },
   "outputs": [
    {
     "data": {
      "text/html": [
       "<div>\n",
       "<style scoped>\n",
       "    .dataframe tbody tr th:only-of-type {\n",
       "        vertical-align: middle;\n",
       "    }\n",
       "\n",
       "    .dataframe tbody tr th {\n",
       "        vertical-align: top;\n",
       "    }\n",
       "\n",
       "    .dataframe thead th {\n",
       "        text-align: right;\n",
       "    }\n",
       "</style>\n",
       "<table border=\"1\" class=\"dataframe\">\n",
       "  <thead>\n",
       "    <tr style=\"text-align: right;\">\n",
       "      <th></th>\n",
       "      <th>MinTemp</th>\n",
       "      <th>MaxTemp</th>\n",
       "      <th>Rainfall</th>\n",
       "      <th>Evaporation</th>\n",
       "      <th>Sunshine</th>\n",
       "      <th>WindGustSpeed</th>\n",
       "      <th>WindSpeed9am</th>\n",
       "      <th>WindSpeed3pm</th>\n",
       "      <th>Humidity9am</th>\n",
       "      <th>Humidity3pm</th>\n",
       "      <th>Pressure9am</th>\n",
       "      <th>Pressure3pm</th>\n",
       "      <th>Cloud9am</th>\n",
       "      <th>Cloud3pm</th>\n",
       "      <th>Temp9am</th>\n",
       "      <th>Temp3pm</th>\n",
       "      <th>RainToday</th>\n",
       "    </tr>\n",
       "  </thead>\n",
       "  <tbody>\n",
       "    <tr>\n",
       "      <th>0</th>\n",
       "      <td>17.9</td>\n",
       "      <td>35.2</td>\n",
       "      <td>0.0</td>\n",
       "      <td>12.0</td>\n",
       "      <td>12.3</td>\n",
       "      <td>48</td>\n",
       "      <td>6.0</td>\n",
       "      <td>20.0</td>\n",
       "      <td>20</td>\n",
       "      <td>13.0</td>\n",
       "      <td>1006.3</td>\n",
       "      <td>1004.4</td>\n",
       "      <td>2</td>\n",
       "      <td>5</td>\n",
       "      <td>26.6</td>\n",
       "      <td>33.4</td>\n",
       "      <td>2</td>\n",
       "    </tr>\n",
       "    <tr>\n",
       "      <th>1</th>\n",
       "      <td>17.9</td>\n",
       "      <td>35.2</td>\n",
       "      <td>0.0</td>\n",
       "      <td>12.0</td>\n",
       "      <td>12.3</td>\n",
       "      <td>48</td>\n",
       "      <td>6.0</td>\n",
       "      <td>20.0</td>\n",
       "      <td>20</td>\n",
       "      <td>13.0</td>\n",
       "      <td>1006.3</td>\n",
       "      <td>1004.4</td>\n",
       "      <td>2</td>\n",
       "      <td>5</td>\n",
       "      <td>26.6</td>\n",
       "      <td>33.4</td>\n",
       "      <td>2</td>\n",
       "    </tr>\n",
       "    <tr>\n",
       "      <th>2</th>\n",
       "      <td>17.9</td>\n",
       "      <td>35.2</td>\n",
       "      <td>0.0</td>\n",
       "      <td>12.0</td>\n",
       "      <td>12.3</td>\n",
       "      <td>48</td>\n",
       "      <td>6.0</td>\n",
       "      <td>20.0</td>\n",
       "      <td>20</td>\n",
       "      <td>13.0</td>\n",
       "      <td>1006.3</td>\n",
       "      <td>1004.4</td>\n",
       "      <td>2</td>\n",
       "      <td>5</td>\n",
       "      <td>26.6</td>\n",
       "      <td>33.4</td>\n",
       "      <td>2</td>\n",
       "    </tr>\n",
       "    <tr>\n",
       "      <th>3</th>\n",
       "      <td>17.9</td>\n",
       "      <td>35.2</td>\n",
       "      <td>0.0</td>\n",
       "      <td>12.0</td>\n",
       "      <td>12.3</td>\n",
       "      <td>48</td>\n",
       "      <td>6.0</td>\n",
       "      <td>20.0</td>\n",
       "      <td>20</td>\n",
       "      <td>13.0</td>\n",
       "      <td>1006.3</td>\n",
       "      <td>1004.4</td>\n",
       "      <td>2</td>\n",
       "      <td>5</td>\n",
       "      <td>26.6</td>\n",
       "      <td>33.4</td>\n",
       "      <td>2</td>\n",
       "    </tr>\n",
       "    <tr>\n",
       "      <th>4</th>\n",
       "      <td>17.9</td>\n",
       "      <td>35.2</td>\n",
       "      <td>0.0</td>\n",
       "      <td>12.0</td>\n",
       "      <td>12.3</td>\n",
       "      <td>48</td>\n",
       "      <td>6.0</td>\n",
       "      <td>20.0</td>\n",
       "      <td>20</td>\n",
       "      <td>13.0</td>\n",
       "      <td>1006.3</td>\n",
       "      <td>1004.4</td>\n",
       "      <td>2</td>\n",
       "      <td>5</td>\n",
       "      <td>26.6</td>\n",
       "      <td>33.4</td>\n",
       "      <td>2</td>\n",
       "    </tr>\n",
       "    <tr>\n",
       "      <th>...</th>\n",
       "      <td>...</td>\n",
       "      <td>...</td>\n",
       "      <td>...</td>\n",
       "      <td>...</td>\n",
       "      <td>...</td>\n",
       "      <td>...</td>\n",
       "      <td>...</td>\n",
       "      <td>...</td>\n",
       "      <td>...</td>\n",
       "      <td>...</td>\n",
       "      <td>...</td>\n",
       "      <td>...</td>\n",
       "      <td>...</td>\n",
       "      <td>...</td>\n",
       "      <td>...</td>\n",
       "      <td>...</td>\n",
       "      <td>...</td>\n",
       "    </tr>\n",
       "    <tr>\n",
       "      <th>351582</th>\n",
       "      <td>20.2</td>\n",
       "      <td>31.7</td>\n",
       "      <td>0.0</td>\n",
       "      <td>5.6</td>\n",
       "      <td>10.7</td>\n",
       "      <td>30</td>\n",
       "      <td>15.0</td>\n",
       "      <td>7.0</td>\n",
       "      <td>73</td>\n",
       "      <td>32.0</td>\n",
       "      <td>1013.9</td>\n",
       "      <td>1009.7</td>\n",
       "      <td>6</td>\n",
       "      <td>5</td>\n",
       "      <td>25.4</td>\n",
       "      <td>31.0</td>\n",
       "      <td>2</td>\n",
       "    </tr>\n",
       "    <tr>\n",
       "      <th>351583</th>\n",
       "      <td>20.2</td>\n",
       "      <td>31.7</td>\n",
       "      <td>0.0</td>\n",
       "      <td>5.6</td>\n",
       "      <td>10.7</td>\n",
       "      <td>30</td>\n",
       "      <td>15.0</td>\n",
       "      <td>7.0</td>\n",
       "      <td>73</td>\n",
       "      <td>32.0</td>\n",
       "      <td>1013.9</td>\n",
       "      <td>1009.7</td>\n",
       "      <td>6</td>\n",
       "      <td>5</td>\n",
       "      <td>25.4</td>\n",
       "      <td>31.0</td>\n",
       "      <td>2</td>\n",
       "    </tr>\n",
       "    <tr>\n",
       "      <th>351584</th>\n",
       "      <td>20.2</td>\n",
       "      <td>31.7</td>\n",
       "      <td>0.0</td>\n",
       "      <td>5.6</td>\n",
       "      <td>10.7</td>\n",
       "      <td>30</td>\n",
       "      <td>15.0</td>\n",
       "      <td>7.0</td>\n",
       "      <td>73</td>\n",
       "      <td>32.0</td>\n",
       "      <td>1013.9</td>\n",
       "      <td>1009.7</td>\n",
       "      <td>6</td>\n",
       "      <td>5</td>\n",
       "      <td>25.4</td>\n",
       "      <td>31.0</td>\n",
       "      <td>2</td>\n",
       "    </tr>\n",
       "    <tr>\n",
       "      <th>351585</th>\n",
       "      <td>20.2</td>\n",
       "      <td>31.7</td>\n",
       "      <td>0.0</td>\n",
       "      <td>5.6</td>\n",
       "      <td>10.7</td>\n",
       "      <td>30</td>\n",
       "      <td>15.0</td>\n",
       "      <td>7.0</td>\n",
       "      <td>73</td>\n",
       "      <td>32.0</td>\n",
       "      <td>1013.9</td>\n",
       "      <td>1009.7</td>\n",
       "      <td>6</td>\n",
       "      <td>5</td>\n",
       "      <td>25.4</td>\n",
       "      <td>31.0</td>\n",
       "      <td>2</td>\n",
       "    </tr>\n",
       "    <tr>\n",
       "      <th>351586</th>\n",
       "      <td>20.2</td>\n",
       "      <td>31.7</td>\n",
       "      <td>0.0</td>\n",
       "      <td>5.6</td>\n",
       "      <td>10.7</td>\n",
       "      <td>30</td>\n",
       "      <td>15.0</td>\n",
       "      <td>7.0</td>\n",
       "      <td>73</td>\n",
       "      <td>32.0</td>\n",
       "      <td>1013.9</td>\n",
       "      <td>1009.7</td>\n",
       "      <td>6</td>\n",
       "      <td>5</td>\n",
       "      <td>25.4</td>\n",
       "      <td>31.0</td>\n",
       "      <td>2</td>\n",
       "    </tr>\n",
       "  </tbody>\n",
       "</table>\n",
       "<p>349416 rows × 17 columns</p>\n",
       "</div>"
      ],
      "text/plain": [
       "        MinTemp  MaxTemp  Rainfall  Evaporation  Sunshine  WindGustSpeed  \\\n",
       "0          17.9     35.2       0.0         12.0      12.3             48   \n",
       "1          17.9     35.2       0.0         12.0      12.3             48   \n",
       "2          17.9     35.2       0.0         12.0      12.3             48   \n",
       "3          17.9     35.2       0.0         12.0      12.3             48   \n",
       "4          17.9     35.2       0.0         12.0      12.3             48   \n",
       "...         ...      ...       ...          ...       ...            ...   \n",
       "351582     20.2     31.7       0.0          5.6      10.7             30   \n",
       "351583     20.2     31.7       0.0          5.6      10.7             30   \n",
       "351584     20.2     31.7       0.0          5.6      10.7             30   \n",
       "351585     20.2     31.7       0.0          5.6      10.7             30   \n",
       "351586     20.2     31.7       0.0          5.6      10.7             30   \n",
       "\n",
       "        WindSpeed9am  WindSpeed3pm  Humidity9am  Humidity3pm  Pressure9am  \\\n",
       "0                6.0          20.0           20         13.0       1006.3   \n",
       "1                6.0          20.0           20         13.0       1006.3   \n",
       "2                6.0          20.0           20         13.0       1006.3   \n",
       "3                6.0          20.0           20         13.0       1006.3   \n",
       "4                6.0          20.0           20         13.0       1006.3   \n",
       "...              ...           ...          ...          ...          ...   \n",
       "351582          15.0           7.0           73         32.0       1013.9   \n",
       "351583          15.0           7.0           73         32.0       1013.9   \n",
       "351584          15.0           7.0           73         32.0       1013.9   \n",
       "351585          15.0           7.0           73         32.0       1013.9   \n",
       "351586          15.0           7.0           73         32.0       1013.9   \n",
       "\n",
       "        Pressure3pm  Cloud9am  Cloud3pm  Temp9am  Temp3pm  RainToday  \n",
       "0            1004.4         2         5     26.6     33.4          2  \n",
       "1            1004.4         2         5     26.6     33.4          2  \n",
       "2            1004.4         2         5     26.6     33.4          2  \n",
       "3            1004.4         2         5     26.6     33.4          2  \n",
       "4            1004.4         2         5     26.6     33.4          2  \n",
       "...             ...       ...       ...      ...      ...        ...  \n",
       "351582       1009.7         6         5     25.4     31.0          2  \n",
       "351583       1009.7         6         5     25.4     31.0          2  \n",
       "351584       1009.7         6         5     25.4     31.0          2  \n",
       "351585       1009.7         6         5     25.4     31.0          2  \n",
       "351586       1009.7         6         5     25.4     31.0          2  \n",
       "\n",
       "[349416 rows x 17 columns]"
      ]
     },
     "execution_count": 12,
     "metadata": {},
     "output_type": "execute_result"
    }
   ],
   "source": [
    "x"
   ]
  },
  {
   "cell_type": "code",
   "execution_count": 13,
   "id": "948465cf",
   "metadata": {
    "execution": {
     "iopub.execute_input": "2023-02-23T17:36:30.487559Z",
     "iopub.status.busy": "2023-02-23T17:36:30.487157Z",
     "iopub.status.idle": "2023-02-23T17:36:30.498543Z",
     "shell.execute_reply": "2023-02-23T17:36:30.497456Z"
    },
    "papermill": {
     "duration": 0.021514,
     "end_time": "2023-02-23T17:36:30.500972",
     "exception": false,
     "start_time": "2023-02-23T17:36:30.479458",
     "status": "completed"
    },
    "tags": []
   },
   "outputs": [
    {
     "data": {
      "text/html": [
       "<div>\n",
       "<style scoped>\n",
       "    .dataframe tbody tr th:only-of-type {\n",
       "        vertical-align: middle;\n",
       "    }\n",
       "\n",
       "    .dataframe tbody tr th {\n",
       "        vertical-align: top;\n",
       "    }\n",
       "\n",
       "    .dataframe thead th {\n",
       "        text-align: right;\n",
       "    }\n",
       "</style>\n",
       "<table border=\"1\" class=\"dataframe\">\n",
       "  <thead>\n",
       "    <tr style=\"text-align: right;\">\n",
       "      <th></th>\n",
       "      <th>RainTomorrow</th>\n",
       "    </tr>\n",
       "  </thead>\n",
       "  <tbody>\n",
       "    <tr>\n",
       "      <th>0</th>\n",
       "      <td>2</td>\n",
       "    </tr>\n",
       "    <tr>\n",
       "      <th>1</th>\n",
       "      <td>2</td>\n",
       "    </tr>\n",
       "    <tr>\n",
       "      <th>2</th>\n",
       "      <td>2</td>\n",
       "    </tr>\n",
       "    <tr>\n",
       "      <th>3</th>\n",
       "      <td>2</td>\n",
       "    </tr>\n",
       "    <tr>\n",
       "      <th>4</th>\n",
       "      <td>2</td>\n",
       "    </tr>\n",
       "    <tr>\n",
       "      <th>...</th>\n",
       "      <td>...</td>\n",
       "    </tr>\n",
       "    <tr>\n",
       "      <th>351582</th>\n",
       "      <td>2</td>\n",
       "    </tr>\n",
       "    <tr>\n",
       "      <th>351583</th>\n",
       "      <td>2</td>\n",
       "    </tr>\n",
       "    <tr>\n",
       "      <th>351584</th>\n",
       "      <td>2</td>\n",
       "    </tr>\n",
       "    <tr>\n",
       "      <th>351585</th>\n",
       "      <td>2</td>\n",
       "    </tr>\n",
       "    <tr>\n",
       "      <th>351586</th>\n",
       "      <td>2</td>\n",
       "    </tr>\n",
       "  </tbody>\n",
       "</table>\n",
       "<p>349416 rows × 1 columns</p>\n",
       "</div>"
      ],
      "text/plain": [
       "        RainTomorrow\n",
       "0                  2\n",
       "1                  2\n",
       "2                  2\n",
       "3                  2\n",
       "4                  2\n",
       "...              ...\n",
       "351582             2\n",
       "351583             2\n",
       "351584             2\n",
       "351585             2\n",
       "351586             2\n",
       "\n",
       "[349416 rows x 1 columns]"
      ]
     },
     "execution_count": 13,
     "metadata": {},
     "output_type": "execute_result"
    }
   ],
   "source": [
    "y"
   ]
  },
  {
   "cell_type": "code",
   "execution_count": 14,
   "id": "9988db02",
   "metadata": {
    "execution": {
     "iopub.execute_input": "2023-02-23T17:36:30.515520Z",
     "iopub.status.busy": "2023-02-23T17:36:30.515134Z",
     "iopub.status.idle": "2023-02-23T17:36:30.618603Z",
     "shell.execute_reply": "2023-02-23T17:36:30.617512Z"
    },
    "papermill": {
     "duration": 0.113966,
     "end_time": "2023-02-23T17:36:30.621408",
     "exception": false,
     "start_time": "2023-02-23T17:36:30.507442",
     "status": "completed"
    },
    "tags": []
   },
   "outputs": [],
   "source": [
    "scaler = MinMaxScaler().fit(x)\n",
    "\n",
    "x = scaler.transform(x)"
   ]
  },
  {
   "cell_type": "code",
   "execution_count": 15,
   "id": "ad9080fd",
   "metadata": {
    "execution": {
     "iopub.execute_input": "2023-02-23T17:36:30.636482Z",
     "iopub.status.busy": "2023-02-23T17:36:30.635657Z",
     "iopub.status.idle": "2023-02-23T17:36:30.641193Z",
     "shell.execute_reply": "2023-02-23T17:36:30.640061Z"
    },
    "papermill": {
     "duration": 0.015774,
     "end_time": "2023-02-23T17:36:30.643762",
     "exception": false,
     "start_time": "2023-02-23T17:36:30.627988",
     "status": "completed"
    },
    "tags": []
   },
   "outputs": [],
   "source": [
    "x_ = pd.DataFrame(x)"
   ]
  },
  {
   "cell_type": "code",
   "execution_count": 16,
   "id": "b2473275",
   "metadata": {
    "execution": {
     "iopub.execute_input": "2023-02-23T17:36:30.659387Z",
     "iopub.status.busy": "2023-02-23T17:36:30.658420Z",
     "iopub.status.idle": "2023-02-23T17:36:30.709413Z",
     "shell.execute_reply": "2023-02-23T17:36:30.708218Z"
    },
    "papermill": {
     "duration": 0.062072,
     "end_time": "2023-02-23T17:36:30.712364",
     "exception": false,
     "start_time": "2023-02-23T17:36:30.650292",
     "status": "completed"
    },
    "tags": []
   },
   "outputs": [],
   "source": [
    "X = torch.tensor(x_.values, dtype=torch.float32)"
   ]
  },
  {
   "cell_type": "code",
   "execution_count": 17,
   "id": "bedc70f6",
   "metadata": {
    "execution": {
     "iopub.execute_input": "2023-02-23T17:36:30.726942Z",
     "iopub.status.busy": "2023-02-23T17:36:30.726513Z",
     "iopub.status.idle": "2023-02-23T17:36:30.732169Z",
     "shell.execute_reply": "2023-02-23T17:36:30.730928Z"
    },
    "papermill": {
     "duration": 0.01556,
     "end_time": "2023-02-23T17:36:30.734390",
     "exception": false,
     "start_time": "2023-02-23T17:36:30.718830",
     "status": "completed"
    },
    "tags": []
   },
   "outputs": [],
   "source": [
    "y = torch.tensor(y.values, dtype=torch.float32)"
   ]
  },
  {
   "cell_type": "code",
   "execution_count": null,
   "id": "c0c314cd",
   "metadata": {
    "papermill": {
     "duration": 0.00599,
     "end_time": "2023-02-23T17:36:30.746782",
     "exception": false,
     "start_time": "2023-02-23T17:36:30.740792",
     "status": "completed"
    },
    "tags": []
   },
   "outputs": [],
   "source": []
  }
 ],
 "metadata": {
  "kernelspec": {
   "display_name": "Python 3",
   "language": "python",
   "name": "python3"
  },
  "language_info": {
   "codemirror_mode": {
    "name": "ipython",
    "version": 3
   },
   "file_extension": ".py",
   "mimetype": "text/x-python",
   "name": "python",
   "nbconvert_exporter": "python",
   "pygments_lexer": "ipython3",
   "version": "3.7.12"
  },
  "papermill": {
   "default_parameters": {},
   "duration": 14.792522,
   "end_time": "2023-02-23T17:36:31.676284",
   "environment_variables": {},
   "exception": null,
   "input_path": "__notebook__.ipynb",
   "output_path": "__notebook__.ipynb",
   "parameters": {},
   "start_time": "2023-02-23T17:36:16.883762",
   "version": "2.3.4"
  }
 },
 "nbformat": 4,
 "nbformat_minor": 5
}
