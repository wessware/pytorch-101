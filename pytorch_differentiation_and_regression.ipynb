{
  "nbformat": 4,
  "nbformat_minor": 0,
  "metadata": {
    "colab": {
      "provenance": [],
      "authorship_tag": "ABX9TyPmi82QGAB4/j28P0Ap8O/Z",
      "include_colab_link": true
    },
    "kernelspec": {
      "name": "python3",
      "display_name": "Python 3"
    },
    "language_info": {
      "name": "python"
    }
  },
  "cells": [
    {
      "cell_type": "markdown",
      "metadata": {
        "id": "view-in-github",
        "colab_type": "text"
      },
      "source": [
        "<a href=\"https://colab.research.google.com/github/wessware/pytorch-101/blob/main/pytorch_differentiation_and_regression.ipynb\" target=\"_parent\"><img src=\"https://colab.research.google.com/assets/colab-badge.svg\" alt=\"Open In Colab\"/></a>"
      ]
    },
    {
      "cell_type": "code",
      "execution_count": 12,
      "metadata": {
        "id": "sOe3wHHDhav-"
      },
      "outputs": [],
      "source": [
        "import torch\n",
        "\n",
        "import numpy as np"
      ]
    },
    {
      "cell_type": "code",
      "source": [
        "a = torch.tensor([1,2,3])"
      ],
      "metadata": {
        "id": "bNKhoSiMh5TY"
      },
      "execution_count": 3,
      "outputs": []
    },
    {
      "cell_type": "code",
      "source": [
        "a"
      ],
      "metadata": {
        "colab": {
          "base_uri": "https://localhost:8080/"
        },
        "id": "CX-4_272iHde",
        "outputId": "67abd673-8e66-436e-c6ff-ba44ad058614"
      },
      "execution_count": 4,
      "outputs": [
        {
          "output_type": "execute_result",
          "data": {
            "text/plain": [
              "tensor([1, 2, 3])"
            ]
          },
          "metadata": {},
          "execution_count": 4
        }
      ]
    },
    {
      "cell_type": "code",
      "source": [
        "a.shape"
      ],
      "metadata": {
        "colab": {
          "base_uri": "https://localhost:8080/"
        },
        "id": "fd-BUnwfiMgV",
        "outputId": "e87c8a57-13d9-4f38-f2ff-449134954525"
      },
      "execution_count": 5,
      "outputs": [
        {
          "output_type": "execute_result",
          "data": {
            "text/plain": [
              "torch.Size([3])"
            ]
          },
          "metadata": {},
          "execution_count": 5
        }
      ]
    },
    {
      "cell_type": "code",
      "source": [
        "a.dtype"
      ],
      "metadata": {
        "colab": {
          "base_uri": "https://localhost:8080/"
        },
        "id": "7eGACuu5iPWK",
        "outputId": "50e75574-61c7-411c-fbb3-38a8d721d163"
      },
      "execution_count": 6,
      "outputs": [
        {
          "output_type": "execute_result",
          "data": {
            "text/plain": [
              "torch.int64"
            ]
          },
          "metadata": {},
          "execution_count": 6
        }
      ]
    },
    {
      "cell_type": "code",
      "source": [
        "b = torch.tensor([2., 3. ,4.], requires_grad=True)"
      ],
      "metadata": {
        "id": "-VPDte9JiSyJ"
      },
      "execution_count": 8,
      "outputs": []
    },
    {
      "cell_type": "code",
      "source": [
        "c = torch.tensor([3.6], requires_grad=True)\n",
        "\n",
        "d = c * c\n",
        "d.backward()"
      ],
      "metadata": {
        "id": "Juvdaxz3iuyX"
      },
      "execution_count": 9,
      "outputs": []
    },
    {
      "cell_type": "code",
      "source": [
        "print(c.grad)"
      ],
      "metadata": {
        "colab": {
          "base_uri": "https://localhost:8080/"
        },
        "id": "UYKK317mjbeA",
        "outputId": "52b137bd-bc04-4311-ebf6-8b7078f29d67"
      },
      "execution_count": 11,
      "outputs": [
        {
          "output_type": "stream",
          "name": "stdout",
          "text": [
            "tensor([7.2000])\n"
          ]
        }
      ]
    },
    {
      "cell_type": "markdown",
      "source": [
        "AutoGrad for Polynomial Regression"
      ],
      "metadata": {
        "id": "o3-ZFd2XkbqU"
      }
    },
    {
      "cell_type": "code",
      "source": [
        "pol = np.poly1d([2, 3, 5])"
      ],
      "metadata": {
        "id": "bYX8qSbDkiw4"
      },
      "execution_count": 15,
      "outputs": []
    },
    {
      "cell_type": "code",
      "source": [
        "print(pol)"
      ],
      "metadata": {
        "colab": {
          "base_uri": "https://localhost:8080/"
        },
        "id": "6zf9D7Imk26B",
        "outputId": "5a9b342f-fc40-4fdd-fb8b-d01f5a3f1e9e"
      },
      "execution_count": 16,
      "outputs": [
        {
          "output_type": "stream",
          "name": "stdout",
          "text": [
            "   2\n",
            "2 x + 3 x + 5\n"
          ]
        }
      ]
    },
    {
      "cell_type": "code",
      "source": [
        "pol(2.8)"
      ],
      "metadata": {
        "colab": {
          "base_uri": "https://localhost:8080/"
        },
        "id": "6imJKpJJk5x7",
        "outputId": "a193413e-70e9-438a-b199-f5c4bd37e286"
      },
      "execution_count": 19,
      "outputs": [
        {
          "output_type": "execute_result",
          "data": {
            "text/plain": [
              "29.08"
            ]
          },
          "metadata": {},
          "execution_count": 19
        }
      ]
    },
    {
      "cell_type": "code",
      "source": [
        "d = 36\n",
        "\n",
        "x = np.random.randn(d, 1) * 5\n",
        "y = pol(x)"
      ],
      "metadata": {
        "id": "zpac7E44lOfa"
      },
      "execution_count": 20,
      "outputs": []
    },
    {
      "cell_type": "code",
      "source": [
        "x"
      ],
      "metadata": {
        "colab": {
          "base_uri": "https://localhost:8080/"
        },
        "id": "eAMB5wB-mRk6",
        "outputId": "5f61294c-1cff-484c-b308-deae15a1749a"
      },
      "execution_count": 22,
      "outputs": [
        {
          "output_type": "execute_result",
          "data": {
            "text/plain": [
              "array([[-0.24880783],\n",
              "       [-4.52569126],\n",
              "       [-3.14057011],\n",
              "       [-4.8164715 ],\n",
              "       [ 3.01710122],\n",
              "       [ 0.08493543],\n",
              "       [-7.02565989],\n",
              "       [ 3.38133267],\n",
              "       [-7.64599017],\n",
              "       [-4.51613751],\n",
              "       [-6.55514302],\n",
              "       [-5.32429782],\n",
              "       [ 0.9707846 ],\n",
              "       [-7.74607773],\n",
              "       [-5.34329434],\n",
              "       [-5.06940439],\n",
              "       [-9.17927177],\n",
              "       [ 0.82360029],\n",
              "       [ 5.0420113 ],\n",
              "       [-5.13403266],\n",
              "       [-0.70543574],\n",
              "       [-5.42994978],\n",
              "       [ 3.19053193],\n",
              "       [ 2.58630391],\n",
              "       [ 0.48314687],\n",
              "       [-6.58715831],\n",
              "       [-7.06085353],\n",
              "       [-0.64476573],\n",
              "       [ 1.8751103 ],\n",
              "       [-1.41114569],\n",
              "       [-5.41368285],\n",
              "       [-0.35833368],\n",
              "       [ 7.32461216],\n",
              "       [ 2.45746948],\n",
              "       [ 7.64865741],\n",
              "       [-7.72563917]])"
            ]
          },
          "metadata": {},
          "execution_count": 22
        }
      ]
    },
    {
      "cell_type": "code",
      "source": [
        "y"
      ],
      "metadata": {
        "colab": {
          "base_uri": "https://localhost:8080/"
        },
        "id": "UCCZ06mcmYgN",
        "outputId": "0d1ece99-8bc7-414a-f98f-de88102ec764"
      },
      "execution_count": 23,
      "outputs": [
        {
          "output_type": "execute_result",
          "data": {
            "text/plain": [
              "array([[  4.37738719],\n",
              "       [ 32.38668901],\n",
              "       [ 15.30465095],\n",
              "       [ 36.94738092],\n",
              "       [ 32.25710326],\n",
              "       [  5.26923434],\n",
              "       [ 82.64281413],\n",
              "       [ 38.01081922],\n",
              "       [ 98.9843609 ],\n",
              "       [ 32.24258354],\n",
              "       [ 71.27437085],\n",
              "       [ 45.72340116],\n",
              "       [  9.79719927],\n",
              "       [101.76520726],\n",
              "       [ 46.07170573],\n",
              "       [ 41.18950851],\n",
              "       [145.98024527],\n",
              "       [  8.82743576],\n",
              "       [ 70.96978969],\n",
              "       [ 42.31448481],\n",
              "       [  3.87897195],\n",
              "       [ 47.67885979],\n",
              "       [ 34.93058374],\n",
              "       [ 26.13684751],\n",
              "       [  6.91630241],\n",
              "       [ 72.0198342 ],\n",
              "       [ 83.52874465],\n",
              "       [  3.8971485 ],\n",
              "       [ 17.6574082 ],\n",
              "       [  4.74922725],\n",
              "       [ 47.37487544],\n",
              "       [  4.18180502],\n",
              "       [134.27372316],\n",
              "       [ 24.45072088],\n",
              "       [144.94989248],\n",
              "       [101.19408375]])"
            ]
          },
          "metadata": {},
          "execution_count": 23
        }
      ]
    },
    {
      "cell_type": "code",
      "source": [],
      "metadata": {
        "id": "6OEgo5zKmhnN"
      },
      "execution_count": null,
      "outputs": []
    }
  ]
}