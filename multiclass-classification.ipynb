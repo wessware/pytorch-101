{
 "cells": [
  {
   "cell_type": "code",
   "execution_count": 1,
   "id": "d3dbe3d3",
   "metadata": {
    "_cell_guid": "b1076dfc-b9ad-4769-8c92-a6c4dae69d19",
    "_uuid": "8f2839f25d086af736a60e9eeb907d3b93b6e0e5",
    "execution": {
     "iopub.execute_input": "2023-02-24T08:45:55.698402Z",
     "iopub.status.busy": "2023-02-24T08:45:55.697648Z",
     "iopub.status.idle": "2023-02-24T08:45:58.432912Z",
     "shell.execute_reply": "2023-02-24T08:45:58.431739Z"
    },
    "papermill": {
     "duration": 2.750764,
     "end_time": "2023-02-24T08:45:58.435882",
     "exception": false,
     "start_time": "2023-02-24T08:45:55.685118",
     "status": "completed"
    },
    "tags": []
   },
   "outputs": [],
   "source": [
    "import numpy as np\n",
    "import pandas as pd \n",
    "\n",
    "from sklearn.preprocessing import MinMaxScaler\n",
    "from sklearn.preprocessing import OneHotEncoder\n",
    "from sklearn.model_selection import train_test_split\n",
    "\n",
    "import matplotlib.pyplot as plt\n",
    "\n",
    "import torch\n",
    "import torch.nn as nn\n",
    "import torch.optim as optim\n",
    "import tqdm"
   ]
  },
  {
   "cell_type": "code",
   "execution_count": 2,
   "id": "7e60db55",
   "metadata": {
    "execution": {
     "iopub.execute_input": "2023-02-24T08:45:58.452538Z",
     "iopub.status.busy": "2023-02-24T08:45:58.451410Z",
     "iopub.status.idle": "2023-02-24T08:45:59.285630Z",
     "shell.execute_reply": "2023-02-24T08:45:59.284709Z"
    },
    "papermill": {
     "duration": 0.845249,
     "end_time": "2023-02-24T08:45:59.288322",
     "exception": false,
     "start_time": "2023-02-24T08:45:58.443073",
     "status": "completed"
    },
    "tags": []
   },
   "outputs": [],
   "source": [
    "df = pd.read_csv('/kaggle/input/clean-data-australia-rainfall/rainfall_data_australia.csv', index_col=None)"
   ]
  },
  {
   "cell_type": "code",
   "execution_count": 3,
   "id": "22fc9428",
   "metadata": {
    "execution": {
     "iopub.execute_input": "2023-02-24T08:45:59.305092Z",
     "iopub.status.busy": "2023-02-24T08:45:59.304450Z",
     "iopub.status.idle": "2023-02-24T08:45:59.313342Z",
     "shell.execute_reply": "2023-02-24T08:45:59.312185Z"
    },
    "papermill": {
     "duration": 0.020456,
     "end_time": "2023-02-24T08:45:59.315715",
     "exception": false,
     "start_time": "2023-02-24T08:45:59.295259",
     "status": "completed"
    },
    "tags": []
   },
   "outputs": [
    {
     "data": {
      "text/plain": [
       "(351587, 18)"
      ]
     },
     "execution_count": 3,
     "metadata": {},
     "output_type": "execute_result"
    }
   ],
   "source": [
    "df.shape"
   ]
  },
  {
   "cell_type": "code",
   "execution_count": 4,
   "id": "3e44877f",
   "metadata": {
    "execution": {
     "iopub.execute_input": "2023-02-24T08:45:59.331623Z",
     "iopub.status.busy": "2023-02-24T08:45:59.330966Z",
     "iopub.status.idle": "2023-02-24T08:45:59.359197Z",
     "shell.execute_reply": "2023-02-24T08:45:59.358006Z"
    },
    "papermill": {
     "duration": 0.039181,
     "end_time": "2023-02-24T08:45:59.361853",
     "exception": false,
     "start_time": "2023-02-24T08:45:59.322672",
     "status": "completed"
    },
    "tags": []
   },
   "outputs": [
    {
     "data": {
      "text/html": [
       "<div>\n",
       "<style scoped>\n",
       "    .dataframe tbody tr th:only-of-type {\n",
       "        vertical-align: middle;\n",
       "    }\n",
       "\n",
       "    .dataframe tbody tr th {\n",
       "        vertical-align: top;\n",
       "    }\n",
       "\n",
       "    .dataframe thead th {\n",
       "        text-align: right;\n",
       "    }\n",
       "</style>\n",
       "<table border=\"1\" class=\"dataframe\">\n",
       "  <thead>\n",
       "    <tr style=\"text-align: right;\">\n",
       "      <th></th>\n",
       "      <th>MinTemp</th>\n",
       "      <th>MaxTemp</th>\n",
       "      <th>Rainfall</th>\n",
       "      <th>Evaporation</th>\n",
       "      <th>Sunshine</th>\n",
       "      <th>WindGustSpeed</th>\n",
       "      <th>WindSpeed9am</th>\n",
       "      <th>WindSpeed3pm</th>\n",
       "      <th>Humidity9am</th>\n",
       "      <th>Humidity3pm</th>\n",
       "      <th>Pressure9am</th>\n",
       "      <th>Pressure3pm</th>\n",
       "      <th>Cloud9am</th>\n",
       "      <th>Cloud3pm</th>\n",
       "      <th>Temp9am</th>\n",
       "      <th>Temp3pm</th>\n",
       "      <th>RainToday</th>\n",
       "      <th>RainTomorrow</th>\n",
       "    </tr>\n",
       "  </thead>\n",
       "  <tbody>\n",
       "    <tr>\n",
       "      <th>0</th>\n",
       "      <td>17.9</td>\n",
       "      <td>35.2</td>\n",
       "      <td>0.0</td>\n",
       "      <td>12.0</td>\n",
       "      <td>12.3</td>\n",
       "      <td>48</td>\n",
       "      <td>6.0</td>\n",
       "      <td>20.0</td>\n",
       "      <td>20</td>\n",
       "      <td>13.0</td>\n",
       "      <td>1006.3</td>\n",
       "      <td>1004.4</td>\n",
       "      <td>2</td>\n",
       "      <td>5</td>\n",
       "      <td>26.6</td>\n",
       "      <td>33.4</td>\n",
       "      <td>2</td>\n",
       "      <td>2</td>\n",
       "    </tr>\n",
       "    <tr>\n",
       "      <th>1</th>\n",
       "      <td>17.9</td>\n",
       "      <td>35.2</td>\n",
       "      <td>0.0</td>\n",
       "      <td>12.0</td>\n",
       "      <td>12.3</td>\n",
       "      <td>48</td>\n",
       "      <td>6.0</td>\n",
       "      <td>20.0</td>\n",
       "      <td>20</td>\n",
       "      <td>13.0</td>\n",
       "      <td>1006.3</td>\n",
       "      <td>1004.4</td>\n",
       "      <td>2</td>\n",
       "      <td>5</td>\n",
       "      <td>26.6</td>\n",
       "      <td>33.4</td>\n",
       "      <td>2</td>\n",
       "      <td>2</td>\n",
       "    </tr>\n",
       "    <tr>\n",
       "      <th>2</th>\n",
       "      <td>17.9</td>\n",
       "      <td>35.2</td>\n",
       "      <td>0.0</td>\n",
       "      <td>12.0</td>\n",
       "      <td>12.3</td>\n",
       "      <td>48</td>\n",
       "      <td>6.0</td>\n",
       "      <td>20.0</td>\n",
       "      <td>20</td>\n",
       "      <td>13.0</td>\n",
       "      <td>1006.3</td>\n",
       "      <td>1004.4</td>\n",
       "      <td>2</td>\n",
       "      <td>5</td>\n",
       "      <td>26.6</td>\n",
       "      <td>33.4</td>\n",
       "      <td>2</td>\n",
       "      <td>2</td>\n",
       "    </tr>\n",
       "    <tr>\n",
       "      <th>3</th>\n",
       "      <td>17.9</td>\n",
       "      <td>35.2</td>\n",
       "      <td>0.0</td>\n",
       "      <td>12.0</td>\n",
       "      <td>12.3</td>\n",
       "      <td>48</td>\n",
       "      <td>6.0</td>\n",
       "      <td>20.0</td>\n",
       "      <td>20</td>\n",
       "      <td>13.0</td>\n",
       "      <td>1006.3</td>\n",
       "      <td>1004.4</td>\n",
       "      <td>2</td>\n",
       "      <td>5</td>\n",
       "      <td>26.6</td>\n",
       "      <td>33.4</td>\n",
       "      <td>2</td>\n",
       "      <td>2</td>\n",
       "    </tr>\n",
       "    <tr>\n",
       "      <th>4</th>\n",
       "      <td>17.9</td>\n",
       "      <td>35.2</td>\n",
       "      <td>0.0</td>\n",
       "      <td>12.0</td>\n",
       "      <td>12.3</td>\n",
       "      <td>48</td>\n",
       "      <td>6.0</td>\n",
       "      <td>20.0</td>\n",
       "      <td>20</td>\n",
       "      <td>13.0</td>\n",
       "      <td>1006.3</td>\n",
       "      <td>1004.4</td>\n",
       "      <td>2</td>\n",
       "      <td>5</td>\n",
       "      <td>26.6</td>\n",
       "      <td>33.4</td>\n",
       "      <td>2</td>\n",
       "      <td>2</td>\n",
       "    </tr>\n",
       "  </tbody>\n",
       "</table>\n",
       "</div>"
      ],
      "text/plain": [
       "   MinTemp  MaxTemp  Rainfall  Evaporation  Sunshine  WindGustSpeed  \\\n",
       "0     17.9     35.2       0.0         12.0      12.3             48   \n",
       "1     17.9     35.2       0.0         12.0      12.3             48   \n",
       "2     17.9     35.2       0.0         12.0      12.3             48   \n",
       "3     17.9     35.2       0.0         12.0      12.3             48   \n",
       "4     17.9     35.2       0.0         12.0      12.3             48   \n",
       "\n",
       "   WindSpeed9am  WindSpeed3pm  Humidity9am  Humidity3pm  Pressure9am  \\\n",
       "0           6.0          20.0           20         13.0       1006.3   \n",
       "1           6.0          20.0           20         13.0       1006.3   \n",
       "2           6.0          20.0           20         13.0       1006.3   \n",
       "3           6.0          20.0           20         13.0       1006.3   \n",
       "4           6.0          20.0           20         13.0       1006.3   \n",
       "\n",
       "   Pressure3pm  Cloud9am  Cloud3pm  Temp9am  Temp3pm  RainToday  RainTomorrow  \n",
       "0       1004.4         2         5     26.6     33.4          2             2  \n",
       "1       1004.4         2         5     26.6     33.4          2             2  \n",
       "2       1004.4         2         5     26.6     33.4          2             2  \n",
       "3       1004.4         2         5     26.6     33.4          2             2  \n",
       "4       1004.4         2         5     26.6     33.4          2             2  "
      ]
     },
     "execution_count": 4,
     "metadata": {},
     "output_type": "execute_result"
    }
   ],
   "source": [
    "df.head()"
   ]
  },
  {
   "cell_type": "code",
   "execution_count": 5,
   "id": "38b6e505",
   "metadata": {
    "execution": {
     "iopub.execute_input": "2023-02-24T08:45:59.379140Z",
     "iopub.status.busy": "2023-02-24T08:45:59.378695Z",
     "iopub.status.idle": "2023-02-24T08:45:59.392319Z",
     "shell.execute_reply": "2023-02-24T08:45:59.391040Z"
    },
    "papermill": {
     "duration": 0.024856,
     "end_time": "2023-02-24T08:45:59.394767",
     "exception": false,
     "start_time": "2023-02-24T08:45:59.369911",
     "status": "completed"
    },
    "tags": []
   },
   "outputs": [
    {
     "data": {
      "text/plain": [
       "MinTemp           True\n",
       "MaxTemp           True\n",
       "Rainfall         False\n",
       "Evaporation       True\n",
       "Sunshine         False\n",
       "WindGustSpeed    False\n",
       "WindSpeed9am      True\n",
       "WindSpeed3pm      True\n",
       "Humidity9am      False\n",
       "Humidity3pm       True\n",
       "Pressure9am       True\n",
       "Pressure3pm       True\n",
       "Cloud9am         False\n",
       "Cloud3pm         False\n",
       "Temp9am          False\n",
       "Temp3pm           True\n",
       "RainToday        False\n",
       "RainTomorrow     False\n",
       "dtype: bool"
      ]
     },
     "execution_count": 5,
     "metadata": {},
     "output_type": "execute_result"
    }
   ],
   "source": [
    "df.isna().any()"
   ]
  },
  {
   "cell_type": "code",
   "execution_count": 6,
   "id": "73502ae9",
   "metadata": {
    "execution": {
     "iopub.execute_input": "2023-02-24T08:45:59.411658Z",
     "iopub.status.busy": "2023-02-24T08:45:59.411219Z",
     "iopub.status.idle": "2023-02-24T08:45:59.477057Z",
     "shell.execute_reply": "2023-02-24T08:45:59.476016Z"
    },
    "papermill": {
     "duration": 0.077255,
     "end_time": "2023-02-24T08:45:59.479676",
     "exception": false,
     "start_time": "2023-02-24T08:45:59.402421",
     "status": "completed"
    },
    "tags": []
   },
   "outputs": [],
   "source": [
    "df = df.dropna()"
   ]
  },
  {
   "cell_type": "code",
   "execution_count": 7,
   "id": "49b4147b",
   "metadata": {
    "execution": {
     "iopub.execute_input": "2023-02-24T08:45:59.497625Z",
     "iopub.status.busy": "2023-02-24T08:45:59.496827Z",
     "iopub.status.idle": "2023-02-24T08:45:59.511008Z",
     "shell.execute_reply": "2023-02-24T08:45:59.509853Z"
    },
    "papermill": {
     "duration": 0.025758,
     "end_time": "2023-02-24T08:45:59.513553",
     "exception": false,
     "start_time": "2023-02-24T08:45:59.487795",
     "status": "completed"
    },
    "tags": []
   },
   "outputs": [
    {
     "data": {
      "text/plain": [
       "MinTemp          False\n",
       "MaxTemp          False\n",
       "Rainfall         False\n",
       "Evaporation      False\n",
       "Sunshine         False\n",
       "WindGustSpeed    False\n",
       "WindSpeed9am     False\n",
       "WindSpeed3pm     False\n",
       "Humidity9am      False\n",
       "Humidity3pm      False\n",
       "Pressure9am      False\n",
       "Pressure3pm      False\n",
       "Cloud9am         False\n",
       "Cloud3pm         False\n",
       "Temp9am          False\n",
       "Temp3pm          False\n",
       "RainToday        False\n",
       "RainTomorrow     False\n",
       "dtype: bool"
      ]
     },
     "execution_count": 7,
     "metadata": {},
     "output_type": "execute_result"
    }
   ],
   "source": [
    "df.isna().any()"
   ]
  },
  {
   "cell_type": "code",
   "execution_count": 8,
   "id": "0ea04e18",
   "metadata": {
    "execution": {
     "iopub.execute_input": "2023-02-24T08:45:59.531080Z",
     "iopub.status.busy": "2023-02-24T08:45:59.530690Z",
     "iopub.status.idle": "2023-02-24T08:45:59.536884Z",
     "shell.execute_reply": "2023-02-24T08:45:59.535821Z"
    },
    "papermill": {
     "duration": 0.017578,
     "end_time": "2023-02-24T08:45:59.539024",
     "exception": false,
     "start_time": "2023-02-24T08:45:59.521446",
     "status": "completed"
    },
    "tags": []
   },
   "outputs": [
    {
     "data": {
      "text/plain": [
       "(349416, 18)"
      ]
     },
     "execution_count": 8,
     "metadata": {},
     "output_type": "execute_result"
    }
   ],
   "source": [
    "df.shape"
   ]
  },
  {
   "cell_type": "code",
   "execution_count": 9,
   "id": "f6e8cbf3",
   "metadata": {
    "execution": {
     "iopub.execute_input": "2023-02-24T08:45:59.556558Z",
     "iopub.status.busy": "2023-02-24T08:45:59.556144Z",
     "iopub.status.idle": "2023-02-24T08:45:59.563485Z",
     "shell.execute_reply": "2023-02-24T08:45:59.562397Z"
    },
    "papermill": {
     "duration": 0.018935,
     "end_time": "2023-02-24T08:45:59.565764",
     "exception": false,
     "start_time": "2023-02-24T08:45:59.546829",
     "status": "completed"
    },
    "tags": []
   },
   "outputs": [
    {
     "data": {
      "text/plain": [
       "Index(['MinTemp', 'MaxTemp', 'Rainfall', 'Evaporation', 'Sunshine',\n",
       "       'WindGustSpeed', 'WindSpeed9am', 'WindSpeed3pm', 'Humidity9am',\n",
       "       'Humidity3pm', 'Pressure9am', 'Pressure3pm', 'Cloud9am', 'Cloud3pm',\n",
       "       'Temp9am', 'Temp3pm', 'RainToday', 'RainTomorrow'],\n",
       "      dtype='object')"
      ]
     },
     "execution_count": 9,
     "metadata": {},
     "output_type": "execute_result"
    }
   ],
   "source": [
    "df.columns"
   ]
  },
  {
   "cell_type": "code",
   "execution_count": 10,
   "id": "a8c52f5a",
   "metadata": {
    "execution": {
     "iopub.execute_input": "2023-02-24T08:45:59.583061Z",
     "iopub.status.busy": "2023-02-24T08:45:59.582632Z",
     "iopub.status.idle": "2023-02-24T08:45:59.597996Z",
     "shell.execute_reply": "2023-02-24T08:45:59.597218Z"
    },
    "papermill": {
     "duration": 0.026477,
     "end_time": "2023-02-24T08:45:59.600055",
     "exception": false,
     "start_time": "2023-02-24T08:45:59.573578",
     "status": "completed"
    },
    "tags": []
   },
   "outputs": [
    {
     "data": {
      "text/plain": [
       "array([2, 1, 3])"
      ]
     },
     "execution_count": 10,
     "metadata": {},
     "output_type": "execute_result"
    }
   ],
   "source": [
    "df['RainTomorrow'].unique()"
   ]
  },
  {
   "cell_type": "code",
   "execution_count": 11,
   "id": "bc614f6a",
   "metadata": {
    "execution": {
     "iopub.execute_input": "2023-02-24T08:45:59.618223Z",
     "iopub.status.busy": "2023-02-24T08:45:59.617013Z",
     "iopub.status.idle": "2023-02-24T08:45:59.672602Z",
     "shell.execute_reply": "2023-02-24T08:45:59.671269Z"
    },
    "papermill": {
     "duration": 0.067678,
     "end_time": "2023-02-24T08:45:59.675721",
     "exception": false,
     "start_time": "2023-02-24T08:45:59.608043",
     "status": "completed"
    },
    "tags": []
   },
   "outputs": [],
   "source": [
    "string_var = {'RainTomorrow': {1:'Yes', 2:'No', 3:'Yes_No'}}\n",
    "\n",
    "df = df.replace(string_var)"
   ]
  },
  {
   "cell_type": "code",
   "execution_count": 12,
   "id": "d233d130",
   "metadata": {
    "execution": {
     "iopub.execute_input": "2023-02-24T08:45:59.693649Z",
     "iopub.status.busy": "2023-02-24T08:45:59.693213Z",
     "iopub.status.idle": "2023-02-24T08:45:59.698559Z",
     "shell.execute_reply": "2023-02-24T08:45:59.697503Z"
    },
    "papermill": {
     "duration": 0.016964,
     "end_time": "2023-02-24T08:45:59.700887",
     "exception": false,
     "start_time": "2023-02-24T08:45:59.683923",
     "status": "completed"
    },
    "tags": []
   },
   "outputs": [],
   "source": [
    "x_cols = ['MinTemp', 'MaxTemp', 'Rainfall', 'Evaporation', 'Sunshine',\n",
    "       'WindGustSpeed', 'WindSpeed9am', 'WindSpeed3pm', 'Humidity9am',\n",
    "       'Humidity3pm', 'Pressure9am', 'Pressure3pm', 'Cloud9am', 'Cloud3pm',\n",
    "       'Temp9am', 'Temp3pm', 'RainToday']"
   ]
  },
  {
   "cell_type": "code",
   "execution_count": 13,
   "id": "4a86d0d0",
   "metadata": {
    "execution": {
     "iopub.execute_input": "2023-02-24T08:45:59.718640Z",
     "iopub.status.busy": "2023-02-24T08:45:59.718213Z",
     "iopub.status.idle": "2023-02-24T08:45:59.742351Z",
     "shell.execute_reply": "2023-02-24T08:45:59.741433Z"
    },
    "papermill": {
     "duration": 0.035783,
     "end_time": "2023-02-24T08:45:59.744868",
     "exception": false,
     "start_time": "2023-02-24T08:45:59.709085",
     "status": "completed"
    },
    "tags": []
   },
   "outputs": [],
   "source": [
    "x = df[x_cols]\n",
    "\n",
    "y = df[['RainTomorrow']]"
   ]
  },
  {
   "cell_type": "code",
   "execution_count": 14,
   "id": "e63cd359",
   "metadata": {
    "execution": {
     "iopub.execute_input": "2023-02-24T08:45:59.762609Z",
     "iopub.status.busy": "2023-02-24T08:45:59.762124Z",
     "iopub.status.idle": "2023-02-24T08:45:59.796742Z",
     "shell.execute_reply": "2023-02-24T08:45:59.795657Z"
    },
    "papermill": {
     "duration": 0.046443,
     "end_time": "2023-02-24T08:45:59.799362",
     "exception": false,
     "start_time": "2023-02-24T08:45:59.752919",
     "status": "completed"
    },
    "tags": []
   },
   "outputs": [
    {
     "data": {
      "text/html": [
       "<div>\n",
       "<style scoped>\n",
       "    .dataframe tbody tr th:only-of-type {\n",
       "        vertical-align: middle;\n",
       "    }\n",
       "\n",
       "    .dataframe tbody tr th {\n",
       "        vertical-align: top;\n",
       "    }\n",
       "\n",
       "    .dataframe thead th {\n",
       "        text-align: right;\n",
       "    }\n",
       "</style>\n",
       "<table border=\"1\" class=\"dataframe\">\n",
       "  <thead>\n",
       "    <tr style=\"text-align: right;\">\n",
       "      <th></th>\n",
       "      <th>MinTemp</th>\n",
       "      <th>MaxTemp</th>\n",
       "      <th>Rainfall</th>\n",
       "      <th>Evaporation</th>\n",
       "      <th>Sunshine</th>\n",
       "      <th>WindGustSpeed</th>\n",
       "      <th>WindSpeed9am</th>\n",
       "      <th>WindSpeed3pm</th>\n",
       "      <th>Humidity9am</th>\n",
       "      <th>Humidity3pm</th>\n",
       "      <th>Pressure9am</th>\n",
       "      <th>Pressure3pm</th>\n",
       "      <th>Cloud9am</th>\n",
       "      <th>Cloud3pm</th>\n",
       "      <th>Temp9am</th>\n",
       "      <th>Temp3pm</th>\n",
       "      <th>RainToday</th>\n",
       "    </tr>\n",
       "  </thead>\n",
       "  <tbody>\n",
       "    <tr>\n",
       "      <th>0</th>\n",
       "      <td>17.9</td>\n",
       "      <td>35.2</td>\n",
       "      <td>0.0</td>\n",
       "      <td>12.0</td>\n",
       "      <td>12.3</td>\n",
       "      <td>48</td>\n",
       "      <td>6.0</td>\n",
       "      <td>20.0</td>\n",
       "      <td>20</td>\n",
       "      <td>13.0</td>\n",
       "      <td>1006.3</td>\n",
       "      <td>1004.4</td>\n",
       "      <td>2</td>\n",
       "      <td>5</td>\n",
       "      <td>26.6</td>\n",
       "      <td>33.4</td>\n",
       "      <td>2</td>\n",
       "    </tr>\n",
       "    <tr>\n",
       "      <th>1</th>\n",
       "      <td>17.9</td>\n",
       "      <td>35.2</td>\n",
       "      <td>0.0</td>\n",
       "      <td>12.0</td>\n",
       "      <td>12.3</td>\n",
       "      <td>48</td>\n",
       "      <td>6.0</td>\n",
       "      <td>20.0</td>\n",
       "      <td>20</td>\n",
       "      <td>13.0</td>\n",
       "      <td>1006.3</td>\n",
       "      <td>1004.4</td>\n",
       "      <td>2</td>\n",
       "      <td>5</td>\n",
       "      <td>26.6</td>\n",
       "      <td>33.4</td>\n",
       "      <td>2</td>\n",
       "    </tr>\n",
       "    <tr>\n",
       "      <th>2</th>\n",
       "      <td>17.9</td>\n",
       "      <td>35.2</td>\n",
       "      <td>0.0</td>\n",
       "      <td>12.0</td>\n",
       "      <td>12.3</td>\n",
       "      <td>48</td>\n",
       "      <td>6.0</td>\n",
       "      <td>20.0</td>\n",
       "      <td>20</td>\n",
       "      <td>13.0</td>\n",
       "      <td>1006.3</td>\n",
       "      <td>1004.4</td>\n",
       "      <td>2</td>\n",
       "      <td>5</td>\n",
       "      <td>26.6</td>\n",
       "      <td>33.4</td>\n",
       "      <td>2</td>\n",
       "    </tr>\n",
       "    <tr>\n",
       "      <th>3</th>\n",
       "      <td>17.9</td>\n",
       "      <td>35.2</td>\n",
       "      <td>0.0</td>\n",
       "      <td>12.0</td>\n",
       "      <td>12.3</td>\n",
       "      <td>48</td>\n",
       "      <td>6.0</td>\n",
       "      <td>20.0</td>\n",
       "      <td>20</td>\n",
       "      <td>13.0</td>\n",
       "      <td>1006.3</td>\n",
       "      <td>1004.4</td>\n",
       "      <td>2</td>\n",
       "      <td>5</td>\n",
       "      <td>26.6</td>\n",
       "      <td>33.4</td>\n",
       "      <td>2</td>\n",
       "    </tr>\n",
       "    <tr>\n",
       "      <th>4</th>\n",
       "      <td>17.9</td>\n",
       "      <td>35.2</td>\n",
       "      <td>0.0</td>\n",
       "      <td>12.0</td>\n",
       "      <td>12.3</td>\n",
       "      <td>48</td>\n",
       "      <td>6.0</td>\n",
       "      <td>20.0</td>\n",
       "      <td>20</td>\n",
       "      <td>13.0</td>\n",
       "      <td>1006.3</td>\n",
       "      <td>1004.4</td>\n",
       "      <td>2</td>\n",
       "      <td>5</td>\n",
       "      <td>26.6</td>\n",
       "      <td>33.4</td>\n",
       "      <td>2</td>\n",
       "    </tr>\n",
       "    <tr>\n",
       "      <th>...</th>\n",
       "      <td>...</td>\n",
       "      <td>...</td>\n",
       "      <td>...</td>\n",
       "      <td>...</td>\n",
       "      <td>...</td>\n",
       "      <td>...</td>\n",
       "      <td>...</td>\n",
       "      <td>...</td>\n",
       "      <td>...</td>\n",
       "      <td>...</td>\n",
       "      <td>...</td>\n",
       "      <td>...</td>\n",
       "      <td>...</td>\n",
       "      <td>...</td>\n",
       "      <td>...</td>\n",
       "      <td>...</td>\n",
       "      <td>...</td>\n",
       "    </tr>\n",
       "    <tr>\n",
       "      <th>351582</th>\n",
       "      <td>20.2</td>\n",
       "      <td>31.7</td>\n",
       "      <td>0.0</td>\n",
       "      <td>5.6</td>\n",
       "      <td>10.7</td>\n",
       "      <td>30</td>\n",
       "      <td>15.0</td>\n",
       "      <td>7.0</td>\n",
       "      <td>73</td>\n",
       "      <td>32.0</td>\n",
       "      <td>1013.9</td>\n",
       "      <td>1009.7</td>\n",
       "      <td>6</td>\n",
       "      <td>5</td>\n",
       "      <td>25.4</td>\n",
       "      <td>31.0</td>\n",
       "      <td>2</td>\n",
       "    </tr>\n",
       "    <tr>\n",
       "      <th>351583</th>\n",
       "      <td>20.2</td>\n",
       "      <td>31.7</td>\n",
       "      <td>0.0</td>\n",
       "      <td>5.6</td>\n",
       "      <td>10.7</td>\n",
       "      <td>30</td>\n",
       "      <td>15.0</td>\n",
       "      <td>7.0</td>\n",
       "      <td>73</td>\n",
       "      <td>32.0</td>\n",
       "      <td>1013.9</td>\n",
       "      <td>1009.7</td>\n",
       "      <td>6</td>\n",
       "      <td>5</td>\n",
       "      <td>25.4</td>\n",
       "      <td>31.0</td>\n",
       "      <td>2</td>\n",
       "    </tr>\n",
       "    <tr>\n",
       "      <th>351584</th>\n",
       "      <td>20.2</td>\n",
       "      <td>31.7</td>\n",
       "      <td>0.0</td>\n",
       "      <td>5.6</td>\n",
       "      <td>10.7</td>\n",
       "      <td>30</td>\n",
       "      <td>15.0</td>\n",
       "      <td>7.0</td>\n",
       "      <td>73</td>\n",
       "      <td>32.0</td>\n",
       "      <td>1013.9</td>\n",
       "      <td>1009.7</td>\n",
       "      <td>6</td>\n",
       "      <td>5</td>\n",
       "      <td>25.4</td>\n",
       "      <td>31.0</td>\n",
       "      <td>2</td>\n",
       "    </tr>\n",
       "    <tr>\n",
       "      <th>351585</th>\n",
       "      <td>20.2</td>\n",
       "      <td>31.7</td>\n",
       "      <td>0.0</td>\n",
       "      <td>5.6</td>\n",
       "      <td>10.7</td>\n",
       "      <td>30</td>\n",
       "      <td>15.0</td>\n",
       "      <td>7.0</td>\n",
       "      <td>73</td>\n",
       "      <td>32.0</td>\n",
       "      <td>1013.9</td>\n",
       "      <td>1009.7</td>\n",
       "      <td>6</td>\n",
       "      <td>5</td>\n",
       "      <td>25.4</td>\n",
       "      <td>31.0</td>\n",
       "      <td>2</td>\n",
       "    </tr>\n",
       "    <tr>\n",
       "      <th>351586</th>\n",
       "      <td>20.2</td>\n",
       "      <td>31.7</td>\n",
       "      <td>0.0</td>\n",
       "      <td>5.6</td>\n",
       "      <td>10.7</td>\n",
       "      <td>30</td>\n",
       "      <td>15.0</td>\n",
       "      <td>7.0</td>\n",
       "      <td>73</td>\n",
       "      <td>32.0</td>\n",
       "      <td>1013.9</td>\n",
       "      <td>1009.7</td>\n",
       "      <td>6</td>\n",
       "      <td>5</td>\n",
       "      <td>25.4</td>\n",
       "      <td>31.0</td>\n",
       "      <td>2</td>\n",
       "    </tr>\n",
       "  </tbody>\n",
       "</table>\n",
       "<p>349416 rows × 17 columns</p>\n",
       "</div>"
      ],
      "text/plain": [
       "        MinTemp  MaxTemp  Rainfall  Evaporation  Sunshine  WindGustSpeed  \\\n",
       "0          17.9     35.2       0.0         12.0      12.3             48   \n",
       "1          17.9     35.2       0.0         12.0      12.3             48   \n",
       "2          17.9     35.2       0.0         12.0      12.3             48   \n",
       "3          17.9     35.2       0.0         12.0      12.3             48   \n",
       "4          17.9     35.2       0.0         12.0      12.3             48   \n",
       "...         ...      ...       ...          ...       ...            ...   \n",
       "351582     20.2     31.7       0.0          5.6      10.7             30   \n",
       "351583     20.2     31.7       0.0          5.6      10.7             30   \n",
       "351584     20.2     31.7       0.0          5.6      10.7             30   \n",
       "351585     20.2     31.7       0.0          5.6      10.7             30   \n",
       "351586     20.2     31.7       0.0          5.6      10.7             30   \n",
       "\n",
       "        WindSpeed9am  WindSpeed3pm  Humidity9am  Humidity3pm  Pressure9am  \\\n",
       "0                6.0          20.0           20         13.0       1006.3   \n",
       "1                6.0          20.0           20         13.0       1006.3   \n",
       "2                6.0          20.0           20         13.0       1006.3   \n",
       "3                6.0          20.0           20         13.0       1006.3   \n",
       "4                6.0          20.0           20         13.0       1006.3   \n",
       "...              ...           ...          ...          ...          ...   \n",
       "351582          15.0           7.0           73         32.0       1013.9   \n",
       "351583          15.0           7.0           73         32.0       1013.9   \n",
       "351584          15.0           7.0           73         32.0       1013.9   \n",
       "351585          15.0           7.0           73         32.0       1013.9   \n",
       "351586          15.0           7.0           73         32.0       1013.9   \n",
       "\n",
       "        Pressure3pm  Cloud9am  Cloud3pm  Temp9am  Temp3pm  RainToday  \n",
       "0            1004.4         2         5     26.6     33.4          2  \n",
       "1            1004.4         2         5     26.6     33.4          2  \n",
       "2            1004.4         2         5     26.6     33.4          2  \n",
       "3            1004.4         2         5     26.6     33.4          2  \n",
       "4            1004.4         2         5     26.6     33.4          2  \n",
       "...             ...       ...       ...      ...      ...        ...  \n",
       "351582       1009.7         6         5     25.4     31.0          2  \n",
       "351583       1009.7         6         5     25.4     31.0          2  \n",
       "351584       1009.7         6         5     25.4     31.0          2  \n",
       "351585       1009.7         6         5     25.4     31.0          2  \n",
       "351586       1009.7         6         5     25.4     31.0          2  \n",
       "\n",
       "[349416 rows x 17 columns]"
      ]
     },
     "execution_count": 14,
     "metadata": {},
     "output_type": "execute_result"
    }
   ],
   "source": [
    "x"
   ]
  },
  {
   "cell_type": "code",
   "execution_count": 15,
   "id": "722c6f88",
   "metadata": {
    "execution": {
     "iopub.execute_input": "2023-02-24T08:45:59.817980Z",
     "iopub.status.busy": "2023-02-24T08:45:59.817565Z",
     "iopub.status.idle": "2023-02-24T08:45:59.917227Z",
     "shell.execute_reply": "2023-02-24T08:45:59.916031Z"
    },
    "papermill": {
     "duration": 0.112049,
     "end_time": "2023-02-24T08:45:59.919977",
     "exception": false,
     "start_time": "2023-02-24T08:45:59.807928",
     "status": "completed"
    },
    "tags": []
   },
   "outputs": [],
   "source": [
    "scaler = MinMaxScaler().fit(x)\n",
    "\n",
    "x = scaler.transform(x)"
   ]
  },
  {
   "cell_type": "code",
   "execution_count": 16,
   "id": "2b7d557d",
   "metadata": {
    "execution": {
     "iopub.execute_input": "2023-02-24T08:45:59.938734Z",
     "iopub.status.busy": "2023-02-24T08:45:59.938328Z",
     "iopub.status.idle": "2023-02-24T08:45:59.946135Z",
     "shell.execute_reply": "2023-02-24T08:45:59.944956Z"
    },
    "papermill": {
     "duration": 0.019752,
     "end_time": "2023-02-24T08:45:59.948322",
     "exception": false,
     "start_time": "2023-02-24T08:45:59.928570",
     "status": "completed"
    },
    "tags": []
   },
   "outputs": [
    {
     "data": {
      "text/plain": [
       "array([[0.64566929, 0.70681818, 0.        , ..., 0.68238213, 0.7004717 ,\n",
       "        1.        ],\n",
       "       [0.64566929, 0.70681818, 0.        , ..., 0.68238213, 0.7004717 ,\n",
       "        1.        ],\n",
       "       [0.64566929, 0.70681818, 0.        , ..., 0.68238213, 0.7004717 ,\n",
       "        1.        ],\n",
       "       ...,\n",
       "       [0.70603675, 0.62727273, 0.        , ..., 0.65260546, 0.64386792,\n",
       "        1.        ],\n",
       "       [0.70603675, 0.62727273, 0.        , ..., 0.65260546, 0.64386792,\n",
       "        1.        ],\n",
       "       [0.70603675, 0.62727273, 0.        , ..., 0.65260546, 0.64386792,\n",
       "        1.        ]])"
      ]
     },
     "execution_count": 16,
     "metadata": {},
     "output_type": "execute_result"
    }
   ],
   "source": [
    "x"
   ]
  },
  {
   "cell_type": "code",
   "execution_count": 17,
   "id": "a7216daf",
   "metadata": {
    "execution": {
     "iopub.execute_input": "2023-02-24T08:45:59.968458Z",
     "iopub.status.busy": "2023-02-24T08:45:59.967376Z",
     "iopub.status.idle": "2023-02-24T08:45:59.979146Z",
     "shell.execute_reply": "2023-02-24T08:45:59.978114Z"
    },
    "papermill": {
     "duration": 0.02431,
     "end_time": "2023-02-24T08:45:59.981409",
     "exception": false,
     "start_time": "2023-02-24T08:45:59.957099",
     "status": "completed"
    },
    "tags": []
   },
   "outputs": [
    {
     "data": {
      "text/html": [
       "<div>\n",
       "<style scoped>\n",
       "    .dataframe tbody tr th:only-of-type {\n",
       "        vertical-align: middle;\n",
       "    }\n",
       "\n",
       "    .dataframe tbody tr th {\n",
       "        vertical-align: top;\n",
       "    }\n",
       "\n",
       "    .dataframe thead th {\n",
       "        text-align: right;\n",
       "    }\n",
       "</style>\n",
       "<table border=\"1\" class=\"dataframe\">\n",
       "  <thead>\n",
       "    <tr style=\"text-align: right;\">\n",
       "      <th></th>\n",
       "      <th>RainTomorrow</th>\n",
       "    </tr>\n",
       "  </thead>\n",
       "  <tbody>\n",
       "    <tr>\n",
       "      <th>0</th>\n",
       "      <td>No</td>\n",
       "    </tr>\n",
       "    <tr>\n",
       "      <th>1</th>\n",
       "      <td>No</td>\n",
       "    </tr>\n",
       "    <tr>\n",
       "      <th>2</th>\n",
       "      <td>No</td>\n",
       "    </tr>\n",
       "    <tr>\n",
       "      <th>3</th>\n",
       "      <td>No</td>\n",
       "    </tr>\n",
       "    <tr>\n",
       "      <th>4</th>\n",
       "      <td>No</td>\n",
       "    </tr>\n",
       "    <tr>\n",
       "      <th>...</th>\n",
       "      <td>...</td>\n",
       "    </tr>\n",
       "    <tr>\n",
       "      <th>351582</th>\n",
       "      <td>No</td>\n",
       "    </tr>\n",
       "    <tr>\n",
       "      <th>351583</th>\n",
       "      <td>No</td>\n",
       "    </tr>\n",
       "    <tr>\n",
       "      <th>351584</th>\n",
       "      <td>No</td>\n",
       "    </tr>\n",
       "    <tr>\n",
       "      <th>351585</th>\n",
       "      <td>No</td>\n",
       "    </tr>\n",
       "    <tr>\n",
       "      <th>351586</th>\n",
       "      <td>No</td>\n",
       "    </tr>\n",
       "  </tbody>\n",
       "</table>\n",
       "<p>349416 rows × 1 columns</p>\n",
       "</div>"
      ],
      "text/plain": [
       "       RainTomorrow\n",
       "0                No\n",
       "1                No\n",
       "2                No\n",
       "3                No\n",
       "4                No\n",
       "...             ...\n",
       "351582           No\n",
       "351583           No\n",
       "351584           No\n",
       "351585           No\n",
       "351586           No\n",
       "\n",
       "[349416 rows x 1 columns]"
      ]
     },
     "execution_count": 17,
     "metadata": {},
     "output_type": "execute_result"
    }
   ],
   "source": [
    "y"
   ]
  },
  {
   "cell_type": "code",
   "execution_count": 18,
   "id": "6223b650",
   "metadata": {
    "execution": {
     "iopub.execute_input": "2023-02-24T08:46:00.000340Z",
     "iopub.status.busy": "2023-02-24T08:45:59.999899Z",
     "iopub.status.idle": "2023-02-24T08:46:00.004448Z",
     "shell.execute_reply": "2023-02-24T08:46:00.003357Z"
    },
    "papermill": {
     "duration": 0.016643,
     "end_time": "2023-02-24T08:46:00.006654",
     "exception": false,
     "start_time": "2023-02-24T08:45:59.990011",
     "status": "completed"
    },
    "tags": []
   },
   "outputs": [],
   "source": [
    "#y_ = y.toarray()"
   ]
  },
  {
   "cell_type": "code",
   "execution_count": 19,
   "id": "45ee36ac",
   "metadata": {
    "execution": {
     "iopub.execute_input": "2023-02-24T08:46:00.025600Z",
     "iopub.status.busy": "2023-02-24T08:46:00.025147Z",
     "iopub.status.idle": "2023-02-24T08:46:00.143857Z",
     "shell.execute_reply": "2023-02-24T08:46:00.142625Z"
    },
    "papermill": {
     "duration": 0.131253,
     "end_time": "2023-02-24T08:46:00.146551",
     "exception": false,
     "start_time": "2023-02-24T08:46:00.015298",
     "status": "completed"
    },
    "tags": []
   },
   "outputs": [],
   "source": [
    "encoder = OneHotEncoder(handle_unknown='ignore', sparse=False).fit(y)\n",
    "\n",
    "y = encoder.transform(y)"
   ]
  },
  {
   "cell_type": "code",
   "execution_count": 20,
   "id": "a89e8578",
   "metadata": {
    "execution": {
     "iopub.execute_input": "2023-02-24T08:46:00.165789Z",
     "iopub.status.busy": "2023-02-24T08:46:00.165334Z",
     "iopub.status.idle": "2023-02-24T08:46:00.173241Z",
     "shell.execute_reply": "2023-02-24T08:46:00.172409Z"
    },
    "papermill": {
     "duration": 0.020059,
     "end_time": "2023-02-24T08:46:00.175348",
     "exception": false,
     "start_time": "2023-02-24T08:46:00.155289",
     "status": "completed"
    },
    "tags": []
   },
   "outputs": [
    {
     "data": {
      "text/plain": [
       "array([[1., 0., 0.],\n",
       "       [1., 0., 0.],\n",
       "       [1., 0., 0.],\n",
       "       ...,\n",
       "       [1., 0., 0.],\n",
       "       [1., 0., 0.],\n",
       "       [1., 0., 0.]])"
      ]
     },
     "execution_count": 20,
     "metadata": {},
     "output_type": "execute_result"
    }
   ],
   "source": [
    "y"
   ]
  },
  {
   "cell_type": "code",
   "execution_count": 21,
   "id": "edba6575",
   "metadata": {
    "execution": {
     "iopub.execute_input": "2023-02-24T08:46:00.194713Z",
     "iopub.status.busy": "2023-02-24T08:46:00.194311Z",
     "iopub.status.idle": "2023-02-24T08:46:00.199073Z",
     "shell.execute_reply": "2023-02-24T08:46:00.198317Z"
    },
    "papermill": {
     "duration": 0.017107,
     "end_time": "2023-02-24T08:46:00.201356",
     "exception": false,
     "start_time": "2023-02-24T08:46:00.184249",
     "status": "completed"
    },
    "tags": []
   },
   "outputs": [],
   "source": [
    "x_ = pd.DataFrame(x)"
   ]
  },
  {
   "cell_type": "code",
   "execution_count": 22,
   "id": "2ff8d423",
   "metadata": {
    "execution": {
     "iopub.execute_input": "2023-02-24T08:46:00.221268Z",
     "iopub.status.busy": "2023-02-24T08:46:00.220110Z",
     "iopub.status.idle": "2023-02-24T08:46:00.267533Z",
     "shell.execute_reply": "2023-02-24T08:46:00.266358Z"
    },
    "papermill": {
     "duration": 0.060216,
     "end_time": "2023-02-24T08:46:00.270435",
     "exception": false,
     "start_time": "2023-02-24T08:46:00.210219",
     "status": "completed"
    },
    "tags": []
   },
   "outputs": [],
   "source": [
    "X = torch.tensor(x_.values, dtype=torch.float32)"
   ]
  },
  {
   "cell_type": "code",
   "execution_count": 23,
   "id": "512c2d8f",
   "metadata": {
    "execution": {
     "iopub.execute_input": "2023-02-24T08:46:00.292297Z",
     "iopub.status.busy": "2023-02-24T08:46:00.291060Z",
     "iopub.status.idle": "2023-02-24T08:46:00.296115Z",
     "shell.execute_reply": "2023-02-24T08:46:00.295347Z"
    },
    "papermill": {
     "duration": 0.017123,
     "end_time": "2023-02-24T08:46:00.298148",
     "exception": false,
     "start_time": "2023-02-24T08:46:00.281025",
     "status": "completed"
    },
    "tags": []
   },
   "outputs": [],
   "source": [
    "y_ = pd.DataFrame(y)"
   ]
  },
  {
   "cell_type": "code",
   "execution_count": 24,
   "id": "4f391290",
   "metadata": {
    "execution": {
     "iopub.execute_input": "2023-02-24T08:46:00.317698Z",
     "iopub.status.busy": "2023-02-24T08:46:00.316961Z",
     "iopub.status.idle": "2023-02-24T08:46:00.330328Z",
     "shell.execute_reply": "2023-02-24T08:46:00.329369Z"
    },
    "papermill": {
     "duration": 0.025506,
     "end_time": "2023-02-24T08:46:00.332406",
     "exception": false,
     "start_time": "2023-02-24T08:46:00.306900",
     "status": "completed"
    },
    "tags": []
   },
   "outputs": [
    {
     "data": {
      "text/html": [
       "<div>\n",
       "<style scoped>\n",
       "    .dataframe tbody tr th:only-of-type {\n",
       "        vertical-align: middle;\n",
       "    }\n",
       "\n",
       "    .dataframe tbody tr th {\n",
       "        vertical-align: top;\n",
       "    }\n",
       "\n",
       "    .dataframe thead th {\n",
       "        text-align: right;\n",
       "    }\n",
       "</style>\n",
       "<table border=\"1\" class=\"dataframe\">\n",
       "  <thead>\n",
       "    <tr style=\"text-align: right;\">\n",
       "      <th></th>\n",
       "      <th>0</th>\n",
       "      <th>1</th>\n",
       "      <th>2</th>\n",
       "    </tr>\n",
       "  </thead>\n",
       "  <tbody>\n",
       "    <tr>\n",
       "      <th>0</th>\n",
       "      <td>1.0</td>\n",
       "      <td>0.0</td>\n",
       "      <td>0.0</td>\n",
       "    </tr>\n",
       "    <tr>\n",
       "      <th>1</th>\n",
       "      <td>1.0</td>\n",
       "      <td>0.0</td>\n",
       "      <td>0.0</td>\n",
       "    </tr>\n",
       "    <tr>\n",
       "      <th>2</th>\n",
       "      <td>1.0</td>\n",
       "      <td>0.0</td>\n",
       "      <td>0.0</td>\n",
       "    </tr>\n",
       "    <tr>\n",
       "      <th>3</th>\n",
       "      <td>1.0</td>\n",
       "      <td>0.0</td>\n",
       "      <td>0.0</td>\n",
       "    </tr>\n",
       "    <tr>\n",
       "      <th>4</th>\n",
       "      <td>1.0</td>\n",
       "      <td>0.0</td>\n",
       "      <td>0.0</td>\n",
       "    </tr>\n",
       "    <tr>\n",
       "      <th>...</th>\n",
       "      <td>...</td>\n",
       "      <td>...</td>\n",
       "      <td>...</td>\n",
       "    </tr>\n",
       "    <tr>\n",
       "      <th>349411</th>\n",
       "      <td>1.0</td>\n",
       "      <td>0.0</td>\n",
       "      <td>0.0</td>\n",
       "    </tr>\n",
       "    <tr>\n",
       "      <th>349412</th>\n",
       "      <td>1.0</td>\n",
       "      <td>0.0</td>\n",
       "      <td>0.0</td>\n",
       "    </tr>\n",
       "    <tr>\n",
       "      <th>349413</th>\n",
       "      <td>1.0</td>\n",
       "      <td>0.0</td>\n",
       "      <td>0.0</td>\n",
       "    </tr>\n",
       "    <tr>\n",
       "      <th>349414</th>\n",
       "      <td>1.0</td>\n",
       "      <td>0.0</td>\n",
       "      <td>0.0</td>\n",
       "    </tr>\n",
       "    <tr>\n",
       "      <th>349415</th>\n",
       "      <td>1.0</td>\n",
       "      <td>0.0</td>\n",
       "      <td>0.0</td>\n",
       "    </tr>\n",
       "  </tbody>\n",
       "</table>\n",
       "<p>349416 rows × 3 columns</p>\n",
       "</div>"
      ],
      "text/plain": [
       "          0    1    2\n",
       "0       1.0  0.0  0.0\n",
       "1       1.0  0.0  0.0\n",
       "2       1.0  0.0  0.0\n",
       "3       1.0  0.0  0.0\n",
       "4       1.0  0.0  0.0\n",
       "...     ...  ...  ...\n",
       "349411  1.0  0.0  0.0\n",
       "349412  1.0  0.0  0.0\n",
       "349413  1.0  0.0  0.0\n",
       "349414  1.0  0.0  0.0\n",
       "349415  1.0  0.0  0.0\n",
       "\n",
       "[349416 rows x 3 columns]"
      ]
     },
     "execution_count": 24,
     "metadata": {},
     "output_type": "execute_result"
    }
   ],
   "source": [
    "y_"
   ]
  },
  {
   "cell_type": "code",
   "execution_count": 25,
   "id": "64dc4831",
   "metadata": {
    "execution": {
     "iopub.execute_input": "2023-02-24T08:46:00.352231Z",
     "iopub.status.busy": "2023-02-24T08:46:00.351538Z",
     "iopub.status.idle": "2023-02-24T08:46:00.356926Z",
     "shell.execute_reply": "2023-02-24T08:46:00.355992Z"
    },
    "papermill": {
     "duration": 0.017826,
     "end_time": "2023-02-24T08:46:00.359135",
     "exception": false,
     "start_time": "2023-02-24T08:46:00.341309",
     "status": "completed"
    },
    "tags": []
   },
   "outputs": [],
   "source": [
    "y = torch.tensor(y, dtype=torch.float32)"
   ]
  },
  {
   "cell_type": "code",
   "execution_count": 26,
   "id": "b90b4bce",
   "metadata": {
    "execution": {
     "iopub.execute_input": "2023-02-24T08:46:00.381463Z",
     "iopub.status.busy": "2023-02-24T08:46:00.380754Z",
     "iopub.status.idle": "2023-02-24T08:46:00.466765Z",
     "shell.execute_reply": "2023-02-24T08:46:00.465599Z"
    },
    "papermill": {
     "duration": 0.099339,
     "end_time": "2023-02-24T08:46:00.469629",
     "exception": false,
     "start_time": "2023-02-24T08:46:00.370290",
     "status": "completed"
    },
    "tags": []
   },
   "outputs": [],
   "source": [
    "x_train, x_test, y_train, y_test = train_test_split(X, y, train_size=0.7, shuffle=True)"
   ]
  },
  {
   "cell_type": "code",
   "execution_count": 27,
   "id": "dca4cc05",
   "metadata": {
    "execution": {
     "iopub.execute_input": "2023-02-24T08:46:00.492258Z",
     "iopub.status.busy": "2023-02-24T08:46:00.491183Z",
     "iopub.status.idle": "2023-02-24T08:46:00.497606Z",
     "shell.execute_reply": "2023-02-24T08:46:00.496650Z"
    },
    "papermill": {
     "duration": 0.020132,
     "end_time": "2023-02-24T08:46:00.500664",
     "exception": false,
     "start_time": "2023-02-24T08:46:00.480532",
     "status": "completed"
    },
    "tags": []
   },
   "outputs": [
    {
     "name": "stdout",
     "output_type": "stream",
     "text": [
      "torch.Size([244591, 17])\n",
      "torch.Size([104825, 17])\n",
      "torch.Size([244591, 3])\n",
      "torch.Size([104825, 3])\n"
     ]
    }
   ],
   "source": [
    "print(x_train.shape)\n",
    "print(x_test.shape)\n",
    "print(y_train.shape)\n",
    "print(y_test.shape)"
   ]
  },
  {
   "cell_type": "code",
   "execution_count": null,
   "id": "d5111d96",
   "metadata": {
    "papermill": {
     "duration": 0.008865,
     "end_time": "2023-02-24T08:46:00.519494",
     "exception": false,
     "start_time": "2023-02-24T08:46:00.510629",
     "status": "completed"
    },
    "tags": []
   },
   "outputs": [],
   "source": []
  }
 ],
 "metadata": {
  "kernelspec": {
   "display_name": "Python 3",
   "language": "python",
   "name": "python3"
  },
  "language_info": {
   "codemirror_mode": {
    "name": "ipython",
    "version": 3
   },
   "file_extension": ".py",
   "mimetype": "text/x-python",
   "name": "python",
   "nbconvert_exporter": "python",
   "pygments_lexer": "ipython3",
   "version": "3.7.12"
  },
  "papermill": {
   "default_parameters": {},
   "duration": 14.262232,
   "end_time": "2023-02-24T08:46:01.452751",
   "environment_variables": {},
   "exception": null,
   "input_path": "__notebook__.ipynb",
   "output_path": "__notebook__.ipynb",
   "parameters": {},
   "start_time": "2023-02-24T08:45:47.190519",
   "version": "2.3.4"
  }
 },
 "nbformat": 4,
 "nbformat_minor": 5
}
