{
 "cells": [
  {
   "cell_type": "code",
   "execution_count": 1,
   "id": "7516088f",
   "metadata": {
    "_cell_guid": "b1076dfc-b9ad-4769-8c92-a6c4dae69d19",
    "_uuid": "8f2839f25d086af736a60e9eeb907d3b93b6e0e5",
    "execution": {
     "iopub.execute_input": "2023-02-23T17:33:08.783689Z",
     "iopub.status.busy": "2023-02-23T17:33:08.783250Z",
     "iopub.status.idle": "2023-02-23T17:33:11.155404Z",
     "shell.execute_reply": "2023-02-23T17:33:11.154405Z"
    },
    "papermill": {
     "duration": 2.384088,
     "end_time": "2023-02-23T17:33:11.158185",
     "exception": false,
     "start_time": "2023-02-23T17:33:08.774097",
     "status": "completed"
    },
    "tags": []
   },
   "outputs": [],
   "source": [
    "import numpy as np\n",
    "import pandas as pd \n",
    "\n",
    "from sklearn.preprocessing import MinMaxScaler\n",
    "from sklearn.preprocessing import OneHotEncoder\n",
    "from sklearn.model_selection import train_test_split\n",
    "\n",
    "import matplotlib.pyplot as plt\n",
    "\n",
    "import torch\n",
    "import torch.nn as nn\n",
    "import torch.optim as optim\n",
    "import tqdm"
   ]
  },
  {
   "cell_type": "code",
   "execution_count": 2,
   "id": "bceea980",
   "metadata": {
    "execution": {
     "iopub.execute_input": "2023-02-23T17:33:11.167954Z",
     "iopub.status.busy": "2023-02-23T17:33:11.167429Z",
     "iopub.status.idle": "2023-02-23T17:33:12.114920Z",
     "shell.execute_reply": "2023-02-23T17:33:12.114006Z"
    },
    "papermill": {
     "duration": 0.955066,
     "end_time": "2023-02-23T17:33:12.117549",
     "exception": false,
     "start_time": "2023-02-23T17:33:11.162483",
     "status": "completed"
    },
    "tags": []
   },
   "outputs": [],
   "source": [
    "df = pd.read_csv('/kaggle/input/clean-data-australia-rainfall/rainfall_data_australia.csv', index_col=None)"
   ]
  },
  {
   "cell_type": "code",
   "execution_count": 3,
   "id": "ecb9b94d",
   "metadata": {
    "execution": {
     "iopub.execute_input": "2023-02-23T17:33:12.127256Z",
     "iopub.status.busy": "2023-02-23T17:33:12.126449Z",
     "iopub.status.idle": "2023-02-23T17:33:12.134631Z",
     "shell.execute_reply": "2023-02-23T17:33:12.133659Z"
    },
    "papermill": {
     "duration": 0.01647,
     "end_time": "2023-02-23T17:33:12.138057",
     "exception": false,
     "start_time": "2023-02-23T17:33:12.121587",
     "status": "completed"
    },
    "tags": []
   },
   "outputs": [
    {
     "data": {
      "text/plain": [
       "(351587, 18)"
      ]
     },
     "execution_count": 3,
     "metadata": {},
     "output_type": "execute_result"
    }
   ],
   "source": [
    "df.shape"
   ]
  },
  {
   "cell_type": "code",
   "execution_count": 4,
   "id": "7d9ee1a9",
   "metadata": {
    "execution": {
     "iopub.execute_input": "2023-02-23T17:33:12.147450Z",
     "iopub.status.busy": "2023-02-23T17:33:12.147098Z",
     "iopub.status.idle": "2023-02-23T17:33:12.174647Z",
     "shell.execute_reply": "2023-02-23T17:33:12.173684Z"
    },
    "papermill": {
     "duration": 0.03466,
     "end_time": "2023-02-23T17:33:12.176847",
     "exception": false,
     "start_time": "2023-02-23T17:33:12.142187",
     "status": "completed"
    },
    "tags": []
   },
   "outputs": [
    {
     "data": {
      "text/html": [
       "<div>\n",
       "<style scoped>\n",
       "    .dataframe tbody tr th:only-of-type {\n",
       "        vertical-align: middle;\n",
       "    }\n",
       "\n",
       "    .dataframe tbody tr th {\n",
       "        vertical-align: top;\n",
       "    }\n",
       "\n",
       "    .dataframe thead th {\n",
       "        text-align: right;\n",
       "    }\n",
       "</style>\n",
       "<table border=\"1\" class=\"dataframe\">\n",
       "  <thead>\n",
       "    <tr style=\"text-align: right;\">\n",
       "      <th></th>\n",
       "      <th>MinTemp</th>\n",
       "      <th>MaxTemp</th>\n",
       "      <th>Rainfall</th>\n",
       "      <th>Evaporation</th>\n",
       "      <th>Sunshine</th>\n",
       "      <th>WindGustSpeed</th>\n",
       "      <th>WindSpeed9am</th>\n",
       "      <th>WindSpeed3pm</th>\n",
       "      <th>Humidity9am</th>\n",
       "      <th>Humidity3pm</th>\n",
       "      <th>Pressure9am</th>\n",
       "      <th>Pressure3pm</th>\n",
       "      <th>Cloud9am</th>\n",
       "      <th>Cloud3pm</th>\n",
       "      <th>Temp9am</th>\n",
       "      <th>Temp3pm</th>\n",
       "      <th>RainToday</th>\n",
       "      <th>RainTomorrow</th>\n",
       "    </tr>\n",
       "  </thead>\n",
       "  <tbody>\n",
       "    <tr>\n",
       "      <th>0</th>\n",
       "      <td>17.9</td>\n",
       "      <td>35.2</td>\n",
       "      <td>0.0</td>\n",
       "      <td>12.0</td>\n",
       "      <td>12.3</td>\n",
       "      <td>48</td>\n",
       "      <td>6.0</td>\n",
       "      <td>20.0</td>\n",
       "      <td>20</td>\n",
       "      <td>13.0</td>\n",
       "      <td>1006.3</td>\n",
       "      <td>1004.4</td>\n",
       "      <td>2</td>\n",
       "      <td>5</td>\n",
       "      <td>26.6</td>\n",
       "      <td>33.4</td>\n",
       "      <td>2</td>\n",
       "      <td>2</td>\n",
       "    </tr>\n",
       "    <tr>\n",
       "      <th>1</th>\n",
       "      <td>17.9</td>\n",
       "      <td>35.2</td>\n",
       "      <td>0.0</td>\n",
       "      <td>12.0</td>\n",
       "      <td>12.3</td>\n",
       "      <td>48</td>\n",
       "      <td>6.0</td>\n",
       "      <td>20.0</td>\n",
       "      <td>20</td>\n",
       "      <td>13.0</td>\n",
       "      <td>1006.3</td>\n",
       "      <td>1004.4</td>\n",
       "      <td>2</td>\n",
       "      <td>5</td>\n",
       "      <td>26.6</td>\n",
       "      <td>33.4</td>\n",
       "      <td>2</td>\n",
       "      <td>2</td>\n",
       "    </tr>\n",
       "    <tr>\n",
       "      <th>2</th>\n",
       "      <td>17.9</td>\n",
       "      <td>35.2</td>\n",
       "      <td>0.0</td>\n",
       "      <td>12.0</td>\n",
       "      <td>12.3</td>\n",
       "      <td>48</td>\n",
       "      <td>6.0</td>\n",
       "      <td>20.0</td>\n",
       "      <td>20</td>\n",
       "      <td>13.0</td>\n",
       "      <td>1006.3</td>\n",
       "      <td>1004.4</td>\n",
       "      <td>2</td>\n",
       "      <td>5</td>\n",
       "      <td>26.6</td>\n",
       "      <td>33.4</td>\n",
       "      <td>2</td>\n",
       "      <td>2</td>\n",
       "    </tr>\n",
       "    <tr>\n",
       "      <th>3</th>\n",
       "      <td>17.9</td>\n",
       "      <td>35.2</td>\n",
       "      <td>0.0</td>\n",
       "      <td>12.0</td>\n",
       "      <td>12.3</td>\n",
       "      <td>48</td>\n",
       "      <td>6.0</td>\n",
       "      <td>20.0</td>\n",
       "      <td>20</td>\n",
       "      <td>13.0</td>\n",
       "      <td>1006.3</td>\n",
       "      <td>1004.4</td>\n",
       "      <td>2</td>\n",
       "      <td>5</td>\n",
       "      <td>26.6</td>\n",
       "      <td>33.4</td>\n",
       "      <td>2</td>\n",
       "      <td>2</td>\n",
       "    </tr>\n",
       "    <tr>\n",
       "      <th>4</th>\n",
       "      <td>17.9</td>\n",
       "      <td>35.2</td>\n",
       "      <td>0.0</td>\n",
       "      <td>12.0</td>\n",
       "      <td>12.3</td>\n",
       "      <td>48</td>\n",
       "      <td>6.0</td>\n",
       "      <td>20.0</td>\n",
       "      <td>20</td>\n",
       "      <td>13.0</td>\n",
       "      <td>1006.3</td>\n",
       "      <td>1004.4</td>\n",
       "      <td>2</td>\n",
       "      <td>5</td>\n",
       "      <td>26.6</td>\n",
       "      <td>33.4</td>\n",
       "      <td>2</td>\n",
       "      <td>2</td>\n",
       "    </tr>\n",
       "  </tbody>\n",
       "</table>\n",
       "</div>"
      ],
      "text/plain": [
       "   MinTemp  MaxTemp  Rainfall  Evaporation  Sunshine  WindGustSpeed  \\\n",
       "0     17.9     35.2       0.0         12.0      12.3             48   \n",
       "1     17.9     35.2       0.0         12.0      12.3             48   \n",
       "2     17.9     35.2       0.0         12.0      12.3             48   \n",
       "3     17.9     35.2       0.0         12.0      12.3             48   \n",
       "4     17.9     35.2       0.0         12.0      12.3             48   \n",
       "\n",
       "   WindSpeed9am  WindSpeed3pm  Humidity9am  Humidity3pm  Pressure9am  \\\n",
       "0           6.0          20.0           20         13.0       1006.3   \n",
       "1           6.0          20.0           20         13.0       1006.3   \n",
       "2           6.0          20.0           20         13.0       1006.3   \n",
       "3           6.0          20.0           20         13.0       1006.3   \n",
       "4           6.0          20.0           20         13.0       1006.3   \n",
       "\n",
       "   Pressure3pm  Cloud9am  Cloud3pm  Temp9am  Temp3pm  RainToday  RainTomorrow  \n",
       "0       1004.4         2         5     26.6     33.4          2             2  \n",
       "1       1004.4         2         5     26.6     33.4          2             2  \n",
       "2       1004.4         2         5     26.6     33.4          2             2  \n",
       "3       1004.4         2         5     26.6     33.4          2             2  \n",
       "4       1004.4         2         5     26.6     33.4          2             2  "
      ]
     },
     "execution_count": 4,
     "metadata": {},
     "output_type": "execute_result"
    }
   ],
   "source": [
    "df.head()"
   ]
  },
  {
   "cell_type": "code",
   "execution_count": 5,
   "id": "2863b610",
   "metadata": {
    "execution": {
     "iopub.execute_input": "2023-02-23T17:33:12.187165Z",
     "iopub.status.busy": "2023-02-23T17:33:12.186784Z",
     "iopub.status.idle": "2023-02-23T17:33:12.200440Z",
     "shell.execute_reply": "2023-02-23T17:33:12.199645Z"
    },
    "papermill": {
     "duration": 0.021021,
     "end_time": "2023-02-23T17:33:12.202475",
     "exception": false,
     "start_time": "2023-02-23T17:33:12.181454",
     "status": "completed"
    },
    "tags": []
   },
   "outputs": [
    {
     "data": {
      "text/plain": [
       "MinTemp           True\n",
       "MaxTemp           True\n",
       "Rainfall         False\n",
       "Evaporation       True\n",
       "Sunshine         False\n",
       "WindGustSpeed    False\n",
       "WindSpeed9am      True\n",
       "WindSpeed3pm      True\n",
       "Humidity9am      False\n",
       "Humidity3pm       True\n",
       "Pressure9am       True\n",
       "Pressure3pm       True\n",
       "Cloud9am         False\n",
       "Cloud3pm         False\n",
       "Temp9am          False\n",
       "Temp3pm           True\n",
       "RainToday        False\n",
       "RainTomorrow     False\n",
       "dtype: bool"
      ]
     },
     "execution_count": 5,
     "metadata": {},
     "output_type": "execute_result"
    }
   ],
   "source": [
    "df.isna().any()"
   ]
  },
  {
   "cell_type": "code",
   "execution_count": 6,
   "id": "587e9cbf",
   "metadata": {
    "execution": {
     "iopub.execute_input": "2023-02-23T17:33:12.212457Z",
     "iopub.status.busy": "2023-02-23T17:33:12.212139Z",
     "iopub.status.idle": "2023-02-23T17:33:12.273568Z",
     "shell.execute_reply": "2023-02-23T17:33:12.272375Z"
    },
    "papermill": {
     "duration": 0.069488,
     "end_time": "2023-02-23T17:33:12.276335",
     "exception": false,
     "start_time": "2023-02-23T17:33:12.206847",
     "status": "completed"
    },
    "tags": []
   },
   "outputs": [],
   "source": [
    "df = df.dropna()"
   ]
  },
  {
   "cell_type": "code",
   "execution_count": 7,
   "id": "7e1e595e",
   "metadata": {
    "execution": {
     "iopub.execute_input": "2023-02-23T17:33:12.286935Z",
     "iopub.status.busy": "2023-02-23T17:33:12.286548Z",
     "iopub.status.idle": "2023-02-23T17:33:12.300172Z",
     "shell.execute_reply": "2023-02-23T17:33:12.298986Z"
    },
    "papermill": {
     "duration": 0.021603,
     "end_time": "2023-02-23T17:33:12.302557",
     "exception": false,
     "start_time": "2023-02-23T17:33:12.280954",
     "status": "completed"
    },
    "tags": []
   },
   "outputs": [
    {
     "data": {
      "text/plain": [
       "MinTemp          False\n",
       "MaxTemp          False\n",
       "Rainfall         False\n",
       "Evaporation      False\n",
       "Sunshine         False\n",
       "WindGustSpeed    False\n",
       "WindSpeed9am     False\n",
       "WindSpeed3pm     False\n",
       "Humidity9am      False\n",
       "Humidity3pm      False\n",
       "Pressure9am      False\n",
       "Pressure3pm      False\n",
       "Cloud9am         False\n",
       "Cloud3pm         False\n",
       "Temp9am          False\n",
       "Temp3pm          False\n",
       "RainToday        False\n",
       "RainTomorrow     False\n",
       "dtype: bool"
      ]
     },
     "execution_count": 7,
     "metadata": {},
     "output_type": "execute_result"
    }
   ],
   "source": [
    "df.isna().any()"
   ]
  },
  {
   "cell_type": "code",
   "execution_count": 8,
   "id": "91a6c9bd",
   "metadata": {
    "execution": {
     "iopub.execute_input": "2023-02-23T17:33:12.313244Z",
     "iopub.status.busy": "2023-02-23T17:33:12.312852Z",
     "iopub.status.idle": "2023-02-23T17:33:12.319270Z",
     "shell.execute_reply": "2023-02-23T17:33:12.318218Z"
    },
    "papermill": {
     "duration": 0.01443,
     "end_time": "2023-02-23T17:33:12.321540",
     "exception": false,
     "start_time": "2023-02-23T17:33:12.307110",
     "status": "completed"
    },
    "tags": []
   },
   "outputs": [
    {
     "data": {
      "text/plain": [
       "Index(['MinTemp', 'MaxTemp', 'Rainfall', 'Evaporation', 'Sunshine',\n",
       "       'WindGustSpeed', 'WindSpeed9am', 'WindSpeed3pm', 'Humidity9am',\n",
       "       'Humidity3pm', 'Pressure9am', 'Pressure3pm', 'Cloud9am', 'Cloud3pm',\n",
       "       'Temp9am', 'Temp3pm', 'RainToday', 'RainTomorrow'],\n",
       "      dtype='object')"
      ]
     },
     "execution_count": 8,
     "metadata": {},
     "output_type": "execute_result"
    }
   ],
   "source": [
    "df.columns"
   ]
  },
  {
   "cell_type": "code",
   "execution_count": 9,
   "id": "facc1dfa",
   "metadata": {
    "execution": {
     "iopub.execute_input": "2023-02-23T17:33:12.332044Z",
     "iopub.status.busy": "2023-02-23T17:33:12.331703Z",
     "iopub.status.idle": "2023-02-23T17:33:12.345552Z",
     "shell.execute_reply": "2023-02-23T17:33:12.344671Z"
    },
    "papermill": {
     "duration": 0.021513,
     "end_time": "2023-02-23T17:33:12.347678",
     "exception": false,
     "start_time": "2023-02-23T17:33:12.326165",
     "status": "completed"
    },
    "tags": []
   },
   "outputs": [
    {
     "data": {
      "text/plain": [
       "array([2, 1, 3])"
      ]
     },
     "execution_count": 9,
     "metadata": {},
     "output_type": "execute_result"
    }
   ],
   "source": [
    "df['RainTomorrow'].unique()"
   ]
  },
  {
   "cell_type": "code",
   "execution_count": 10,
   "id": "e6ed044a",
   "metadata": {
    "execution": {
     "iopub.execute_input": "2023-02-23T17:33:12.359050Z",
     "iopub.status.busy": "2023-02-23T17:33:12.358380Z",
     "iopub.status.idle": "2023-02-23T17:33:12.363523Z",
     "shell.execute_reply": "2023-02-23T17:33:12.362820Z"
    },
    "papermill": {
     "duration": 0.013267,
     "end_time": "2023-02-23T17:33:12.365639",
     "exception": false,
     "start_time": "2023-02-23T17:33:12.352372",
     "status": "completed"
    },
    "tags": []
   },
   "outputs": [],
   "source": [
    "x_cols = ['MinTemp', 'MaxTemp', 'Rainfall', 'Evaporation', 'Sunshine',\n",
    "       'WindGustSpeed', 'WindSpeed9am', 'WindSpeed3pm', 'Humidity9am',\n",
    "       'Humidity3pm', 'Pressure9am', 'Pressure3pm', 'Cloud9am', 'Cloud3pm',\n",
    "       'Temp9am', 'Temp3pm', 'RainToday']"
   ]
  },
  {
   "cell_type": "code",
   "execution_count": 11,
   "id": "dd48fd7d",
   "metadata": {
    "execution": {
     "iopub.execute_input": "2023-02-23T17:33:12.376790Z",
     "iopub.status.busy": "2023-02-23T17:33:12.376143Z",
     "iopub.status.idle": "2023-02-23T17:33:12.404818Z",
     "shell.execute_reply": "2023-02-23T17:33:12.403577Z"
    },
    "papermill": {
     "duration": 0.037514,
     "end_time": "2023-02-23T17:33:12.407762",
     "exception": false,
     "start_time": "2023-02-23T17:33:12.370248",
     "status": "completed"
    },
    "tags": []
   },
   "outputs": [],
   "source": [
    "x = df[x_cols]\n",
    "\n",
    "y = df[['RainTomorrow']]"
   ]
  },
  {
   "cell_type": "code",
   "execution_count": 12,
   "id": "bd21c59f",
   "metadata": {
    "execution": {
     "iopub.execute_input": "2023-02-23T17:33:12.418785Z",
     "iopub.status.busy": "2023-02-23T17:33:12.418399Z",
     "iopub.status.idle": "2023-02-23T17:33:12.452111Z",
     "shell.execute_reply": "2023-02-23T17:33:12.451021Z"
    },
    "papermill": {
     "duration": 0.041673,
     "end_time": "2023-02-23T17:33:12.454257",
     "exception": false,
     "start_time": "2023-02-23T17:33:12.412584",
     "status": "completed"
    },
    "tags": []
   },
   "outputs": [
    {
     "data": {
      "text/html": [
       "<div>\n",
       "<style scoped>\n",
       "    .dataframe tbody tr th:only-of-type {\n",
       "        vertical-align: middle;\n",
       "    }\n",
       "\n",
       "    .dataframe tbody tr th {\n",
       "        vertical-align: top;\n",
       "    }\n",
       "\n",
       "    .dataframe thead th {\n",
       "        text-align: right;\n",
       "    }\n",
       "</style>\n",
       "<table border=\"1\" class=\"dataframe\">\n",
       "  <thead>\n",
       "    <tr style=\"text-align: right;\">\n",
       "      <th></th>\n",
       "      <th>MinTemp</th>\n",
       "      <th>MaxTemp</th>\n",
       "      <th>Rainfall</th>\n",
       "      <th>Evaporation</th>\n",
       "      <th>Sunshine</th>\n",
       "      <th>WindGustSpeed</th>\n",
       "      <th>WindSpeed9am</th>\n",
       "      <th>WindSpeed3pm</th>\n",
       "      <th>Humidity9am</th>\n",
       "      <th>Humidity3pm</th>\n",
       "      <th>Pressure9am</th>\n",
       "      <th>Pressure3pm</th>\n",
       "      <th>Cloud9am</th>\n",
       "      <th>Cloud3pm</th>\n",
       "      <th>Temp9am</th>\n",
       "      <th>Temp3pm</th>\n",
       "      <th>RainToday</th>\n",
       "    </tr>\n",
       "  </thead>\n",
       "  <tbody>\n",
       "    <tr>\n",
       "      <th>0</th>\n",
       "      <td>17.9</td>\n",
       "      <td>35.2</td>\n",
       "      <td>0.0</td>\n",
       "      <td>12.0</td>\n",
       "      <td>12.3</td>\n",
       "      <td>48</td>\n",
       "      <td>6.0</td>\n",
       "      <td>20.0</td>\n",
       "      <td>20</td>\n",
       "      <td>13.0</td>\n",
       "      <td>1006.3</td>\n",
       "      <td>1004.4</td>\n",
       "      <td>2</td>\n",
       "      <td>5</td>\n",
       "      <td>26.6</td>\n",
       "      <td>33.4</td>\n",
       "      <td>2</td>\n",
       "    </tr>\n",
       "    <tr>\n",
       "      <th>1</th>\n",
       "      <td>17.9</td>\n",
       "      <td>35.2</td>\n",
       "      <td>0.0</td>\n",
       "      <td>12.0</td>\n",
       "      <td>12.3</td>\n",
       "      <td>48</td>\n",
       "      <td>6.0</td>\n",
       "      <td>20.0</td>\n",
       "      <td>20</td>\n",
       "      <td>13.0</td>\n",
       "      <td>1006.3</td>\n",
       "      <td>1004.4</td>\n",
       "      <td>2</td>\n",
       "      <td>5</td>\n",
       "      <td>26.6</td>\n",
       "      <td>33.4</td>\n",
       "      <td>2</td>\n",
       "    </tr>\n",
       "    <tr>\n",
       "      <th>2</th>\n",
       "      <td>17.9</td>\n",
       "      <td>35.2</td>\n",
       "      <td>0.0</td>\n",
       "      <td>12.0</td>\n",
       "      <td>12.3</td>\n",
       "      <td>48</td>\n",
       "      <td>6.0</td>\n",
       "      <td>20.0</td>\n",
       "      <td>20</td>\n",
       "      <td>13.0</td>\n",
       "      <td>1006.3</td>\n",
       "      <td>1004.4</td>\n",
       "      <td>2</td>\n",
       "      <td>5</td>\n",
       "      <td>26.6</td>\n",
       "      <td>33.4</td>\n",
       "      <td>2</td>\n",
       "    </tr>\n",
       "    <tr>\n",
       "      <th>3</th>\n",
       "      <td>17.9</td>\n",
       "      <td>35.2</td>\n",
       "      <td>0.0</td>\n",
       "      <td>12.0</td>\n",
       "      <td>12.3</td>\n",
       "      <td>48</td>\n",
       "      <td>6.0</td>\n",
       "      <td>20.0</td>\n",
       "      <td>20</td>\n",
       "      <td>13.0</td>\n",
       "      <td>1006.3</td>\n",
       "      <td>1004.4</td>\n",
       "      <td>2</td>\n",
       "      <td>5</td>\n",
       "      <td>26.6</td>\n",
       "      <td>33.4</td>\n",
       "      <td>2</td>\n",
       "    </tr>\n",
       "    <tr>\n",
       "      <th>4</th>\n",
       "      <td>17.9</td>\n",
       "      <td>35.2</td>\n",
       "      <td>0.0</td>\n",
       "      <td>12.0</td>\n",
       "      <td>12.3</td>\n",
       "      <td>48</td>\n",
       "      <td>6.0</td>\n",
       "      <td>20.0</td>\n",
       "      <td>20</td>\n",
       "      <td>13.0</td>\n",
       "      <td>1006.3</td>\n",
       "      <td>1004.4</td>\n",
       "      <td>2</td>\n",
       "      <td>5</td>\n",
       "      <td>26.6</td>\n",
       "      <td>33.4</td>\n",
       "      <td>2</td>\n",
       "    </tr>\n",
       "    <tr>\n",
       "      <th>...</th>\n",
       "      <td>...</td>\n",
       "      <td>...</td>\n",
       "      <td>...</td>\n",
       "      <td>...</td>\n",
       "      <td>...</td>\n",
       "      <td>...</td>\n",
       "      <td>...</td>\n",
       "      <td>...</td>\n",
       "      <td>...</td>\n",
       "      <td>...</td>\n",
       "      <td>...</td>\n",
       "      <td>...</td>\n",
       "      <td>...</td>\n",
       "      <td>...</td>\n",
       "      <td>...</td>\n",
       "      <td>...</td>\n",
       "      <td>...</td>\n",
       "    </tr>\n",
       "    <tr>\n",
       "      <th>351582</th>\n",
       "      <td>20.2</td>\n",
       "      <td>31.7</td>\n",
       "      <td>0.0</td>\n",
       "      <td>5.6</td>\n",
       "      <td>10.7</td>\n",
       "      <td>30</td>\n",
       "      <td>15.0</td>\n",
       "      <td>7.0</td>\n",
       "      <td>73</td>\n",
       "      <td>32.0</td>\n",
       "      <td>1013.9</td>\n",
       "      <td>1009.7</td>\n",
       "      <td>6</td>\n",
       "      <td>5</td>\n",
       "      <td>25.4</td>\n",
       "      <td>31.0</td>\n",
       "      <td>2</td>\n",
       "    </tr>\n",
       "    <tr>\n",
       "      <th>351583</th>\n",
       "      <td>20.2</td>\n",
       "      <td>31.7</td>\n",
       "      <td>0.0</td>\n",
       "      <td>5.6</td>\n",
       "      <td>10.7</td>\n",
       "      <td>30</td>\n",
       "      <td>15.0</td>\n",
       "      <td>7.0</td>\n",
       "      <td>73</td>\n",
       "      <td>32.0</td>\n",
       "      <td>1013.9</td>\n",
       "      <td>1009.7</td>\n",
       "      <td>6</td>\n",
       "      <td>5</td>\n",
       "      <td>25.4</td>\n",
       "      <td>31.0</td>\n",
       "      <td>2</td>\n",
       "    </tr>\n",
       "    <tr>\n",
       "      <th>351584</th>\n",
       "      <td>20.2</td>\n",
       "      <td>31.7</td>\n",
       "      <td>0.0</td>\n",
       "      <td>5.6</td>\n",
       "      <td>10.7</td>\n",
       "      <td>30</td>\n",
       "      <td>15.0</td>\n",
       "      <td>7.0</td>\n",
       "      <td>73</td>\n",
       "      <td>32.0</td>\n",
       "      <td>1013.9</td>\n",
       "      <td>1009.7</td>\n",
       "      <td>6</td>\n",
       "      <td>5</td>\n",
       "      <td>25.4</td>\n",
       "      <td>31.0</td>\n",
       "      <td>2</td>\n",
       "    </tr>\n",
       "    <tr>\n",
       "      <th>351585</th>\n",
       "      <td>20.2</td>\n",
       "      <td>31.7</td>\n",
       "      <td>0.0</td>\n",
       "      <td>5.6</td>\n",
       "      <td>10.7</td>\n",
       "      <td>30</td>\n",
       "      <td>15.0</td>\n",
       "      <td>7.0</td>\n",
       "      <td>73</td>\n",
       "      <td>32.0</td>\n",
       "      <td>1013.9</td>\n",
       "      <td>1009.7</td>\n",
       "      <td>6</td>\n",
       "      <td>5</td>\n",
       "      <td>25.4</td>\n",
       "      <td>31.0</td>\n",
       "      <td>2</td>\n",
       "    </tr>\n",
       "    <tr>\n",
       "      <th>351586</th>\n",
       "      <td>20.2</td>\n",
       "      <td>31.7</td>\n",
       "      <td>0.0</td>\n",
       "      <td>5.6</td>\n",
       "      <td>10.7</td>\n",
       "      <td>30</td>\n",
       "      <td>15.0</td>\n",
       "      <td>7.0</td>\n",
       "      <td>73</td>\n",
       "      <td>32.0</td>\n",
       "      <td>1013.9</td>\n",
       "      <td>1009.7</td>\n",
       "      <td>6</td>\n",
       "      <td>5</td>\n",
       "      <td>25.4</td>\n",
       "      <td>31.0</td>\n",
       "      <td>2</td>\n",
       "    </tr>\n",
       "  </tbody>\n",
       "</table>\n",
       "<p>349416 rows × 17 columns</p>\n",
       "</div>"
      ],
      "text/plain": [
       "        MinTemp  MaxTemp  Rainfall  Evaporation  Sunshine  WindGustSpeed  \\\n",
       "0          17.9     35.2       0.0         12.0      12.3             48   \n",
       "1          17.9     35.2       0.0         12.0      12.3             48   \n",
       "2          17.9     35.2       0.0         12.0      12.3             48   \n",
       "3          17.9     35.2       0.0         12.0      12.3             48   \n",
       "4          17.9     35.2       0.0         12.0      12.3             48   \n",
       "...         ...      ...       ...          ...       ...            ...   \n",
       "351582     20.2     31.7       0.0          5.6      10.7             30   \n",
       "351583     20.2     31.7       0.0          5.6      10.7             30   \n",
       "351584     20.2     31.7       0.0          5.6      10.7             30   \n",
       "351585     20.2     31.7       0.0          5.6      10.7             30   \n",
       "351586     20.2     31.7       0.0          5.6      10.7             30   \n",
       "\n",
       "        WindSpeed9am  WindSpeed3pm  Humidity9am  Humidity3pm  Pressure9am  \\\n",
       "0                6.0          20.0           20         13.0       1006.3   \n",
       "1                6.0          20.0           20         13.0       1006.3   \n",
       "2                6.0          20.0           20         13.0       1006.3   \n",
       "3                6.0          20.0           20         13.0       1006.3   \n",
       "4                6.0          20.0           20         13.0       1006.3   \n",
       "...              ...           ...          ...          ...          ...   \n",
       "351582          15.0           7.0           73         32.0       1013.9   \n",
       "351583          15.0           7.0           73         32.0       1013.9   \n",
       "351584          15.0           7.0           73         32.0       1013.9   \n",
       "351585          15.0           7.0           73         32.0       1013.9   \n",
       "351586          15.0           7.0           73         32.0       1013.9   \n",
       "\n",
       "        Pressure3pm  Cloud9am  Cloud3pm  Temp9am  Temp3pm  RainToday  \n",
       "0            1004.4         2         5     26.6     33.4          2  \n",
       "1            1004.4         2         5     26.6     33.4          2  \n",
       "2            1004.4         2         5     26.6     33.4          2  \n",
       "3            1004.4         2         5     26.6     33.4          2  \n",
       "4            1004.4         2         5     26.6     33.4          2  \n",
       "...             ...       ...       ...      ...      ...        ...  \n",
       "351582       1009.7         6         5     25.4     31.0          2  \n",
       "351583       1009.7         6         5     25.4     31.0          2  \n",
       "351584       1009.7         6         5     25.4     31.0          2  \n",
       "351585       1009.7         6         5     25.4     31.0          2  \n",
       "351586       1009.7         6         5     25.4     31.0          2  \n",
       "\n",
       "[349416 rows x 17 columns]"
      ]
     },
     "execution_count": 12,
     "metadata": {},
     "output_type": "execute_result"
    }
   ],
   "source": [
    "x"
   ]
  },
  {
   "cell_type": "code",
   "execution_count": 13,
   "id": "502a78bd",
   "metadata": {
    "execution": {
     "iopub.execute_input": "2023-02-23T17:33:12.467031Z",
     "iopub.status.busy": "2023-02-23T17:33:12.466669Z",
     "iopub.status.idle": "2023-02-23T17:33:12.475370Z",
     "shell.execute_reply": "2023-02-23T17:33:12.474632Z"
    },
    "papermill": {
     "duration": 0.017108,
     "end_time": "2023-02-23T17:33:12.477355",
     "exception": false,
     "start_time": "2023-02-23T17:33:12.460247",
     "status": "completed"
    },
    "tags": []
   },
   "outputs": [
    {
     "data": {
      "text/html": [
       "<div>\n",
       "<style scoped>\n",
       "    .dataframe tbody tr th:only-of-type {\n",
       "        vertical-align: middle;\n",
       "    }\n",
       "\n",
       "    .dataframe tbody tr th {\n",
       "        vertical-align: top;\n",
       "    }\n",
       "\n",
       "    .dataframe thead th {\n",
       "        text-align: right;\n",
       "    }\n",
       "</style>\n",
       "<table border=\"1\" class=\"dataframe\">\n",
       "  <thead>\n",
       "    <tr style=\"text-align: right;\">\n",
       "      <th></th>\n",
       "      <th>RainTomorrow</th>\n",
       "    </tr>\n",
       "  </thead>\n",
       "  <tbody>\n",
       "    <tr>\n",
       "      <th>0</th>\n",
       "      <td>2</td>\n",
       "    </tr>\n",
       "    <tr>\n",
       "      <th>1</th>\n",
       "      <td>2</td>\n",
       "    </tr>\n",
       "    <tr>\n",
       "      <th>2</th>\n",
       "      <td>2</td>\n",
       "    </tr>\n",
       "    <tr>\n",
       "      <th>3</th>\n",
       "      <td>2</td>\n",
       "    </tr>\n",
       "    <tr>\n",
       "      <th>4</th>\n",
       "      <td>2</td>\n",
       "    </tr>\n",
       "    <tr>\n",
       "      <th>...</th>\n",
       "      <td>...</td>\n",
       "    </tr>\n",
       "    <tr>\n",
       "      <th>351582</th>\n",
       "      <td>2</td>\n",
       "    </tr>\n",
       "    <tr>\n",
       "      <th>351583</th>\n",
       "      <td>2</td>\n",
       "    </tr>\n",
       "    <tr>\n",
       "      <th>351584</th>\n",
       "      <td>2</td>\n",
       "    </tr>\n",
       "    <tr>\n",
       "      <th>351585</th>\n",
       "      <td>2</td>\n",
       "    </tr>\n",
       "    <tr>\n",
       "      <th>351586</th>\n",
       "      <td>2</td>\n",
       "    </tr>\n",
       "  </tbody>\n",
       "</table>\n",
       "<p>349416 rows × 1 columns</p>\n",
       "</div>"
      ],
      "text/plain": [
       "        RainTomorrow\n",
       "0                  2\n",
       "1                  2\n",
       "2                  2\n",
       "3                  2\n",
       "4                  2\n",
       "...              ...\n",
       "351582             2\n",
       "351583             2\n",
       "351584             2\n",
       "351585             2\n",
       "351586             2\n",
       "\n",
       "[349416 rows x 1 columns]"
      ]
     },
     "execution_count": 13,
     "metadata": {},
     "output_type": "execute_result"
    }
   ],
   "source": [
    "y"
   ]
  },
  {
   "cell_type": "code",
   "execution_count": null,
   "id": "6761e890",
   "metadata": {
    "papermill": {
     "duration": 0.005175,
     "end_time": "2023-02-23T17:33:12.487843",
     "exception": false,
     "start_time": "2023-02-23T17:33:12.482668",
     "status": "completed"
    },
    "tags": []
   },
   "outputs": [],
   "source": []
  }
 ],
 "metadata": {
  "kernelspec": {
   "display_name": "Python 3",
   "language": "python",
   "name": "python3"
  },
  "language_info": {
   "codemirror_mode": {
    "name": "ipython",
    "version": 3
   },
   "file_extension": ".py",
   "mimetype": "text/x-python",
   "name": "python",
   "nbconvert_exporter": "python",
   "pygments_lexer": "ipython3",
   "version": "3.7.12"
  },
  "papermill": {
   "default_parameters": {},
   "duration": 12.569944,
   "end_time": "2023-02-23T17:33:13.314693",
   "environment_variables": {},
   "exception": null,
   "input_path": "__notebook__.ipynb",
   "output_path": "__notebook__.ipynb",
   "parameters": {},
   "start_time": "2023-02-23T17:33:00.744749",
   "version": "2.3.4"
  }
 },
 "nbformat": 4,
 "nbformat_minor": 5
}
