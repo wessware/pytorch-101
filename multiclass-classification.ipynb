{
 "cells": [
  {
   "cell_type": "code",
   "execution_count": 1,
   "id": "380e2e8d",
   "metadata": {
    "_cell_guid": "b1076dfc-b9ad-4769-8c92-a6c4dae69d19",
    "_uuid": "8f2839f25d086af736a60e9eeb907d3b93b6e0e5",
    "execution": {
     "iopub.execute_input": "2023-02-22T10:52:24.932639Z",
     "iopub.status.busy": "2023-02-22T10:52:24.932152Z",
     "iopub.status.idle": "2023-02-22T10:52:24.942386Z",
     "shell.execute_reply": "2023-02-22T10:52:24.940992Z"
    },
    "papermill": {
     "duration": 0.020719,
     "end_time": "2023-02-22T10:52:24.945357",
     "exception": false,
     "start_time": "2023-02-22T10:52:24.924638",
     "status": "completed"
    },
    "tags": []
   },
   "outputs": [],
   "source": [
    "import numpy as np\n",
    "import pandas as pd "
   ]
  },
  {
   "cell_type": "code",
   "execution_count": 2,
   "id": "f77a3118",
   "metadata": {
    "execution": {
     "iopub.execute_input": "2023-02-22T10:52:24.952936Z",
     "iopub.status.busy": "2023-02-22T10:52:24.952532Z",
     "iopub.status.idle": "2023-02-22T10:52:25.660006Z",
     "shell.execute_reply": "2023-02-22T10:52:25.658696Z"
    },
    "papermill": {
     "duration": 0.714356,
     "end_time": "2023-02-22T10:52:25.662721",
     "exception": false,
     "start_time": "2023-02-22T10:52:24.948365",
     "status": "completed"
    },
    "tags": []
   },
   "outputs": [],
   "source": [
    "df = pd.read_csv('/kaggle/input/clean-data-australia-rainfall/rainfall_data_australia.csv', index_col=0)"
   ]
  },
  {
   "cell_type": "code",
   "execution_count": 3,
   "id": "adccd2e4",
   "metadata": {
    "execution": {
     "iopub.execute_input": "2023-02-22T10:52:25.672122Z",
     "iopub.status.busy": "2023-02-22T10:52:25.670830Z",
     "iopub.status.idle": "2023-02-22T10:52:25.684254Z",
     "shell.execute_reply": "2023-02-22T10:52:25.682166Z"
    },
    "papermill": {
     "duration": 0.021961,
     "end_time": "2023-02-22T10:52:25.688018",
     "exception": false,
     "start_time": "2023-02-22T10:52:25.666057",
     "status": "completed"
    },
    "tags": []
   },
   "outputs": [
    {
     "data": {
      "text/plain": [
       "(351587, 17)"
      ]
     },
     "execution_count": 3,
     "metadata": {},
     "output_type": "execute_result"
    }
   ],
   "source": [
    "df.shape"
   ]
  },
  {
   "cell_type": "code",
   "execution_count": 4,
   "id": "21d9fc71",
   "metadata": {
    "execution": {
     "iopub.execute_input": "2023-02-22T10:52:25.699005Z",
     "iopub.status.busy": "2023-02-22T10:52:25.697974Z",
     "iopub.status.idle": "2023-02-22T10:52:25.726652Z",
     "shell.execute_reply": "2023-02-22T10:52:25.725552Z"
    },
    "papermill": {
     "duration": 0.037658,
     "end_time": "2023-02-22T10:52:25.729545",
     "exception": false,
     "start_time": "2023-02-22T10:52:25.691887",
     "status": "completed"
    },
    "tags": []
   },
   "outputs": [
    {
     "data": {
      "text/html": [
       "<div>\n",
       "<style scoped>\n",
       "    .dataframe tbody tr th:only-of-type {\n",
       "        vertical-align: middle;\n",
       "    }\n",
       "\n",
       "    .dataframe tbody tr th {\n",
       "        vertical-align: top;\n",
       "    }\n",
       "\n",
       "    .dataframe thead th {\n",
       "        text-align: right;\n",
       "    }\n",
       "</style>\n",
       "<table border=\"1\" class=\"dataframe\">\n",
       "  <thead>\n",
       "    <tr style=\"text-align: right;\">\n",
       "      <th></th>\n",
       "      <th>MaxTemp</th>\n",
       "      <th>Rainfall</th>\n",
       "      <th>Evaporation</th>\n",
       "      <th>Sunshine</th>\n",
       "      <th>WindGustSpeed</th>\n",
       "      <th>WindSpeed9am</th>\n",
       "      <th>WindSpeed3pm</th>\n",
       "      <th>Humidity9am</th>\n",
       "      <th>Humidity3pm</th>\n",
       "      <th>Pressure9am</th>\n",
       "      <th>Pressure3pm</th>\n",
       "      <th>Cloud9am</th>\n",
       "      <th>Cloud3pm</th>\n",
       "      <th>Temp9am</th>\n",
       "      <th>Temp3pm</th>\n",
       "      <th>RainToday</th>\n",
       "      <th>RainTomorrow</th>\n",
       "    </tr>\n",
       "    <tr>\n",
       "      <th>MinTemp</th>\n",
       "      <th></th>\n",
       "      <th></th>\n",
       "      <th></th>\n",
       "      <th></th>\n",
       "      <th></th>\n",
       "      <th></th>\n",
       "      <th></th>\n",
       "      <th></th>\n",
       "      <th></th>\n",
       "      <th></th>\n",
       "      <th></th>\n",
       "      <th></th>\n",
       "      <th></th>\n",
       "      <th></th>\n",
       "      <th></th>\n",
       "      <th></th>\n",
       "      <th></th>\n",
       "    </tr>\n",
       "  </thead>\n",
       "  <tbody>\n",
       "    <tr>\n",
       "      <th>17.9</th>\n",
       "      <td>35.2</td>\n",
       "      <td>0.0</td>\n",
       "      <td>12.0</td>\n",
       "      <td>12.3</td>\n",
       "      <td>48</td>\n",
       "      <td>6.0</td>\n",
       "      <td>20.0</td>\n",
       "      <td>20</td>\n",
       "      <td>13.0</td>\n",
       "      <td>1006.3</td>\n",
       "      <td>1004.4</td>\n",
       "      <td>2</td>\n",
       "      <td>5</td>\n",
       "      <td>26.6</td>\n",
       "      <td>33.4</td>\n",
       "      <td>2</td>\n",
       "      <td>2</td>\n",
       "    </tr>\n",
       "    <tr>\n",
       "      <th>17.9</th>\n",
       "      <td>35.2</td>\n",
       "      <td>0.0</td>\n",
       "      <td>12.0</td>\n",
       "      <td>12.3</td>\n",
       "      <td>48</td>\n",
       "      <td>6.0</td>\n",
       "      <td>20.0</td>\n",
       "      <td>20</td>\n",
       "      <td>13.0</td>\n",
       "      <td>1006.3</td>\n",
       "      <td>1004.4</td>\n",
       "      <td>2</td>\n",
       "      <td>5</td>\n",
       "      <td>26.6</td>\n",
       "      <td>33.4</td>\n",
       "      <td>2</td>\n",
       "      <td>2</td>\n",
       "    </tr>\n",
       "    <tr>\n",
       "      <th>17.9</th>\n",
       "      <td>35.2</td>\n",
       "      <td>0.0</td>\n",
       "      <td>12.0</td>\n",
       "      <td>12.3</td>\n",
       "      <td>48</td>\n",
       "      <td>6.0</td>\n",
       "      <td>20.0</td>\n",
       "      <td>20</td>\n",
       "      <td>13.0</td>\n",
       "      <td>1006.3</td>\n",
       "      <td>1004.4</td>\n",
       "      <td>2</td>\n",
       "      <td>5</td>\n",
       "      <td>26.6</td>\n",
       "      <td>33.4</td>\n",
       "      <td>2</td>\n",
       "      <td>2</td>\n",
       "    </tr>\n",
       "    <tr>\n",
       "      <th>17.9</th>\n",
       "      <td>35.2</td>\n",
       "      <td>0.0</td>\n",
       "      <td>12.0</td>\n",
       "      <td>12.3</td>\n",
       "      <td>48</td>\n",
       "      <td>6.0</td>\n",
       "      <td>20.0</td>\n",
       "      <td>20</td>\n",
       "      <td>13.0</td>\n",
       "      <td>1006.3</td>\n",
       "      <td>1004.4</td>\n",
       "      <td>2</td>\n",
       "      <td>5</td>\n",
       "      <td>26.6</td>\n",
       "      <td>33.4</td>\n",
       "      <td>2</td>\n",
       "      <td>2</td>\n",
       "    </tr>\n",
       "    <tr>\n",
       "      <th>17.9</th>\n",
       "      <td>35.2</td>\n",
       "      <td>0.0</td>\n",
       "      <td>12.0</td>\n",
       "      <td>12.3</td>\n",
       "      <td>48</td>\n",
       "      <td>6.0</td>\n",
       "      <td>20.0</td>\n",
       "      <td>20</td>\n",
       "      <td>13.0</td>\n",
       "      <td>1006.3</td>\n",
       "      <td>1004.4</td>\n",
       "      <td>2</td>\n",
       "      <td>5</td>\n",
       "      <td>26.6</td>\n",
       "      <td>33.4</td>\n",
       "      <td>2</td>\n",
       "      <td>2</td>\n",
       "    </tr>\n",
       "  </tbody>\n",
       "</table>\n",
       "</div>"
      ],
      "text/plain": [
       "         MaxTemp  Rainfall  Evaporation  Sunshine  WindGustSpeed  \\\n",
       "MinTemp                                                            \n",
       "17.9        35.2       0.0         12.0      12.3             48   \n",
       "17.9        35.2       0.0         12.0      12.3             48   \n",
       "17.9        35.2       0.0         12.0      12.3             48   \n",
       "17.9        35.2       0.0         12.0      12.3             48   \n",
       "17.9        35.2       0.0         12.0      12.3             48   \n",
       "\n",
       "         WindSpeed9am  WindSpeed3pm  Humidity9am  Humidity3pm  Pressure9am  \\\n",
       "MinTemp                                                                      \n",
       "17.9              6.0          20.0           20         13.0       1006.3   \n",
       "17.9              6.0          20.0           20         13.0       1006.3   \n",
       "17.9              6.0          20.0           20         13.0       1006.3   \n",
       "17.9              6.0          20.0           20         13.0       1006.3   \n",
       "17.9              6.0          20.0           20         13.0       1006.3   \n",
       "\n",
       "         Pressure3pm  Cloud9am  Cloud3pm  Temp9am  Temp3pm  RainToday  \\\n",
       "MinTemp                                                                 \n",
       "17.9          1004.4         2         5     26.6     33.4          2   \n",
       "17.9          1004.4         2         5     26.6     33.4          2   \n",
       "17.9          1004.4         2         5     26.6     33.4          2   \n",
       "17.9          1004.4         2         5     26.6     33.4          2   \n",
       "17.9          1004.4         2         5     26.6     33.4          2   \n",
       "\n",
       "         RainTomorrow  \n",
       "MinTemp                \n",
       "17.9                2  \n",
       "17.9                2  \n",
       "17.9                2  \n",
       "17.9                2  \n",
       "17.9                2  "
      ]
     },
     "execution_count": 4,
     "metadata": {},
     "output_type": "execute_result"
    }
   ],
   "source": [
    "df.head()"
   ]
  },
  {
   "cell_type": "code",
   "execution_count": 5,
   "id": "e8b5a0dd",
   "metadata": {
    "execution": {
     "iopub.execute_input": "2023-02-22T10:52:25.738281Z",
     "iopub.status.busy": "2023-02-22T10:52:25.737840Z",
     "iopub.status.idle": "2023-02-22T10:52:25.748829Z",
     "shell.execute_reply": "2023-02-22T10:52:25.747917Z"
    },
    "papermill": {
     "duration": 0.017865,
     "end_time": "2023-02-22T10:52:25.750907",
     "exception": false,
     "start_time": "2023-02-22T10:52:25.733042",
     "status": "completed"
    },
    "tags": []
   },
   "outputs": [
    {
     "data": {
      "text/plain": [
       "MaxTemp           True\n",
       "Rainfall         False\n",
       "Evaporation       True\n",
       "Sunshine         False\n",
       "WindGustSpeed    False\n",
       "WindSpeed9am      True\n",
       "WindSpeed3pm      True\n",
       "Humidity9am      False\n",
       "Humidity3pm       True\n",
       "Pressure9am       True\n",
       "Pressure3pm       True\n",
       "Cloud9am         False\n",
       "Cloud3pm         False\n",
       "Temp9am          False\n",
       "Temp3pm           True\n",
       "RainToday        False\n",
       "RainTomorrow     False\n",
       "dtype: bool"
      ]
     },
     "execution_count": 5,
     "metadata": {},
     "output_type": "execute_result"
    }
   ],
   "source": [
    "df.isna().any()"
   ]
  },
  {
   "cell_type": "code",
   "execution_count": 6,
   "id": "618ad725",
   "metadata": {
    "execution": {
     "iopub.execute_input": "2023-02-22T10:52:25.760197Z",
     "iopub.status.busy": "2023-02-22T10:52:25.759845Z",
     "iopub.status.idle": "2023-02-22T10:52:25.799433Z",
     "shell.execute_reply": "2023-02-22T10:52:25.798123Z"
    },
    "papermill": {
     "duration": 0.046874,
     "end_time": "2023-02-22T10:52:25.801879",
     "exception": false,
     "start_time": "2023-02-22T10:52:25.755005",
     "status": "completed"
    },
    "tags": []
   },
   "outputs": [],
   "source": [
    "df = df.dropna()"
   ]
  },
  {
   "cell_type": "code",
   "execution_count": 7,
   "id": "207b055b",
   "metadata": {
    "execution": {
     "iopub.execute_input": "2023-02-22T10:52:25.810104Z",
     "iopub.status.busy": "2023-02-22T10:52:25.809729Z",
     "iopub.status.idle": "2023-02-22T10:52:25.823306Z",
     "shell.execute_reply": "2023-02-22T10:52:25.821389Z"
    },
    "papermill": {
     "duration": 0.020365,
     "end_time": "2023-02-22T10:52:25.825752",
     "exception": false,
     "start_time": "2023-02-22T10:52:25.805387",
     "status": "completed"
    },
    "tags": []
   },
   "outputs": [
    {
     "data": {
      "text/plain": [
       "MaxTemp          False\n",
       "Rainfall         False\n",
       "Evaporation      False\n",
       "Sunshine         False\n",
       "WindGustSpeed    False\n",
       "WindSpeed9am     False\n",
       "WindSpeed3pm     False\n",
       "Humidity9am      False\n",
       "Humidity3pm      False\n",
       "Pressure9am      False\n",
       "Pressure3pm      False\n",
       "Cloud9am         False\n",
       "Cloud3pm         False\n",
       "Temp9am          False\n",
       "Temp3pm          False\n",
       "RainToday        False\n",
       "RainTomorrow     False\n",
       "dtype: bool"
      ]
     },
     "execution_count": 7,
     "metadata": {},
     "output_type": "execute_result"
    }
   ],
   "source": [
    "df.isna().any()"
   ]
  },
  {
   "cell_type": "code",
   "execution_count": 8,
   "id": "2369b28b",
   "metadata": {
    "execution": {
     "iopub.execute_input": "2023-02-22T10:52:25.834273Z",
     "iopub.status.busy": "2023-02-22T10:52:25.833886Z",
     "iopub.status.idle": "2023-02-22T10:52:25.840789Z",
     "shell.execute_reply": "2023-02-22T10:52:25.839668Z"
    },
    "papermill": {
     "duration": 0.013929,
     "end_time": "2023-02-22T10:52:25.843055",
     "exception": false,
     "start_time": "2023-02-22T10:52:25.829126",
     "status": "completed"
    },
    "tags": []
   },
   "outputs": [
    {
     "data": {
      "text/plain": [
       "(349435, 17)"
      ]
     },
     "execution_count": 8,
     "metadata": {},
     "output_type": "execute_result"
    }
   ],
   "source": [
    "df.shape"
   ]
  },
  {
   "cell_type": "code",
   "execution_count": null,
   "id": "d3bffa11",
   "metadata": {
    "papermill": {
     "duration": 0.003749,
     "end_time": "2023-02-22T10:52:25.850553",
     "exception": false,
     "start_time": "2023-02-22T10:52:25.846804",
     "status": "completed"
    },
    "tags": []
   },
   "outputs": [],
   "source": []
  }
 ],
 "metadata": {
  "kernelspec": {
   "display_name": "Python 3",
   "language": "python",
   "name": "python3"
  },
  "language_info": {
   "codemirror_mode": {
    "name": "ipython",
    "version": 3
   },
   "file_extension": ".py",
   "mimetype": "text/x-python",
   "name": "python",
   "nbconvert_exporter": "python",
   "pygments_lexer": "ipython3",
   "version": "3.7.12"
  },
  "papermill": {
   "default_parameters": {},
   "duration": 9.556867,
   "end_time": "2023-02-22T10:52:26.576820",
   "environment_variables": {},
   "exception": null,
   "input_path": "__notebook__.ipynb",
   "output_path": "__notebook__.ipynb",
   "parameters": {},
   "start_time": "2023-02-22T10:52:17.019953",
   "version": "2.3.4"
  }
 },
 "nbformat": 4,
 "nbformat_minor": 5
}
