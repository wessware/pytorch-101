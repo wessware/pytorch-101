{
 "cells": [
  {
   "cell_type": "code",
   "execution_count": 1,
   "id": "6a9c0686",
   "metadata": {
    "_cell_guid": "b1076dfc-b9ad-4769-8c92-a6c4dae69d19",
    "_uuid": "8f2839f25d086af736a60e9eeb907d3b93b6e0e5",
    "execution": {
     "iopub.execute_input": "2023-02-24T08:46:39.354113Z",
     "iopub.status.busy": "2023-02-24T08:46:39.353571Z",
     "iopub.status.idle": "2023-02-24T08:46:42.758264Z",
     "shell.execute_reply": "2023-02-24T08:46:42.756926Z"
    },
    "papermill": {
     "duration": 3.422697,
     "end_time": "2023-02-24T08:46:42.761528",
     "exception": false,
     "start_time": "2023-02-24T08:46:39.338831",
     "status": "completed"
    },
    "tags": []
   },
   "outputs": [],
   "source": [
    "import numpy as np\n",
    "import pandas as pd \n",
    "\n",
    "from sklearn.preprocessing import MinMaxScaler\n",
    "from sklearn.preprocessing import OneHotEncoder\n",
    "from sklearn.model_selection import train_test_split\n",
    "\n",
    "import matplotlib.pyplot as plt\n",
    "\n",
    "import torch\n",
    "import torch.nn as nn\n",
    "import torch.optim as optim\n",
    "import tqdm"
   ]
  },
  {
   "cell_type": "code",
   "execution_count": 2,
   "id": "85b5abdc",
   "metadata": {
    "execution": {
     "iopub.execute_input": "2023-02-24T08:46:42.779871Z",
     "iopub.status.busy": "2023-02-24T08:46:42.779025Z",
     "iopub.status.idle": "2023-02-24T08:46:43.869107Z",
     "shell.execute_reply": "2023-02-24T08:46:43.867790Z"
    },
    "papermill": {
     "duration": 1.102884,
     "end_time": "2023-02-24T08:46:43.872220",
     "exception": false,
     "start_time": "2023-02-24T08:46:42.769336",
     "status": "completed"
    },
    "tags": []
   },
   "outputs": [],
   "source": [
    "df = pd.read_csv('/kaggle/input/clean-data-australia-rainfall/rainfall_data_australia.csv', index_col=None)"
   ]
  },
  {
   "cell_type": "code",
   "execution_count": 3,
   "id": "d3590d12",
   "metadata": {
    "execution": {
     "iopub.execute_input": "2023-02-24T08:46:43.890202Z",
     "iopub.status.busy": "2023-02-24T08:46:43.889493Z",
     "iopub.status.idle": "2023-02-24T08:46:43.902165Z",
     "shell.execute_reply": "2023-02-24T08:46:43.900766Z"
    },
    "papermill": {
     "duration": 0.024995,
     "end_time": "2023-02-24T08:46:43.905381",
     "exception": false,
     "start_time": "2023-02-24T08:46:43.880386",
     "status": "completed"
    },
    "tags": []
   },
   "outputs": [
    {
     "data": {
      "text/plain": [
       "(351587, 18)"
      ]
     },
     "execution_count": 3,
     "metadata": {},
     "output_type": "execute_result"
    }
   ],
   "source": [
    "df.shape"
   ]
  },
  {
   "cell_type": "code",
   "execution_count": 4,
   "id": "8925334b",
   "metadata": {
    "execution": {
     "iopub.execute_input": "2023-02-24T08:46:43.924332Z",
     "iopub.status.busy": "2023-02-24T08:46:43.923905Z",
     "iopub.status.idle": "2023-02-24T08:46:43.962537Z",
     "shell.execute_reply": "2023-02-24T08:46:43.960533Z"
    },
    "papermill": {
     "duration": 0.050977,
     "end_time": "2023-02-24T08:46:43.965725",
     "exception": false,
     "start_time": "2023-02-24T08:46:43.914748",
     "status": "completed"
    },
    "tags": []
   },
   "outputs": [
    {
     "data": {
      "text/html": [
       "<div>\n",
       "<style scoped>\n",
       "    .dataframe tbody tr th:only-of-type {\n",
       "        vertical-align: middle;\n",
       "    }\n",
       "\n",
       "    .dataframe tbody tr th {\n",
       "        vertical-align: top;\n",
       "    }\n",
       "\n",
       "    .dataframe thead th {\n",
       "        text-align: right;\n",
       "    }\n",
       "</style>\n",
       "<table border=\"1\" class=\"dataframe\">\n",
       "  <thead>\n",
       "    <tr style=\"text-align: right;\">\n",
       "      <th></th>\n",
       "      <th>MinTemp</th>\n",
       "      <th>MaxTemp</th>\n",
       "      <th>Rainfall</th>\n",
       "      <th>Evaporation</th>\n",
       "      <th>Sunshine</th>\n",
       "      <th>WindGustSpeed</th>\n",
       "      <th>WindSpeed9am</th>\n",
       "      <th>WindSpeed3pm</th>\n",
       "      <th>Humidity9am</th>\n",
       "      <th>Humidity3pm</th>\n",
       "      <th>Pressure9am</th>\n",
       "      <th>Pressure3pm</th>\n",
       "      <th>Cloud9am</th>\n",
       "      <th>Cloud3pm</th>\n",
       "      <th>Temp9am</th>\n",
       "      <th>Temp3pm</th>\n",
       "      <th>RainToday</th>\n",
       "      <th>RainTomorrow</th>\n",
       "    </tr>\n",
       "  </thead>\n",
       "  <tbody>\n",
       "    <tr>\n",
       "      <th>0</th>\n",
       "      <td>17.9</td>\n",
       "      <td>35.2</td>\n",
       "      <td>0.0</td>\n",
       "      <td>12.0</td>\n",
       "      <td>12.3</td>\n",
       "      <td>48</td>\n",
       "      <td>6.0</td>\n",
       "      <td>20.0</td>\n",
       "      <td>20</td>\n",
       "      <td>13.0</td>\n",
       "      <td>1006.3</td>\n",
       "      <td>1004.4</td>\n",
       "      <td>2</td>\n",
       "      <td>5</td>\n",
       "      <td>26.6</td>\n",
       "      <td>33.4</td>\n",
       "      <td>2</td>\n",
       "      <td>2</td>\n",
       "    </tr>\n",
       "    <tr>\n",
       "      <th>1</th>\n",
       "      <td>17.9</td>\n",
       "      <td>35.2</td>\n",
       "      <td>0.0</td>\n",
       "      <td>12.0</td>\n",
       "      <td>12.3</td>\n",
       "      <td>48</td>\n",
       "      <td>6.0</td>\n",
       "      <td>20.0</td>\n",
       "      <td>20</td>\n",
       "      <td>13.0</td>\n",
       "      <td>1006.3</td>\n",
       "      <td>1004.4</td>\n",
       "      <td>2</td>\n",
       "      <td>5</td>\n",
       "      <td>26.6</td>\n",
       "      <td>33.4</td>\n",
       "      <td>2</td>\n",
       "      <td>2</td>\n",
       "    </tr>\n",
       "    <tr>\n",
       "      <th>2</th>\n",
       "      <td>17.9</td>\n",
       "      <td>35.2</td>\n",
       "      <td>0.0</td>\n",
       "      <td>12.0</td>\n",
       "      <td>12.3</td>\n",
       "      <td>48</td>\n",
       "      <td>6.0</td>\n",
       "      <td>20.0</td>\n",
       "      <td>20</td>\n",
       "      <td>13.0</td>\n",
       "      <td>1006.3</td>\n",
       "      <td>1004.4</td>\n",
       "      <td>2</td>\n",
       "      <td>5</td>\n",
       "      <td>26.6</td>\n",
       "      <td>33.4</td>\n",
       "      <td>2</td>\n",
       "      <td>2</td>\n",
       "    </tr>\n",
       "    <tr>\n",
       "      <th>3</th>\n",
       "      <td>17.9</td>\n",
       "      <td>35.2</td>\n",
       "      <td>0.0</td>\n",
       "      <td>12.0</td>\n",
       "      <td>12.3</td>\n",
       "      <td>48</td>\n",
       "      <td>6.0</td>\n",
       "      <td>20.0</td>\n",
       "      <td>20</td>\n",
       "      <td>13.0</td>\n",
       "      <td>1006.3</td>\n",
       "      <td>1004.4</td>\n",
       "      <td>2</td>\n",
       "      <td>5</td>\n",
       "      <td>26.6</td>\n",
       "      <td>33.4</td>\n",
       "      <td>2</td>\n",
       "      <td>2</td>\n",
       "    </tr>\n",
       "    <tr>\n",
       "      <th>4</th>\n",
       "      <td>17.9</td>\n",
       "      <td>35.2</td>\n",
       "      <td>0.0</td>\n",
       "      <td>12.0</td>\n",
       "      <td>12.3</td>\n",
       "      <td>48</td>\n",
       "      <td>6.0</td>\n",
       "      <td>20.0</td>\n",
       "      <td>20</td>\n",
       "      <td>13.0</td>\n",
       "      <td>1006.3</td>\n",
       "      <td>1004.4</td>\n",
       "      <td>2</td>\n",
       "      <td>5</td>\n",
       "      <td>26.6</td>\n",
       "      <td>33.4</td>\n",
       "      <td>2</td>\n",
       "      <td>2</td>\n",
       "    </tr>\n",
       "  </tbody>\n",
       "</table>\n",
       "</div>"
      ],
      "text/plain": [
       "   MinTemp  MaxTemp  Rainfall  Evaporation  Sunshine  WindGustSpeed  \\\n",
       "0     17.9     35.2       0.0         12.0      12.3             48   \n",
       "1     17.9     35.2       0.0         12.0      12.3             48   \n",
       "2     17.9     35.2       0.0         12.0      12.3             48   \n",
       "3     17.9     35.2       0.0         12.0      12.3             48   \n",
       "4     17.9     35.2       0.0         12.0      12.3             48   \n",
       "\n",
       "   WindSpeed9am  WindSpeed3pm  Humidity9am  Humidity3pm  Pressure9am  \\\n",
       "0           6.0          20.0           20         13.0       1006.3   \n",
       "1           6.0          20.0           20         13.0       1006.3   \n",
       "2           6.0          20.0           20         13.0       1006.3   \n",
       "3           6.0          20.0           20         13.0       1006.3   \n",
       "4           6.0          20.0           20         13.0       1006.3   \n",
       "\n",
       "   Pressure3pm  Cloud9am  Cloud3pm  Temp9am  Temp3pm  RainToday  RainTomorrow  \n",
       "0       1004.4         2         5     26.6     33.4          2             2  \n",
       "1       1004.4         2         5     26.6     33.4          2             2  \n",
       "2       1004.4         2         5     26.6     33.4          2             2  \n",
       "3       1004.4         2         5     26.6     33.4          2             2  \n",
       "4       1004.4         2         5     26.6     33.4          2             2  "
      ]
     },
     "execution_count": 4,
     "metadata": {},
     "output_type": "execute_result"
    }
   ],
   "source": [
    "df.head()"
   ]
  },
  {
   "cell_type": "code",
   "execution_count": 5,
   "id": "b24f984d",
   "metadata": {
    "execution": {
     "iopub.execute_input": "2023-02-24T08:46:43.984368Z",
     "iopub.status.busy": "2023-02-24T08:46:43.983912Z",
     "iopub.status.idle": "2023-02-24T08:46:43.999251Z",
     "shell.execute_reply": "2023-02-24T08:46:43.997761Z"
    },
    "papermill": {
     "duration": 0.027932,
     "end_time": "2023-02-24T08:46:44.002125",
     "exception": false,
     "start_time": "2023-02-24T08:46:43.974193",
     "status": "completed"
    },
    "tags": []
   },
   "outputs": [
    {
     "data": {
      "text/plain": [
       "MinTemp           True\n",
       "MaxTemp           True\n",
       "Rainfall         False\n",
       "Evaporation       True\n",
       "Sunshine         False\n",
       "WindGustSpeed    False\n",
       "WindSpeed9am      True\n",
       "WindSpeed3pm      True\n",
       "Humidity9am      False\n",
       "Humidity3pm       True\n",
       "Pressure9am       True\n",
       "Pressure3pm       True\n",
       "Cloud9am         False\n",
       "Cloud3pm         False\n",
       "Temp9am          False\n",
       "Temp3pm           True\n",
       "RainToday        False\n",
       "RainTomorrow     False\n",
       "dtype: bool"
      ]
     },
     "execution_count": 5,
     "metadata": {},
     "output_type": "execute_result"
    }
   ],
   "source": [
    "df.isna().any()"
   ]
  },
  {
   "cell_type": "code",
   "execution_count": 6,
   "id": "261494a1",
   "metadata": {
    "execution": {
     "iopub.execute_input": "2023-02-24T08:46:44.023750Z",
     "iopub.status.busy": "2023-02-24T08:46:44.023314Z",
     "iopub.status.idle": "2023-02-24T08:46:44.099394Z",
     "shell.execute_reply": "2023-02-24T08:46:44.098040Z"
    },
    "papermill": {
     "duration": 0.089992,
     "end_time": "2023-02-24T08:46:44.102361",
     "exception": false,
     "start_time": "2023-02-24T08:46:44.012369",
     "status": "completed"
    },
    "tags": []
   },
   "outputs": [],
   "source": [
    "df = df.dropna()"
   ]
  },
  {
   "cell_type": "code",
   "execution_count": 7,
   "id": "fb021baf",
   "metadata": {
    "execution": {
     "iopub.execute_input": "2023-02-24T08:46:44.122416Z",
     "iopub.status.busy": "2023-02-24T08:46:44.121791Z",
     "iopub.status.idle": "2023-02-24T08:46:44.142060Z",
     "shell.execute_reply": "2023-02-24T08:46:44.140192Z"
    },
    "papermill": {
     "duration": 0.034243,
     "end_time": "2023-02-24T08:46:44.145555",
     "exception": false,
     "start_time": "2023-02-24T08:46:44.111312",
     "status": "completed"
    },
    "tags": []
   },
   "outputs": [
    {
     "data": {
      "text/plain": [
       "MinTemp          False\n",
       "MaxTemp          False\n",
       "Rainfall         False\n",
       "Evaporation      False\n",
       "Sunshine         False\n",
       "WindGustSpeed    False\n",
       "WindSpeed9am     False\n",
       "WindSpeed3pm     False\n",
       "Humidity9am      False\n",
       "Humidity3pm      False\n",
       "Pressure9am      False\n",
       "Pressure3pm      False\n",
       "Cloud9am         False\n",
       "Cloud3pm         False\n",
       "Temp9am          False\n",
       "Temp3pm          False\n",
       "RainToday        False\n",
       "RainTomorrow     False\n",
       "dtype: bool"
      ]
     },
     "execution_count": 7,
     "metadata": {},
     "output_type": "execute_result"
    }
   ],
   "source": [
    "df.isna().any()"
   ]
  },
  {
   "cell_type": "code",
   "execution_count": 8,
   "id": "93112f83",
   "metadata": {
    "execution": {
     "iopub.execute_input": "2023-02-24T08:46:44.167584Z",
     "iopub.status.busy": "2023-02-24T08:46:44.167155Z",
     "iopub.status.idle": "2023-02-24T08:46:44.173342Z",
     "shell.execute_reply": "2023-02-24T08:46:44.172243Z"
    },
    "papermill": {
     "duration": 0.01956,
     "end_time": "2023-02-24T08:46:44.175524",
     "exception": false,
     "start_time": "2023-02-24T08:46:44.155964",
     "status": "completed"
    },
    "tags": []
   },
   "outputs": [
    {
     "data": {
      "text/plain": [
       "(349416, 18)"
      ]
     },
     "execution_count": 8,
     "metadata": {},
     "output_type": "execute_result"
    }
   ],
   "source": [
    "df.shape"
   ]
  },
  {
   "cell_type": "code",
   "execution_count": 9,
   "id": "253c7e64",
   "metadata": {
    "execution": {
     "iopub.execute_input": "2023-02-24T08:46:44.195551Z",
     "iopub.status.busy": "2023-02-24T08:46:44.194715Z",
     "iopub.status.idle": "2023-02-24T08:46:44.201892Z",
     "shell.execute_reply": "2023-02-24T08:46:44.200778Z"
    },
    "papermill": {
     "duration": 0.020707,
     "end_time": "2023-02-24T08:46:44.204867",
     "exception": false,
     "start_time": "2023-02-24T08:46:44.184160",
     "status": "completed"
    },
    "tags": []
   },
   "outputs": [
    {
     "data": {
      "text/plain": [
       "Index(['MinTemp', 'MaxTemp', 'Rainfall', 'Evaporation', 'Sunshine',\n",
       "       'WindGustSpeed', 'WindSpeed9am', 'WindSpeed3pm', 'Humidity9am',\n",
       "       'Humidity3pm', 'Pressure9am', 'Pressure3pm', 'Cloud9am', 'Cloud3pm',\n",
       "       'Temp9am', 'Temp3pm', 'RainToday', 'RainTomorrow'],\n",
       "      dtype='object')"
      ]
     },
     "execution_count": 9,
     "metadata": {},
     "output_type": "execute_result"
    }
   ],
   "source": [
    "df.columns"
   ]
  },
  {
   "cell_type": "code",
   "execution_count": 10,
   "id": "881f1d44",
   "metadata": {
    "execution": {
     "iopub.execute_input": "2023-02-24T08:46:44.224794Z",
     "iopub.status.busy": "2023-02-24T08:46:44.224171Z",
     "iopub.status.idle": "2023-02-24T08:46:44.240335Z",
     "shell.execute_reply": "2023-02-24T08:46:44.239084Z"
    },
    "papermill": {
     "duration": 0.029226,
     "end_time": "2023-02-24T08:46:44.243206",
     "exception": false,
     "start_time": "2023-02-24T08:46:44.213980",
     "status": "completed"
    },
    "tags": []
   },
   "outputs": [
    {
     "data": {
      "text/plain": [
       "array([2, 1, 3])"
      ]
     },
     "execution_count": 10,
     "metadata": {},
     "output_type": "execute_result"
    }
   ],
   "source": [
    "df['RainTomorrow'].unique()"
   ]
  },
  {
   "cell_type": "code",
   "execution_count": 11,
   "id": "31899485",
   "metadata": {
    "execution": {
     "iopub.execute_input": "2023-02-24T08:46:44.262380Z",
     "iopub.status.busy": "2023-02-24T08:46:44.261674Z",
     "iopub.status.idle": "2023-02-24T08:46:44.321488Z",
     "shell.execute_reply": "2023-02-24T08:46:44.319935Z"
    },
    "papermill": {
     "duration": 0.072723,
     "end_time": "2023-02-24T08:46:44.324447",
     "exception": false,
     "start_time": "2023-02-24T08:46:44.251724",
     "status": "completed"
    },
    "tags": []
   },
   "outputs": [],
   "source": [
    "string_var = {'RainTomorrow': {1:'Yes', 2:'No', 3:'Yes_No'}}\n",
    "\n",
    "df = df.replace(string_var)"
   ]
  },
  {
   "cell_type": "code",
   "execution_count": 12,
   "id": "d37aa2a3",
   "metadata": {
    "execution": {
     "iopub.execute_input": "2023-02-24T08:46:44.344661Z",
     "iopub.status.busy": "2023-02-24T08:46:44.343541Z",
     "iopub.status.idle": "2023-02-24T08:46:44.348826Z",
     "shell.execute_reply": "2023-02-24T08:46:44.347937Z"
    },
    "papermill": {
     "duration": 0.017954,
     "end_time": "2023-02-24T08:46:44.351210",
     "exception": false,
     "start_time": "2023-02-24T08:46:44.333256",
     "status": "completed"
    },
    "tags": []
   },
   "outputs": [],
   "source": [
    "x_cols = ['MinTemp', 'MaxTemp', 'Rainfall', 'Evaporation', 'Sunshine',\n",
    "       'WindGustSpeed', 'WindSpeed9am', 'WindSpeed3pm', 'Humidity9am',\n",
    "       'Humidity3pm', 'Pressure9am', 'Pressure3pm', 'Cloud9am', 'Cloud3pm',\n",
    "       'Temp9am', 'Temp3pm', 'RainToday']"
   ]
  },
  {
   "cell_type": "code",
   "execution_count": 13,
   "id": "e03ae910",
   "metadata": {
    "execution": {
     "iopub.execute_input": "2023-02-24T08:46:44.373281Z",
     "iopub.status.busy": "2023-02-24T08:46:44.372430Z",
     "iopub.status.idle": "2023-02-24T08:46:44.401105Z",
     "shell.execute_reply": "2023-02-24T08:46:44.400088Z"
    },
    "papermill": {
     "duration": 0.043372,
     "end_time": "2023-02-24T08:46:44.404263",
     "exception": false,
     "start_time": "2023-02-24T08:46:44.360891",
     "status": "completed"
    },
    "tags": []
   },
   "outputs": [],
   "source": [
    "x = df[x_cols]\n",
    "\n",
    "y = df[['RainTomorrow']]"
   ]
  },
  {
   "cell_type": "code",
   "execution_count": 14,
   "id": "2717b286",
   "metadata": {
    "execution": {
     "iopub.execute_input": "2023-02-24T08:46:44.427007Z",
     "iopub.status.busy": "2023-02-24T08:46:44.425644Z",
     "iopub.status.idle": "2023-02-24T08:46:44.464737Z",
     "shell.execute_reply": "2023-02-24T08:46:44.463725Z"
    },
    "papermill": {
     "duration": 0.052848,
     "end_time": "2023-02-24T08:46:44.467166",
     "exception": false,
     "start_time": "2023-02-24T08:46:44.414318",
     "status": "completed"
    },
    "tags": []
   },
   "outputs": [
    {
     "data": {
      "text/html": [
       "<div>\n",
       "<style scoped>\n",
       "    .dataframe tbody tr th:only-of-type {\n",
       "        vertical-align: middle;\n",
       "    }\n",
       "\n",
       "    .dataframe tbody tr th {\n",
       "        vertical-align: top;\n",
       "    }\n",
       "\n",
       "    .dataframe thead th {\n",
       "        text-align: right;\n",
       "    }\n",
       "</style>\n",
       "<table border=\"1\" class=\"dataframe\">\n",
       "  <thead>\n",
       "    <tr style=\"text-align: right;\">\n",
       "      <th></th>\n",
       "      <th>MinTemp</th>\n",
       "      <th>MaxTemp</th>\n",
       "      <th>Rainfall</th>\n",
       "      <th>Evaporation</th>\n",
       "      <th>Sunshine</th>\n",
       "      <th>WindGustSpeed</th>\n",
       "      <th>WindSpeed9am</th>\n",
       "      <th>WindSpeed3pm</th>\n",
       "      <th>Humidity9am</th>\n",
       "      <th>Humidity3pm</th>\n",
       "      <th>Pressure9am</th>\n",
       "      <th>Pressure3pm</th>\n",
       "      <th>Cloud9am</th>\n",
       "      <th>Cloud3pm</th>\n",
       "      <th>Temp9am</th>\n",
       "      <th>Temp3pm</th>\n",
       "      <th>RainToday</th>\n",
       "    </tr>\n",
       "  </thead>\n",
       "  <tbody>\n",
       "    <tr>\n",
       "      <th>0</th>\n",
       "      <td>17.9</td>\n",
       "      <td>35.2</td>\n",
       "      <td>0.0</td>\n",
       "      <td>12.0</td>\n",
       "      <td>12.3</td>\n",
       "      <td>48</td>\n",
       "      <td>6.0</td>\n",
       "      <td>20.0</td>\n",
       "      <td>20</td>\n",
       "      <td>13.0</td>\n",
       "      <td>1006.3</td>\n",
       "      <td>1004.4</td>\n",
       "      <td>2</td>\n",
       "      <td>5</td>\n",
       "      <td>26.6</td>\n",
       "      <td>33.4</td>\n",
       "      <td>2</td>\n",
       "    </tr>\n",
       "    <tr>\n",
       "      <th>1</th>\n",
       "      <td>17.9</td>\n",
       "      <td>35.2</td>\n",
       "      <td>0.0</td>\n",
       "      <td>12.0</td>\n",
       "      <td>12.3</td>\n",
       "      <td>48</td>\n",
       "      <td>6.0</td>\n",
       "      <td>20.0</td>\n",
       "      <td>20</td>\n",
       "      <td>13.0</td>\n",
       "      <td>1006.3</td>\n",
       "      <td>1004.4</td>\n",
       "      <td>2</td>\n",
       "      <td>5</td>\n",
       "      <td>26.6</td>\n",
       "      <td>33.4</td>\n",
       "      <td>2</td>\n",
       "    </tr>\n",
       "    <tr>\n",
       "      <th>2</th>\n",
       "      <td>17.9</td>\n",
       "      <td>35.2</td>\n",
       "      <td>0.0</td>\n",
       "      <td>12.0</td>\n",
       "      <td>12.3</td>\n",
       "      <td>48</td>\n",
       "      <td>6.0</td>\n",
       "      <td>20.0</td>\n",
       "      <td>20</td>\n",
       "      <td>13.0</td>\n",
       "      <td>1006.3</td>\n",
       "      <td>1004.4</td>\n",
       "      <td>2</td>\n",
       "      <td>5</td>\n",
       "      <td>26.6</td>\n",
       "      <td>33.4</td>\n",
       "      <td>2</td>\n",
       "    </tr>\n",
       "    <tr>\n",
       "      <th>3</th>\n",
       "      <td>17.9</td>\n",
       "      <td>35.2</td>\n",
       "      <td>0.0</td>\n",
       "      <td>12.0</td>\n",
       "      <td>12.3</td>\n",
       "      <td>48</td>\n",
       "      <td>6.0</td>\n",
       "      <td>20.0</td>\n",
       "      <td>20</td>\n",
       "      <td>13.0</td>\n",
       "      <td>1006.3</td>\n",
       "      <td>1004.4</td>\n",
       "      <td>2</td>\n",
       "      <td>5</td>\n",
       "      <td>26.6</td>\n",
       "      <td>33.4</td>\n",
       "      <td>2</td>\n",
       "    </tr>\n",
       "    <tr>\n",
       "      <th>4</th>\n",
       "      <td>17.9</td>\n",
       "      <td>35.2</td>\n",
       "      <td>0.0</td>\n",
       "      <td>12.0</td>\n",
       "      <td>12.3</td>\n",
       "      <td>48</td>\n",
       "      <td>6.0</td>\n",
       "      <td>20.0</td>\n",
       "      <td>20</td>\n",
       "      <td>13.0</td>\n",
       "      <td>1006.3</td>\n",
       "      <td>1004.4</td>\n",
       "      <td>2</td>\n",
       "      <td>5</td>\n",
       "      <td>26.6</td>\n",
       "      <td>33.4</td>\n",
       "      <td>2</td>\n",
       "    </tr>\n",
       "    <tr>\n",
       "      <th>...</th>\n",
       "      <td>...</td>\n",
       "      <td>...</td>\n",
       "      <td>...</td>\n",
       "      <td>...</td>\n",
       "      <td>...</td>\n",
       "      <td>...</td>\n",
       "      <td>...</td>\n",
       "      <td>...</td>\n",
       "      <td>...</td>\n",
       "      <td>...</td>\n",
       "      <td>...</td>\n",
       "      <td>...</td>\n",
       "      <td>...</td>\n",
       "      <td>...</td>\n",
       "      <td>...</td>\n",
       "      <td>...</td>\n",
       "      <td>...</td>\n",
       "    </tr>\n",
       "    <tr>\n",
       "      <th>351582</th>\n",
       "      <td>20.2</td>\n",
       "      <td>31.7</td>\n",
       "      <td>0.0</td>\n",
       "      <td>5.6</td>\n",
       "      <td>10.7</td>\n",
       "      <td>30</td>\n",
       "      <td>15.0</td>\n",
       "      <td>7.0</td>\n",
       "      <td>73</td>\n",
       "      <td>32.0</td>\n",
       "      <td>1013.9</td>\n",
       "      <td>1009.7</td>\n",
       "      <td>6</td>\n",
       "      <td>5</td>\n",
       "      <td>25.4</td>\n",
       "      <td>31.0</td>\n",
       "      <td>2</td>\n",
       "    </tr>\n",
       "    <tr>\n",
       "      <th>351583</th>\n",
       "      <td>20.2</td>\n",
       "      <td>31.7</td>\n",
       "      <td>0.0</td>\n",
       "      <td>5.6</td>\n",
       "      <td>10.7</td>\n",
       "      <td>30</td>\n",
       "      <td>15.0</td>\n",
       "      <td>7.0</td>\n",
       "      <td>73</td>\n",
       "      <td>32.0</td>\n",
       "      <td>1013.9</td>\n",
       "      <td>1009.7</td>\n",
       "      <td>6</td>\n",
       "      <td>5</td>\n",
       "      <td>25.4</td>\n",
       "      <td>31.0</td>\n",
       "      <td>2</td>\n",
       "    </tr>\n",
       "    <tr>\n",
       "      <th>351584</th>\n",
       "      <td>20.2</td>\n",
       "      <td>31.7</td>\n",
       "      <td>0.0</td>\n",
       "      <td>5.6</td>\n",
       "      <td>10.7</td>\n",
       "      <td>30</td>\n",
       "      <td>15.0</td>\n",
       "      <td>7.0</td>\n",
       "      <td>73</td>\n",
       "      <td>32.0</td>\n",
       "      <td>1013.9</td>\n",
       "      <td>1009.7</td>\n",
       "      <td>6</td>\n",
       "      <td>5</td>\n",
       "      <td>25.4</td>\n",
       "      <td>31.0</td>\n",
       "      <td>2</td>\n",
       "    </tr>\n",
       "    <tr>\n",
       "      <th>351585</th>\n",
       "      <td>20.2</td>\n",
       "      <td>31.7</td>\n",
       "      <td>0.0</td>\n",
       "      <td>5.6</td>\n",
       "      <td>10.7</td>\n",
       "      <td>30</td>\n",
       "      <td>15.0</td>\n",
       "      <td>7.0</td>\n",
       "      <td>73</td>\n",
       "      <td>32.0</td>\n",
       "      <td>1013.9</td>\n",
       "      <td>1009.7</td>\n",
       "      <td>6</td>\n",
       "      <td>5</td>\n",
       "      <td>25.4</td>\n",
       "      <td>31.0</td>\n",
       "      <td>2</td>\n",
       "    </tr>\n",
       "    <tr>\n",
       "      <th>351586</th>\n",
       "      <td>20.2</td>\n",
       "      <td>31.7</td>\n",
       "      <td>0.0</td>\n",
       "      <td>5.6</td>\n",
       "      <td>10.7</td>\n",
       "      <td>30</td>\n",
       "      <td>15.0</td>\n",
       "      <td>7.0</td>\n",
       "      <td>73</td>\n",
       "      <td>32.0</td>\n",
       "      <td>1013.9</td>\n",
       "      <td>1009.7</td>\n",
       "      <td>6</td>\n",
       "      <td>5</td>\n",
       "      <td>25.4</td>\n",
       "      <td>31.0</td>\n",
       "      <td>2</td>\n",
       "    </tr>\n",
       "  </tbody>\n",
       "</table>\n",
       "<p>349416 rows × 17 columns</p>\n",
       "</div>"
      ],
      "text/plain": [
       "        MinTemp  MaxTemp  Rainfall  Evaporation  Sunshine  WindGustSpeed  \\\n",
       "0          17.9     35.2       0.0         12.0      12.3             48   \n",
       "1          17.9     35.2       0.0         12.0      12.3             48   \n",
       "2          17.9     35.2       0.0         12.0      12.3             48   \n",
       "3          17.9     35.2       0.0         12.0      12.3             48   \n",
       "4          17.9     35.2       0.0         12.0      12.3             48   \n",
       "...         ...      ...       ...          ...       ...            ...   \n",
       "351582     20.2     31.7       0.0          5.6      10.7             30   \n",
       "351583     20.2     31.7       0.0          5.6      10.7             30   \n",
       "351584     20.2     31.7       0.0          5.6      10.7             30   \n",
       "351585     20.2     31.7       0.0          5.6      10.7             30   \n",
       "351586     20.2     31.7       0.0          5.6      10.7             30   \n",
       "\n",
       "        WindSpeed9am  WindSpeed3pm  Humidity9am  Humidity3pm  Pressure9am  \\\n",
       "0                6.0          20.0           20         13.0       1006.3   \n",
       "1                6.0          20.0           20         13.0       1006.3   \n",
       "2                6.0          20.0           20         13.0       1006.3   \n",
       "3                6.0          20.0           20         13.0       1006.3   \n",
       "4                6.0          20.0           20         13.0       1006.3   \n",
       "...              ...           ...          ...          ...          ...   \n",
       "351582          15.0           7.0           73         32.0       1013.9   \n",
       "351583          15.0           7.0           73         32.0       1013.9   \n",
       "351584          15.0           7.0           73         32.0       1013.9   \n",
       "351585          15.0           7.0           73         32.0       1013.9   \n",
       "351586          15.0           7.0           73         32.0       1013.9   \n",
       "\n",
       "        Pressure3pm  Cloud9am  Cloud3pm  Temp9am  Temp3pm  RainToday  \n",
       "0            1004.4         2         5     26.6     33.4          2  \n",
       "1            1004.4         2         5     26.6     33.4          2  \n",
       "2            1004.4         2         5     26.6     33.4          2  \n",
       "3            1004.4         2         5     26.6     33.4          2  \n",
       "4            1004.4         2         5     26.6     33.4          2  \n",
       "...             ...       ...       ...      ...      ...        ...  \n",
       "351582       1009.7         6         5     25.4     31.0          2  \n",
       "351583       1009.7         6         5     25.4     31.0          2  \n",
       "351584       1009.7         6         5     25.4     31.0          2  \n",
       "351585       1009.7         6         5     25.4     31.0          2  \n",
       "351586       1009.7         6         5     25.4     31.0          2  \n",
       "\n",
       "[349416 rows x 17 columns]"
      ]
     },
     "execution_count": 14,
     "metadata": {},
     "output_type": "execute_result"
    }
   ],
   "source": [
    "x"
   ]
  },
  {
   "cell_type": "code",
   "execution_count": 15,
   "id": "68bcc08b",
   "metadata": {
    "execution": {
     "iopub.execute_input": "2023-02-24T08:46:44.488813Z",
     "iopub.status.busy": "2023-02-24T08:46:44.487556Z",
     "iopub.status.idle": "2023-02-24T08:46:44.604311Z",
     "shell.execute_reply": "2023-02-24T08:46:44.602846Z"
    },
    "papermill": {
     "duration": 0.13064,
     "end_time": "2023-02-24T08:46:44.607135",
     "exception": false,
     "start_time": "2023-02-24T08:46:44.476495",
     "status": "completed"
    },
    "tags": []
   },
   "outputs": [],
   "source": [
    "scaler = MinMaxScaler().fit(x)\n",
    "\n",
    "x = scaler.transform(x)"
   ]
  },
  {
   "cell_type": "code",
   "execution_count": 16,
   "id": "99d85eee",
   "metadata": {
    "execution": {
     "iopub.execute_input": "2023-02-24T08:46:44.627448Z",
     "iopub.status.busy": "2023-02-24T08:46:44.627044Z",
     "iopub.status.idle": "2023-02-24T08:46:44.636911Z",
     "shell.execute_reply": "2023-02-24T08:46:44.635242Z"
    },
    "papermill": {
     "duration": 0.023281,
     "end_time": "2023-02-24T08:46:44.639329",
     "exception": false,
     "start_time": "2023-02-24T08:46:44.616048",
     "status": "completed"
    },
    "tags": []
   },
   "outputs": [
    {
     "data": {
      "text/plain": [
       "array([[0.64566929, 0.70681818, 0.        , ..., 0.68238213, 0.7004717 ,\n",
       "        1.        ],\n",
       "       [0.64566929, 0.70681818, 0.        , ..., 0.68238213, 0.7004717 ,\n",
       "        1.        ],\n",
       "       [0.64566929, 0.70681818, 0.        , ..., 0.68238213, 0.7004717 ,\n",
       "        1.        ],\n",
       "       ...,\n",
       "       [0.70603675, 0.62727273, 0.        , ..., 0.65260546, 0.64386792,\n",
       "        1.        ],\n",
       "       [0.70603675, 0.62727273, 0.        , ..., 0.65260546, 0.64386792,\n",
       "        1.        ],\n",
       "       [0.70603675, 0.62727273, 0.        , ..., 0.65260546, 0.64386792,\n",
       "        1.        ]])"
      ]
     },
     "execution_count": 16,
     "metadata": {},
     "output_type": "execute_result"
    }
   ],
   "source": [
    "x"
   ]
  },
  {
   "cell_type": "code",
   "execution_count": 17,
   "id": "8632e1a9",
   "metadata": {
    "execution": {
     "iopub.execute_input": "2023-02-24T08:46:44.659994Z",
     "iopub.status.busy": "2023-02-24T08:46:44.659558Z",
     "iopub.status.idle": "2023-02-24T08:46:44.672687Z",
     "shell.execute_reply": "2023-02-24T08:46:44.671481Z"
    },
    "papermill": {
     "duration": 0.026304,
     "end_time": "2023-02-24T08:46:44.675167",
     "exception": false,
     "start_time": "2023-02-24T08:46:44.648863",
     "status": "completed"
    },
    "tags": []
   },
   "outputs": [
    {
     "data": {
      "text/html": [
       "<div>\n",
       "<style scoped>\n",
       "    .dataframe tbody tr th:only-of-type {\n",
       "        vertical-align: middle;\n",
       "    }\n",
       "\n",
       "    .dataframe tbody tr th {\n",
       "        vertical-align: top;\n",
       "    }\n",
       "\n",
       "    .dataframe thead th {\n",
       "        text-align: right;\n",
       "    }\n",
       "</style>\n",
       "<table border=\"1\" class=\"dataframe\">\n",
       "  <thead>\n",
       "    <tr style=\"text-align: right;\">\n",
       "      <th></th>\n",
       "      <th>RainTomorrow</th>\n",
       "    </tr>\n",
       "  </thead>\n",
       "  <tbody>\n",
       "    <tr>\n",
       "      <th>0</th>\n",
       "      <td>No</td>\n",
       "    </tr>\n",
       "    <tr>\n",
       "      <th>1</th>\n",
       "      <td>No</td>\n",
       "    </tr>\n",
       "    <tr>\n",
       "      <th>2</th>\n",
       "      <td>No</td>\n",
       "    </tr>\n",
       "    <tr>\n",
       "      <th>3</th>\n",
       "      <td>No</td>\n",
       "    </tr>\n",
       "    <tr>\n",
       "      <th>4</th>\n",
       "      <td>No</td>\n",
       "    </tr>\n",
       "    <tr>\n",
       "      <th>...</th>\n",
       "      <td>...</td>\n",
       "    </tr>\n",
       "    <tr>\n",
       "      <th>351582</th>\n",
       "      <td>No</td>\n",
       "    </tr>\n",
       "    <tr>\n",
       "      <th>351583</th>\n",
       "      <td>No</td>\n",
       "    </tr>\n",
       "    <tr>\n",
       "      <th>351584</th>\n",
       "      <td>No</td>\n",
       "    </tr>\n",
       "    <tr>\n",
       "      <th>351585</th>\n",
       "      <td>No</td>\n",
       "    </tr>\n",
       "    <tr>\n",
       "      <th>351586</th>\n",
       "      <td>No</td>\n",
       "    </tr>\n",
       "  </tbody>\n",
       "</table>\n",
       "<p>349416 rows × 1 columns</p>\n",
       "</div>"
      ],
      "text/plain": [
       "       RainTomorrow\n",
       "0                No\n",
       "1                No\n",
       "2                No\n",
       "3                No\n",
       "4                No\n",
       "...             ...\n",
       "351582           No\n",
       "351583           No\n",
       "351584           No\n",
       "351585           No\n",
       "351586           No\n",
       "\n",
       "[349416 rows x 1 columns]"
      ]
     },
     "execution_count": 17,
     "metadata": {},
     "output_type": "execute_result"
    }
   ],
   "source": [
    "y"
   ]
  },
  {
   "cell_type": "code",
   "execution_count": 18,
   "id": "0d1d080e",
   "metadata": {
    "execution": {
     "iopub.execute_input": "2023-02-24T08:46:44.696429Z",
     "iopub.status.busy": "2023-02-24T08:46:44.695418Z",
     "iopub.status.idle": "2023-02-24T08:46:44.700705Z",
     "shell.execute_reply": "2023-02-24T08:46:44.699413Z"
    },
    "papermill": {
     "duration": 0.019165,
     "end_time": "2023-02-24T08:46:44.703362",
     "exception": false,
     "start_time": "2023-02-24T08:46:44.684197",
     "status": "completed"
    },
    "tags": []
   },
   "outputs": [],
   "source": [
    "#y_ = y.toarray()"
   ]
  },
  {
   "cell_type": "code",
   "execution_count": 19,
   "id": "a6ba3620",
   "metadata": {
    "execution": {
     "iopub.execute_input": "2023-02-24T08:46:44.723565Z",
     "iopub.status.busy": "2023-02-24T08:46:44.723140Z",
     "iopub.status.idle": "2023-02-24T08:46:44.845828Z",
     "shell.execute_reply": "2023-02-24T08:46:44.844522Z"
    },
    "papermill": {
     "duration": 0.136364,
     "end_time": "2023-02-24T08:46:44.848842",
     "exception": false,
     "start_time": "2023-02-24T08:46:44.712478",
     "status": "completed"
    },
    "tags": []
   },
   "outputs": [],
   "source": [
    "encoder = OneHotEncoder(handle_unknown='ignore', sparse=False).fit(y)\n",
    "\n",
    "y = encoder.transform(y)"
   ]
  },
  {
   "cell_type": "code",
   "execution_count": 20,
   "id": "12172840",
   "metadata": {
    "execution": {
     "iopub.execute_input": "2023-02-24T08:46:44.869426Z",
     "iopub.status.busy": "2023-02-24T08:46:44.868992Z",
     "iopub.status.idle": "2023-02-24T08:46:44.876446Z",
     "shell.execute_reply": "2023-02-24T08:46:44.875077Z"
    },
    "papermill": {
     "duration": 0.02078,
     "end_time": "2023-02-24T08:46:44.878918",
     "exception": false,
     "start_time": "2023-02-24T08:46:44.858138",
     "status": "completed"
    },
    "tags": []
   },
   "outputs": [
    {
     "data": {
      "text/plain": [
       "array([[1., 0., 0.],\n",
       "       [1., 0., 0.],\n",
       "       [1., 0., 0.],\n",
       "       ...,\n",
       "       [1., 0., 0.],\n",
       "       [1., 0., 0.],\n",
       "       [1., 0., 0.]])"
      ]
     },
     "execution_count": 20,
     "metadata": {},
     "output_type": "execute_result"
    }
   ],
   "source": [
    "y"
   ]
  },
  {
   "cell_type": "code",
   "execution_count": 21,
   "id": "a2c793b9",
   "metadata": {
    "execution": {
     "iopub.execute_input": "2023-02-24T08:46:44.900490Z",
     "iopub.status.busy": "2023-02-24T08:46:44.900075Z",
     "iopub.status.idle": "2023-02-24T08:46:44.905851Z",
     "shell.execute_reply": "2023-02-24T08:46:44.904613Z"
    },
    "papermill": {
     "duration": 0.019591,
     "end_time": "2023-02-24T08:46:44.908536",
     "exception": false,
     "start_time": "2023-02-24T08:46:44.888945",
     "status": "completed"
    },
    "tags": []
   },
   "outputs": [],
   "source": [
    "x_ = pd.DataFrame(x)"
   ]
  },
  {
   "cell_type": "code",
   "execution_count": 22,
   "id": "3133e9cd",
   "metadata": {
    "execution": {
     "iopub.execute_input": "2023-02-24T08:46:44.929930Z",
     "iopub.status.busy": "2023-02-24T08:46:44.929477Z",
     "iopub.status.idle": "2023-02-24T08:46:44.987964Z",
     "shell.execute_reply": "2023-02-24T08:46:44.986966Z"
    },
    "papermill": {
     "duration": 0.072739,
     "end_time": "2023-02-24T08:46:44.991104",
     "exception": false,
     "start_time": "2023-02-24T08:46:44.918365",
     "status": "completed"
    },
    "tags": []
   },
   "outputs": [],
   "source": [
    "X = torch.tensor(x_.values, dtype=torch.float32)"
   ]
  },
  {
   "cell_type": "code",
   "execution_count": 23,
   "id": "8bca33f6",
   "metadata": {
    "execution": {
     "iopub.execute_input": "2023-02-24T08:46:45.013115Z",
     "iopub.status.busy": "2023-02-24T08:46:45.012028Z",
     "iopub.status.idle": "2023-02-24T08:46:45.018127Z",
     "shell.execute_reply": "2023-02-24T08:46:45.016875Z"
    },
    "papermill": {
     "duration": 0.020161,
     "end_time": "2023-02-24T08:46:45.021296",
     "exception": false,
     "start_time": "2023-02-24T08:46:45.001135",
     "status": "completed"
    },
    "tags": []
   },
   "outputs": [],
   "source": [
    "y_ = pd.DataFrame(y)"
   ]
  },
  {
   "cell_type": "code",
   "execution_count": 24,
   "id": "852a1b22",
   "metadata": {
    "execution": {
     "iopub.execute_input": "2023-02-24T08:46:45.043494Z",
     "iopub.status.busy": "2023-02-24T08:46:45.042771Z",
     "iopub.status.idle": "2023-02-24T08:46:45.058633Z",
     "shell.execute_reply": "2023-02-24T08:46:45.057359Z"
    },
    "papermill": {
     "duration": 0.03007,
     "end_time": "2023-02-24T08:46:45.061743",
     "exception": false,
     "start_time": "2023-02-24T08:46:45.031673",
     "status": "completed"
    },
    "tags": []
   },
   "outputs": [
    {
     "data": {
      "text/html": [
       "<div>\n",
       "<style scoped>\n",
       "    .dataframe tbody tr th:only-of-type {\n",
       "        vertical-align: middle;\n",
       "    }\n",
       "\n",
       "    .dataframe tbody tr th {\n",
       "        vertical-align: top;\n",
       "    }\n",
       "\n",
       "    .dataframe thead th {\n",
       "        text-align: right;\n",
       "    }\n",
       "</style>\n",
       "<table border=\"1\" class=\"dataframe\">\n",
       "  <thead>\n",
       "    <tr style=\"text-align: right;\">\n",
       "      <th></th>\n",
       "      <th>0</th>\n",
       "      <th>1</th>\n",
       "      <th>2</th>\n",
       "    </tr>\n",
       "  </thead>\n",
       "  <tbody>\n",
       "    <tr>\n",
       "      <th>0</th>\n",
       "      <td>1.0</td>\n",
       "      <td>0.0</td>\n",
       "      <td>0.0</td>\n",
       "    </tr>\n",
       "    <tr>\n",
       "      <th>1</th>\n",
       "      <td>1.0</td>\n",
       "      <td>0.0</td>\n",
       "      <td>0.0</td>\n",
       "    </tr>\n",
       "    <tr>\n",
       "      <th>2</th>\n",
       "      <td>1.0</td>\n",
       "      <td>0.0</td>\n",
       "      <td>0.0</td>\n",
       "    </tr>\n",
       "    <tr>\n",
       "      <th>3</th>\n",
       "      <td>1.0</td>\n",
       "      <td>0.0</td>\n",
       "      <td>0.0</td>\n",
       "    </tr>\n",
       "    <tr>\n",
       "      <th>4</th>\n",
       "      <td>1.0</td>\n",
       "      <td>0.0</td>\n",
       "      <td>0.0</td>\n",
       "    </tr>\n",
       "    <tr>\n",
       "      <th>...</th>\n",
       "      <td>...</td>\n",
       "      <td>...</td>\n",
       "      <td>...</td>\n",
       "    </tr>\n",
       "    <tr>\n",
       "      <th>349411</th>\n",
       "      <td>1.0</td>\n",
       "      <td>0.0</td>\n",
       "      <td>0.0</td>\n",
       "    </tr>\n",
       "    <tr>\n",
       "      <th>349412</th>\n",
       "      <td>1.0</td>\n",
       "      <td>0.0</td>\n",
       "      <td>0.0</td>\n",
       "    </tr>\n",
       "    <tr>\n",
       "      <th>349413</th>\n",
       "      <td>1.0</td>\n",
       "      <td>0.0</td>\n",
       "      <td>0.0</td>\n",
       "    </tr>\n",
       "    <tr>\n",
       "      <th>349414</th>\n",
       "      <td>1.0</td>\n",
       "      <td>0.0</td>\n",
       "      <td>0.0</td>\n",
       "    </tr>\n",
       "    <tr>\n",
       "      <th>349415</th>\n",
       "      <td>1.0</td>\n",
       "      <td>0.0</td>\n",
       "      <td>0.0</td>\n",
       "    </tr>\n",
       "  </tbody>\n",
       "</table>\n",
       "<p>349416 rows × 3 columns</p>\n",
       "</div>"
      ],
      "text/plain": [
       "          0    1    2\n",
       "0       1.0  0.0  0.0\n",
       "1       1.0  0.0  0.0\n",
       "2       1.0  0.0  0.0\n",
       "3       1.0  0.0  0.0\n",
       "4       1.0  0.0  0.0\n",
       "...     ...  ...  ...\n",
       "349411  1.0  0.0  0.0\n",
       "349412  1.0  0.0  0.0\n",
       "349413  1.0  0.0  0.0\n",
       "349414  1.0  0.0  0.0\n",
       "349415  1.0  0.0  0.0\n",
       "\n",
       "[349416 rows x 3 columns]"
      ]
     },
     "execution_count": 24,
     "metadata": {},
     "output_type": "execute_result"
    }
   ],
   "source": [
    "y_"
   ]
  },
  {
   "cell_type": "code",
   "execution_count": 25,
   "id": "1bfa970f",
   "metadata": {
    "execution": {
     "iopub.execute_input": "2023-02-24T08:46:45.082784Z",
     "iopub.status.busy": "2023-02-24T08:46:45.082336Z",
     "iopub.status.idle": "2023-02-24T08:46:45.088809Z",
     "shell.execute_reply": "2023-02-24T08:46:45.087299Z"
    },
    "papermill": {
     "duration": 0.020238,
     "end_time": "2023-02-24T08:46:45.091625",
     "exception": false,
     "start_time": "2023-02-24T08:46:45.071387",
     "status": "completed"
    },
    "tags": []
   },
   "outputs": [],
   "source": [
    "y = torch.tensor(y, dtype=torch.float32)"
   ]
  },
  {
   "cell_type": "code",
   "execution_count": 26,
   "id": "54bb8328",
   "metadata": {
    "execution": {
     "iopub.execute_input": "2023-02-24T08:46:45.114894Z",
     "iopub.status.busy": "2023-02-24T08:46:45.113152Z",
     "iopub.status.idle": "2023-02-24T08:46:45.223975Z",
     "shell.execute_reply": "2023-02-24T08:46:45.222740Z"
    },
    "papermill": {
     "duration": 0.12599,
     "end_time": "2023-02-24T08:46:45.227940",
     "exception": false,
     "start_time": "2023-02-24T08:46:45.101950",
     "status": "completed"
    },
    "tags": []
   },
   "outputs": [],
   "source": [
    "x_train, x_test, y_train, y_test = train_test_split(X, y, train_size=0.7, shuffle=True)"
   ]
  },
  {
   "cell_type": "code",
   "execution_count": 27,
   "id": "a4ceedb7",
   "metadata": {
    "execution": {
     "iopub.execute_input": "2023-02-24T08:46:45.252138Z",
     "iopub.status.busy": "2023-02-24T08:46:45.250645Z",
     "iopub.status.idle": "2023-02-24T08:46:45.258397Z",
     "shell.execute_reply": "2023-02-24T08:46:45.256909Z"
    },
    "papermill": {
     "duration": 0.023319,
     "end_time": "2023-02-24T08:46:45.261328",
     "exception": false,
     "start_time": "2023-02-24T08:46:45.238009",
     "status": "completed"
    },
    "tags": []
   },
   "outputs": [
    {
     "name": "stdout",
     "output_type": "stream",
     "text": [
      "torch.Size([244591, 17])\n",
      "torch.Size([104825, 17])\n",
      "torch.Size([244591, 3])\n",
      "torch.Size([104825, 3])\n"
     ]
    }
   ],
   "source": [
    "print(x_train.shape)\n",
    "print(x_test.shape)\n",
    "print(y_train.shape)\n",
    "print(y_test.shape)"
   ]
  },
  {
   "cell_type": "code",
   "execution_count": 28,
   "id": "0b034db1",
   "metadata": {
    "execution": {
     "iopub.execute_input": "2023-02-24T08:46:45.283024Z",
     "iopub.status.busy": "2023-02-24T08:46:45.282604Z",
     "iopub.status.idle": "2023-02-24T08:46:45.291015Z",
     "shell.execute_reply": "2023-02-24T08:46:45.289472Z"
    },
    "papermill": {
     "duration": 0.022452,
     "end_time": "2023-02-24T08:46:45.293408",
     "exception": false,
     "start_time": "2023-02-24T08:46:45.270956",
     "status": "completed"
    },
    "tags": []
   },
   "outputs": [],
   "source": [
    "class Multiclass(nn.Module):\n",
    "    \n",
    "    def __init__(self):\n",
    "        super().__init__()\n",
    "        self.hidden = nn.Linear(17, 34)\n",
    "        self.act = nn.ReLU()\n",
    "        self.output = nn.Linear(34, 3)\n",
    "        \n",
    "    def forward(self, x):\n",
    "        x = self.act(self.hidden(x))\n",
    "        x = self.output(x)\n",
    "        \n",
    "        return x"
   ]
  },
  {
   "cell_type": "code",
   "execution_count": null,
   "id": "96a092fc",
   "metadata": {
    "papermill": {
     "duration": 0.009629,
     "end_time": "2023-02-24T08:46:45.313471",
     "exception": false,
     "start_time": "2023-02-24T08:46:45.303842",
     "status": "completed"
    },
    "tags": []
   },
   "outputs": [],
   "source": []
  }
 ],
 "metadata": {
  "kernelspec": {
   "display_name": "Python 3",
   "language": "python",
   "name": "python3"
  },
  "language_info": {
   "codemirror_mode": {
    "name": "ipython",
    "version": 3
   },
   "file_extension": ".py",
   "mimetype": "text/x-python",
   "name": "python",
   "nbconvert_exporter": "python",
   "pygments_lexer": "ipython3",
   "version": "3.7.12"
  },
  "papermill": {
   "default_parameters": {},
   "duration": 17.76731,
   "end_time": "2023-02-24T08:46:46.448655",
   "environment_variables": {},
   "exception": null,
   "input_path": "__notebook__.ipynb",
   "output_path": "__notebook__.ipynb",
   "parameters": {},
   "start_time": "2023-02-24T08:46:28.681345",
   "version": "2.3.4"
  }
 },
 "nbformat": 4,
 "nbformat_minor": 5
}
