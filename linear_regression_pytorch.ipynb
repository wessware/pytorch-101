{
  "nbformat": 4,
  "nbformat_minor": 0,
  "metadata": {
    "colab": {
      "provenance": [],
      "authorship_tag": "ABX9TyPlgSqoyzaOefp9++qKo+T4",
      "include_colab_link": true
    },
    "kernelspec": {
      "name": "python3",
      "display_name": "Python 3"
    },
    "language_info": {
      "name": "python"
    }
  },
  "cells": [
    {
      "cell_type": "markdown",
      "metadata": {
        "id": "view-in-github",
        "colab_type": "text"
      },
      "source": [
        "<a href=\"https://colab.research.google.com/github/wessware/pytorch-101/blob/main/linear_regression_pytorch.ipynb\" target=\"_parent\"><img src=\"https://colab.research.google.com/assets/colab-badge.svg\" alt=\"Open In Colab\"/></a>"
      ]
    },
    {
      "cell_type": "code",
      "execution_count": 56,
      "metadata": {
        "id": "GNlngFytvkHi"
      },
      "outputs": [],
      "source": [
        "import copy\n",
        "\n",
        "import numpy as np\n",
        "import pandas as pd\n",
        "import matplotlib.pyplot as plt\n",
        "\n",
        "import torch\n",
        "import torch.nn as nn\n",
        "import torch.optim as optim\n",
        "import torch\n",
        "import tqdm\n",
        "\n",
        "from sklearn.model_selection import train_test_split\n",
        "from sklearn.preprocessing import StandardScaler, LabelEncoder"
      ]
    },
    {
      "cell_type": "code",
      "source": [
        "df = pd.read_csv('/content/sample_data/sales_data.csv', index_col=None)"
      ],
      "metadata": {
        "id": "s5ZdZV57wi-7"
      },
      "execution_count": 37,
      "outputs": []
    },
    {
      "cell_type": "code",
      "source": [
        "df.shape"
      ],
      "metadata": {
        "colab": {
          "base_uri": "https://localhost:8080/"
        },
        "id": "C3CC24ZTzBiM",
        "outputId": "d72c1381-7231-4b14-d40a-ee3c01f49a32"
      },
      "execution_count": 38,
      "outputs": [
        {
          "output_type": "execute_result",
          "data": {
            "text/plain": [
              "(7991, 12)"
            ]
          },
          "metadata": {},
          "execution_count": 38
        }
      ]
    },
    {
      "cell_type": "code",
      "source": [
        "df.head()"
      ],
      "metadata": {
        "colab": {
          "base_uri": "https://localhost:8080/",
          "height": 374
        },
        "id": "bk_QeRKrwrRW",
        "outputId": "fe42e60b-92c7-4b5e-e4ce-791d3da46998"
      },
      "execution_count": 39,
      "outputs": [
        {
          "output_type": "execute_result",
          "data": {
            "text/plain": [
              "   OrderNumber  OrderDate WarehouseCode  Sales Channel  StoreID  SalesTeamID  \\\n",
              "0  SO - 000101  5/31/2018  WARE-UHY1004              1      259            6   \n",
              "1  SO - 000102  5/31/2018  WARE-NMK1003              2      196           14   \n",
              "2  SO - 000103  5/31/2018  WARE-UHY1004              3      213           21   \n",
              "3  SO - 000104  5/31/2018  WARE-NMK1003              4      107           28   \n",
              "4  SO - 000105  5/31/2018  WARE-NMK1003              3      111           22   \n",
              "\n",
              "   CustomerID  ProductID  Order_Quantity  Discount_Applied  Unit_Price  \\\n",
              "0          15         12               5             0.075      1963.1   \n",
              "1          20         27               3             0.075      3939.6   \n",
              "2          16         16               1             0.050      1775.5   \n",
              "3          48         23               8             0.075      2324.9   \n",
              "4          49         26               8             0.100      1822.4   \n",
              "\n",
              "   Unit_Cost  \n",
              "0    1001.18  \n",
              "1    3348.66  \n",
              "2     781.22  \n",
              "3    1464.69  \n",
              "4    1476.14  "
            ],
            "text/html": [
              "\n",
              "  <div id=\"df-626befec-59c3-4d37-9018-e8dcd63edf96\">\n",
              "    <div class=\"colab-df-container\">\n",
              "      <div>\n",
              "<style scoped>\n",
              "    .dataframe tbody tr th:only-of-type {\n",
              "        vertical-align: middle;\n",
              "    }\n",
              "\n",
              "    .dataframe tbody tr th {\n",
              "        vertical-align: top;\n",
              "    }\n",
              "\n",
              "    .dataframe thead th {\n",
              "        text-align: right;\n",
              "    }\n",
              "</style>\n",
              "<table border=\"1\" class=\"dataframe\">\n",
              "  <thead>\n",
              "    <tr style=\"text-align: right;\">\n",
              "      <th></th>\n",
              "      <th>OrderNumber</th>\n",
              "      <th>OrderDate</th>\n",
              "      <th>WarehouseCode</th>\n",
              "      <th>Sales Channel</th>\n",
              "      <th>StoreID</th>\n",
              "      <th>SalesTeamID</th>\n",
              "      <th>CustomerID</th>\n",
              "      <th>ProductID</th>\n",
              "      <th>Order_Quantity</th>\n",
              "      <th>Discount_Applied</th>\n",
              "      <th>Unit_Price</th>\n",
              "      <th>Unit_Cost</th>\n",
              "    </tr>\n",
              "  </thead>\n",
              "  <tbody>\n",
              "    <tr>\n",
              "      <th>0</th>\n",
              "      <td>SO - 000101</td>\n",
              "      <td>5/31/2018</td>\n",
              "      <td>WARE-UHY1004</td>\n",
              "      <td>1</td>\n",
              "      <td>259</td>\n",
              "      <td>6</td>\n",
              "      <td>15</td>\n",
              "      <td>12</td>\n",
              "      <td>5</td>\n",
              "      <td>0.075</td>\n",
              "      <td>1963.1</td>\n",
              "      <td>1001.18</td>\n",
              "    </tr>\n",
              "    <tr>\n",
              "      <th>1</th>\n",
              "      <td>SO - 000102</td>\n",
              "      <td>5/31/2018</td>\n",
              "      <td>WARE-NMK1003</td>\n",
              "      <td>2</td>\n",
              "      <td>196</td>\n",
              "      <td>14</td>\n",
              "      <td>20</td>\n",
              "      <td>27</td>\n",
              "      <td>3</td>\n",
              "      <td>0.075</td>\n",
              "      <td>3939.6</td>\n",
              "      <td>3348.66</td>\n",
              "    </tr>\n",
              "    <tr>\n",
              "      <th>2</th>\n",
              "      <td>SO - 000103</td>\n",
              "      <td>5/31/2018</td>\n",
              "      <td>WARE-UHY1004</td>\n",
              "      <td>3</td>\n",
              "      <td>213</td>\n",
              "      <td>21</td>\n",
              "      <td>16</td>\n",
              "      <td>16</td>\n",
              "      <td>1</td>\n",
              "      <td>0.050</td>\n",
              "      <td>1775.5</td>\n",
              "      <td>781.22</td>\n",
              "    </tr>\n",
              "    <tr>\n",
              "      <th>3</th>\n",
              "      <td>SO - 000104</td>\n",
              "      <td>5/31/2018</td>\n",
              "      <td>WARE-NMK1003</td>\n",
              "      <td>4</td>\n",
              "      <td>107</td>\n",
              "      <td>28</td>\n",
              "      <td>48</td>\n",
              "      <td>23</td>\n",
              "      <td>8</td>\n",
              "      <td>0.075</td>\n",
              "      <td>2324.9</td>\n",
              "      <td>1464.69</td>\n",
              "    </tr>\n",
              "    <tr>\n",
              "      <th>4</th>\n",
              "      <td>SO - 000105</td>\n",
              "      <td>5/31/2018</td>\n",
              "      <td>WARE-NMK1003</td>\n",
              "      <td>3</td>\n",
              "      <td>111</td>\n",
              "      <td>22</td>\n",
              "      <td>49</td>\n",
              "      <td>26</td>\n",
              "      <td>8</td>\n",
              "      <td>0.100</td>\n",
              "      <td>1822.4</td>\n",
              "      <td>1476.14</td>\n",
              "    </tr>\n",
              "  </tbody>\n",
              "</table>\n",
              "</div>\n",
              "      <button class=\"colab-df-convert\" onclick=\"convertToInteractive('df-626befec-59c3-4d37-9018-e8dcd63edf96')\"\n",
              "              title=\"Convert this dataframe to an interactive table.\"\n",
              "              style=\"display:none;\">\n",
              "        \n",
              "  <svg xmlns=\"http://www.w3.org/2000/svg\" height=\"24px\"viewBox=\"0 0 24 24\"\n",
              "       width=\"24px\">\n",
              "    <path d=\"M0 0h24v24H0V0z\" fill=\"none\"/>\n",
              "    <path d=\"M18.56 5.44l.94 2.06.94-2.06 2.06-.94-2.06-.94-.94-2.06-.94 2.06-2.06.94zm-11 1L8.5 8.5l.94-2.06 2.06-.94-2.06-.94L8.5 2.5l-.94 2.06-2.06.94zm10 10l.94 2.06.94-2.06 2.06-.94-2.06-.94-.94-2.06-.94 2.06-2.06.94z\"/><path d=\"M17.41 7.96l-1.37-1.37c-.4-.4-.92-.59-1.43-.59-.52 0-1.04.2-1.43.59L10.3 9.45l-7.72 7.72c-.78.78-.78 2.05 0 2.83L4 21.41c.39.39.9.59 1.41.59.51 0 1.02-.2 1.41-.59l7.78-7.78 2.81-2.81c.8-.78.8-2.07 0-2.86zM5.41 20L4 18.59l7.72-7.72 1.47 1.35L5.41 20z\"/>\n",
              "  </svg>\n",
              "      </button>\n",
              "      \n",
              "  <style>\n",
              "    .colab-df-container {\n",
              "      display:flex;\n",
              "      flex-wrap:wrap;\n",
              "      gap: 12px;\n",
              "    }\n",
              "\n",
              "    .colab-df-convert {\n",
              "      background-color: #E8F0FE;\n",
              "      border: none;\n",
              "      border-radius: 50%;\n",
              "      cursor: pointer;\n",
              "      display: none;\n",
              "      fill: #1967D2;\n",
              "      height: 32px;\n",
              "      padding: 0 0 0 0;\n",
              "      width: 32px;\n",
              "    }\n",
              "\n",
              "    .colab-df-convert:hover {\n",
              "      background-color: #E2EBFA;\n",
              "      box-shadow: 0px 1px 2px rgba(60, 64, 67, 0.3), 0px 1px 3px 1px rgba(60, 64, 67, 0.15);\n",
              "      fill: #174EA6;\n",
              "    }\n",
              "\n",
              "    [theme=dark] .colab-df-convert {\n",
              "      background-color: #3B4455;\n",
              "      fill: #D2E3FC;\n",
              "    }\n",
              "\n",
              "    [theme=dark] .colab-df-convert:hover {\n",
              "      background-color: #434B5C;\n",
              "      box-shadow: 0px 1px 3px 1px rgba(0, 0, 0, 0.15);\n",
              "      filter: drop-shadow(0px 1px 2px rgba(0, 0, 0, 0.3));\n",
              "      fill: #FFFFFF;\n",
              "    }\n",
              "  </style>\n",
              "\n",
              "      <script>\n",
              "        const buttonEl =\n",
              "          document.querySelector('#df-626befec-59c3-4d37-9018-e8dcd63edf96 button.colab-df-convert');\n",
              "        buttonEl.style.display =\n",
              "          google.colab.kernel.accessAllowed ? 'block' : 'none';\n",
              "\n",
              "        async function convertToInteractive(key) {\n",
              "          const element = document.querySelector('#df-626befec-59c3-4d37-9018-e8dcd63edf96');\n",
              "          const dataTable =\n",
              "            await google.colab.kernel.invokeFunction('convertToInteractive',\n",
              "                                                     [key], {});\n",
              "          if (!dataTable) return;\n",
              "\n",
              "          const docLinkHtml = 'Like what you see? Visit the ' +\n",
              "            '<a target=\"_blank\" href=https://colab.research.google.com/notebooks/data_table.ipynb>data table notebook</a>'\n",
              "            + ' to learn more about interactive tables.';\n",
              "          element.innerHTML = '';\n",
              "          dataTable['output_type'] = 'display_data';\n",
              "          await google.colab.output.renderOutput(dataTable, element);\n",
              "          const docLink = document.createElement('div');\n",
              "          docLink.innerHTML = docLinkHtml;\n",
              "          element.appendChild(docLink);\n",
              "        }\n",
              "      </script>\n",
              "    </div>\n",
              "  </div>\n",
              "  "
            ]
          },
          "metadata": {},
          "execution_count": 39
        }
      ]
    },
    {
      "cell_type": "code",
      "source": [
        "df.columns"
      ],
      "metadata": {
        "colab": {
          "base_uri": "https://localhost:8080/"
        },
        "id": "FTBb6yyEws1p",
        "outputId": "4713958e-34a9-48d7-d4ab-a91e7395a652"
      },
      "execution_count": 40,
      "outputs": [
        {
          "output_type": "execute_result",
          "data": {
            "text/plain": [
              "Index(['OrderNumber', 'OrderDate', 'WarehouseCode', 'Sales Channel', 'StoreID',\n",
              "       'SalesTeamID', 'CustomerID', 'ProductID', 'Order_Quantity',\n",
              "       'Discount_Applied', 'Unit_Price', 'Unit_Cost'],\n",
              "      dtype='object')"
            ]
          },
          "metadata": {},
          "execution_count": 40
        }
      ]
    },
    {
      "cell_type": "code",
      "source": [
        "df = df[['Sales Channel', 'StoreID', 'SalesTeamID', 'CustomerID', 'ProductID', 'Order_Quantity', 'Discount_Applied',\n",
        "         'Unit_Price', 'Unit_Cost']]"
      ],
      "metadata": {
        "id": "gHWXV6kKwyMx"
      },
      "execution_count": 41,
      "outputs": []
    },
    {
      "cell_type": "code",
      "source": [
        "df.columns"
      ],
      "metadata": {
        "colab": {
          "base_uri": "https://localhost:8080/"
        },
        "id": "9tczdbenxONh",
        "outputId": "a798eec3-97d8-4dc2-e7a9-c4dedcdf4672"
      },
      "execution_count": 42,
      "outputs": [
        {
          "output_type": "execute_result",
          "data": {
            "text/plain": [
              "Index(['Sales Channel', 'StoreID', 'SalesTeamID', 'CustomerID', 'ProductID',\n",
              "       'Order_Quantity', 'Discount_Applied', 'Unit_Price', 'Unit_Cost'],\n",
              "      dtype='object')"
            ]
          },
          "metadata": {},
          "execution_count": 42
        }
      ]
    },
    {
      "cell_type": "code",
      "source": [
        "df.isnull().sum()"
      ],
      "metadata": {
        "colab": {
          "base_uri": "https://localhost:8080/"
        },
        "id": "IqojCoPpxQAO",
        "outputId": "a465e5f5-3980-4c00-c697-57530248c84b"
      },
      "execution_count": 43,
      "outputs": [
        {
          "output_type": "execute_result",
          "data": {
            "text/plain": [
              "Sales Channel       0\n",
              "StoreID             0\n",
              "SalesTeamID         0\n",
              "CustomerID          0\n",
              "ProductID           0\n",
              "Order_Quantity      0\n",
              "Discount_Applied    0\n",
              "Unit_Price          0\n",
              "Unit_Cost           0\n",
              "dtype: int64"
            ]
          },
          "metadata": {},
          "execution_count": 43
        }
      ]
    },
    {
      "cell_type": "code",
      "source": [
        "df.info()"
      ],
      "metadata": {
        "colab": {
          "base_uri": "https://localhost:8080/"
        },
        "id": "grsUCY4oxq7c",
        "outputId": "05f79e1d-7f5e-427d-b7fb-af92e6f55baf"
      },
      "execution_count": 44,
      "outputs": [
        {
          "output_type": "stream",
          "name": "stdout",
          "text": [
            "<class 'pandas.core.frame.DataFrame'>\n",
            "RangeIndex: 7991 entries, 0 to 7990\n",
            "Data columns (total 9 columns):\n",
            " #   Column            Non-Null Count  Dtype  \n",
            "---  ------            --------------  -----  \n",
            " 0   Sales Channel     7991 non-null   int64  \n",
            " 1   StoreID           7991 non-null   int64  \n",
            " 2   SalesTeamID       7991 non-null   int64  \n",
            " 3   CustomerID        7991 non-null   int64  \n",
            " 4   ProductID         7991 non-null   int64  \n",
            " 5   Order_Quantity    7991 non-null   int64  \n",
            " 6   Discount_Applied  7991 non-null   float64\n",
            " 7   Unit_Price        7991 non-null   float64\n",
            " 8   Unit_Cost         7991 non-null   float64\n",
            "dtypes: float64(3), int64(6)\n",
            "memory usage: 562.0 KB\n"
          ]
        }
      ]
    },
    {
      "cell_type": "code",
      "source": [
        "df.index"
      ],
      "metadata": {
        "colab": {
          "base_uri": "https://localhost:8080/"
        },
        "id": "mBKDwkWf1FhS",
        "outputId": "a8c2f514-38eb-4b0c-f291-381a029f5104"
      },
      "execution_count": 45,
      "outputs": [
        {
          "output_type": "execute_result",
          "data": {
            "text/plain": [
              "RangeIndex(start=0, stop=7991, step=1)"
            ]
          },
          "metadata": {},
          "execution_count": 45
        }
      ]
    },
    {
      "cell_type": "code",
      "source": [
        "x_cols = ['Sales Channel', 'StoreID', 'SalesTeamID', 'CustomerID', 'ProductID', 'Discount_Applied',\n",
        "         'Unit_Price', 'Unit_Cost']"
      ],
      "metadata": {
        "id": "EYNvnuL12fQ0"
      },
      "execution_count": 46,
      "outputs": []
    },
    {
      "cell_type": "code",
      "source": [
        "x = df[x_cols].values\n",
        "y = df['Order_Quantity'].values"
      ],
      "metadata": {
        "id": "zYGplyge1wHy"
      },
      "execution_count": 47,
      "outputs": []
    },
    {
      "cell_type": "code",
      "source": [
        "x_train_, x_test_, y_train, y_test = train_test_split(x, y, train_size=0.7, shuffle=True)"
      ],
      "metadata": {
        "id": "T9pOKtVJ2Aed"
      },
      "execution_count": 49,
      "outputs": []
    },
    {
      "cell_type": "code",
      "source": [
        "scaler = StandardScaler()\n",
        "\n",
        "scaler.fit(x_train_)\n",
        "\n",
        "x_train = scaler.transform(x_train_)\n",
        "x_test = scaler.transform(x_test_)"
      ],
      "metadata": {
        "id": "k5U3Q9Ep3Ihe"
      },
      "execution_count": 50,
      "outputs": []
    },
    {
      "cell_type": "code",
      "source": [
        "x_train = torch.tensor(x_train, dtype=torch.float32)\n",
        "y_train = torch.tensor(y_train, dtype=torch.float32).reshape(-1, 1)\n",
        "\n",
        "x_test = torch.tensor(x_test, dtype=torch.float32)\n",
        "y_test = torch.tensor(y_test, dtype=torch.float32).reshape(-1, 1)"
      ],
      "metadata": {
        "id": "NnrAoNUz3oLa"
      },
      "execution_count": 51,
      "outputs": []
    },
    {
      "cell_type": "code",
      "source": [
        "lr_model = nn.Sequential(\n",
        "    nn.Linear(8, 24), nn.ReLU(),\n",
        "    nn.Linear(24, 12), nn.ReLU(),\n",
        "    nn.Linear(12, 6), nn.ReLU(),\n",
        "    nn.Linear(6, 1)\n",
        ")"
      ],
      "metadata": {
        "id": "kmFcP45h4FQX"
      },
      "execution_count": 52,
      "outputs": []
    },
    {
      "cell_type": "code",
      "source": [
        "loss_fn = nn.MSELoss()  \n",
        "\n",
        "optimizer = optim.Adam(lr_model.parameters(), lr=0.0001)"
      ],
      "metadata": {
        "id": "_M_HPPib_Nko"
      },
      "execution_count": 53,
      "outputs": []
    },
    {
      "cell_type": "code",
      "source": [
        "n_epochs = 100   \n",
        "batch_size = 10 \n",
        "\n",
        "batch_start = torch.arange(0, len(x_train), batch_size)"
      ],
      "metadata": {
        "id": "60BnWK4g_oiE"
      },
      "execution_count": 54,
      "outputs": []
    },
    {
      "cell_type": "code",
      "source": [
        "best_mse = np.inf   \n",
        "best_weights = None\n",
        "history = []"
      ],
      "metadata": {
        "id": "JOnvcuIi_2jk"
      },
      "execution_count": 55,
      "outputs": []
    },
    {
      "cell_type": "code",
      "source": [
        "for epoch in range(n_epochs):\n",
        "\n",
        "    lr_model.train()\n",
        "\n",
        "    with tqdm.tqdm(batch_start, unit=\"batch\", mininterval=0, disable=True) as bar:\n",
        "        bar.set_description(f\"Epoch {epoch}\")\n",
        "\n",
        "        for start in bar:\n",
        "\n",
        "            # selecting a batch\n",
        "            x_batch = x_train[start:start+batch_size]\n",
        "            y_batch = y_train[start:start+batch_size]\n",
        "\n",
        "            # forward iterate\n",
        "            y_pred = lr_model(x_batch)\n",
        "            loss = loss_fn(y_pred, y_batch)\n",
        "\n",
        "            # backward iterate\n",
        "            optimizer.zero_grad()\n",
        "            loss.backward()\n",
        "\n",
        "            # update weights\n",
        "            optimizer.step()\n",
        "\n",
        "            # verbosity check\n",
        "            bar.set_postfix(mse=float(loss))"
      ],
      "metadata": {
        "id": "LuBVsFtlANEm"
      },
      "execution_count": 57,
      "outputs": []
    },
    {
      "cell_type": "code",
      "source": [
        "# evaluating model accuracy at end of each epoch\n",
        "lr_model.eval()\n",
        "\n",
        "y_pred = lr_model(x_test)\n",
        "\n",
        "mse = loss_fn(y_pred, y_test)\n",
        "mse = float(mse)\n",
        "\n",
        "history.append(mse)\n",
        "\n",
        "if mse < best_mse:\n",
        "  best_mse = mse\n",
        "  best_weights = copy.deepcopy(lr_model.state_dict())"
      ],
      "metadata": {
        "id": "MSFl1TmhDbRG"
      },
      "execution_count": 60,
      "outputs": []
    },
    {
      "cell_type": "code",
      "source": [
        "lr_model.load_state_dict(best_weights)\n",
        "\n",
        "print(\"MSE: %.2f\" % best_mse)\n",
        "print(\"RMSE: %.2f\" % np.sqrt(best_mse))\n",
        "\n",
        "plt.plot(history)\n",
        "plt.show()\n",
        " "
      ],
      "metadata": {
        "colab": {
          "base_uri": "https://localhost:8080/",
          "height": 300
        },
        "id": "3fTuZsRFEHOX",
        "outputId": "d3d7fb48-2d80-43d1-be59-8c3841919fb7"
      },
      "execution_count": 61,
      "outputs": [
        {
          "output_type": "stream",
          "name": "stdout",
          "text": [
            "MSE: 5.34\n",
            "RMSE: 2.31\n"
          ]
        },
        {
          "output_type": "display_data",
          "data": {
            "text/plain": [
              "<Figure size 432x288 with 1 Axes>"
            ],
            "image/png": "[encoded data removed]"
          },
          "metadata": {
            "needs_background": "light"
          }
        }
      ]
    },
    {
      "cell_type": "code",
      "source": [],
      "metadata": {
        "id": "Z1CqENx3Etx3"
      },
      "execution_count": null,
      "outputs": []
    }
  ]
}