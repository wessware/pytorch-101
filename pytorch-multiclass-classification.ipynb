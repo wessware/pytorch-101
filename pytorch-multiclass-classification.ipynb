{
 "cells": [
  {
   "cell_type": "code",
   "execution_count": 1,
   "id": "3385d100",
   "metadata": {
    "_execution_state": "idle",
    "_uuid": "051d70d956493feee0c6d64651c6a088724dca2a",
    "execution": {
     "iopub.execute_input": "2023-02-21T14:03:22.670101Z",
     "iopub.status.busy": "2023-02-21T14:03:22.669609Z",
     "iopub.status.idle": "2023-02-21T14:03:23.614510Z",
     "shell.execute_reply": "2023-02-21T14:03:23.613302Z"
    },
    "papermill": {
     "duration": 0.958527,
     "end_time": "2023-02-21T14:03:23.617613",
     "exception": false,
     "start_time": "2023-02-21T14:03:22.659086",
     "status": "completed"
    },
    "tags": []
   },
   "outputs": [],
   "source": [
    "import pandas as pd\n",
    "import numpy as np\n",
    "\n",
    "from sklearn.preprocessing import MinMaxScaler"
   ]
  },
  {
   "cell_type": "code",
   "execution_count": 2,
   "id": "a1c90859",
   "metadata": {
    "execution": {
     "iopub.execute_input": "2023-02-21T14:03:23.629703Z",
     "iopub.status.busy": "2023-02-21T14:03:23.629265Z",
     "iopub.status.idle": "2023-02-21T14:07:15.521180Z",
     "shell.execute_reply": "2023-02-21T14:07:15.519793Z"
    },
    "papermill": {
     "duration": 231.901396,
     "end_time": "2023-02-21T14:07:15.524309",
     "exception": false,
     "start_time": "2023-02-21T14:03:23.622913",
     "status": "completed"
    },
    "tags": []
   },
   "outputs": [],
   "source": [
    "df = pd.read_excel('/kaggle/input/weather-imputed-data/imputed_numerical.xlsx')"
   ]
  },
  {
   "cell_type": "code",
   "execution_count": 3,
   "id": "92011cc5",
   "metadata": {
    "execution": {
     "iopub.execute_input": "2023-02-21T14:07:15.536640Z",
     "iopub.status.busy": "2023-02-21T14:07:15.536201Z",
     "iopub.status.idle": "2023-02-21T14:07:15.883094Z",
     "shell.execute_reply": "2023-02-21T14:07:15.881850Z"
    },
    "papermill": {
     "duration": 0.356111,
     "end_time": "2023-02-21T14:07:15.885741",
     "exception": false,
     "start_time": "2023-02-21T14:07:15.529630",
     "status": "completed"
    },
    "tags": []
   },
   "outputs": [
    {
     "data": {
      "text/html": [
       "<div>\n",
       "<style scoped>\n",
       "    .dataframe tbody tr th:only-of-type {\n",
       "        vertical-align: middle;\n",
       "    }\n",
       "\n",
       "    .dataframe tbody tr th {\n",
       "        vertical-align: top;\n",
       "    }\n",
       "\n",
       "    .dataframe thead th {\n",
       "        text-align: right;\n",
       "    }\n",
       "</style>\n",
       "<table border=\"1\" class=\"dataframe\">\n",
       "  <thead>\n",
       "    <tr style=\"text-align: right;\">\n",
       "      <th></th>\n",
       "      <th>Date</th>\n",
       "      <th>Location</th>\n",
       "      <th>MinTemp</th>\n",
       "      <th>MaxTemp</th>\n",
       "      <th>Rainfall</th>\n",
       "      <th>Evaporation</th>\n",
       "      <th>Sunshine</th>\n",
       "      <th>WindGustDir</th>\n",
       "      <th>WindGustSpeed</th>\n",
       "      <th>WindDir9am</th>\n",
       "      <th>...</th>\n",
       "      <th>Pressure3pm</th>\n",
       "      <th>Cloud9am</th>\n",
       "      <th>Cloud3pm</th>\n",
       "      <th>Temp9am</th>\n",
       "      <th>Temp3pm</th>\n",
       "      <th>RainToday</th>\n",
       "      <th>RainTomorrow</th>\n",
       "      <th>.imp</th>\n",
       "      <th>.id</th>\n",
       "      <th>RainTomorrow.1</th>\n",
       "    </tr>\n",
       "  </thead>\n",
       "  <tbody>\n",
       "    <tr>\n",
       "      <th>0</th>\n",
       "      <td>12/1/2008</td>\n",
       "      <td>Albury</td>\n",
       "      <td>13.4</td>\n",
       "      <td>22.9</td>\n",
       "      <td>0.6</td>\n",
       "      <td>NaN</td>\n",
       "      <td>NaN</td>\n",
       "      <td>W</td>\n",
       "      <td>44.0</td>\n",
       "      <td>W</td>\n",
       "      <td>...</td>\n",
       "      <td>1007.1</td>\n",
       "      <td>8.0</td>\n",
       "      <td>NaN</td>\n",
       "      <td>16.9</td>\n",
       "      <td>21.8</td>\n",
       "      <td>No</td>\n",
       "      <td>2</td>\n",
       "      <td>0</td>\n",
       "      <td>1</td>\n",
       "      <td>2</td>\n",
       "    </tr>\n",
       "    <tr>\n",
       "      <th>1</th>\n",
       "      <td>12/2/2008</td>\n",
       "      <td>Albury</td>\n",
       "      <td>7.4</td>\n",
       "      <td>25.1</td>\n",
       "      <td>0.0</td>\n",
       "      <td>NaN</td>\n",
       "      <td>NaN</td>\n",
       "      <td>WNW</td>\n",
       "      <td>44.0</td>\n",
       "      <td>NNW</td>\n",
       "      <td>...</td>\n",
       "      <td>1007.8</td>\n",
       "      <td>NaN</td>\n",
       "      <td>NaN</td>\n",
       "      <td>17.2</td>\n",
       "      <td>24.3</td>\n",
       "      <td>No</td>\n",
       "      <td>2</td>\n",
       "      <td>0</td>\n",
       "      <td>2</td>\n",
       "      <td>2</td>\n",
       "    </tr>\n",
       "    <tr>\n",
       "      <th>2</th>\n",
       "      <td>12/3/2008</td>\n",
       "      <td>Albury</td>\n",
       "      <td>12.9</td>\n",
       "      <td>25.7</td>\n",
       "      <td>0.0</td>\n",
       "      <td>NaN</td>\n",
       "      <td>NaN</td>\n",
       "      <td>WSW</td>\n",
       "      <td>46.0</td>\n",
       "      <td>W</td>\n",
       "      <td>...</td>\n",
       "      <td>1008.7</td>\n",
       "      <td>NaN</td>\n",
       "      <td>2.0</td>\n",
       "      <td>21.0</td>\n",
       "      <td>23.2</td>\n",
       "      <td>No</td>\n",
       "      <td>2</td>\n",
       "      <td>0</td>\n",
       "      <td>3</td>\n",
       "      <td>2</td>\n",
       "    </tr>\n",
       "    <tr>\n",
       "      <th>3</th>\n",
       "      <td>12/4/2008</td>\n",
       "      <td>Albury</td>\n",
       "      <td>9.2</td>\n",
       "      <td>28.0</td>\n",
       "      <td>0.0</td>\n",
       "      <td>NaN</td>\n",
       "      <td>NaN</td>\n",
       "      <td>NE</td>\n",
       "      <td>24.0</td>\n",
       "      <td>SE</td>\n",
       "      <td>...</td>\n",
       "      <td>1012.8</td>\n",
       "      <td>NaN</td>\n",
       "      <td>NaN</td>\n",
       "      <td>18.1</td>\n",
       "      <td>26.5</td>\n",
       "      <td>No</td>\n",
       "      <td>2</td>\n",
       "      <td>0</td>\n",
       "      <td>4</td>\n",
       "      <td>2</td>\n",
       "    </tr>\n",
       "    <tr>\n",
       "      <th>4</th>\n",
       "      <td>12/5/2008</td>\n",
       "      <td>Albury</td>\n",
       "      <td>17.5</td>\n",
       "      <td>32.3</td>\n",
       "      <td>1.0</td>\n",
       "      <td>NaN</td>\n",
       "      <td>NaN</td>\n",
       "      <td>W</td>\n",
       "      <td>41.0</td>\n",
       "      <td>ENE</td>\n",
       "      <td>...</td>\n",
       "      <td>1006.0</td>\n",
       "      <td>7.0</td>\n",
       "      <td>8.0</td>\n",
       "      <td>17.8</td>\n",
       "      <td>29.7</td>\n",
       "      <td>No</td>\n",
       "      <td>2</td>\n",
       "      <td>0</td>\n",
       "      <td>5</td>\n",
       "      <td>2</td>\n",
       "    </tr>\n",
       "  </tbody>\n",
       "</table>\n",
       "<p>5 rows × 26 columns</p>\n",
       "</div>"
      ],
      "text/plain": [
       "        Date Location  MinTemp  MaxTemp  Rainfall  Evaporation  Sunshine  \\\n",
       "0  12/1/2008   Albury     13.4     22.9       0.6          NaN       NaN   \n",
       "1  12/2/2008   Albury      7.4     25.1       0.0          NaN       NaN   \n",
       "2  12/3/2008   Albury     12.9     25.7       0.0          NaN       NaN   \n",
       "3  12/4/2008   Albury      9.2     28.0       0.0          NaN       NaN   \n",
       "4  12/5/2008   Albury     17.5     32.3       1.0          NaN       NaN   \n",
       "\n",
       "  WindGustDir  WindGustSpeed WindDir9am  ... Pressure3pm  Cloud9am  Cloud3pm  \\\n",
       "0           W           44.0          W  ...      1007.1       8.0       NaN   \n",
       "1         WNW           44.0        NNW  ...      1007.8       NaN       NaN   \n",
       "2         WSW           46.0          W  ...      1008.7       NaN       2.0   \n",
       "3          NE           24.0         SE  ...      1012.8       NaN       NaN   \n",
       "4           W           41.0        ENE  ...      1006.0       7.0       8.0   \n",
       "\n",
       "   Temp9am  Temp3pm  RainToday  RainTomorrow  .imp  .id  RainTomorrow.1  \n",
       "0     16.9     21.8         No             2     0    1               2  \n",
       "1     17.2     24.3         No             2     0    2               2  \n",
       "2     21.0     23.2         No             2     0    3               2  \n",
       "3     18.1     26.5         No             2     0    4               2  \n",
       "4     17.8     29.7         No             2     0    5               2  \n",
       "\n",
       "[5 rows x 26 columns]"
      ]
     },
     "execution_count": 3,
     "metadata": {},
     "output_type": "execute_result"
    }
   ],
   "source": [
    "df.head()"
   ]
  },
  {
   "cell_type": "code",
   "execution_count": 4,
   "id": "24f144a5",
   "metadata": {
    "execution": {
     "iopub.execute_input": "2023-02-21T14:07:15.899101Z",
     "iopub.status.busy": "2023-02-21T14:07:15.898653Z",
     "iopub.status.idle": "2023-02-21T14:07:15.906464Z",
     "shell.execute_reply": "2023-02-21T14:07:15.905366Z"
    },
    "papermill": {
     "duration": 0.01751,
     "end_time": "2023-02-21T14:07:15.909025",
     "exception": false,
     "start_time": "2023-02-21T14:07:15.891515",
     "status": "completed"
    },
    "tags": []
   },
   "outputs": [
    {
     "data": {
      "text/plain": [
       "(473168, 26)"
      ]
     },
     "execution_count": 4,
     "metadata": {},
     "output_type": "execute_result"
    }
   ],
   "source": [
    "df.shape"
   ]
  },
  {
   "cell_type": "code",
   "execution_count": 5,
   "id": "3e338275",
   "metadata": {
    "execution": {
     "iopub.execute_input": "2023-02-21T14:07:15.922300Z",
     "iopub.status.busy": "2023-02-21T14:07:15.921825Z",
     "iopub.status.idle": "2023-02-21T14:07:15.938195Z",
     "shell.execute_reply": "2023-02-21T14:07:15.937136Z"
    },
    "papermill": {
     "duration": 0.025813,
     "end_time": "2023-02-21T14:07:15.940831",
     "exception": false,
     "start_time": "2023-02-21T14:07:15.915018",
     "status": "completed"
    },
    "tags": []
   },
   "outputs": [
    {
     "data": {
      "text/plain": [
       "array([2, 1, 3])"
      ]
     },
     "execution_count": 5,
     "metadata": {},
     "output_type": "execute_result"
    }
   ],
   "source": [
    "df['RainTomorrow'].unique()"
   ]
  },
  {
   "cell_type": "code",
   "execution_count": 6,
   "id": "534a3b0a",
   "metadata": {
    "execution": {
     "iopub.execute_input": "2023-02-21T14:07:15.954897Z",
     "iopub.status.busy": "2023-02-21T14:07:15.954062Z",
     "iopub.status.idle": "2023-02-21T14:07:15.965280Z",
     "shell.execute_reply": "2023-02-21T14:07:15.964226Z"
    },
    "papermill": {
     "duration": 0.020853,
     "end_time": "2023-02-21T14:07:15.967682",
     "exception": false,
     "start_time": "2023-02-21T14:07:15.946829",
     "status": "completed"
    },
    "tags": []
   },
   "outputs": [
    {
     "data": {
      "text/plain": [
       "array([2, 1, 3])"
      ]
     },
     "execution_count": 6,
     "metadata": {},
     "output_type": "execute_result"
    }
   ],
   "source": [
    "df['RainTomorrow.1'].unique()"
   ]
  },
  {
   "cell_type": "code",
   "execution_count": 7,
   "id": "c0d6e30f",
   "metadata": {
    "execution": {
     "iopub.execute_input": "2023-02-21T14:07:15.981108Z",
     "iopub.status.busy": "2023-02-21T14:07:15.980640Z",
     "iopub.status.idle": "2023-02-21T14:07:16.347573Z",
     "shell.execute_reply": "2023-02-21T14:07:16.346322Z"
    },
    "papermill": {
     "duration": 0.3765,
     "end_time": "2023-02-21T14:07:16.350083",
     "exception": false,
     "start_time": "2023-02-21T14:07:15.973583",
     "status": "completed"
    },
    "tags": []
   },
   "outputs": [
    {
     "data": {
      "text/html": [
       "<div>\n",
       "<style scoped>\n",
       "    .dataframe tbody tr th:only-of-type {\n",
       "        vertical-align: middle;\n",
       "    }\n",
       "\n",
       "    .dataframe tbody tr th {\n",
       "        vertical-align: top;\n",
       "    }\n",
       "\n",
       "    .dataframe thead th {\n",
       "        text-align: right;\n",
       "    }\n",
       "</style>\n",
       "<table border=\"1\" class=\"dataframe\">\n",
       "  <thead>\n",
       "    <tr style=\"text-align: right;\">\n",
       "      <th></th>\n",
       "      <th>Date</th>\n",
       "      <th>Location</th>\n",
       "      <th>MinTemp</th>\n",
       "      <th>MaxTemp</th>\n",
       "      <th>Rainfall</th>\n",
       "      <th>Evaporation</th>\n",
       "      <th>Sunshine</th>\n",
       "      <th>WindGustDir</th>\n",
       "      <th>WindGustSpeed</th>\n",
       "      <th>WindDir9am</th>\n",
       "      <th>...</th>\n",
       "      <th>Humidity9am</th>\n",
       "      <th>Humidity3pm</th>\n",
       "      <th>Pressure9am</th>\n",
       "      <th>Pressure3pm</th>\n",
       "      <th>Cloud9am</th>\n",
       "      <th>Cloud3pm</th>\n",
       "      <th>Temp9am</th>\n",
       "      <th>Temp3pm</th>\n",
       "      <th>RainToday</th>\n",
       "      <th>RainTomorrow</th>\n",
       "    </tr>\n",
       "  </thead>\n",
       "  <tbody>\n",
       "    <tr>\n",
       "      <th>0</th>\n",
       "      <td>12/1/2008</td>\n",
       "      <td>Albury</td>\n",
       "      <td>13.4</td>\n",
       "      <td>22.9</td>\n",
       "      <td>0.6</td>\n",
       "      <td>NaN</td>\n",
       "      <td>NaN</td>\n",
       "      <td>W</td>\n",
       "      <td>44.0</td>\n",
       "      <td>W</td>\n",
       "      <td>...</td>\n",
       "      <td>71.0</td>\n",
       "      <td>22.0</td>\n",
       "      <td>1007.7</td>\n",
       "      <td>1007.1</td>\n",
       "      <td>8.0</td>\n",
       "      <td>NaN</td>\n",
       "      <td>16.9</td>\n",
       "      <td>21.8</td>\n",
       "      <td>No</td>\n",
       "      <td>2</td>\n",
       "    </tr>\n",
       "    <tr>\n",
       "      <th>1</th>\n",
       "      <td>12/2/2008</td>\n",
       "      <td>Albury</td>\n",
       "      <td>7.4</td>\n",
       "      <td>25.1</td>\n",
       "      <td>0.0</td>\n",
       "      <td>NaN</td>\n",
       "      <td>NaN</td>\n",
       "      <td>WNW</td>\n",
       "      <td>44.0</td>\n",
       "      <td>NNW</td>\n",
       "      <td>...</td>\n",
       "      <td>44.0</td>\n",
       "      <td>25.0</td>\n",
       "      <td>1010.6</td>\n",
       "      <td>1007.8</td>\n",
       "      <td>NaN</td>\n",
       "      <td>NaN</td>\n",
       "      <td>17.2</td>\n",
       "      <td>24.3</td>\n",
       "      <td>No</td>\n",
       "      <td>2</td>\n",
       "    </tr>\n",
       "    <tr>\n",
       "      <th>2</th>\n",
       "      <td>12/3/2008</td>\n",
       "      <td>Albury</td>\n",
       "      <td>12.9</td>\n",
       "      <td>25.7</td>\n",
       "      <td>0.0</td>\n",
       "      <td>NaN</td>\n",
       "      <td>NaN</td>\n",
       "      <td>WSW</td>\n",
       "      <td>46.0</td>\n",
       "      <td>W</td>\n",
       "      <td>...</td>\n",
       "      <td>38.0</td>\n",
       "      <td>30.0</td>\n",
       "      <td>1007.6</td>\n",
       "      <td>1008.7</td>\n",
       "      <td>NaN</td>\n",
       "      <td>2.0</td>\n",
       "      <td>21.0</td>\n",
       "      <td>23.2</td>\n",
       "      <td>No</td>\n",
       "      <td>2</td>\n",
       "    </tr>\n",
       "    <tr>\n",
       "      <th>3</th>\n",
       "      <td>12/4/2008</td>\n",
       "      <td>Albury</td>\n",
       "      <td>9.2</td>\n",
       "      <td>28.0</td>\n",
       "      <td>0.0</td>\n",
       "      <td>NaN</td>\n",
       "      <td>NaN</td>\n",
       "      <td>NE</td>\n",
       "      <td>24.0</td>\n",
       "      <td>SE</td>\n",
       "      <td>...</td>\n",
       "      <td>45.0</td>\n",
       "      <td>16.0</td>\n",
       "      <td>1017.6</td>\n",
       "      <td>1012.8</td>\n",
       "      <td>NaN</td>\n",
       "      <td>NaN</td>\n",
       "      <td>18.1</td>\n",
       "      <td>26.5</td>\n",
       "      <td>No</td>\n",
       "      <td>2</td>\n",
       "    </tr>\n",
       "    <tr>\n",
       "      <th>4</th>\n",
       "      <td>12/5/2008</td>\n",
       "      <td>Albury</td>\n",
       "      <td>17.5</td>\n",
       "      <td>32.3</td>\n",
       "      <td>1.0</td>\n",
       "      <td>NaN</td>\n",
       "      <td>NaN</td>\n",
       "      <td>W</td>\n",
       "      <td>41.0</td>\n",
       "      <td>ENE</td>\n",
       "      <td>...</td>\n",
       "      <td>82.0</td>\n",
       "      <td>33.0</td>\n",
       "      <td>1010.8</td>\n",
       "      <td>1006.0</td>\n",
       "      <td>7.0</td>\n",
       "      <td>8.0</td>\n",
       "      <td>17.8</td>\n",
       "      <td>29.7</td>\n",
       "      <td>No</td>\n",
       "      <td>2</td>\n",
       "    </tr>\n",
       "    <tr>\n",
       "      <th>...</th>\n",
       "      <td>...</td>\n",
       "      <td>...</td>\n",
       "      <td>...</td>\n",
       "      <td>...</td>\n",
       "      <td>...</td>\n",
       "      <td>...</td>\n",
       "      <td>...</td>\n",
       "      <td>...</td>\n",
       "      <td>...</td>\n",
       "      <td>...</td>\n",
       "      <td>...</td>\n",
       "      <td>...</td>\n",
       "      <td>...</td>\n",
       "      <td>...</td>\n",
       "      <td>...</td>\n",
       "      <td>...</td>\n",
       "      <td>...</td>\n",
       "      <td>...</td>\n",
       "      <td>...</td>\n",
       "      <td>...</td>\n",
       "      <td>...</td>\n",
       "    </tr>\n",
       "    <tr>\n",
       "      <th>473163</th>\n",
       "      <td>6/21/2017</td>\n",
       "      <td>Uluru</td>\n",
       "      <td>2.8</td>\n",
       "      <td>23.4</td>\n",
       "      <td>0.0</td>\n",
       "      <td>NaN</td>\n",
       "      <td>NaN</td>\n",
       "      <td>E</td>\n",
       "      <td>31.0</td>\n",
       "      <td>SE</td>\n",
       "      <td>...</td>\n",
       "      <td>51.0</td>\n",
       "      <td>24.0</td>\n",
       "      <td>1024.6</td>\n",
       "      <td>1020.3</td>\n",
       "      <td>NaN</td>\n",
       "      <td>NaN</td>\n",
       "      <td>10.1</td>\n",
       "      <td>22.4</td>\n",
       "      <td>No</td>\n",
       "      <td>2</td>\n",
       "    </tr>\n",
       "    <tr>\n",
       "      <th>473164</th>\n",
       "      <td>6/22/2017</td>\n",
       "      <td>Uluru</td>\n",
       "      <td>3.6</td>\n",
       "      <td>25.3</td>\n",
       "      <td>0.0</td>\n",
       "      <td>NaN</td>\n",
       "      <td>NaN</td>\n",
       "      <td>NNW</td>\n",
       "      <td>22.0</td>\n",
       "      <td>SE</td>\n",
       "      <td>...</td>\n",
       "      <td>56.0</td>\n",
       "      <td>21.0</td>\n",
       "      <td>1023.5</td>\n",
       "      <td>1019.1</td>\n",
       "      <td>NaN</td>\n",
       "      <td>NaN</td>\n",
       "      <td>10.9</td>\n",
       "      <td>24.5</td>\n",
       "      <td>No</td>\n",
       "      <td>2</td>\n",
       "    </tr>\n",
       "    <tr>\n",
       "      <th>473165</th>\n",
       "      <td>6/23/2017</td>\n",
       "      <td>Uluru</td>\n",
       "      <td>5.4</td>\n",
       "      <td>26.9</td>\n",
       "      <td>0.0</td>\n",
       "      <td>NaN</td>\n",
       "      <td>NaN</td>\n",
       "      <td>N</td>\n",
       "      <td>37.0</td>\n",
       "      <td>SE</td>\n",
       "      <td>...</td>\n",
       "      <td>53.0</td>\n",
       "      <td>24.0</td>\n",
       "      <td>1021.0</td>\n",
       "      <td>1016.8</td>\n",
       "      <td>NaN</td>\n",
       "      <td>NaN</td>\n",
       "      <td>12.5</td>\n",
       "      <td>26.1</td>\n",
       "      <td>No</td>\n",
       "      <td>2</td>\n",
       "    </tr>\n",
       "    <tr>\n",
       "      <th>473166</th>\n",
       "      <td>6/24/2017</td>\n",
       "      <td>Uluru</td>\n",
       "      <td>7.8</td>\n",
       "      <td>27.0</td>\n",
       "      <td>0.0</td>\n",
       "      <td>NaN</td>\n",
       "      <td>NaN</td>\n",
       "      <td>SE</td>\n",
       "      <td>28.0</td>\n",
       "      <td>SSE</td>\n",
       "      <td>...</td>\n",
       "      <td>51.0</td>\n",
       "      <td>24.0</td>\n",
       "      <td>1019.4</td>\n",
       "      <td>1016.5</td>\n",
       "      <td>3.0</td>\n",
       "      <td>2.0</td>\n",
       "      <td>15.1</td>\n",
       "      <td>26.0</td>\n",
       "      <td>No</td>\n",
       "      <td>2</td>\n",
       "    </tr>\n",
       "    <tr>\n",
       "      <th>473167</th>\n",
       "      <td>6/25/2017</td>\n",
       "      <td>Uluru</td>\n",
       "      <td>14.9</td>\n",
       "      <td>NaN</td>\n",
       "      <td>0.0</td>\n",
       "      <td>NaN</td>\n",
       "      <td>NaN</td>\n",
       "      <td>NaN</td>\n",
       "      <td>NaN</td>\n",
       "      <td>ESE</td>\n",
       "      <td>...</td>\n",
       "      <td>62.0</td>\n",
       "      <td>36.0</td>\n",
       "      <td>1020.2</td>\n",
       "      <td>1017.9</td>\n",
       "      <td>8.0</td>\n",
       "      <td>8.0</td>\n",
       "      <td>15.0</td>\n",
       "      <td>20.9</td>\n",
       "      <td>No</td>\n",
       "      <td>3</td>\n",
       "    </tr>\n",
       "  </tbody>\n",
       "</table>\n",
       "<p>473168 rows × 23 columns</p>\n",
       "</div>"
      ],
      "text/plain": [
       "             Date Location  MinTemp  MaxTemp  Rainfall  Evaporation  Sunshine  \\\n",
       "0       12/1/2008   Albury     13.4     22.9       0.6          NaN       NaN   \n",
       "1       12/2/2008   Albury      7.4     25.1       0.0          NaN       NaN   \n",
       "2       12/3/2008   Albury     12.9     25.7       0.0          NaN       NaN   \n",
       "3       12/4/2008   Albury      9.2     28.0       0.0          NaN       NaN   \n",
       "4       12/5/2008   Albury     17.5     32.3       1.0          NaN       NaN   \n",
       "...           ...      ...      ...      ...       ...          ...       ...   \n",
       "473163  6/21/2017    Uluru      2.8     23.4       0.0          NaN       NaN   \n",
       "473164  6/22/2017    Uluru      3.6     25.3       0.0          NaN       NaN   \n",
       "473165  6/23/2017    Uluru      5.4     26.9       0.0          NaN       NaN   \n",
       "473166  6/24/2017    Uluru      7.8     27.0       0.0          NaN       NaN   \n",
       "473167  6/25/2017    Uluru     14.9      NaN       0.0          NaN       NaN   \n",
       "\n",
       "       WindGustDir  WindGustSpeed WindDir9am  ... Humidity9am  Humidity3pm  \\\n",
       "0                W           44.0          W  ...        71.0         22.0   \n",
       "1              WNW           44.0        NNW  ...        44.0         25.0   \n",
       "2              WSW           46.0          W  ...        38.0         30.0   \n",
       "3               NE           24.0         SE  ...        45.0         16.0   \n",
       "4                W           41.0        ENE  ...        82.0         33.0   \n",
       "...            ...            ...        ...  ...         ...          ...   \n",
       "473163           E           31.0         SE  ...        51.0         24.0   \n",
       "473164         NNW           22.0         SE  ...        56.0         21.0   \n",
       "473165           N           37.0         SE  ...        53.0         24.0   \n",
       "473166          SE           28.0        SSE  ...        51.0         24.0   \n",
       "473167         NaN            NaN        ESE  ...        62.0         36.0   \n",
       "\n",
       "        Pressure9am  Pressure3pm  Cloud9am  Cloud3pm  Temp9am  Temp3pm  \\\n",
       "0            1007.7       1007.1       8.0       NaN     16.9     21.8   \n",
       "1            1010.6       1007.8       NaN       NaN     17.2     24.3   \n",
       "2            1007.6       1008.7       NaN       2.0     21.0     23.2   \n",
       "3            1017.6       1012.8       NaN       NaN     18.1     26.5   \n",
       "4            1010.8       1006.0       7.0       8.0     17.8     29.7   \n",
       "...             ...          ...       ...       ...      ...      ...   \n",
       "473163       1024.6       1020.3       NaN       NaN     10.1     22.4   \n",
       "473164       1023.5       1019.1       NaN       NaN     10.9     24.5   \n",
       "473165       1021.0       1016.8       NaN       NaN     12.5     26.1   \n",
       "473166       1019.4       1016.5       3.0       2.0     15.1     26.0   \n",
       "473167       1020.2       1017.9       8.0       8.0     15.0     20.9   \n",
       "\n",
       "        RainToday  RainTomorrow  \n",
       "0              No             2  \n",
       "1              No             2  \n",
       "2              No             2  \n",
       "3              No             2  \n",
       "4              No             2  \n",
       "...           ...           ...  \n",
       "473163         No             2  \n",
       "473164         No             2  \n",
       "473165         No             2  \n",
       "473166         No             2  \n",
       "473167         No             3  \n",
       "\n",
       "[473168 rows x 23 columns]"
      ]
     },
     "execution_count": 7,
     "metadata": {},
     "output_type": "execute_result"
    }
   ],
   "source": [
    "df.drop(['RainTomorrow.1', '.imp', '.id'], axis=1)"
   ]
  },
  {
   "cell_type": "code",
   "execution_count": 8,
   "id": "149d665d",
   "metadata": {
    "execution": {
     "iopub.execute_input": "2023-02-21T14:07:16.364637Z",
     "iopub.status.busy": "2023-02-21T14:07:16.363781Z",
     "iopub.status.idle": "2023-02-21T14:07:16.372553Z",
     "shell.execute_reply": "2023-02-21T14:07:16.371353Z"
    },
    "papermill": {
     "duration": 0.018387,
     "end_time": "2023-02-21T14:07:16.374876",
     "exception": false,
     "start_time": "2023-02-21T14:07:16.356489",
     "status": "completed"
    },
    "tags": []
   },
   "outputs": [
    {
     "data": {
      "text/plain": [
       "99316"
      ]
     },
     "execution_count": 8,
     "metadata": {},
     "output_type": "execute_result"
    }
   ],
   "source": [
    "df['Evaporation'].isna().sum().sum()"
   ]
  },
  {
   "cell_type": "code",
   "execution_count": 9,
   "id": "6aad0ba7",
   "metadata": {
    "execution": {
     "iopub.execute_input": "2023-02-21T14:07:16.389731Z",
     "iopub.status.busy": "2023-02-21T14:07:16.388815Z",
     "iopub.status.idle": "2023-02-21T14:07:16.399585Z",
     "shell.execute_reply": "2023-02-21T14:07:16.398399Z"
    },
    "papermill": {
     "duration": 0.020999,
     "end_time": "2023-02-21T14:07:16.402241",
     "exception": false,
     "start_time": "2023-02-21T14:07:16.381242",
     "status": "completed"
    },
    "tags": []
   },
   "outputs": [
    {
     "data": {
      "text/plain": [
       "106361"
      ]
     },
     "execution_count": 9,
     "metadata": {},
     "output_type": "execute_result"
    }
   ],
   "source": [
    "df['Sunshine'].isna().sum().sum()"
   ]
  },
  {
   "cell_type": "code",
   "execution_count": 10,
   "id": "33bdfb61",
   "metadata": {
    "execution": {
     "iopub.execute_input": "2023-02-21T14:07:16.417200Z",
     "iopub.status.busy": "2023-02-21T14:07:16.416773Z",
     "iopub.status.idle": "2023-02-21T14:07:16.488858Z",
     "shell.execute_reply": "2023-02-21T14:07:16.487790Z"
    },
    "papermill": {
     "duration": 0.082991,
     "end_time": "2023-02-21T14:07:16.491654",
     "exception": false,
     "start_time": "2023-02-21T14:07:16.408663",
     "status": "completed"
    },
    "tags": []
   },
   "outputs": [],
   "source": [
    "numerical_cols = df.select_dtypes(include=np.number).columns.tolist()\n",
    "categorical_cols = df.select_dtypes('object').columns.tolist()"
   ]
  },
  {
   "cell_type": "code",
   "execution_count": 11,
   "id": "11bb233a",
   "metadata": {
    "execution": {
     "iopub.execute_input": "2023-02-21T14:07:16.506266Z",
     "iopub.status.busy": "2023-02-21T14:07:16.505818Z",
     "iopub.status.idle": "2023-02-21T14:07:16.513139Z",
     "shell.execute_reply": "2023-02-21T14:07:16.512039Z"
    },
    "papermill": {
     "duration": 0.017541,
     "end_time": "2023-02-21T14:07:16.515574",
     "exception": false,
     "start_time": "2023-02-21T14:07:16.498033",
     "status": "completed"
    },
    "tags": []
   },
   "outputs": [
    {
     "data": {
      "text/plain": [
       "['MinTemp',\n",
       " 'MaxTemp',\n",
       " 'Rainfall',\n",
       " 'Evaporation',\n",
       " 'Sunshine',\n",
       " 'WindGustSpeed',\n",
       " 'WindSpeed9am',\n",
       " 'WindSpeed3pm',\n",
       " 'Humidity9am',\n",
       " 'Humidity3pm',\n",
       " 'Pressure9am',\n",
       " 'Pressure3pm',\n",
       " 'Cloud9am',\n",
       " 'Cloud3pm',\n",
       " 'Temp9am',\n",
       " 'Temp3pm',\n",
       " 'RainTomorrow',\n",
       " '.imp',\n",
       " '.id',\n",
       " 'RainTomorrow.1']"
      ]
     },
     "execution_count": 11,
     "metadata": {},
     "output_type": "execute_result"
    }
   ],
   "source": [
    "numerical_cols"
   ]
  },
  {
   "cell_type": "code",
   "execution_count": 12,
   "id": "843c64b2",
   "metadata": {
    "execution": {
     "iopub.execute_input": "2023-02-21T14:07:16.530321Z",
     "iopub.status.busy": "2023-02-21T14:07:16.529877Z",
     "iopub.status.idle": "2023-02-21T14:07:16.537006Z",
     "shell.execute_reply": "2023-02-21T14:07:16.535930Z"
    },
    "papermill": {
     "duration": 0.017158,
     "end_time": "2023-02-21T14:07:16.539253",
     "exception": false,
     "start_time": "2023-02-21T14:07:16.522095",
     "status": "completed"
    },
    "tags": []
   },
   "outputs": [
    {
     "data": {
      "text/plain": [
       "['Date', 'Location', 'WindGustDir', 'WindDir9am', 'WindDir3pm', 'RainToday']"
      ]
     },
     "execution_count": 12,
     "metadata": {},
     "output_type": "execute_result"
    }
   ],
   "source": [
    "categorical_cols"
   ]
  },
  {
   "cell_type": "code",
   "execution_count": 13,
   "id": "1273fd75",
   "metadata": {
    "execution": {
     "iopub.execute_input": "2023-02-21T14:07:16.554534Z",
     "iopub.status.busy": "2023-02-21T14:07:16.553653Z",
     "iopub.status.idle": "2023-02-21T14:07:16.654897Z",
     "shell.execute_reply": "2023-02-21T14:07:16.653716Z"
    },
    "papermill": {
     "duration": 0.111806,
     "end_time": "2023-02-21T14:07:16.657654",
     "exception": false,
     "start_time": "2023-02-21T14:07:16.545848",
     "status": "completed"
    },
    "tags": []
   },
   "outputs": [],
   "source": [
    "df = df[numerical_cols].dropna()"
   ]
  },
  {
   "cell_type": "code",
   "execution_count": 14,
   "id": "c0a272e5",
   "metadata": {
    "execution": {
     "iopub.execute_input": "2023-02-21T14:07:16.672894Z",
     "iopub.status.busy": "2023-02-21T14:07:16.672094Z",
     "iopub.status.idle": "2023-02-21T14:07:16.679550Z",
     "shell.execute_reply": "2023-02-21T14:07:16.678414Z"
    },
    "papermill": {
     "duration": 0.017433,
     "end_time": "2023-02-21T14:07:16.681777",
     "exception": false,
     "start_time": "2023-02-21T14:07:16.664344",
     "status": "completed"
    },
    "tags": []
   },
   "outputs": [
    {
     "data": {
      "text/plain": [
       "(349416, 20)"
      ]
     },
     "execution_count": 14,
     "metadata": {},
     "output_type": "execute_result"
    }
   ],
   "source": [
    "df.shape"
   ]
  },
  {
   "cell_type": "code",
   "execution_count": 15,
   "id": "50824e88",
   "metadata": {
    "execution": {
     "iopub.execute_input": "2023-02-21T14:07:16.696797Z",
     "iopub.status.busy": "2023-02-21T14:07:16.696119Z",
     "iopub.status.idle": "2023-02-21T14:07:16.705054Z",
     "shell.execute_reply": "2023-02-21T14:07:16.704042Z"
    },
    "papermill": {
     "duration": 0.019026,
     "end_time": "2023-02-21T14:07:16.707426",
     "exception": false,
     "start_time": "2023-02-21T14:07:16.688400",
     "status": "completed"
    },
    "tags": []
   },
   "outputs": [
    {
     "data": {
      "text/plain": [
       "0"
      ]
     },
     "execution_count": 15,
     "metadata": {},
     "output_type": "execute_result"
    }
   ],
   "source": [
    "df['Evaporation'].isna().sum().sum()"
   ]
  },
  {
   "cell_type": "code",
   "execution_count": 16,
   "id": "edf80c09",
   "metadata": {
    "execution": {
     "iopub.execute_input": "2023-02-21T14:07:16.722722Z",
     "iopub.status.busy": "2023-02-21T14:07:16.722337Z",
     "iopub.status.idle": "2023-02-21T14:07:16.764217Z",
     "shell.execute_reply": "2023-02-21T14:07:16.763055Z"
    },
    "papermill": {
     "duration": 0.052891,
     "end_time": "2023-02-21T14:07:16.766981",
     "exception": false,
     "start_time": "2023-02-21T14:07:16.714090",
     "status": "completed"
    },
    "tags": []
   },
   "outputs": [
    {
     "data": {
      "text/plain": [
       "0"
      ]
     },
     "execution_count": 16,
     "metadata": {},
     "output_type": "execute_result"
    }
   ],
   "source": [
    "df[numerical_cols].isna().sum().sum()"
   ]
  },
  {
   "cell_type": "code",
   "execution_count": 17,
   "id": "7cb41052",
   "metadata": {
    "execution": {
     "iopub.execute_input": "2023-02-21T14:07:16.782639Z",
     "iopub.status.busy": "2023-02-21T14:07:16.782221Z",
     "iopub.status.idle": "2023-02-21T14:07:16.919235Z",
     "shell.execute_reply": "2023-02-21T14:07:16.917902Z"
    },
    "papermill": {
     "duration": 0.147954,
     "end_time": "2023-02-21T14:07:16.921982",
     "exception": false,
     "start_time": "2023-02-21T14:07:16.774028",
     "status": "completed"
    },
    "tags": []
   },
   "outputs": [],
   "source": [
    "df = MinMaxScaler().fit_transform(df[numerical_cols])"
   ]
  },
  {
   "cell_type": "code",
   "execution_count": null,
   "id": "b5fbf3f2",
   "metadata": {
    "papermill": {
     "duration": 0.00668,
     "end_time": "2023-02-21T14:07:16.935511",
     "exception": false,
     "start_time": "2023-02-21T14:07:16.928831",
     "status": "completed"
    },
    "tags": []
   },
   "outputs": [],
   "source": []
  }
 ],
 "metadata": {
  "kernelspec": {
   "display_name": "Python 3",
   "language": "python",
   "name": "python3"
  },
  "language_info": {
   "codemirror_mode": {
    "name": "ipython",
    "version": 3
   },
   "file_extension": ".py",
   "mimetype": "text/x-python",
   "name": "python",
   "nbconvert_exporter": "python",
   "pygments_lexer": "ipython3",
   "version": "3.7.12"
  },
  "papermill": {
   "default_parameters": {},
   "duration": 244.939108,
   "end_time": "2023-02-21T14:07:17.764840",
   "environment_variables": {},
   "exception": null,
   "input_path": "__notebook__.ipynb",
   "output_path": "__notebook__.ipynb",
   "parameters": {},
   "start_time": "2023-02-21T14:03:12.825732",
   "version": "2.3.4"
  }
 },
 "nbformat": 4,
 "nbformat_minor": 5
}
