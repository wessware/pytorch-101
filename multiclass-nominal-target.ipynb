{
 "cells": [
  {
   "cell_type": "code",
   "execution_count": 1,
   "id": "87e96d76",
   "metadata": {
    "_cell_guid": "b1076dfc-b9ad-4769-8c92-a6c4dae69d19",
    "_uuid": "8f2839f25d086af736a60e9eeb907d3b93b6e0e5",
    "execution": {
     "iopub.execute_input": "2023-02-23T17:53:35.817546Z",
     "iopub.status.busy": "2023-02-23T17:53:35.817082Z",
     "iopub.status.idle": "2023-02-23T17:53:38.635414Z",
     "shell.execute_reply": "2023-02-23T17:53:38.634203Z"
    },
    "papermill": {
     "duration": 2.828947,
     "end_time": "2023-02-23T17:53:38.638200",
     "exception": false,
     "start_time": "2023-02-23T17:53:35.809253",
     "status": "completed"
    },
    "tags": []
   },
   "outputs": [],
   "source": [
    "import numpy as np\n",
    "import pandas as pd \n",
    "\n",
    "from sklearn.preprocessing import MinMaxScaler\n",
    "from sklearn.preprocessing import OneHotEncoder\n",
    "from sklearn.model_selection import train_test_split\n",
    "\n",
    "import matplotlib.pyplot as plt\n",
    "\n",
    "import torch\n",
    "import torch.nn as nn\n",
    "import torch.optim as optim\n",
    "import tqdm"
   ]
  },
  {
   "cell_type": "code",
   "execution_count": 2,
   "id": "95ad091d",
   "metadata": {
    "execution": {
     "iopub.execute_input": "2023-02-23T17:53:38.651399Z",
     "iopub.status.busy": "2023-02-23T17:53:38.650171Z",
     "iopub.status.idle": "2023-02-23T17:53:39.390099Z",
     "shell.execute_reply": "2023-02-23T17:53:39.388221Z"
    },
    "papermill": {
     "duration": 0.749308,
     "end_time": "2023-02-23T17:53:39.393150",
     "exception": false,
     "start_time": "2023-02-23T17:53:38.643842",
     "status": "completed"
    },
    "tags": []
   },
   "outputs": [],
   "source": [
    "df = pd.read_csv('/kaggle/input/clean-data-australia-rainfall/rainfall_data_australia.csv', index_col=None)"
   ]
  },
  {
   "cell_type": "code",
   "execution_count": 3,
   "id": "f162457a",
   "metadata": {
    "execution": {
     "iopub.execute_input": "2023-02-23T17:53:39.406356Z",
     "iopub.status.busy": "2023-02-23T17:53:39.405967Z",
     "iopub.status.idle": "2023-02-23T17:53:39.414447Z",
     "shell.execute_reply": "2023-02-23T17:53:39.412916Z"
    },
    "papermill": {
     "duration": 0.018083,
     "end_time": "2023-02-23T17:53:39.417042",
     "exception": false,
     "start_time": "2023-02-23T17:53:39.398959",
     "status": "completed"
    },
    "tags": []
   },
   "outputs": [
    {
     "data": {
      "text/plain": [
       "(351587, 18)"
      ]
     },
     "execution_count": 3,
     "metadata": {},
     "output_type": "execute_result"
    }
   ],
   "source": [
    "df.shape"
   ]
  },
  {
   "cell_type": "code",
   "execution_count": 4,
   "id": "dc71612e",
   "metadata": {
    "execution": {
     "iopub.execute_input": "2023-02-23T17:53:39.430016Z",
     "iopub.status.busy": "2023-02-23T17:53:39.429551Z",
     "iopub.status.idle": "2023-02-23T17:53:39.456363Z",
     "shell.execute_reply": "2023-02-23T17:53:39.455163Z"
    },
    "papermill": {
     "duration": 0.036213,
     "end_time": "2023-02-23T17:53:39.458911",
     "exception": false,
     "start_time": "2023-02-23T17:53:39.422698",
     "status": "completed"
    },
    "tags": []
   },
   "outputs": [
    {
     "data": {
      "text/html": [
       "<div>\n",
       "<style scoped>\n",
       "    .dataframe tbody tr th:only-of-type {\n",
       "        vertical-align: middle;\n",
       "    }\n",
       "\n",
       "    .dataframe tbody tr th {\n",
       "        vertical-align: top;\n",
       "    }\n",
       "\n",
       "    .dataframe thead th {\n",
       "        text-align: right;\n",
       "    }\n",
       "</style>\n",
       "<table border=\"1\" class=\"dataframe\">\n",
       "  <thead>\n",
       "    <tr style=\"text-align: right;\">\n",
       "      <th></th>\n",
       "      <th>MinTemp</th>\n",
       "      <th>MaxTemp</th>\n",
       "      <th>Rainfall</th>\n",
       "      <th>Evaporation</th>\n",
       "      <th>Sunshine</th>\n",
       "      <th>WindGustSpeed</th>\n",
       "      <th>WindSpeed9am</th>\n",
       "      <th>WindSpeed3pm</th>\n",
       "      <th>Humidity9am</th>\n",
       "      <th>Humidity3pm</th>\n",
       "      <th>Pressure9am</th>\n",
       "      <th>Pressure3pm</th>\n",
       "      <th>Cloud9am</th>\n",
       "      <th>Cloud3pm</th>\n",
       "      <th>Temp9am</th>\n",
       "      <th>Temp3pm</th>\n",
       "      <th>RainToday</th>\n",
       "      <th>RainTomorrow</th>\n",
       "    </tr>\n",
       "  </thead>\n",
       "  <tbody>\n",
       "    <tr>\n",
       "      <th>0</th>\n",
       "      <td>17.9</td>\n",
       "      <td>35.2</td>\n",
       "      <td>0.0</td>\n",
       "      <td>12.0</td>\n",
       "      <td>12.3</td>\n",
       "      <td>48</td>\n",
       "      <td>6.0</td>\n",
       "      <td>20.0</td>\n",
       "      <td>20</td>\n",
       "      <td>13.0</td>\n",
       "      <td>1006.3</td>\n",
       "      <td>1004.4</td>\n",
       "      <td>2</td>\n",
       "      <td>5</td>\n",
       "      <td>26.6</td>\n",
       "      <td>33.4</td>\n",
       "      <td>2</td>\n",
       "      <td>2</td>\n",
       "    </tr>\n",
       "    <tr>\n",
       "      <th>1</th>\n",
       "      <td>17.9</td>\n",
       "      <td>35.2</td>\n",
       "      <td>0.0</td>\n",
       "      <td>12.0</td>\n",
       "      <td>12.3</td>\n",
       "      <td>48</td>\n",
       "      <td>6.0</td>\n",
       "      <td>20.0</td>\n",
       "      <td>20</td>\n",
       "      <td>13.0</td>\n",
       "      <td>1006.3</td>\n",
       "      <td>1004.4</td>\n",
       "      <td>2</td>\n",
       "      <td>5</td>\n",
       "      <td>26.6</td>\n",
       "      <td>33.4</td>\n",
       "      <td>2</td>\n",
       "      <td>2</td>\n",
       "    </tr>\n",
       "    <tr>\n",
       "      <th>2</th>\n",
       "      <td>17.9</td>\n",
       "      <td>35.2</td>\n",
       "      <td>0.0</td>\n",
       "      <td>12.0</td>\n",
       "      <td>12.3</td>\n",
       "      <td>48</td>\n",
       "      <td>6.0</td>\n",
       "      <td>20.0</td>\n",
       "      <td>20</td>\n",
       "      <td>13.0</td>\n",
       "      <td>1006.3</td>\n",
       "      <td>1004.4</td>\n",
       "      <td>2</td>\n",
       "      <td>5</td>\n",
       "      <td>26.6</td>\n",
       "      <td>33.4</td>\n",
       "      <td>2</td>\n",
       "      <td>2</td>\n",
       "    </tr>\n",
       "    <tr>\n",
       "      <th>3</th>\n",
       "      <td>17.9</td>\n",
       "      <td>35.2</td>\n",
       "      <td>0.0</td>\n",
       "      <td>12.0</td>\n",
       "      <td>12.3</td>\n",
       "      <td>48</td>\n",
       "      <td>6.0</td>\n",
       "      <td>20.0</td>\n",
       "      <td>20</td>\n",
       "      <td>13.0</td>\n",
       "      <td>1006.3</td>\n",
       "      <td>1004.4</td>\n",
       "      <td>2</td>\n",
       "      <td>5</td>\n",
       "      <td>26.6</td>\n",
       "      <td>33.4</td>\n",
       "      <td>2</td>\n",
       "      <td>2</td>\n",
       "    </tr>\n",
       "    <tr>\n",
       "      <th>4</th>\n",
       "      <td>17.9</td>\n",
       "      <td>35.2</td>\n",
       "      <td>0.0</td>\n",
       "      <td>12.0</td>\n",
       "      <td>12.3</td>\n",
       "      <td>48</td>\n",
       "      <td>6.0</td>\n",
       "      <td>20.0</td>\n",
       "      <td>20</td>\n",
       "      <td>13.0</td>\n",
       "      <td>1006.3</td>\n",
       "      <td>1004.4</td>\n",
       "      <td>2</td>\n",
       "      <td>5</td>\n",
       "      <td>26.6</td>\n",
       "      <td>33.4</td>\n",
       "      <td>2</td>\n",
       "      <td>2</td>\n",
       "    </tr>\n",
       "  </tbody>\n",
       "</table>\n",
       "</div>"
      ],
      "text/plain": [
       "   MinTemp  MaxTemp  Rainfall  Evaporation  Sunshine  WindGustSpeed  \\\n",
       "0     17.9     35.2       0.0         12.0      12.3             48   \n",
       "1     17.9     35.2       0.0         12.0      12.3             48   \n",
       "2     17.9     35.2       0.0         12.0      12.3             48   \n",
       "3     17.9     35.2       0.0         12.0      12.3             48   \n",
       "4     17.9     35.2       0.0         12.0      12.3             48   \n",
       "\n",
       "   WindSpeed9am  WindSpeed3pm  Humidity9am  Humidity3pm  Pressure9am  \\\n",
       "0           6.0          20.0           20         13.0       1006.3   \n",
       "1           6.0          20.0           20         13.0       1006.3   \n",
       "2           6.0          20.0           20         13.0       1006.3   \n",
       "3           6.0          20.0           20         13.0       1006.3   \n",
       "4           6.0          20.0           20         13.0       1006.3   \n",
       "\n",
       "   Pressure3pm  Cloud9am  Cloud3pm  Temp9am  Temp3pm  RainToday  RainTomorrow  \n",
       "0       1004.4         2         5     26.6     33.4          2             2  \n",
       "1       1004.4         2         5     26.6     33.4          2             2  \n",
       "2       1004.4         2         5     26.6     33.4          2             2  \n",
       "3       1004.4         2         5     26.6     33.4          2             2  \n",
       "4       1004.4         2         5     26.6     33.4          2             2  "
      ]
     },
     "execution_count": 4,
     "metadata": {},
     "output_type": "execute_result"
    }
   ],
   "source": [
    "df.head()"
   ]
  },
  {
   "cell_type": "code",
   "execution_count": 5,
   "id": "84f09768",
   "metadata": {
    "execution": {
     "iopub.execute_input": "2023-02-23T17:53:39.472910Z",
     "iopub.status.busy": "2023-02-23T17:53:39.472388Z",
     "iopub.status.idle": "2023-02-23T17:53:39.485189Z",
     "shell.execute_reply": "2023-02-23T17:53:39.484051Z"
    },
    "papermill": {
     "duration": 0.022198,
     "end_time": "2023-02-23T17:53:39.487230",
     "exception": false,
     "start_time": "2023-02-23T17:53:39.465032",
     "status": "completed"
    },
    "tags": []
   },
   "outputs": [
    {
     "data": {
      "text/plain": [
       "MinTemp           True\n",
       "MaxTemp           True\n",
       "Rainfall         False\n",
       "Evaporation       True\n",
       "Sunshine         False\n",
       "WindGustSpeed    False\n",
       "WindSpeed9am      True\n",
       "WindSpeed3pm      True\n",
       "Humidity9am      False\n",
       "Humidity3pm       True\n",
       "Pressure9am       True\n",
       "Pressure3pm       True\n",
       "Cloud9am         False\n",
       "Cloud3pm         False\n",
       "Temp9am          False\n",
       "Temp3pm           True\n",
       "RainToday        False\n",
       "RainTomorrow     False\n",
       "dtype: bool"
      ]
     },
     "execution_count": 5,
     "metadata": {},
     "output_type": "execute_result"
    }
   ],
   "source": [
    "df.isna().any()"
   ]
  },
  {
   "cell_type": "code",
   "execution_count": 6,
   "id": "16443de2",
   "metadata": {
    "execution": {
     "iopub.execute_input": "2023-02-23T17:53:39.501449Z",
     "iopub.status.busy": "2023-02-23T17:53:39.500923Z",
     "iopub.status.idle": "2023-02-23T17:53:39.549850Z",
     "shell.execute_reply": "2023-02-23T17:53:39.548465Z"
    },
    "papermill": {
     "duration": 0.059484,
     "end_time": "2023-02-23T17:53:39.552762",
     "exception": false,
     "start_time": "2023-02-23T17:53:39.493278",
     "status": "completed"
    },
    "tags": []
   },
   "outputs": [],
   "source": [
    "df = df.dropna()"
   ]
  },
  {
   "cell_type": "code",
   "execution_count": 7,
   "id": "2a9c704a",
   "metadata": {
    "execution": {
     "iopub.execute_input": "2023-02-23T17:53:39.566123Z",
     "iopub.status.busy": "2023-02-23T17:53:39.565738Z",
     "iopub.status.idle": "2023-02-23T17:53:39.577636Z",
     "shell.execute_reply": "2023-02-23T17:53:39.576460Z"
    },
    "papermill": {
     "duration": 0.021487,
     "end_time": "2023-02-23T17:53:39.580249",
     "exception": false,
     "start_time": "2023-02-23T17:53:39.558762",
     "status": "completed"
    },
    "tags": []
   },
   "outputs": [
    {
     "data": {
      "text/plain": [
       "MinTemp          False\n",
       "MaxTemp          False\n",
       "Rainfall         False\n",
       "Evaporation      False\n",
       "Sunshine         False\n",
       "WindGustSpeed    False\n",
       "WindSpeed9am     False\n",
       "WindSpeed3pm     False\n",
       "Humidity9am      False\n",
       "Humidity3pm      False\n",
       "Pressure9am      False\n",
       "Pressure3pm      False\n",
       "Cloud9am         False\n",
       "Cloud3pm         False\n",
       "Temp9am          False\n",
       "Temp3pm          False\n",
       "RainToday        False\n",
       "RainTomorrow     False\n",
       "dtype: bool"
      ]
     },
     "execution_count": 7,
     "metadata": {},
     "output_type": "execute_result"
    }
   ],
   "source": [
    "df.isna().any()"
   ]
  },
  {
   "cell_type": "code",
   "execution_count": 8,
   "id": "0679b00d",
   "metadata": {
    "execution": {
     "iopub.execute_input": "2023-02-23T17:53:39.594998Z",
     "iopub.status.busy": "2023-02-23T17:53:39.593720Z",
     "iopub.status.idle": "2023-02-23T17:53:39.600520Z",
     "shell.execute_reply": "2023-02-23T17:53:39.599607Z"
    },
    "papermill": {
     "duration": 0.017077,
     "end_time": "2023-02-23T17:53:39.603450",
     "exception": false,
     "start_time": "2023-02-23T17:53:39.586373",
     "status": "completed"
    },
    "tags": []
   },
   "outputs": [
    {
     "data": {
      "text/plain": [
       "Index(['MinTemp', 'MaxTemp', 'Rainfall', 'Evaporation', 'Sunshine',\n",
       "       'WindGustSpeed', 'WindSpeed9am', 'WindSpeed3pm', 'Humidity9am',\n",
       "       'Humidity3pm', 'Pressure9am', 'Pressure3pm', 'Cloud9am', 'Cloud3pm',\n",
       "       'Temp9am', 'Temp3pm', 'RainToday', 'RainTomorrow'],\n",
       "      dtype='object')"
      ]
     },
     "execution_count": 8,
     "metadata": {},
     "output_type": "execute_result"
    }
   ],
   "source": [
    "df.columns"
   ]
  },
  {
   "cell_type": "code",
   "execution_count": 9,
   "id": "b801214a",
   "metadata": {
    "execution": {
     "iopub.execute_input": "2023-02-23T17:53:39.617958Z",
     "iopub.status.busy": "2023-02-23T17:53:39.617500Z",
     "iopub.status.idle": "2023-02-23T17:53:39.630835Z",
     "shell.execute_reply": "2023-02-23T17:53:39.629387Z"
    },
    "papermill": {
     "duration": 0.022765,
     "end_time": "2023-02-23T17:53:39.632750",
     "exception": false,
     "start_time": "2023-02-23T17:53:39.609985",
     "status": "completed"
    },
    "tags": []
   },
   "outputs": [
    {
     "data": {
      "text/plain": [
       "array([2, 1, 3])"
      ]
     },
     "execution_count": 9,
     "metadata": {},
     "output_type": "execute_result"
    }
   ],
   "source": [
    "df['RainTomorrow'].unique()"
   ]
  },
  {
   "cell_type": "code",
   "execution_count": 10,
   "id": "17b45f06",
   "metadata": {
    "execution": {
     "iopub.execute_input": "2023-02-23T17:53:39.647495Z",
     "iopub.status.busy": "2023-02-23T17:53:39.646177Z",
     "iopub.status.idle": "2023-02-23T17:53:39.653839Z",
     "shell.execute_reply": "2023-02-23T17:53:39.651680Z"
    },
    "papermill": {
     "duration": 0.018066,
     "end_time": "2023-02-23T17:53:39.656925",
     "exception": false,
     "start_time": "2023-02-23T17:53:39.638859",
     "status": "completed"
    },
    "tags": []
   },
   "outputs": [],
   "source": [
    "x_cols = ['MinTemp', 'MaxTemp', 'Rainfall', 'Evaporation', 'Sunshine',\n",
    "       'WindGustSpeed', 'WindSpeed9am', 'WindSpeed3pm', 'Humidity9am',\n",
    "       'Humidity3pm', 'Pressure9am', 'Pressure3pm', 'Cloud9am', 'Cloud3pm',\n",
    "       'Temp9am', 'Temp3pm', 'RainToday']"
   ]
  },
  {
   "cell_type": "code",
   "execution_count": 11,
   "id": "6995fde1",
   "metadata": {
    "execution": {
     "iopub.execute_input": "2023-02-23T17:53:39.673116Z",
     "iopub.status.busy": "2023-02-23T17:53:39.672335Z",
     "iopub.status.idle": "2023-02-23T17:53:39.691739Z",
     "shell.execute_reply": "2023-02-23T17:53:39.690994Z"
    },
    "papermill": {
     "duration": 0.030218,
     "end_time": "2023-02-23T17:53:39.694333",
     "exception": false,
     "start_time": "2023-02-23T17:53:39.664115",
     "status": "completed"
    },
    "tags": []
   },
   "outputs": [],
   "source": [
    "x = df[x_cols]\n",
    "\n",
    "y = df[['RainTomorrow']]"
   ]
  },
  {
   "cell_type": "code",
   "execution_count": 12,
   "id": "72d73f1d",
   "metadata": {
    "execution": {
     "iopub.execute_input": "2023-02-23T17:53:39.710217Z",
     "iopub.status.busy": "2023-02-23T17:53:39.709582Z",
     "iopub.status.idle": "2023-02-23T17:53:39.737458Z",
     "shell.execute_reply": "2023-02-23T17:53:39.736200Z"
    },
    "papermill": {
     "duration": 0.038895,
     "end_time": "2023-02-23T17:53:39.739529",
     "exception": false,
     "start_time": "2023-02-23T17:53:39.700634",
     "status": "completed"
    },
    "tags": []
   },
   "outputs": [
    {
     "data": {
      "text/html": [
       "<div>\n",
       "<style scoped>\n",
       "    .dataframe tbody tr th:only-of-type {\n",
       "        vertical-align: middle;\n",
       "    }\n",
       "\n",
       "    .dataframe tbody tr th {\n",
       "        vertical-align: top;\n",
       "    }\n",
       "\n",
       "    .dataframe thead th {\n",
       "        text-align: right;\n",
       "    }\n",
       "</style>\n",
       "<table border=\"1\" class=\"dataframe\">\n",
       "  <thead>\n",
       "    <tr style=\"text-align: right;\">\n",
       "      <th></th>\n",
       "      <th>MinTemp</th>\n",
       "      <th>MaxTemp</th>\n",
       "      <th>Rainfall</th>\n",
       "      <th>Evaporation</th>\n",
       "      <th>Sunshine</th>\n",
       "      <th>WindGustSpeed</th>\n",
       "      <th>WindSpeed9am</th>\n",
       "      <th>WindSpeed3pm</th>\n",
       "      <th>Humidity9am</th>\n",
       "      <th>Humidity3pm</th>\n",
       "      <th>Pressure9am</th>\n",
       "      <th>Pressure3pm</th>\n",
       "      <th>Cloud9am</th>\n",
       "      <th>Cloud3pm</th>\n",
       "      <th>Temp9am</th>\n",
       "      <th>Temp3pm</th>\n",
       "      <th>RainToday</th>\n",
       "    </tr>\n",
       "  </thead>\n",
       "  <tbody>\n",
       "    <tr>\n",
       "      <th>0</th>\n",
       "      <td>17.9</td>\n",
       "      <td>35.2</td>\n",
       "      <td>0.0</td>\n",
       "      <td>12.0</td>\n",
       "      <td>12.3</td>\n",
       "      <td>48</td>\n",
       "      <td>6.0</td>\n",
       "      <td>20.0</td>\n",
       "      <td>20</td>\n",
       "      <td>13.0</td>\n",
       "      <td>1006.3</td>\n",
       "      <td>1004.4</td>\n",
       "      <td>2</td>\n",
       "      <td>5</td>\n",
       "      <td>26.6</td>\n",
       "      <td>33.4</td>\n",
       "      <td>2</td>\n",
       "    </tr>\n",
       "    <tr>\n",
       "      <th>1</th>\n",
       "      <td>17.9</td>\n",
       "      <td>35.2</td>\n",
       "      <td>0.0</td>\n",
       "      <td>12.0</td>\n",
       "      <td>12.3</td>\n",
       "      <td>48</td>\n",
       "      <td>6.0</td>\n",
       "      <td>20.0</td>\n",
       "      <td>20</td>\n",
       "      <td>13.0</td>\n",
       "      <td>1006.3</td>\n",
       "      <td>1004.4</td>\n",
       "      <td>2</td>\n",
       "      <td>5</td>\n",
       "      <td>26.6</td>\n",
       "      <td>33.4</td>\n",
       "      <td>2</td>\n",
       "    </tr>\n",
       "    <tr>\n",
       "      <th>2</th>\n",
       "      <td>17.9</td>\n",
       "      <td>35.2</td>\n",
       "      <td>0.0</td>\n",
       "      <td>12.0</td>\n",
       "      <td>12.3</td>\n",
       "      <td>48</td>\n",
       "      <td>6.0</td>\n",
       "      <td>20.0</td>\n",
       "      <td>20</td>\n",
       "      <td>13.0</td>\n",
       "      <td>1006.3</td>\n",
       "      <td>1004.4</td>\n",
       "      <td>2</td>\n",
       "      <td>5</td>\n",
       "      <td>26.6</td>\n",
       "      <td>33.4</td>\n",
       "      <td>2</td>\n",
       "    </tr>\n",
       "    <tr>\n",
       "      <th>3</th>\n",
       "      <td>17.9</td>\n",
       "      <td>35.2</td>\n",
       "      <td>0.0</td>\n",
       "      <td>12.0</td>\n",
       "      <td>12.3</td>\n",
       "      <td>48</td>\n",
       "      <td>6.0</td>\n",
       "      <td>20.0</td>\n",
       "      <td>20</td>\n",
       "      <td>13.0</td>\n",
       "      <td>1006.3</td>\n",
       "      <td>1004.4</td>\n",
       "      <td>2</td>\n",
       "      <td>5</td>\n",
       "      <td>26.6</td>\n",
       "      <td>33.4</td>\n",
       "      <td>2</td>\n",
       "    </tr>\n",
       "    <tr>\n",
       "      <th>4</th>\n",
       "      <td>17.9</td>\n",
       "      <td>35.2</td>\n",
       "      <td>0.0</td>\n",
       "      <td>12.0</td>\n",
       "      <td>12.3</td>\n",
       "      <td>48</td>\n",
       "      <td>6.0</td>\n",
       "      <td>20.0</td>\n",
       "      <td>20</td>\n",
       "      <td>13.0</td>\n",
       "      <td>1006.3</td>\n",
       "      <td>1004.4</td>\n",
       "      <td>2</td>\n",
       "      <td>5</td>\n",
       "      <td>26.6</td>\n",
       "      <td>33.4</td>\n",
       "      <td>2</td>\n",
       "    </tr>\n",
       "    <tr>\n",
       "      <th>...</th>\n",
       "      <td>...</td>\n",
       "      <td>...</td>\n",
       "      <td>...</td>\n",
       "      <td>...</td>\n",
       "      <td>...</td>\n",
       "      <td>...</td>\n",
       "      <td>...</td>\n",
       "      <td>...</td>\n",
       "      <td>...</td>\n",
       "      <td>...</td>\n",
       "      <td>...</td>\n",
       "      <td>...</td>\n",
       "      <td>...</td>\n",
       "      <td>...</td>\n",
       "      <td>...</td>\n",
       "      <td>...</td>\n",
       "      <td>...</td>\n",
       "    </tr>\n",
       "    <tr>\n",
       "      <th>351582</th>\n",
       "      <td>20.2</td>\n",
       "      <td>31.7</td>\n",
       "      <td>0.0</td>\n",
       "      <td>5.6</td>\n",
       "      <td>10.7</td>\n",
       "      <td>30</td>\n",
       "      <td>15.0</td>\n",
       "      <td>7.0</td>\n",
       "      <td>73</td>\n",
       "      <td>32.0</td>\n",
       "      <td>1013.9</td>\n",
       "      <td>1009.7</td>\n",
       "      <td>6</td>\n",
       "      <td>5</td>\n",
       "      <td>25.4</td>\n",
       "      <td>31.0</td>\n",
       "      <td>2</td>\n",
       "    </tr>\n",
       "    <tr>\n",
       "      <th>351583</th>\n",
       "      <td>20.2</td>\n",
       "      <td>31.7</td>\n",
       "      <td>0.0</td>\n",
       "      <td>5.6</td>\n",
       "      <td>10.7</td>\n",
       "      <td>30</td>\n",
       "      <td>15.0</td>\n",
       "      <td>7.0</td>\n",
       "      <td>73</td>\n",
       "      <td>32.0</td>\n",
       "      <td>1013.9</td>\n",
       "      <td>1009.7</td>\n",
       "      <td>6</td>\n",
       "      <td>5</td>\n",
       "      <td>25.4</td>\n",
       "      <td>31.0</td>\n",
       "      <td>2</td>\n",
       "    </tr>\n",
       "    <tr>\n",
       "      <th>351584</th>\n",
       "      <td>20.2</td>\n",
       "      <td>31.7</td>\n",
       "      <td>0.0</td>\n",
       "      <td>5.6</td>\n",
       "      <td>10.7</td>\n",
       "      <td>30</td>\n",
       "      <td>15.0</td>\n",
       "      <td>7.0</td>\n",
       "      <td>73</td>\n",
       "      <td>32.0</td>\n",
       "      <td>1013.9</td>\n",
       "      <td>1009.7</td>\n",
       "      <td>6</td>\n",
       "      <td>5</td>\n",
       "      <td>25.4</td>\n",
       "      <td>31.0</td>\n",
       "      <td>2</td>\n",
       "    </tr>\n",
       "    <tr>\n",
       "      <th>351585</th>\n",
       "      <td>20.2</td>\n",
       "      <td>31.7</td>\n",
       "      <td>0.0</td>\n",
       "      <td>5.6</td>\n",
       "      <td>10.7</td>\n",
       "      <td>30</td>\n",
       "      <td>15.0</td>\n",
       "      <td>7.0</td>\n",
       "      <td>73</td>\n",
       "      <td>32.0</td>\n",
       "      <td>1013.9</td>\n",
       "      <td>1009.7</td>\n",
       "      <td>6</td>\n",
       "      <td>5</td>\n",
       "      <td>25.4</td>\n",
       "      <td>31.0</td>\n",
       "      <td>2</td>\n",
       "    </tr>\n",
       "    <tr>\n",
       "      <th>351586</th>\n",
       "      <td>20.2</td>\n",
       "      <td>31.7</td>\n",
       "      <td>0.0</td>\n",
       "      <td>5.6</td>\n",
       "      <td>10.7</td>\n",
       "      <td>30</td>\n",
       "      <td>15.0</td>\n",
       "      <td>7.0</td>\n",
       "      <td>73</td>\n",
       "      <td>32.0</td>\n",
       "      <td>1013.9</td>\n",
       "      <td>1009.7</td>\n",
       "      <td>6</td>\n",
       "      <td>5</td>\n",
       "      <td>25.4</td>\n",
       "      <td>31.0</td>\n",
       "      <td>2</td>\n",
       "    </tr>\n",
       "  </tbody>\n",
       "</table>\n",
       "<p>349416 rows × 17 columns</p>\n",
       "</div>"
      ],
      "text/plain": [
       "        MinTemp  MaxTemp  Rainfall  Evaporation  Sunshine  WindGustSpeed  \\\n",
       "0          17.9     35.2       0.0         12.0      12.3             48   \n",
       "1          17.9     35.2       0.0         12.0      12.3             48   \n",
       "2          17.9     35.2       0.0         12.0      12.3             48   \n",
       "3          17.9     35.2       0.0         12.0      12.3             48   \n",
       "4          17.9     35.2       0.0         12.0      12.3             48   \n",
       "...         ...      ...       ...          ...       ...            ...   \n",
       "351582     20.2     31.7       0.0          5.6      10.7             30   \n",
       "351583     20.2     31.7       0.0          5.6      10.7             30   \n",
       "351584     20.2     31.7       0.0          5.6      10.7             30   \n",
       "351585     20.2     31.7       0.0          5.6      10.7             30   \n",
       "351586     20.2     31.7       0.0          5.6      10.7             30   \n",
       "\n",
       "        WindSpeed9am  WindSpeed3pm  Humidity9am  Humidity3pm  Pressure9am  \\\n",
       "0                6.0          20.0           20         13.0       1006.3   \n",
       "1                6.0          20.0           20         13.0       1006.3   \n",
       "2                6.0          20.0           20         13.0       1006.3   \n",
       "3                6.0          20.0           20         13.0       1006.3   \n",
       "4                6.0          20.0           20         13.0       1006.3   \n",
       "...              ...           ...          ...          ...          ...   \n",
       "351582          15.0           7.0           73         32.0       1013.9   \n",
       "351583          15.0           7.0           73         32.0       1013.9   \n",
       "351584          15.0           7.0           73         32.0       1013.9   \n",
       "351585          15.0           7.0           73         32.0       1013.9   \n",
       "351586          15.0           7.0           73         32.0       1013.9   \n",
       "\n",
       "        Pressure3pm  Cloud9am  Cloud3pm  Temp9am  Temp3pm  RainToday  \n",
       "0            1004.4         2         5     26.6     33.4          2  \n",
       "1            1004.4         2         5     26.6     33.4          2  \n",
       "2            1004.4         2         5     26.6     33.4          2  \n",
       "3            1004.4         2         5     26.6     33.4          2  \n",
       "4            1004.4         2         5     26.6     33.4          2  \n",
       "...             ...       ...       ...      ...      ...        ...  \n",
       "351582       1009.7         6         5     25.4     31.0          2  \n",
       "351583       1009.7         6         5     25.4     31.0          2  \n",
       "351584       1009.7         6         5     25.4     31.0          2  \n",
       "351585       1009.7         6         5     25.4     31.0          2  \n",
       "351586       1009.7         6         5     25.4     31.0          2  \n",
       "\n",
       "[349416 rows x 17 columns]"
      ]
     },
     "execution_count": 12,
     "metadata": {},
     "output_type": "execute_result"
    }
   ],
   "source": [
    "x"
   ]
  },
  {
   "cell_type": "code",
   "execution_count": 13,
   "id": "68a25454",
   "metadata": {
    "execution": {
     "iopub.execute_input": "2023-02-23T17:53:39.755652Z",
     "iopub.status.busy": "2023-02-23T17:53:39.755013Z",
     "iopub.status.idle": "2023-02-23T17:53:39.761454Z",
     "shell.execute_reply": "2023-02-23T17:53:39.759931Z"
    },
    "papermill": {
     "duration": 0.017867,
     "end_time": "2023-02-23T17:53:39.764404",
     "exception": false,
     "start_time": "2023-02-23T17:53:39.746537",
     "status": "completed"
    },
    "tags": []
   },
   "outputs": [
    {
     "data": {
      "text/plain": [
       "(349416, 17)"
      ]
     },
     "execution_count": 13,
     "metadata": {},
     "output_type": "execute_result"
    }
   ],
   "source": [
    "x.shape"
   ]
  },
  {
   "cell_type": "code",
   "execution_count": 14,
   "id": "aeed3d1e",
   "metadata": {
    "execution": {
     "iopub.execute_input": "2023-02-23T17:53:39.780053Z",
     "iopub.status.busy": "2023-02-23T17:53:39.779581Z",
     "iopub.status.idle": "2023-02-23T17:53:39.791636Z",
     "shell.execute_reply": "2023-02-23T17:53:39.790624Z"
    },
    "papermill": {
     "duration": 0.022104,
     "end_time": "2023-02-23T17:53:39.793523",
     "exception": false,
     "start_time": "2023-02-23T17:53:39.771419",
     "status": "completed"
    },
    "tags": []
   },
   "outputs": [
    {
     "data": {
      "text/html": [
       "<div>\n",
       "<style scoped>\n",
       "    .dataframe tbody tr th:only-of-type {\n",
       "        vertical-align: middle;\n",
       "    }\n",
       "\n",
       "    .dataframe tbody tr th {\n",
       "        vertical-align: top;\n",
       "    }\n",
       "\n",
       "    .dataframe thead th {\n",
       "        text-align: right;\n",
       "    }\n",
       "</style>\n",
       "<table border=\"1\" class=\"dataframe\">\n",
       "  <thead>\n",
       "    <tr style=\"text-align: right;\">\n",
       "      <th></th>\n",
       "      <th>RainTomorrow</th>\n",
       "    </tr>\n",
       "  </thead>\n",
       "  <tbody>\n",
       "    <tr>\n",
       "      <th>0</th>\n",
       "      <td>2</td>\n",
       "    </tr>\n",
       "    <tr>\n",
       "      <th>1</th>\n",
       "      <td>2</td>\n",
       "    </tr>\n",
       "    <tr>\n",
       "      <th>2</th>\n",
       "      <td>2</td>\n",
       "    </tr>\n",
       "    <tr>\n",
       "      <th>3</th>\n",
       "      <td>2</td>\n",
       "    </tr>\n",
       "    <tr>\n",
       "      <th>4</th>\n",
       "      <td>2</td>\n",
       "    </tr>\n",
       "    <tr>\n",
       "      <th>...</th>\n",
       "      <td>...</td>\n",
       "    </tr>\n",
       "    <tr>\n",
       "      <th>351582</th>\n",
       "      <td>2</td>\n",
       "    </tr>\n",
       "    <tr>\n",
       "      <th>351583</th>\n",
       "      <td>2</td>\n",
       "    </tr>\n",
       "    <tr>\n",
       "      <th>351584</th>\n",
       "      <td>2</td>\n",
       "    </tr>\n",
       "    <tr>\n",
       "      <th>351585</th>\n",
       "      <td>2</td>\n",
       "    </tr>\n",
       "    <tr>\n",
       "      <th>351586</th>\n",
       "      <td>2</td>\n",
       "    </tr>\n",
       "  </tbody>\n",
       "</table>\n",
       "<p>349416 rows × 1 columns</p>\n",
       "</div>"
      ],
      "text/plain": [
       "        RainTomorrow\n",
       "0                  2\n",
       "1                  2\n",
       "2                  2\n",
       "3                  2\n",
       "4                  2\n",
       "...              ...\n",
       "351582             2\n",
       "351583             2\n",
       "351584             2\n",
       "351585             2\n",
       "351586             2\n",
       "\n",
       "[349416 rows x 1 columns]"
      ]
     },
     "execution_count": 14,
     "metadata": {},
     "output_type": "execute_result"
    }
   ],
   "source": [
    "y"
   ]
  },
  {
   "cell_type": "code",
   "execution_count": 15,
   "id": "3fc3aa95",
   "metadata": {
    "execution": {
     "iopub.execute_input": "2023-02-23T17:53:39.809596Z",
     "iopub.status.busy": "2023-02-23T17:53:39.808981Z",
     "iopub.status.idle": "2023-02-23T17:53:39.873687Z",
     "shell.execute_reply": "2023-02-23T17:53:39.872859Z"
    },
    "papermill": {
     "duration": 0.075531,
     "end_time": "2023-02-23T17:53:39.875993",
     "exception": false,
     "start_time": "2023-02-23T17:53:39.800462",
     "status": "completed"
    },
    "tags": []
   },
   "outputs": [],
   "source": [
    "scaler = MinMaxScaler().fit(x)\n",
    "\n",
    "x = scaler.transform(x)"
   ]
  },
  {
   "cell_type": "code",
   "execution_count": 16,
   "id": "a7a4405b",
   "metadata": {
    "execution": {
     "iopub.execute_input": "2023-02-23T17:53:39.891720Z",
     "iopub.status.busy": "2023-02-23T17:53:39.891254Z",
     "iopub.status.idle": "2023-02-23T17:53:39.898896Z",
     "shell.execute_reply": "2023-02-23T17:53:39.896969Z"
    },
    "papermill": {
     "duration": 0.019388,
     "end_time": "2023-02-23T17:53:39.902176",
     "exception": false,
     "start_time": "2023-02-23T17:53:39.882788",
     "status": "completed"
    },
    "tags": []
   },
   "outputs": [],
   "source": [
    "x_ = pd.DataFrame(x)"
   ]
  },
  {
   "cell_type": "code",
   "execution_count": 17,
   "id": "297c1a0f",
   "metadata": {
    "execution": {
     "iopub.execute_input": "2023-02-23T17:53:39.917598Z",
     "iopub.status.busy": "2023-02-23T17:53:39.917202Z",
     "iopub.status.idle": "2023-02-23T17:53:39.962464Z",
     "shell.execute_reply": "2023-02-23T17:53:39.961381Z"
    },
    "papermill": {
     "duration": 0.056149,
     "end_time": "2023-02-23T17:53:39.965303",
     "exception": false,
     "start_time": "2023-02-23T17:53:39.909154",
     "status": "completed"
    },
    "tags": []
   },
   "outputs": [],
   "source": [
    "X = torch.tensor(x_.values, dtype=torch.float32)"
   ]
  },
  {
   "cell_type": "code",
   "execution_count": 18,
   "id": "87b25a02",
   "metadata": {
    "execution": {
     "iopub.execute_input": "2023-02-23T17:53:39.981134Z",
     "iopub.status.busy": "2023-02-23T17:53:39.980225Z",
     "iopub.status.idle": "2023-02-23T17:53:39.986491Z",
     "shell.execute_reply": "2023-02-23T17:53:39.985269Z"
    },
    "papermill": {
     "duration": 0.017188,
     "end_time": "2023-02-23T17:53:39.989417",
     "exception": false,
     "start_time": "2023-02-23T17:53:39.972229",
     "status": "completed"
    },
    "tags": []
   },
   "outputs": [],
   "source": [
    "y = torch.tensor(y.values, dtype=torch.float32)"
   ]
  },
  {
   "cell_type": "code",
   "execution_count": 19,
   "id": "5e5d5f16",
   "metadata": {
    "execution": {
     "iopub.execute_input": "2023-02-23T17:53:40.005197Z",
     "iopub.status.busy": "2023-02-23T17:53:40.004767Z",
     "iopub.status.idle": "2023-02-23T17:53:40.083902Z",
     "shell.execute_reply": "2023-02-23T17:53:40.082652Z"
    },
    "papermill": {
     "duration": 0.090485,
     "end_time": "2023-02-23T17:53:40.086779",
     "exception": false,
     "start_time": "2023-02-23T17:53:39.996294",
     "status": "completed"
    },
    "tags": []
   },
   "outputs": [],
   "source": [
    "x_train, x_test, y_train, y_test = train_test_split(X, y, train_size=0.7, shuffle=True)"
   ]
  },
  {
   "cell_type": "code",
   "execution_count": 20,
   "id": "76ddb13e",
   "metadata": {
    "execution": {
     "iopub.execute_input": "2023-02-23T17:53:40.103091Z",
     "iopub.status.busy": "2023-02-23T17:53:40.102238Z",
     "iopub.status.idle": "2023-02-23T17:53:40.108334Z",
     "shell.execute_reply": "2023-02-23T17:53:40.107460Z"
    },
    "papermill": {
     "duration": 0.016504,
     "end_time": "2023-02-23T17:53:40.110844",
     "exception": false,
     "start_time": "2023-02-23T17:53:40.094340",
     "status": "completed"
    },
    "tags": []
   },
   "outputs": [],
   "source": [
    "class Multiclass(nn.Module):\n",
    "    \n",
    "    def __init__(self):\n",
    "        super().__init__()\n",
    "        self.hidden = nn.Linear(17, 34)\n",
    "        self.act = nn.ReLU()\n",
    "        self.output = nn.Linear(34, 3)\n",
    "        \n",
    "    def forward(self, x):\n",
    "        x = self.act(self.hidden(x))\n",
    "        x = self.output(x)\n",
    "        \n",
    "        return x"
   ]
  },
  {
   "cell_type": "code",
   "execution_count": 21,
   "id": "226b0640",
   "metadata": {
    "execution": {
     "iopub.execute_input": "2023-02-23T17:53:40.126439Z",
     "iopub.status.busy": "2023-02-23T17:53:40.126028Z",
     "iopub.status.idle": "2023-02-23T17:53:40.143643Z",
     "shell.execute_reply": "2023-02-23T17:53:40.142729Z"
    },
    "papermill": {
     "duration": 0.028198,
     "end_time": "2023-02-23T17:53:40.145885",
     "exception": false,
     "start_time": "2023-02-23T17:53:40.117687",
     "status": "completed"
    },
    "tags": []
   },
   "outputs": [],
   "source": [
    "model = Multiclass()\n",
    "loss_fn = nn.CrossEntropyLoss()\n",
    "optimizer = optim.Adam(model.parameters(), lr=0.001)"
   ]
  },
  {
   "cell_type": "code",
   "execution_count": 22,
   "id": "f352182f",
   "metadata": {
    "execution": {
     "iopub.execute_input": "2023-02-23T17:53:40.161753Z",
     "iopub.status.busy": "2023-02-23T17:53:40.160964Z",
     "iopub.status.idle": "2023-02-23T17:53:40.166805Z",
     "shell.execute_reply": "2023-02-23T17:53:40.165886Z"
    },
    "papermill": {
     "duration": 0.017102,
     "end_time": "2023-02-23T17:53:40.169819",
     "exception": false,
     "start_time": "2023-02-23T17:53:40.152717",
     "status": "completed"
    },
    "tags": []
   },
   "outputs": [],
   "source": [
    "n_epochs = 200\n",
    "batch_size = 5\n",
    "batches_per_epoch = len(x_train)\n",
    "\n",
    "best_acc = -np.inf\n",
    "best_weights = None\n",
    "train_loss_hist = []\n",
    "train_acc_hist = []\n",
    "test_loss_hist = []\n",
    "test_acc_hist = []"
   ]
  },
  {
   "cell_type": "code",
   "execution_count": null,
   "id": "5023d639",
   "metadata": {
    "papermill": {
     "duration": 0.006605,
     "end_time": "2023-02-23T17:53:40.183533",
     "exception": false,
     "start_time": "2023-02-23T17:53:40.176928",
     "status": "completed"
    },
    "tags": []
   },
   "outputs": [],
   "source": []
  }
 ],
 "metadata": {
  "kernelspec": {
   "display_name": "Python 3",
   "language": "python",
   "name": "python3"
  },
  "language_info": {
   "codemirror_mode": {
    "name": "ipython",
    "version": 3
   },
   "file_extension": ".py",
   "mimetype": "text/x-python",
   "name": "python",
   "nbconvert_exporter": "python",
   "pygments_lexer": "ipython3",
   "version": "3.7.12"
  },
  "papermill": {
   "default_parameters": {},
   "duration": 13.052321,
   "end_time": "2023-02-23T17:53:41.114147",
   "environment_variables": {},
   "exception": null,
   "input_path": "__notebook__.ipynb",
   "output_path": "__notebook__.ipynb",
   "parameters": {},
   "start_time": "2023-02-23T17:53:28.061826",
   "version": "2.3.4"
  }
 },
 "nbformat": 4,
 "nbformat_minor": 5
}
