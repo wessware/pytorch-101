{
 "cells": [
  {
   "cell_type": "code",
   "execution_count": 1,
   "id": "44de8704",
   "metadata": {
    "_cell_guid": "b1076dfc-b9ad-4769-8c92-a6c4dae69d19",
    "_uuid": "8f2839f25d086af736a60e9eeb907d3b93b6e0e5",
    "execution": {
     "iopub.execute_input": "2023-02-24T08:42:25.226360Z",
     "iopub.status.busy": "2023-02-24T08:42:25.225882Z",
     "iopub.status.idle": "2023-02-24T08:42:28.053328Z",
     "shell.execute_reply": "2023-02-24T08:42:28.051976Z"
    },
    "papermill": {
     "duration": 2.840358,
     "end_time": "2023-02-24T08:42:28.056677",
     "exception": false,
     "start_time": "2023-02-24T08:42:25.216319",
     "status": "completed"
    },
    "tags": []
   },
   "outputs": [],
   "source": [
    "import numpy as np\n",
    "import pandas as pd \n",
    "\n",
    "from sklearn.preprocessing import MinMaxScaler\n",
    "from sklearn.preprocessing import OneHotEncoder\n",
    "from sklearn.model_selection import train_test_split\n",
    "\n",
    "import matplotlib.pyplot as plt\n",
    "\n",
    "import torch\n",
    "import torch.nn as nn\n",
    "import torch.optim as optim\n",
    "import tqdm"
   ]
  },
  {
   "cell_type": "code",
   "execution_count": 2,
   "id": "ba596b0d",
   "metadata": {
    "execution": {
     "iopub.execute_input": "2023-02-24T08:42:28.071800Z",
     "iopub.status.busy": "2023-02-24T08:42:28.071176Z",
     "iopub.status.idle": "2023-02-24T08:42:28.946156Z",
     "shell.execute_reply": "2023-02-24T08:42:28.944838Z"
    },
    "papermill": {
     "duration": 0.885558,
     "end_time": "2023-02-24T08:42:28.949005",
     "exception": false,
     "start_time": "2023-02-24T08:42:28.063447",
     "status": "completed"
    },
    "tags": []
   },
   "outputs": [],
   "source": [
    "df = pd.read_csv('/kaggle/input/clean-data-australia-rainfall/rainfall_data_australia.csv', index_col=None)"
   ]
  },
  {
   "cell_type": "code",
   "execution_count": 3,
   "id": "5af2ead0",
   "metadata": {
    "execution": {
     "iopub.execute_input": "2023-02-24T08:42:28.964934Z",
     "iopub.status.busy": "2023-02-24T08:42:28.964513Z",
     "iopub.status.idle": "2023-02-24T08:42:28.973830Z",
     "shell.execute_reply": "2023-02-24T08:42:28.972491Z"
    },
    "papermill": {
     "duration": 0.021005,
     "end_time": "2023-02-24T08:42:28.977053",
     "exception": false,
     "start_time": "2023-02-24T08:42:28.956048",
     "status": "completed"
    },
    "tags": []
   },
   "outputs": [
    {
     "data": {
      "text/plain": [
       "(351587, 18)"
      ]
     },
     "execution_count": 3,
     "metadata": {},
     "output_type": "execute_result"
    }
   ],
   "source": [
    "df.shape"
   ]
  },
  {
   "cell_type": "code",
   "execution_count": 4,
   "id": "79aed28c",
   "metadata": {
    "execution": {
     "iopub.execute_input": "2023-02-24T08:42:28.992367Z",
     "iopub.status.busy": "2023-02-24T08:42:28.991935Z",
     "iopub.status.idle": "2023-02-24T08:42:29.023971Z",
     "shell.execute_reply": "2023-02-24T08:42:29.022960Z"
    },
    "papermill": {
     "duration": 0.042544,
     "end_time": "2023-02-24T08:42:29.026340",
     "exception": false,
     "start_time": "2023-02-24T08:42:28.983796",
     "status": "completed"
    },
    "tags": []
   },
   "outputs": [
    {
     "data": {
      "text/html": [
       "<div>\n",
       "<style scoped>\n",
       "    .dataframe tbody tr th:only-of-type {\n",
       "        vertical-align: middle;\n",
       "    }\n",
       "\n",
       "    .dataframe tbody tr th {\n",
       "        vertical-align: top;\n",
       "    }\n",
       "\n",
       "    .dataframe thead th {\n",
       "        text-align: right;\n",
       "    }\n",
       "</style>\n",
       "<table border=\"1\" class=\"dataframe\">\n",
       "  <thead>\n",
       "    <tr style=\"text-align: right;\">\n",
       "      <th></th>\n",
       "      <th>MinTemp</th>\n",
       "      <th>MaxTemp</th>\n",
       "      <th>Rainfall</th>\n",
       "      <th>Evaporation</th>\n",
       "      <th>Sunshine</th>\n",
       "      <th>WindGustSpeed</th>\n",
       "      <th>WindSpeed9am</th>\n",
       "      <th>WindSpeed3pm</th>\n",
       "      <th>Humidity9am</th>\n",
       "      <th>Humidity3pm</th>\n",
       "      <th>Pressure9am</th>\n",
       "      <th>Pressure3pm</th>\n",
       "      <th>Cloud9am</th>\n",
       "      <th>Cloud3pm</th>\n",
       "      <th>Temp9am</th>\n",
       "      <th>Temp3pm</th>\n",
       "      <th>RainToday</th>\n",
       "      <th>RainTomorrow</th>\n",
       "    </tr>\n",
       "  </thead>\n",
       "  <tbody>\n",
       "    <tr>\n",
       "      <th>0</th>\n",
       "      <td>17.9</td>\n",
       "      <td>35.2</td>\n",
       "      <td>0.0</td>\n",
       "      <td>12.0</td>\n",
       "      <td>12.3</td>\n",
       "      <td>48</td>\n",
       "      <td>6.0</td>\n",
       "      <td>20.0</td>\n",
       "      <td>20</td>\n",
       "      <td>13.0</td>\n",
       "      <td>1006.3</td>\n",
       "      <td>1004.4</td>\n",
       "      <td>2</td>\n",
       "      <td>5</td>\n",
       "      <td>26.6</td>\n",
       "      <td>33.4</td>\n",
       "      <td>2</td>\n",
       "      <td>2</td>\n",
       "    </tr>\n",
       "    <tr>\n",
       "      <th>1</th>\n",
       "      <td>17.9</td>\n",
       "      <td>35.2</td>\n",
       "      <td>0.0</td>\n",
       "      <td>12.0</td>\n",
       "      <td>12.3</td>\n",
       "      <td>48</td>\n",
       "      <td>6.0</td>\n",
       "      <td>20.0</td>\n",
       "      <td>20</td>\n",
       "      <td>13.0</td>\n",
       "      <td>1006.3</td>\n",
       "      <td>1004.4</td>\n",
       "      <td>2</td>\n",
       "      <td>5</td>\n",
       "      <td>26.6</td>\n",
       "      <td>33.4</td>\n",
       "      <td>2</td>\n",
       "      <td>2</td>\n",
       "    </tr>\n",
       "    <tr>\n",
       "      <th>2</th>\n",
       "      <td>17.9</td>\n",
       "      <td>35.2</td>\n",
       "      <td>0.0</td>\n",
       "      <td>12.0</td>\n",
       "      <td>12.3</td>\n",
       "      <td>48</td>\n",
       "      <td>6.0</td>\n",
       "      <td>20.0</td>\n",
       "      <td>20</td>\n",
       "      <td>13.0</td>\n",
       "      <td>1006.3</td>\n",
       "      <td>1004.4</td>\n",
       "      <td>2</td>\n",
       "      <td>5</td>\n",
       "      <td>26.6</td>\n",
       "      <td>33.4</td>\n",
       "      <td>2</td>\n",
       "      <td>2</td>\n",
       "    </tr>\n",
       "    <tr>\n",
       "      <th>3</th>\n",
       "      <td>17.9</td>\n",
       "      <td>35.2</td>\n",
       "      <td>0.0</td>\n",
       "      <td>12.0</td>\n",
       "      <td>12.3</td>\n",
       "      <td>48</td>\n",
       "      <td>6.0</td>\n",
       "      <td>20.0</td>\n",
       "      <td>20</td>\n",
       "      <td>13.0</td>\n",
       "      <td>1006.3</td>\n",
       "      <td>1004.4</td>\n",
       "      <td>2</td>\n",
       "      <td>5</td>\n",
       "      <td>26.6</td>\n",
       "      <td>33.4</td>\n",
       "      <td>2</td>\n",
       "      <td>2</td>\n",
       "    </tr>\n",
       "    <tr>\n",
       "      <th>4</th>\n",
       "      <td>17.9</td>\n",
       "      <td>35.2</td>\n",
       "      <td>0.0</td>\n",
       "      <td>12.0</td>\n",
       "      <td>12.3</td>\n",
       "      <td>48</td>\n",
       "      <td>6.0</td>\n",
       "      <td>20.0</td>\n",
       "      <td>20</td>\n",
       "      <td>13.0</td>\n",
       "      <td>1006.3</td>\n",
       "      <td>1004.4</td>\n",
       "      <td>2</td>\n",
       "      <td>5</td>\n",
       "      <td>26.6</td>\n",
       "      <td>33.4</td>\n",
       "      <td>2</td>\n",
       "      <td>2</td>\n",
       "    </tr>\n",
       "  </tbody>\n",
       "</table>\n",
       "</div>"
      ],
      "text/plain": [
       "   MinTemp  MaxTemp  Rainfall  Evaporation  Sunshine  WindGustSpeed  \\\n",
       "0     17.9     35.2       0.0         12.0      12.3             48   \n",
       "1     17.9     35.2       0.0         12.0      12.3             48   \n",
       "2     17.9     35.2       0.0         12.0      12.3             48   \n",
       "3     17.9     35.2       0.0         12.0      12.3             48   \n",
       "4     17.9     35.2       0.0         12.0      12.3             48   \n",
       "\n",
       "   WindSpeed9am  WindSpeed3pm  Humidity9am  Humidity3pm  Pressure9am  \\\n",
       "0           6.0          20.0           20         13.0       1006.3   \n",
       "1           6.0          20.0           20         13.0       1006.3   \n",
       "2           6.0          20.0           20         13.0       1006.3   \n",
       "3           6.0          20.0           20         13.0       1006.3   \n",
       "4           6.0          20.0           20         13.0       1006.3   \n",
       "\n",
       "   Pressure3pm  Cloud9am  Cloud3pm  Temp9am  Temp3pm  RainToday  RainTomorrow  \n",
       "0       1004.4         2         5     26.6     33.4          2             2  \n",
       "1       1004.4         2         5     26.6     33.4          2             2  \n",
       "2       1004.4         2         5     26.6     33.4          2             2  \n",
       "3       1004.4         2         5     26.6     33.4          2             2  \n",
       "4       1004.4         2         5     26.6     33.4          2             2  "
      ]
     },
     "execution_count": 4,
     "metadata": {},
     "output_type": "execute_result"
    }
   ],
   "source": [
    "df.head()"
   ]
  },
  {
   "cell_type": "code",
   "execution_count": 5,
   "id": "0b999a01",
   "metadata": {
    "execution": {
     "iopub.execute_input": "2023-02-24T08:42:29.043085Z",
     "iopub.status.busy": "2023-02-24T08:42:29.042436Z",
     "iopub.status.idle": "2023-02-24T08:42:29.056786Z",
     "shell.execute_reply": "2023-02-24T08:42:29.055498Z"
    },
    "papermill": {
     "duration": 0.025701,
     "end_time": "2023-02-24T08:42:29.059543",
     "exception": false,
     "start_time": "2023-02-24T08:42:29.033842",
     "status": "completed"
    },
    "tags": []
   },
   "outputs": [
    {
     "data": {
      "text/plain": [
       "MinTemp           True\n",
       "MaxTemp           True\n",
       "Rainfall         False\n",
       "Evaporation       True\n",
       "Sunshine         False\n",
       "WindGustSpeed    False\n",
       "WindSpeed9am      True\n",
       "WindSpeed3pm      True\n",
       "Humidity9am      False\n",
       "Humidity3pm       True\n",
       "Pressure9am       True\n",
       "Pressure3pm       True\n",
       "Cloud9am         False\n",
       "Cloud3pm         False\n",
       "Temp9am          False\n",
       "Temp3pm           True\n",
       "RainToday        False\n",
       "RainTomorrow     False\n",
       "dtype: bool"
      ]
     },
     "execution_count": 5,
     "metadata": {},
     "output_type": "execute_result"
    }
   ],
   "source": [
    "df.isna().any()"
   ]
  },
  {
   "cell_type": "code",
   "execution_count": 6,
   "id": "cfd4aaf2",
   "metadata": {
    "execution": {
     "iopub.execute_input": "2023-02-24T08:42:29.075936Z",
     "iopub.status.busy": "2023-02-24T08:42:29.075516Z",
     "iopub.status.idle": "2023-02-24T08:42:29.145275Z",
     "shell.execute_reply": "2023-02-24T08:42:29.144098Z"
    },
    "papermill": {
     "duration": 0.081672,
     "end_time": "2023-02-24T08:42:29.148498",
     "exception": false,
     "start_time": "2023-02-24T08:42:29.066826",
     "status": "completed"
    },
    "tags": []
   },
   "outputs": [],
   "source": [
    "df = df.dropna()"
   ]
  },
  {
   "cell_type": "code",
   "execution_count": 7,
   "id": "714e14d2",
   "metadata": {
    "execution": {
     "iopub.execute_input": "2023-02-24T08:42:29.165021Z",
     "iopub.status.busy": "2023-02-24T08:42:29.164577Z",
     "iopub.status.idle": "2023-02-24T08:42:29.179105Z",
     "shell.execute_reply": "2023-02-24T08:42:29.178165Z"
    },
    "papermill": {
     "duration": 0.025516,
     "end_time": "2023-02-24T08:42:29.181349",
     "exception": false,
     "start_time": "2023-02-24T08:42:29.155833",
     "status": "completed"
    },
    "tags": []
   },
   "outputs": [
    {
     "data": {
      "text/plain": [
       "MinTemp          False\n",
       "MaxTemp          False\n",
       "Rainfall         False\n",
       "Evaporation      False\n",
       "Sunshine         False\n",
       "WindGustSpeed    False\n",
       "WindSpeed9am     False\n",
       "WindSpeed3pm     False\n",
       "Humidity9am      False\n",
       "Humidity3pm      False\n",
       "Pressure9am      False\n",
       "Pressure3pm      False\n",
       "Cloud9am         False\n",
       "Cloud3pm         False\n",
       "Temp9am          False\n",
       "Temp3pm          False\n",
       "RainToday        False\n",
       "RainTomorrow     False\n",
       "dtype: bool"
      ]
     },
     "execution_count": 7,
     "metadata": {},
     "output_type": "execute_result"
    }
   ],
   "source": [
    "df.isna().any()"
   ]
  },
  {
   "cell_type": "code",
   "execution_count": 8,
   "id": "e4fc27a6",
   "metadata": {
    "execution": {
     "iopub.execute_input": "2023-02-24T08:42:29.198490Z",
     "iopub.status.busy": "2023-02-24T08:42:29.197687Z",
     "iopub.status.idle": "2023-02-24T08:42:29.205203Z",
     "shell.execute_reply": "2023-02-24T08:42:29.203978Z"
    },
    "papermill": {
     "duration": 0.018991,
     "end_time": "2023-02-24T08:42:29.207800",
     "exception": false,
     "start_time": "2023-02-24T08:42:29.188809",
     "status": "completed"
    },
    "tags": []
   },
   "outputs": [
    {
     "data": {
      "text/plain": [
       "(349416, 18)"
      ]
     },
     "execution_count": 8,
     "metadata": {},
     "output_type": "execute_result"
    }
   ],
   "source": [
    "df.shape"
   ]
  },
  {
   "cell_type": "code",
   "execution_count": 9,
   "id": "586ef33e",
   "metadata": {
    "execution": {
     "iopub.execute_input": "2023-02-24T08:42:29.225448Z",
     "iopub.status.busy": "2023-02-24T08:42:29.224891Z",
     "iopub.status.idle": "2023-02-24T08:42:29.233556Z",
     "shell.execute_reply": "2023-02-24T08:42:29.232241Z"
    },
    "papermill": {
     "duration": 0.020574,
     "end_time": "2023-02-24T08:42:29.236052",
     "exception": false,
     "start_time": "2023-02-24T08:42:29.215478",
     "status": "completed"
    },
    "tags": []
   },
   "outputs": [
    {
     "data": {
      "text/plain": [
       "Index(['MinTemp', 'MaxTemp', 'Rainfall', 'Evaporation', 'Sunshine',\n",
       "       'WindGustSpeed', 'WindSpeed9am', 'WindSpeed3pm', 'Humidity9am',\n",
       "       'Humidity3pm', 'Pressure9am', 'Pressure3pm', 'Cloud9am', 'Cloud3pm',\n",
       "       'Temp9am', 'Temp3pm', 'RainToday', 'RainTomorrow'],\n",
       "      dtype='object')"
      ]
     },
     "execution_count": 9,
     "metadata": {},
     "output_type": "execute_result"
    }
   ],
   "source": [
    "df.columns"
   ]
  },
  {
   "cell_type": "code",
   "execution_count": 10,
   "id": "e2b7ef3d",
   "metadata": {
    "execution": {
     "iopub.execute_input": "2023-02-24T08:42:29.254167Z",
     "iopub.status.busy": "2023-02-24T08:42:29.253653Z",
     "iopub.status.idle": "2023-02-24T08:42:29.270418Z",
     "shell.execute_reply": "2023-02-24T08:42:29.269155Z"
    },
    "papermill": {
     "duration": 0.028993,
     "end_time": "2023-02-24T08:42:29.273173",
     "exception": false,
     "start_time": "2023-02-24T08:42:29.244180",
     "status": "completed"
    },
    "tags": []
   },
   "outputs": [
    {
     "data": {
      "text/plain": [
       "array([2, 1, 3])"
      ]
     },
     "execution_count": 10,
     "metadata": {},
     "output_type": "execute_result"
    }
   ],
   "source": [
    "df['RainTomorrow'].unique()"
   ]
  },
  {
   "cell_type": "code",
   "execution_count": 11,
   "id": "daa39065",
   "metadata": {
    "execution": {
     "iopub.execute_input": "2023-02-24T08:42:29.290941Z",
     "iopub.status.busy": "2023-02-24T08:42:29.290520Z",
     "iopub.status.idle": "2023-02-24T08:42:29.347916Z",
     "shell.execute_reply": "2023-02-24T08:42:29.346585Z"
    },
    "papermill": {
     "duration": 0.069496,
     "end_time": "2023-02-24T08:42:29.350839",
     "exception": false,
     "start_time": "2023-02-24T08:42:29.281343",
     "status": "completed"
    },
    "tags": []
   },
   "outputs": [],
   "source": [
    "string_var = {'RainTomorrow': {1:'Yes', 2:'No', 3:'Yes_No'}}\n",
    "\n",
    "df = df.replace(string_var)"
   ]
  },
  {
   "cell_type": "code",
   "execution_count": 12,
   "id": "ac284549",
   "metadata": {
    "execution": {
     "iopub.execute_input": "2023-02-24T08:42:29.368193Z",
     "iopub.status.busy": "2023-02-24T08:42:29.367762Z",
     "iopub.status.idle": "2023-02-24T08:42:29.373929Z",
     "shell.execute_reply": "2023-02-24T08:42:29.372782Z"
    },
    "papermill": {
     "duration": 0.017712,
     "end_time": "2023-02-24T08:42:29.376251",
     "exception": false,
     "start_time": "2023-02-24T08:42:29.358539",
     "status": "completed"
    },
    "tags": []
   },
   "outputs": [],
   "source": [
    "x_cols = ['MinTemp', 'MaxTemp', 'Rainfall', 'Evaporation', 'Sunshine',\n",
    "       'WindGustSpeed', 'WindSpeed9am', 'WindSpeed3pm', 'Humidity9am',\n",
    "       'Humidity3pm', 'Pressure9am', 'Pressure3pm', 'Cloud9am', 'Cloud3pm',\n",
    "       'Temp9am', 'Temp3pm', 'RainToday']"
   ]
  },
  {
   "cell_type": "code",
   "execution_count": 13,
   "id": "60a400a3",
   "metadata": {
    "execution": {
     "iopub.execute_input": "2023-02-24T08:42:29.393270Z",
     "iopub.status.busy": "2023-02-24T08:42:29.392868Z",
     "iopub.status.idle": "2023-02-24T08:42:29.417646Z",
     "shell.execute_reply": "2023-02-24T08:42:29.416497Z"
    },
    "papermill": {
     "duration": 0.036303,
     "end_time": "2023-02-24T08:42:29.420267",
     "exception": false,
     "start_time": "2023-02-24T08:42:29.383964",
     "status": "completed"
    },
    "tags": []
   },
   "outputs": [],
   "source": [
    "x = df[x_cols]\n",
    "\n",
    "y = df[['RainTomorrow']]"
   ]
  },
  {
   "cell_type": "code",
   "execution_count": 14,
   "id": "59493df8",
   "metadata": {
    "execution": {
     "iopub.execute_input": "2023-02-24T08:42:29.437572Z",
     "iopub.status.busy": "2023-02-24T08:42:29.437152Z",
     "iopub.status.idle": "2023-02-24T08:42:29.471644Z",
     "shell.execute_reply": "2023-02-24T08:42:29.470675Z"
    },
    "papermill": {
     "duration": 0.046248,
     "end_time": "2023-02-24T08:42:29.474260",
     "exception": false,
     "start_time": "2023-02-24T08:42:29.428012",
     "status": "completed"
    },
    "tags": []
   },
   "outputs": [
    {
     "data": {
      "text/html": [
       "<div>\n",
       "<style scoped>\n",
       "    .dataframe tbody tr th:only-of-type {\n",
       "        vertical-align: middle;\n",
       "    }\n",
       "\n",
       "    .dataframe tbody tr th {\n",
       "        vertical-align: top;\n",
       "    }\n",
       "\n",
       "    .dataframe thead th {\n",
       "        text-align: right;\n",
       "    }\n",
       "</style>\n",
       "<table border=\"1\" class=\"dataframe\">\n",
       "  <thead>\n",
       "    <tr style=\"text-align: right;\">\n",
       "      <th></th>\n",
       "      <th>MinTemp</th>\n",
       "      <th>MaxTemp</th>\n",
       "      <th>Rainfall</th>\n",
       "      <th>Evaporation</th>\n",
       "      <th>Sunshine</th>\n",
       "      <th>WindGustSpeed</th>\n",
       "      <th>WindSpeed9am</th>\n",
       "      <th>WindSpeed3pm</th>\n",
       "      <th>Humidity9am</th>\n",
       "      <th>Humidity3pm</th>\n",
       "      <th>Pressure9am</th>\n",
       "      <th>Pressure3pm</th>\n",
       "      <th>Cloud9am</th>\n",
       "      <th>Cloud3pm</th>\n",
       "      <th>Temp9am</th>\n",
       "      <th>Temp3pm</th>\n",
       "      <th>RainToday</th>\n",
       "    </tr>\n",
       "  </thead>\n",
       "  <tbody>\n",
       "    <tr>\n",
       "      <th>0</th>\n",
       "      <td>17.9</td>\n",
       "      <td>35.2</td>\n",
       "      <td>0.0</td>\n",
       "      <td>12.0</td>\n",
       "      <td>12.3</td>\n",
       "      <td>48</td>\n",
       "      <td>6.0</td>\n",
       "      <td>20.0</td>\n",
       "      <td>20</td>\n",
       "      <td>13.0</td>\n",
       "      <td>1006.3</td>\n",
       "      <td>1004.4</td>\n",
       "      <td>2</td>\n",
       "      <td>5</td>\n",
       "      <td>26.6</td>\n",
       "      <td>33.4</td>\n",
       "      <td>2</td>\n",
       "    </tr>\n",
       "    <tr>\n",
       "      <th>1</th>\n",
       "      <td>17.9</td>\n",
       "      <td>35.2</td>\n",
       "      <td>0.0</td>\n",
       "      <td>12.0</td>\n",
       "      <td>12.3</td>\n",
       "      <td>48</td>\n",
       "      <td>6.0</td>\n",
       "      <td>20.0</td>\n",
       "      <td>20</td>\n",
       "      <td>13.0</td>\n",
       "      <td>1006.3</td>\n",
       "      <td>1004.4</td>\n",
       "      <td>2</td>\n",
       "      <td>5</td>\n",
       "      <td>26.6</td>\n",
       "      <td>33.4</td>\n",
       "      <td>2</td>\n",
       "    </tr>\n",
       "    <tr>\n",
       "      <th>2</th>\n",
       "      <td>17.9</td>\n",
       "      <td>35.2</td>\n",
       "      <td>0.0</td>\n",
       "      <td>12.0</td>\n",
       "      <td>12.3</td>\n",
       "      <td>48</td>\n",
       "      <td>6.0</td>\n",
       "      <td>20.0</td>\n",
       "      <td>20</td>\n",
       "      <td>13.0</td>\n",
       "      <td>1006.3</td>\n",
       "      <td>1004.4</td>\n",
       "      <td>2</td>\n",
       "      <td>5</td>\n",
       "      <td>26.6</td>\n",
       "      <td>33.4</td>\n",
       "      <td>2</td>\n",
       "    </tr>\n",
       "    <tr>\n",
       "      <th>3</th>\n",
       "      <td>17.9</td>\n",
       "      <td>35.2</td>\n",
       "      <td>0.0</td>\n",
       "      <td>12.0</td>\n",
       "      <td>12.3</td>\n",
       "      <td>48</td>\n",
       "      <td>6.0</td>\n",
       "      <td>20.0</td>\n",
       "      <td>20</td>\n",
       "      <td>13.0</td>\n",
       "      <td>1006.3</td>\n",
       "      <td>1004.4</td>\n",
       "      <td>2</td>\n",
       "      <td>5</td>\n",
       "      <td>26.6</td>\n",
       "      <td>33.4</td>\n",
       "      <td>2</td>\n",
       "    </tr>\n",
       "    <tr>\n",
       "      <th>4</th>\n",
       "      <td>17.9</td>\n",
       "      <td>35.2</td>\n",
       "      <td>0.0</td>\n",
       "      <td>12.0</td>\n",
       "      <td>12.3</td>\n",
       "      <td>48</td>\n",
       "      <td>6.0</td>\n",
       "      <td>20.0</td>\n",
       "      <td>20</td>\n",
       "      <td>13.0</td>\n",
       "      <td>1006.3</td>\n",
       "      <td>1004.4</td>\n",
       "      <td>2</td>\n",
       "      <td>5</td>\n",
       "      <td>26.6</td>\n",
       "      <td>33.4</td>\n",
       "      <td>2</td>\n",
       "    </tr>\n",
       "    <tr>\n",
       "      <th>...</th>\n",
       "      <td>...</td>\n",
       "      <td>...</td>\n",
       "      <td>...</td>\n",
       "      <td>...</td>\n",
       "      <td>...</td>\n",
       "      <td>...</td>\n",
       "      <td>...</td>\n",
       "      <td>...</td>\n",
       "      <td>...</td>\n",
       "      <td>...</td>\n",
       "      <td>...</td>\n",
       "      <td>...</td>\n",
       "      <td>...</td>\n",
       "      <td>...</td>\n",
       "      <td>...</td>\n",
       "      <td>...</td>\n",
       "      <td>...</td>\n",
       "    </tr>\n",
       "    <tr>\n",
       "      <th>351582</th>\n",
       "      <td>20.2</td>\n",
       "      <td>31.7</td>\n",
       "      <td>0.0</td>\n",
       "      <td>5.6</td>\n",
       "      <td>10.7</td>\n",
       "      <td>30</td>\n",
       "      <td>15.0</td>\n",
       "      <td>7.0</td>\n",
       "      <td>73</td>\n",
       "      <td>32.0</td>\n",
       "      <td>1013.9</td>\n",
       "      <td>1009.7</td>\n",
       "      <td>6</td>\n",
       "      <td>5</td>\n",
       "      <td>25.4</td>\n",
       "      <td>31.0</td>\n",
       "      <td>2</td>\n",
       "    </tr>\n",
       "    <tr>\n",
       "      <th>351583</th>\n",
       "      <td>20.2</td>\n",
       "      <td>31.7</td>\n",
       "      <td>0.0</td>\n",
       "      <td>5.6</td>\n",
       "      <td>10.7</td>\n",
       "      <td>30</td>\n",
       "      <td>15.0</td>\n",
       "      <td>7.0</td>\n",
       "      <td>73</td>\n",
       "      <td>32.0</td>\n",
       "      <td>1013.9</td>\n",
       "      <td>1009.7</td>\n",
       "      <td>6</td>\n",
       "      <td>5</td>\n",
       "      <td>25.4</td>\n",
       "      <td>31.0</td>\n",
       "      <td>2</td>\n",
       "    </tr>\n",
       "    <tr>\n",
       "      <th>351584</th>\n",
       "      <td>20.2</td>\n",
       "      <td>31.7</td>\n",
       "      <td>0.0</td>\n",
       "      <td>5.6</td>\n",
       "      <td>10.7</td>\n",
       "      <td>30</td>\n",
       "      <td>15.0</td>\n",
       "      <td>7.0</td>\n",
       "      <td>73</td>\n",
       "      <td>32.0</td>\n",
       "      <td>1013.9</td>\n",
       "      <td>1009.7</td>\n",
       "      <td>6</td>\n",
       "      <td>5</td>\n",
       "      <td>25.4</td>\n",
       "      <td>31.0</td>\n",
       "      <td>2</td>\n",
       "    </tr>\n",
       "    <tr>\n",
       "      <th>351585</th>\n",
       "      <td>20.2</td>\n",
       "      <td>31.7</td>\n",
       "      <td>0.0</td>\n",
       "      <td>5.6</td>\n",
       "      <td>10.7</td>\n",
       "      <td>30</td>\n",
       "      <td>15.0</td>\n",
       "      <td>7.0</td>\n",
       "      <td>73</td>\n",
       "      <td>32.0</td>\n",
       "      <td>1013.9</td>\n",
       "      <td>1009.7</td>\n",
       "      <td>6</td>\n",
       "      <td>5</td>\n",
       "      <td>25.4</td>\n",
       "      <td>31.0</td>\n",
       "      <td>2</td>\n",
       "    </tr>\n",
       "    <tr>\n",
       "      <th>351586</th>\n",
       "      <td>20.2</td>\n",
       "      <td>31.7</td>\n",
       "      <td>0.0</td>\n",
       "      <td>5.6</td>\n",
       "      <td>10.7</td>\n",
       "      <td>30</td>\n",
       "      <td>15.0</td>\n",
       "      <td>7.0</td>\n",
       "      <td>73</td>\n",
       "      <td>32.0</td>\n",
       "      <td>1013.9</td>\n",
       "      <td>1009.7</td>\n",
       "      <td>6</td>\n",
       "      <td>5</td>\n",
       "      <td>25.4</td>\n",
       "      <td>31.0</td>\n",
       "      <td>2</td>\n",
       "    </tr>\n",
       "  </tbody>\n",
       "</table>\n",
       "<p>349416 rows × 17 columns</p>\n",
       "</div>"
      ],
      "text/plain": [
       "        MinTemp  MaxTemp  Rainfall  Evaporation  Sunshine  WindGustSpeed  \\\n",
       "0          17.9     35.2       0.0         12.0      12.3             48   \n",
       "1          17.9     35.2       0.0         12.0      12.3             48   \n",
       "2          17.9     35.2       0.0         12.0      12.3             48   \n",
       "3          17.9     35.2       0.0         12.0      12.3             48   \n",
       "4          17.9     35.2       0.0         12.0      12.3             48   \n",
       "...         ...      ...       ...          ...       ...            ...   \n",
       "351582     20.2     31.7       0.0          5.6      10.7             30   \n",
       "351583     20.2     31.7       0.0          5.6      10.7             30   \n",
       "351584     20.2     31.7       0.0          5.6      10.7             30   \n",
       "351585     20.2     31.7       0.0          5.6      10.7             30   \n",
       "351586     20.2     31.7       0.0          5.6      10.7             30   \n",
       "\n",
       "        WindSpeed9am  WindSpeed3pm  Humidity9am  Humidity3pm  Pressure9am  \\\n",
       "0                6.0          20.0           20         13.0       1006.3   \n",
       "1                6.0          20.0           20         13.0       1006.3   \n",
       "2                6.0          20.0           20         13.0       1006.3   \n",
       "3                6.0          20.0           20         13.0       1006.3   \n",
       "4                6.0          20.0           20         13.0       1006.3   \n",
       "...              ...           ...          ...          ...          ...   \n",
       "351582          15.0           7.0           73         32.0       1013.9   \n",
       "351583          15.0           7.0           73         32.0       1013.9   \n",
       "351584          15.0           7.0           73         32.0       1013.9   \n",
       "351585          15.0           7.0           73         32.0       1013.9   \n",
       "351586          15.0           7.0           73         32.0       1013.9   \n",
       "\n",
       "        Pressure3pm  Cloud9am  Cloud3pm  Temp9am  Temp3pm  RainToday  \n",
       "0            1004.4         2         5     26.6     33.4          2  \n",
       "1            1004.4         2         5     26.6     33.4          2  \n",
       "2            1004.4         2         5     26.6     33.4          2  \n",
       "3            1004.4         2         5     26.6     33.4          2  \n",
       "4            1004.4         2         5     26.6     33.4          2  \n",
       "...             ...       ...       ...      ...      ...        ...  \n",
       "351582       1009.7         6         5     25.4     31.0          2  \n",
       "351583       1009.7         6         5     25.4     31.0          2  \n",
       "351584       1009.7         6         5     25.4     31.0          2  \n",
       "351585       1009.7         6         5     25.4     31.0          2  \n",
       "351586       1009.7         6         5     25.4     31.0          2  \n",
       "\n",
       "[349416 rows x 17 columns]"
      ]
     },
     "execution_count": 14,
     "metadata": {},
     "output_type": "execute_result"
    }
   ],
   "source": [
    "x"
   ]
  },
  {
   "cell_type": "code",
   "execution_count": 15,
   "id": "be8c3e4c",
   "metadata": {
    "execution": {
     "iopub.execute_input": "2023-02-24T08:42:29.492111Z",
     "iopub.status.busy": "2023-02-24T08:42:29.491715Z",
     "iopub.status.idle": "2023-02-24T08:42:29.590908Z",
     "shell.execute_reply": "2023-02-24T08:42:29.589586Z"
    },
    "papermill": {
     "duration": 0.111438,
     "end_time": "2023-02-24T08:42:29.593952",
     "exception": false,
     "start_time": "2023-02-24T08:42:29.482514",
     "status": "completed"
    },
    "tags": []
   },
   "outputs": [],
   "source": [
    "scaler = MinMaxScaler().fit(x)\n",
    "\n",
    "x = scaler.transform(x)"
   ]
  },
  {
   "cell_type": "code",
   "execution_count": 16,
   "id": "a6524c85",
   "metadata": {
    "execution": {
     "iopub.execute_input": "2023-02-24T08:42:29.612337Z",
     "iopub.status.busy": "2023-02-24T08:42:29.611867Z",
     "iopub.status.idle": "2023-02-24T08:42:29.620808Z",
     "shell.execute_reply": "2023-02-24T08:42:29.619480Z"
    },
    "papermill": {
     "duration": 0.021553,
     "end_time": "2023-02-24T08:42:29.623760",
     "exception": false,
     "start_time": "2023-02-24T08:42:29.602207",
     "status": "completed"
    },
    "tags": []
   },
   "outputs": [
    {
     "data": {
      "text/plain": [
       "array([[0.64566929, 0.70681818, 0.        , ..., 0.68238213, 0.7004717 ,\n",
       "        1.        ],\n",
       "       [0.64566929, 0.70681818, 0.        , ..., 0.68238213, 0.7004717 ,\n",
       "        1.        ],\n",
       "       [0.64566929, 0.70681818, 0.        , ..., 0.68238213, 0.7004717 ,\n",
       "        1.        ],\n",
       "       ...,\n",
       "       [0.70603675, 0.62727273, 0.        , ..., 0.65260546, 0.64386792,\n",
       "        1.        ],\n",
       "       [0.70603675, 0.62727273, 0.        , ..., 0.65260546, 0.64386792,\n",
       "        1.        ],\n",
       "       [0.70603675, 0.62727273, 0.        , ..., 0.65260546, 0.64386792,\n",
       "        1.        ]])"
      ]
     },
     "execution_count": 16,
     "metadata": {},
     "output_type": "execute_result"
    }
   ],
   "source": [
    "x"
   ]
  },
  {
   "cell_type": "code",
   "execution_count": 17,
   "id": "d007aff4",
   "metadata": {
    "execution": {
     "iopub.execute_input": "2023-02-24T08:42:29.642702Z",
     "iopub.status.busy": "2023-02-24T08:42:29.642237Z",
     "iopub.status.idle": "2023-02-24T08:42:29.654979Z",
     "shell.execute_reply": "2023-02-24T08:42:29.654083Z"
    },
    "papermill": {
     "duration": 0.024682,
     "end_time": "2023-02-24T08:42:29.657360",
     "exception": false,
     "start_time": "2023-02-24T08:42:29.632678",
     "status": "completed"
    },
    "tags": []
   },
   "outputs": [
    {
     "data": {
      "text/html": [
       "<div>\n",
       "<style scoped>\n",
       "    .dataframe tbody tr th:only-of-type {\n",
       "        vertical-align: middle;\n",
       "    }\n",
       "\n",
       "    .dataframe tbody tr th {\n",
       "        vertical-align: top;\n",
       "    }\n",
       "\n",
       "    .dataframe thead th {\n",
       "        text-align: right;\n",
       "    }\n",
       "</style>\n",
       "<table border=\"1\" class=\"dataframe\">\n",
       "  <thead>\n",
       "    <tr style=\"text-align: right;\">\n",
       "      <th></th>\n",
       "      <th>RainTomorrow</th>\n",
       "    </tr>\n",
       "  </thead>\n",
       "  <tbody>\n",
       "    <tr>\n",
       "      <th>0</th>\n",
       "      <td>No</td>\n",
       "    </tr>\n",
       "    <tr>\n",
       "      <th>1</th>\n",
       "      <td>No</td>\n",
       "    </tr>\n",
       "    <tr>\n",
       "      <th>2</th>\n",
       "      <td>No</td>\n",
       "    </tr>\n",
       "    <tr>\n",
       "      <th>3</th>\n",
       "      <td>No</td>\n",
       "    </tr>\n",
       "    <tr>\n",
       "      <th>4</th>\n",
       "      <td>No</td>\n",
       "    </tr>\n",
       "    <tr>\n",
       "      <th>...</th>\n",
       "      <td>...</td>\n",
       "    </tr>\n",
       "    <tr>\n",
       "      <th>351582</th>\n",
       "      <td>No</td>\n",
       "    </tr>\n",
       "    <tr>\n",
       "      <th>351583</th>\n",
       "      <td>No</td>\n",
       "    </tr>\n",
       "    <tr>\n",
       "      <th>351584</th>\n",
       "      <td>No</td>\n",
       "    </tr>\n",
       "    <tr>\n",
       "      <th>351585</th>\n",
       "      <td>No</td>\n",
       "    </tr>\n",
       "    <tr>\n",
       "      <th>351586</th>\n",
       "      <td>No</td>\n",
       "    </tr>\n",
       "  </tbody>\n",
       "</table>\n",
       "<p>349416 rows × 1 columns</p>\n",
       "</div>"
      ],
      "text/plain": [
       "       RainTomorrow\n",
       "0                No\n",
       "1                No\n",
       "2                No\n",
       "3                No\n",
       "4                No\n",
       "...             ...\n",
       "351582           No\n",
       "351583           No\n",
       "351584           No\n",
       "351585           No\n",
       "351586           No\n",
       "\n",
       "[349416 rows x 1 columns]"
      ]
     },
     "execution_count": 17,
     "metadata": {},
     "output_type": "execute_result"
    }
   ],
   "source": [
    "y"
   ]
  },
  {
   "cell_type": "code",
   "execution_count": 18,
   "id": "2e5e2a7f",
   "metadata": {
    "execution": {
     "iopub.execute_input": "2023-02-24T08:42:29.677203Z",
     "iopub.status.busy": "2023-02-24T08:42:29.675929Z",
     "iopub.status.idle": "2023-02-24T08:42:29.680948Z",
     "shell.execute_reply": "2023-02-24T08:42:29.679741Z"
    },
    "papermill": {
     "duration": 0.017664,
     "end_time": "2023-02-24T08:42:29.683607",
     "exception": false,
     "start_time": "2023-02-24T08:42:29.665943",
     "status": "completed"
    },
    "tags": []
   },
   "outputs": [],
   "source": [
    "#y_ = y.toarray()"
   ]
  },
  {
   "cell_type": "code",
   "execution_count": 19,
   "id": "6e540a5f",
   "metadata": {
    "execution": {
     "iopub.execute_input": "2023-02-24T08:42:29.702512Z",
     "iopub.status.busy": "2023-02-24T08:42:29.702016Z",
     "iopub.status.idle": "2023-02-24T08:42:29.823164Z",
     "shell.execute_reply": "2023-02-24T08:42:29.821717Z"
    },
    "papermill": {
     "duration": 0.134016,
     "end_time": "2023-02-24T08:42:29.826141",
     "exception": false,
     "start_time": "2023-02-24T08:42:29.692125",
     "status": "completed"
    },
    "tags": []
   },
   "outputs": [],
   "source": [
    "encoder = OneHotEncoder(handle_unknown='ignore', sparse=False).fit(y)\n",
    "\n",
    "y = encoder.transform(y)"
   ]
  },
  {
   "cell_type": "code",
   "execution_count": 20,
   "id": "fadbafb3",
   "metadata": {
    "execution": {
     "iopub.execute_input": "2023-02-24T08:42:29.844825Z",
     "iopub.status.busy": "2023-02-24T08:42:29.844365Z",
     "iopub.status.idle": "2023-02-24T08:42:29.853302Z",
     "shell.execute_reply": "2023-02-24T08:42:29.851800Z"
    },
    "papermill": {
     "duration": 0.021662,
     "end_time": "2023-02-24T08:42:29.856130",
     "exception": false,
     "start_time": "2023-02-24T08:42:29.834468",
     "status": "completed"
    },
    "tags": []
   },
   "outputs": [
    {
     "data": {
      "text/plain": [
       "array([[1., 0., 0.],\n",
       "       [1., 0., 0.],\n",
       "       [1., 0., 0.],\n",
       "       ...,\n",
       "       [1., 0., 0.],\n",
       "       [1., 0., 0.],\n",
       "       [1., 0., 0.]])"
      ]
     },
     "execution_count": 20,
     "metadata": {},
     "output_type": "execute_result"
    }
   ],
   "source": [
    "y"
   ]
  },
  {
   "cell_type": "code",
   "execution_count": 21,
   "id": "86505c52",
   "metadata": {
    "execution": {
     "iopub.execute_input": "2023-02-24T08:42:29.875726Z",
     "iopub.status.busy": "2023-02-24T08:42:29.875278Z",
     "iopub.status.idle": "2023-02-24T08:42:29.881543Z",
     "shell.execute_reply": "2023-02-24T08:42:29.880213Z"
    },
    "papermill": {
     "duration": 0.019119,
     "end_time": "2023-02-24T08:42:29.884119",
     "exception": false,
     "start_time": "2023-02-24T08:42:29.865000",
     "status": "completed"
    },
    "tags": []
   },
   "outputs": [],
   "source": [
    "x_ = pd.DataFrame(x)"
   ]
  },
  {
   "cell_type": "code",
   "execution_count": 22,
   "id": "da11f26b",
   "metadata": {
    "execution": {
     "iopub.execute_input": "2023-02-24T08:42:29.905162Z",
     "iopub.status.busy": "2023-02-24T08:42:29.904711Z",
     "iopub.status.idle": "2023-02-24T08:42:29.957351Z",
     "shell.execute_reply": "2023-02-24T08:42:29.956049Z"
    },
    "papermill": {
     "duration": 0.066455,
     "end_time": "2023-02-24T08:42:29.960282",
     "exception": false,
     "start_time": "2023-02-24T08:42:29.893827",
     "status": "completed"
    },
    "tags": []
   },
   "outputs": [],
   "source": [
    "X = torch.tensor(x_.values, dtype=torch.float32)"
   ]
  },
  {
   "cell_type": "code",
   "execution_count": 23,
   "id": "74eac02e",
   "metadata": {
    "execution": {
     "iopub.execute_input": "2023-02-24T08:42:29.979905Z",
     "iopub.status.busy": "2023-02-24T08:42:29.979513Z",
     "iopub.status.idle": "2023-02-24T08:42:29.984779Z",
     "shell.execute_reply": "2023-02-24T08:42:29.983624Z"
    },
    "papermill": {
     "duration": 0.018374,
     "end_time": "2023-02-24T08:42:29.987331",
     "exception": false,
     "start_time": "2023-02-24T08:42:29.968957",
     "status": "completed"
    },
    "tags": []
   },
   "outputs": [],
   "source": [
    "y_ = pd.DataFrame(y)"
   ]
  },
  {
   "cell_type": "code",
   "execution_count": 24,
   "id": "b147cddd",
   "metadata": {
    "execution": {
     "iopub.execute_input": "2023-02-24T08:42:30.006390Z",
     "iopub.status.busy": "2023-02-24T08:42:30.005975Z",
     "iopub.status.idle": "2023-02-24T08:42:30.023781Z",
     "shell.execute_reply": "2023-02-24T08:42:30.022477Z"
    },
    "papermill": {
     "duration": 0.030408,
     "end_time": "2023-02-24T08:42:30.026471",
     "exception": false,
     "start_time": "2023-02-24T08:42:29.996063",
     "status": "completed"
    },
    "tags": []
   },
   "outputs": [
    {
     "data": {
      "text/html": [
       "<div>\n",
       "<style scoped>\n",
       "    .dataframe tbody tr th:only-of-type {\n",
       "        vertical-align: middle;\n",
       "    }\n",
       "\n",
       "    .dataframe tbody tr th {\n",
       "        vertical-align: top;\n",
       "    }\n",
       "\n",
       "    .dataframe thead th {\n",
       "        text-align: right;\n",
       "    }\n",
       "</style>\n",
       "<table border=\"1\" class=\"dataframe\">\n",
       "  <thead>\n",
       "    <tr style=\"text-align: right;\">\n",
       "      <th></th>\n",
       "      <th>0</th>\n",
       "      <th>1</th>\n",
       "      <th>2</th>\n",
       "    </tr>\n",
       "  </thead>\n",
       "  <tbody>\n",
       "    <tr>\n",
       "      <th>0</th>\n",
       "      <td>1.0</td>\n",
       "      <td>0.0</td>\n",
       "      <td>0.0</td>\n",
       "    </tr>\n",
       "    <tr>\n",
       "      <th>1</th>\n",
       "      <td>1.0</td>\n",
       "      <td>0.0</td>\n",
       "      <td>0.0</td>\n",
       "    </tr>\n",
       "    <tr>\n",
       "      <th>2</th>\n",
       "      <td>1.0</td>\n",
       "      <td>0.0</td>\n",
       "      <td>0.0</td>\n",
       "    </tr>\n",
       "    <tr>\n",
       "      <th>3</th>\n",
       "      <td>1.0</td>\n",
       "      <td>0.0</td>\n",
       "      <td>0.0</td>\n",
       "    </tr>\n",
       "    <tr>\n",
       "      <th>4</th>\n",
       "      <td>1.0</td>\n",
       "      <td>0.0</td>\n",
       "      <td>0.0</td>\n",
       "    </tr>\n",
       "    <tr>\n",
       "      <th>...</th>\n",
       "      <td>...</td>\n",
       "      <td>...</td>\n",
       "      <td>...</td>\n",
       "    </tr>\n",
       "    <tr>\n",
       "      <th>349411</th>\n",
       "      <td>1.0</td>\n",
       "      <td>0.0</td>\n",
       "      <td>0.0</td>\n",
       "    </tr>\n",
       "    <tr>\n",
       "      <th>349412</th>\n",
       "      <td>1.0</td>\n",
       "      <td>0.0</td>\n",
       "      <td>0.0</td>\n",
       "    </tr>\n",
       "    <tr>\n",
       "      <th>349413</th>\n",
       "      <td>1.0</td>\n",
       "      <td>0.0</td>\n",
       "      <td>0.0</td>\n",
       "    </tr>\n",
       "    <tr>\n",
       "      <th>349414</th>\n",
       "      <td>1.0</td>\n",
       "      <td>0.0</td>\n",
       "      <td>0.0</td>\n",
       "    </tr>\n",
       "    <tr>\n",
       "      <th>349415</th>\n",
       "      <td>1.0</td>\n",
       "      <td>0.0</td>\n",
       "      <td>0.0</td>\n",
       "    </tr>\n",
       "  </tbody>\n",
       "</table>\n",
       "<p>349416 rows × 3 columns</p>\n",
       "</div>"
      ],
      "text/plain": [
       "          0    1    2\n",
       "0       1.0  0.0  0.0\n",
       "1       1.0  0.0  0.0\n",
       "2       1.0  0.0  0.0\n",
       "3       1.0  0.0  0.0\n",
       "4       1.0  0.0  0.0\n",
       "...     ...  ...  ...\n",
       "349411  1.0  0.0  0.0\n",
       "349412  1.0  0.0  0.0\n",
       "349413  1.0  0.0  0.0\n",
       "349414  1.0  0.0  0.0\n",
       "349415  1.0  0.0  0.0\n",
       "\n",
       "[349416 rows x 3 columns]"
      ]
     },
     "execution_count": 24,
     "metadata": {},
     "output_type": "execute_result"
    }
   ],
   "source": [
    "y_"
   ]
  },
  {
   "cell_type": "code",
   "execution_count": 25,
   "id": "22e925e9",
   "metadata": {
    "execution": {
     "iopub.execute_input": "2023-02-24T08:42:30.046484Z",
     "iopub.status.busy": "2023-02-24T08:42:30.046069Z",
     "iopub.status.idle": "2023-02-24T08:42:30.051955Z",
     "shell.execute_reply": "2023-02-24T08:42:30.050741Z"
    },
    "papermill": {
     "duration": 0.019097,
     "end_time": "2023-02-24T08:42:30.054823",
     "exception": false,
     "start_time": "2023-02-24T08:42:30.035726",
     "status": "completed"
    },
    "tags": []
   },
   "outputs": [],
   "source": [
    "y = torch.tensor(y, dtype=torch.float32)"
   ]
  },
  {
   "cell_type": "code",
   "execution_count": null,
   "id": "ea344529",
   "metadata": {
    "papermill": {
     "duration": 0.009454,
     "end_time": "2023-02-24T08:42:30.072941",
     "exception": false,
     "start_time": "2023-02-24T08:42:30.063487",
     "status": "completed"
    },
    "tags": []
   },
   "outputs": [],
   "source": []
  }
 ],
 "metadata": {
  "kernelspec": {
   "display_name": "Python 3",
   "language": "python",
   "name": "python3"
  },
  "language_info": {
   "codemirror_mode": {
    "name": "ipython",
    "version": 3
   },
   "file_extension": ".py",
   "mimetype": "text/x-python",
   "name": "python",
   "nbconvert_exporter": "python",
   "pygments_lexer": "ipython3",
   "version": "3.7.12"
  },
  "papermill": {
   "default_parameters": {},
   "duration": 14.614533,
   "end_time": "2023-02-24T08:42:31.004999",
   "environment_variables": {},
   "exception": null,
   "input_path": "__notebook__.ipynb",
   "output_path": "__notebook__.ipynb",
   "parameters": {},
   "start_time": "2023-02-24T08:42:16.390466",
   "version": "2.3.4"
  }
 },
 "nbformat": 4,
 "nbformat_minor": 5
}
