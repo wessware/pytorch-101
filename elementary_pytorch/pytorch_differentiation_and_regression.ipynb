{
  "nbformat": 4,
  "nbformat_minor": 0,
  "metadata": {
    "colab": {
      "provenance": [],
      "authorship_tag": "ABX9TyMPc4PppWfRFyzxyTYvcb9I",
      "include_colab_link": true
    },
    "kernelspec": {
      "name": "python3",
      "display_name": "Python 3"
    },
    "language_info": {
      "name": "python"
    }
  },
  "cells": [
    {
      "cell_type": "markdown",
      "metadata": {
        "id": "view-in-github",
        "colab_type": "text"
      },
      "source": [
        "<a href=\"https://colab.research.google.com/github/wessware/pytorch-101/blob/main/pytorch_differentiation_and_regression.ipynb\" target=\"_parent\"><img src=\"https://colab.research.google.com/assets/colab-badge.svg\" alt=\"Open In Colab\"/></a>"
      ]
    },
    {
      "cell_type": "code",
      "execution_count": 41,
      "metadata": {
        "id": "sOe3wHHDhav-"
      },
      "outputs": [],
      "source": [
        "import torch\n",
        "\n",
        "import numpy as np"
      ]
    },
    {
      "cell_type": "code",
      "source": [
        "a = torch.tensor([1,2,3])"
      ],
      "metadata": {
        "id": "bNKhoSiMh5TY"
      },
      "execution_count": 42,
      "outputs": []
    },
    {
      "cell_type": "code",
      "source": [
        "a"
      ],
      "metadata": {
        "colab": {
          "base_uri": "https://localhost:8080/"
        },
        "id": "CX-4_272iHde",
        "outputId": "b2937ecd-5868-4110-a0ae-929bcdefbd61"
      },
      "execution_count": 43,
      "outputs": [
        {
          "output_type": "execute_result",
          "data": {
            "text/plain": [
              "tensor([1, 2, 3])"
            ]
          },
          "metadata": {},
          "execution_count": 43
        }
      ]
    },
    {
      "cell_type": "code",
      "source": [
        "a.shape"
      ],
      "metadata": {
        "colab": {
          "base_uri": "https://localhost:8080/"
        },
        "id": "fd-BUnwfiMgV",
        "outputId": "77378d24-e8fa-443d-e5ef-e9007e5f7813"
      },
      "execution_count": 44,
      "outputs": [
        {
          "output_type": "execute_result",
          "data": {
            "text/plain": [
              "torch.Size([3])"
            ]
          },
          "metadata": {},
          "execution_count": 44
        }
      ]
    },
    {
      "cell_type": "code",
      "source": [
        "a.dtype"
      ],
      "metadata": {
        "colab": {
          "base_uri": "https://localhost:8080/"
        },
        "id": "7eGACuu5iPWK",
        "outputId": "65b1fe47-539c-4c6a-a67d-50e4c0eeae9c"
      },
      "execution_count": 45,
      "outputs": [
        {
          "output_type": "execute_result",
          "data": {
            "text/plain": [
              "torch.int64"
            ]
          },
          "metadata": {},
          "execution_count": 45
        }
      ]
    },
    {
      "cell_type": "code",
      "source": [
        "b = torch.tensor([2., 3. ,4.], requires_grad=True)"
      ],
      "metadata": {
        "id": "-VPDte9JiSyJ"
      },
      "execution_count": 46,
      "outputs": []
    },
    {
      "cell_type": "code",
      "source": [
        "c = torch.tensor([3.6], requires_grad=True)\n",
        "\n",
        "d = c * c\n",
        "d.backward()"
      ],
      "metadata": {
        "id": "Juvdaxz3iuyX"
      },
      "execution_count": 47,
      "outputs": []
    },
    {
      "cell_type": "code",
      "source": [
        "print(c.grad)"
      ],
      "metadata": {
        "colab": {
          "base_uri": "https://localhost:8080/"
        },
        "id": "UYKK317mjbeA",
        "outputId": "0f4b3f42-c36f-4ae0-c229-4f20d4ad1f52"
      },
      "execution_count": 48,
      "outputs": [
        {
          "output_type": "stream",
          "name": "stdout",
          "text": [
            "tensor([7.2000])\n"
          ]
        }
      ]
    },
    {
      "cell_type": "markdown",
      "source": [
        "AutoGrad for Polynomial Regression"
      ],
      "metadata": {
        "id": "o3-ZFd2XkbqU"
      }
    },
    {
      "cell_type": "code",
      "source": [
        "pol = np.poly1d([2, 3, 5])"
      ],
      "metadata": {
        "id": "bYX8qSbDkiw4"
      },
      "execution_count": 49,
      "outputs": []
    },
    {
      "cell_type": "code",
      "source": [
        "print(pol)"
      ],
      "metadata": {
        "colab": {
          "base_uri": "https://localhost:8080/"
        },
        "id": "6zf9D7Imk26B",
        "outputId": "f65dc362-8b10-48f7-97a6-694b7db503f8"
      },
      "execution_count": 50,
      "outputs": [
        {
          "output_type": "stream",
          "name": "stdout",
          "text": [
            "   2\n",
            "2 x + 3 x + 5\n"
          ]
        }
      ]
    },
    {
      "cell_type": "code",
      "source": [
        "pol(2.8)"
      ],
      "metadata": {
        "colab": {
          "base_uri": "https://localhost:8080/"
        },
        "id": "6imJKpJJk5x7",
        "outputId": "a7fea0be-bb6a-42b3-849b-664f36cdc4e6"
      },
      "execution_count": 51,
      "outputs": [
        {
          "output_type": "execute_result",
          "data": {
            "text/plain": [
              "29.08"
            ]
          },
          "metadata": {},
          "execution_count": 51
        }
      ]
    },
    {
      "cell_type": "code",
      "source": [
        "d = 36\n",
        "\n",
        "x = np.random.randn(d, 1) * 5\n",
        "y = pol(x)"
      ],
      "metadata": {
        "id": "zpac7E44lOfa"
      },
      "execution_count": 52,
      "outputs": []
    },
    {
      "cell_type": "code",
      "source": [
        "x"
      ],
      "metadata": {
        "colab": {
          "base_uri": "https://localhost:8080/"
        },
        "id": "eAMB5wB-mRk6",
        "outputId": "5be00e6d-2d69-40de-df75-3599517303b2"
      },
      "execution_count": 53,
      "outputs": [
        {
          "output_type": "execute_result",
          "data": {
            "text/plain": [
              "array([[-5.47980184],\n",
              "       [-2.77009953],\n",
              "       [ 1.02029747],\n",
              "       [ 3.23120462],\n",
              "       [-3.10959608],\n",
              "       [ 4.46696814],\n",
              "       [-4.98560381],\n",
              "       [12.10378397],\n",
              "       [ 4.88919846],\n",
              "       [ 0.46636447],\n",
              "       [ 0.37383612],\n",
              "       [ 1.90284214],\n",
              "       [ 6.07830115],\n",
              "       [ 3.09643675],\n",
              "       [11.20466265],\n",
              "       [12.24782022],\n",
              "       [ 8.05159866],\n",
              "       [-4.08855519],\n",
              "       [ 5.88535802],\n",
              "       [11.31090547],\n",
              "       [ 7.25912858],\n",
              "       [-0.57275308],\n",
              "       [ 0.41729122],\n",
              "       [-2.45026182],\n",
              "       [ 5.71617127],\n",
              "       [ 3.37360774],\n",
              "       [-2.87017686],\n",
              "       [ 5.52765633],\n",
              "       [ 0.75498716],\n",
              "       [ 2.19751736],\n",
              "       [ 0.06268353],\n",
              "       [ 6.39163944],\n",
              "       [ 0.8330524 ],\n",
              "       [ 4.85265571],\n",
              "       [ 5.7158967 ],\n",
              "       [-0.39877454]])"
            ]
          },
          "metadata": {},
          "execution_count": 53
        }
      ]
    },
    {
      "cell_type": "code",
      "source": [
        "y"
      ],
      "metadata": {
        "colab": {
          "base_uri": "https://localhost:8080/"
        },
        "id": "UCCZ06mcmYgN",
        "outputId": "a77d647f-4b98-4a58-afb8-e227ca140cf1"
      },
      "execution_count": 54,
      "outputs": [
        {
          "output_type": "execute_result",
          "data": {
            "text/plain": [
              "array([[ 48.61705093],\n",
              "       [ 12.03660423],\n",
              "       [ 10.14290623],\n",
              "       [ 35.57498049],\n",
              "       [ 15.01038731],\n",
              "       [ 58.30851319],\n",
              "       [ 39.75567924],\n",
              "       [334.31452463],\n",
              "       [ 67.47611854],\n",
              "       [  6.83408503],\n",
              "       [  6.40101525],\n",
              "       [ 17.95014285],\n",
              "       [ 97.12639321],\n",
              "       [ 33.4651514 ],\n",
              "       [289.7029181 ],\n",
              "       [341.76166101],\n",
              "       [158.81127778],\n",
              "       [ 26.16690152],\n",
              "       [ 91.9309522 ],\n",
              "       [294.80588138],\n",
              "       [132.16728132],\n",
              "       [  3.93783294],\n",
              "       [  6.6001376 ],\n",
              "       [  9.65678052],\n",
              "       [ 87.49774169],\n",
              "       [ 37.88328151],\n",
              "       [ 12.86529981],\n",
              "       [ 82.69293807],\n",
              "       [  8.40497273],\n",
              "       [ 21.25071715],\n",
              "       [  5.19590903],\n",
              "       [105.88102788],\n",
              "       [  8.88710981],\n",
              "       [ 66.6545019 ],\n",
              "       [ 87.49064038],\n",
              "       [  4.12171864]])"
            ]
          },
          "metadata": {},
          "execution_count": 54
        }
      ]
    },
    {
      "cell_type": "markdown",
      "source": [
        "Evaluating the coefficients of a polynomial"
      ],
      "metadata": {
        "id": "-rhzEx-rnKdW"
      }
    },
    {
      "cell_type": "code",
      "source": [
        "poly_1 = np.poly1d([4,5,6])\n",
        "\n",
        "j = 32"
      ],
      "metadata": {
        "id": "0NnUGqtXnjgW"
      },
      "execution_count": 71,
      "outputs": []
    },
    {
      "cell_type": "code",
      "source": [
        "x_ = np.random.randn(j, 1) * 8\n",
        "y_ = poly_1(x_)"
      ],
      "metadata": {
        "id": "l5P7aBekn_CP"
      },
      "execution_count": 72,
      "outputs": []
    },
    {
      "cell_type": "code",
      "source": [
        "X = np.hstack([x_*x_, x_, np.ones_like(x_)])"
      ],
      "metadata": {
        "id": "HExdFKa4oXPF"
      },
      "execution_count": 73,
      "outputs": []
    },
    {
      "cell_type": "code",
      "source": [
        "r = torch.randn(3, 1, requires_grad=True)\n",
        "k = torch.tensor(X, dtype = torch.float32)\n",
        "l = torch.tensor(y_, dtype=torch.float32)"
      ],
      "metadata": {
        "id": "SMIzEvu5owdz"
      },
      "execution_count": 74,
      "outputs": []
    },
    {
      "cell_type": "code",
      "source": [
        "optimizer = torch.optim.NAdam([r], lr=0.01)\n",
        "\n",
        "print(r)"
      ],
      "metadata": {
        "colab": {
          "base_uri": "https://localhost:8080/"
        },
        "id": "oxGxDo7oqJbo",
        "outputId": "fb8e67a4-594d-4001-e4ae-139a96d03e10"
      },
      "execution_count": 75,
      "outputs": [
        {
          "output_type": "stream",
          "name": "stdout",
          "text": [
            "tensor([[-1.2253],\n",
            "        [-0.8011],\n",
            "        [-0.1949]], requires_grad=True)\n"
          ]
        }
      ]
    },
    {
      "cell_type": "code",
      "source": [
        "for _ in range(1000):\n",
        "  optimizer.zero_grad()\n",
        "\n",
        "  y_pred = k @ r\n",
        "\n",
        "  mse = torch.mean(torch.square(l - y_pred))\n",
        "  mse.backward()\n",
        "  optimizer.step()\n"
      ],
      "metadata": {
        "id": "fWkzJyBnqZiD"
      },
      "execution_count": 76,
      "outputs": []
    },
    {
      "cell_type": "code",
      "source": [
        "print(r)"
      ],
      "metadata": {
        "colab": {
          "base_uri": "https://localhost:8080/"
        },
        "id": "z9SyzArOshnX",
        "outputId": "f28ffc9a-0aef-46fb-8f5c-f984d16de064"
      },
      "execution_count": 77,
      "outputs": [
        {
          "output_type": "stream",
          "name": "stdout",
          "text": [
            "tensor([[3.7063],\n",
            "        [1.3463],\n",
            "        [4.6920]], requires_grad=True)\n"
          ]
        }
      ]
    },
    {
      "cell_type": "code",
      "source": [],
      "metadata": {
        "id": "sZTPy-BntSnB"
      },
      "execution_count": null,
      "outputs": []
    }
  ]
}