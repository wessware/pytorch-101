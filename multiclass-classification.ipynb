{
 "cells": [
  {
   "cell_type": "code",
   "execution_count": 1,
   "id": "c122b237",
   "metadata": {
    "_cell_guid": "b1076dfc-b9ad-4769-8c92-a6c4dae69d19",
    "_uuid": "8f2839f25d086af736a60e9eeb907d3b93b6e0e5",
    "execution": {
     "iopub.execute_input": "2023-02-24T08:47:21.882066Z",
     "iopub.status.busy": "2023-02-24T08:47:21.881580Z",
     "iopub.status.idle": "2023-02-24T08:47:24.553923Z",
     "shell.execute_reply": "2023-02-24T08:47:24.552814Z"
    },
    "papermill": {
     "duration": 2.688263,
     "end_time": "2023-02-24T08:47:24.556842",
     "exception": false,
     "start_time": "2023-02-24T08:47:21.868579",
     "status": "completed"
    },
    "tags": []
   },
   "outputs": [],
   "source": [
    "import numpy as np\n",
    "import pandas as pd \n",
    "\n",
    "from sklearn.preprocessing import MinMaxScaler\n",
    "from sklearn.preprocessing import OneHotEncoder\n",
    "from sklearn.model_selection import train_test_split\n",
    "\n",
    "import matplotlib.pyplot as plt\n",
    "\n",
    "import torch\n",
    "import torch.nn as nn\n",
    "import torch.optim as optim\n",
    "import tqdm"
   ]
  },
  {
   "cell_type": "code",
   "execution_count": 2,
   "id": "bd0c5c59",
   "metadata": {
    "execution": {
     "iopub.execute_input": "2023-02-24T08:47:24.575191Z",
     "iopub.status.busy": "2023-02-24T08:47:24.573634Z",
     "iopub.status.idle": "2023-02-24T08:47:25.475983Z",
     "shell.execute_reply": "2023-02-24T08:47:25.474085Z"
    },
    "papermill": {
     "duration": 0.91518,
     "end_time": "2023-02-24T08:47:25.479608",
     "exception": false,
     "start_time": "2023-02-24T08:47:24.564428",
     "status": "completed"
    },
    "tags": []
   },
   "outputs": [],
   "source": [
    "df = pd.read_csv('/kaggle/input/clean-data-australia-rainfall/rainfall_data_australia.csv', index_col=None)"
   ]
  },
  {
   "cell_type": "code",
   "execution_count": 3,
   "id": "ea537f17",
   "metadata": {
    "execution": {
     "iopub.execute_input": "2023-02-24T08:47:25.499403Z",
     "iopub.status.busy": "2023-02-24T08:47:25.498406Z",
     "iopub.status.idle": "2023-02-24T08:47:25.507411Z",
     "shell.execute_reply": "2023-02-24T08:47:25.506377Z"
    },
    "papermill": {
     "duration": 0.020363,
     "end_time": "2023-02-24T08:47:25.509956",
     "exception": false,
     "start_time": "2023-02-24T08:47:25.489593",
     "status": "completed"
    },
    "tags": []
   },
   "outputs": [
    {
     "data": {
      "text/plain": [
       "(351587, 18)"
      ]
     },
     "execution_count": 3,
     "metadata": {},
     "output_type": "execute_result"
    }
   ],
   "source": [
    "df.shape"
   ]
  },
  {
   "cell_type": "code",
   "execution_count": 4,
   "id": "6d4a11d1",
   "metadata": {
    "execution": {
     "iopub.execute_input": "2023-02-24T08:47:25.527275Z",
     "iopub.status.busy": "2023-02-24T08:47:25.526539Z",
     "iopub.status.idle": "2023-02-24T08:47:25.555819Z",
     "shell.execute_reply": "2023-02-24T08:47:25.554511Z"
    },
    "papermill": {
     "duration": 0.040857,
     "end_time": "2023-02-24T08:47:25.558413",
     "exception": false,
     "start_time": "2023-02-24T08:47:25.517556",
     "status": "completed"
    },
    "tags": []
   },
   "outputs": [
    {
     "data": {
      "text/html": [
       "<div>\n",
       "<style scoped>\n",
       "    .dataframe tbody tr th:only-of-type {\n",
       "        vertical-align: middle;\n",
       "    }\n",
       "\n",
       "    .dataframe tbody tr th {\n",
       "        vertical-align: top;\n",
       "    }\n",
       "\n",
       "    .dataframe thead th {\n",
       "        text-align: right;\n",
       "    }\n",
       "</style>\n",
       "<table border=\"1\" class=\"dataframe\">\n",
       "  <thead>\n",
       "    <tr style=\"text-align: right;\">\n",
       "      <th></th>\n",
       "      <th>MinTemp</th>\n",
       "      <th>MaxTemp</th>\n",
       "      <th>Rainfall</th>\n",
       "      <th>Evaporation</th>\n",
       "      <th>Sunshine</th>\n",
       "      <th>WindGustSpeed</th>\n",
       "      <th>WindSpeed9am</th>\n",
       "      <th>WindSpeed3pm</th>\n",
       "      <th>Humidity9am</th>\n",
       "      <th>Humidity3pm</th>\n",
       "      <th>Pressure9am</th>\n",
       "      <th>Pressure3pm</th>\n",
       "      <th>Cloud9am</th>\n",
       "      <th>Cloud3pm</th>\n",
       "      <th>Temp9am</th>\n",
       "      <th>Temp3pm</th>\n",
       "      <th>RainToday</th>\n",
       "      <th>RainTomorrow</th>\n",
       "    </tr>\n",
       "  </thead>\n",
       "  <tbody>\n",
       "    <tr>\n",
       "      <th>0</th>\n",
       "      <td>17.9</td>\n",
       "      <td>35.2</td>\n",
       "      <td>0.0</td>\n",
       "      <td>12.0</td>\n",
       "      <td>12.3</td>\n",
       "      <td>48</td>\n",
       "      <td>6.0</td>\n",
       "      <td>20.0</td>\n",
       "      <td>20</td>\n",
       "      <td>13.0</td>\n",
       "      <td>1006.3</td>\n",
       "      <td>1004.4</td>\n",
       "      <td>2</td>\n",
       "      <td>5</td>\n",
       "      <td>26.6</td>\n",
       "      <td>33.4</td>\n",
       "      <td>2</td>\n",
       "      <td>2</td>\n",
       "    </tr>\n",
       "    <tr>\n",
       "      <th>1</th>\n",
       "      <td>17.9</td>\n",
       "      <td>35.2</td>\n",
       "      <td>0.0</td>\n",
       "      <td>12.0</td>\n",
       "      <td>12.3</td>\n",
       "      <td>48</td>\n",
       "      <td>6.0</td>\n",
       "      <td>20.0</td>\n",
       "      <td>20</td>\n",
       "      <td>13.0</td>\n",
       "      <td>1006.3</td>\n",
       "      <td>1004.4</td>\n",
       "      <td>2</td>\n",
       "      <td>5</td>\n",
       "      <td>26.6</td>\n",
       "      <td>33.4</td>\n",
       "      <td>2</td>\n",
       "      <td>2</td>\n",
       "    </tr>\n",
       "    <tr>\n",
       "      <th>2</th>\n",
       "      <td>17.9</td>\n",
       "      <td>35.2</td>\n",
       "      <td>0.0</td>\n",
       "      <td>12.0</td>\n",
       "      <td>12.3</td>\n",
       "      <td>48</td>\n",
       "      <td>6.0</td>\n",
       "      <td>20.0</td>\n",
       "      <td>20</td>\n",
       "      <td>13.0</td>\n",
       "      <td>1006.3</td>\n",
       "      <td>1004.4</td>\n",
       "      <td>2</td>\n",
       "      <td>5</td>\n",
       "      <td>26.6</td>\n",
       "      <td>33.4</td>\n",
       "      <td>2</td>\n",
       "      <td>2</td>\n",
       "    </tr>\n",
       "    <tr>\n",
       "      <th>3</th>\n",
       "      <td>17.9</td>\n",
       "      <td>35.2</td>\n",
       "      <td>0.0</td>\n",
       "      <td>12.0</td>\n",
       "      <td>12.3</td>\n",
       "      <td>48</td>\n",
       "      <td>6.0</td>\n",
       "      <td>20.0</td>\n",
       "      <td>20</td>\n",
       "      <td>13.0</td>\n",
       "      <td>1006.3</td>\n",
       "      <td>1004.4</td>\n",
       "      <td>2</td>\n",
       "      <td>5</td>\n",
       "      <td>26.6</td>\n",
       "      <td>33.4</td>\n",
       "      <td>2</td>\n",
       "      <td>2</td>\n",
       "    </tr>\n",
       "    <tr>\n",
       "      <th>4</th>\n",
       "      <td>17.9</td>\n",
       "      <td>35.2</td>\n",
       "      <td>0.0</td>\n",
       "      <td>12.0</td>\n",
       "      <td>12.3</td>\n",
       "      <td>48</td>\n",
       "      <td>6.0</td>\n",
       "      <td>20.0</td>\n",
       "      <td>20</td>\n",
       "      <td>13.0</td>\n",
       "      <td>1006.3</td>\n",
       "      <td>1004.4</td>\n",
       "      <td>2</td>\n",
       "      <td>5</td>\n",
       "      <td>26.6</td>\n",
       "      <td>33.4</td>\n",
       "      <td>2</td>\n",
       "      <td>2</td>\n",
       "    </tr>\n",
       "  </tbody>\n",
       "</table>\n",
       "</div>"
      ],
      "text/plain": [
       "   MinTemp  MaxTemp  Rainfall  Evaporation  Sunshine  WindGustSpeed  \\\n",
       "0     17.9     35.2       0.0         12.0      12.3             48   \n",
       "1     17.9     35.2       0.0         12.0      12.3             48   \n",
       "2     17.9     35.2       0.0         12.0      12.3             48   \n",
       "3     17.9     35.2       0.0         12.0      12.3             48   \n",
       "4     17.9     35.2       0.0         12.0      12.3             48   \n",
       "\n",
       "   WindSpeed9am  WindSpeed3pm  Humidity9am  Humidity3pm  Pressure9am  \\\n",
       "0           6.0          20.0           20         13.0       1006.3   \n",
       "1           6.0          20.0           20         13.0       1006.3   \n",
       "2           6.0          20.0           20         13.0       1006.3   \n",
       "3           6.0          20.0           20         13.0       1006.3   \n",
       "4           6.0          20.0           20         13.0       1006.3   \n",
       "\n",
       "   Pressure3pm  Cloud9am  Cloud3pm  Temp9am  Temp3pm  RainToday  RainTomorrow  \n",
       "0       1004.4         2         5     26.6     33.4          2             2  \n",
       "1       1004.4         2         5     26.6     33.4          2             2  \n",
       "2       1004.4         2         5     26.6     33.4          2             2  \n",
       "3       1004.4         2         5     26.6     33.4          2             2  \n",
       "4       1004.4         2         5     26.6     33.4          2             2  "
      ]
     },
     "execution_count": 4,
     "metadata": {},
     "output_type": "execute_result"
    }
   ],
   "source": [
    "df.head()"
   ]
  },
  {
   "cell_type": "code",
   "execution_count": 5,
   "id": "61231dad",
   "metadata": {
    "execution": {
     "iopub.execute_input": "2023-02-24T08:47:25.575868Z",
     "iopub.status.busy": "2023-02-24T08:47:25.575436Z",
     "iopub.status.idle": "2023-02-24T08:47:25.589713Z",
     "shell.execute_reply": "2023-02-24T08:47:25.588573Z"
    },
    "papermill": {
     "duration": 0.025911,
     "end_time": "2023-02-24T08:47:25.592214",
     "exception": false,
     "start_time": "2023-02-24T08:47:25.566303",
     "status": "completed"
    },
    "tags": []
   },
   "outputs": [
    {
     "data": {
      "text/plain": [
       "MinTemp           True\n",
       "MaxTemp           True\n",
       "Rainfall         False\n",
       "Evaporation       True\n",
       "Sunshine         False\n",
       "WindGustSpeed    False\n",
       "WindSpeed9am      True\n",
       "WindSpeed3pm      True\n",
       "Humidity9am      False\n",
       "Humidity3pm       True\n",
       "Pressure9am       True\n",
       "Pressure3pm       True\n",
       "Cloud9am         False\n",
       "Cloud3pm         False\n",
       "Temp9am          False\n",
       "Temp3pm           True\n",
       "RainToday        False\n",
       "RainTomorrow     False\n",
       "dtype: bool"
      ]
     },
     "execution_count": 5,
     "metadata": {},
     "output_type": "execute_result"
    }
   ],
   "source": [
    "df.isna().any()"
   ]
  },
  {
   "cell_type": "code",
   "execution_count": 6,
   "id": "033bdcd8",
   "metadata": {
    "execution": {
     "iopub.execute_input": "2023-02-24T08:47:25.611178Z",
     "iopub.status.busy": "2023-02-24T08:47:25.609612Z",
     "iopub.status.idle": "2023-02-24T08:47:25.676237Z",
     "shell.execute_reply": "2023-02-24T08:47:25.674880Z"
    },
    "papermill": {
     "duration": 0.078831,
     "end_time": "2023-02-24T08:47:25.679004",
     "exception": false,
     "start_time": "2023-02-24T08:47:25.600173",
     "status": "completed"
    },
    "tags": []
   },
   "outputs": [],
   "source": [
    "df = df.dropna()"
   ]
  },
  {
   "cell_type": "code",
   "execution_count": 7,
   "id": "e7cac027",
   "metadata": {
    "execution": {
     "iopub.execute_input": "2023-02-24T08:47:25.697467Z",
     "iopub.status.busy": "2023-02-24T08:47:25.696293Z",
     "iopub.status.idle": "2023-02-24T08:47:25.710578Z",
     "shell.execute_reply": "2023-02-24T08:47:25.709550Z"
    },
    "papermill": {
     "duration": 0.026105,
     "end_time": "2023-02-24T08:47:25.713120",
     "exception": false,
     "start_time": "2023-02-24T08:47:25.687015",
     "status": "completed"
    },
    "tags": []
   },
   "outputs": [
    {
     "data": {
      "text/plain": [
       "MinTemp          False\n",
       "MaxTemp          False\n",
       "Rainfall         False\n",
       "Evaporation      False\n",
       "Sunshine         False\n",
       "WindGustSpeed    False\n",
       "WindSpeed9am     False\n",
       "WindSpeed3pm     False\n",
       "Humidity9am      False\n",
       "Humidity3pm      False\n",
       "Pressure9am      False\n",
       "Pressure3pm      False\n",
       "Cloud9am         False\n",
       "Cloud3pm         False\n",
       "Temp9am          False\n",
       "Temp3pm          False\n",
       "RainToday        False\n",
       "RainTomorrow     False\n",
       "dtype: bool"
      ]
     },
     "execution_count": 7,
     "metadata": {},
     "output_type": "execute_result"
    }
   ],
   "source": [
    "df.isna().any()"
   ]
  },
  {
   "cell_type": "code",
   "execution_count": 8,
   "id": "cdbb9c27",
   "metadata": {
    "execution": {
     "iopub.execute_input": "2023-02-24T08:47:25.734312Z",
     "iopub.status.busy": "2023-02-24T08:47:25.733893Z",
     "iopub.status.idle": "2023-02-24T08:47:25.740969Z",
     "shell.execute_reply": "2023-02-24T08:47:25.739797Z"
    },
    "papermill": {
     "duration": 0.019535,
     "end_time": "2023-02-24T08:47:25.743430",
     "exception": false,
     "start_time": "2023-02-24T08:47:25.723895",
     "status": "completed"
    },
    "tags": []
   },
   "outputs": [
    {
     "data": {
      "text/plain": [
       "(349416, 18)"
      ]
     },
     "execution_count": 8,
     "metadata": {},
     "output_type": "execute_result"
    }
   ],
   "source": [
    "df.shape"
   ]
  },
  {
   "cell_type": "code",
   "execution_count": 9,
   "id": "cfcfa4fb",
   "metadata": {
    "execution": {
     "iopub.execute_input": "2023-02-24T08:47:25.761777Z",
     "iopub.status.busy": "2023-02-24T08:47:25.761331Z",
     "iopub.status.idle": "2023-02-24T08:47:25.769878Z",
     "shell.execute_reply": "2023-02-24T08:47:25.768742Z"
    },
    "papermill": {
     "duration": 0.020347,
     "end_time": "2023-02-24T08:47:25.772108",
     "exception": false,
     "start_time": "2023-02-24T08:47:25.751761",
     "status": "completed"
    },
    "tags": []
   },
   "outputs": [
    {
     "data": {
      "text/plain": [
       "Index(['MinTemp', 'MaxTemp', 'Rainfall', 'Evaporation', 'Sunshine',\n",
       "       'WindGustSpeed', 'WindSpeed9am', 'WindSpeed3pm', 'Humidity9am',\n",
       "       'Humidity3pm', 'Pressure9am', 'Pressure3pm', 'Cloud9am', 'Cloud3pm',\n",
       "       'Temp9am', 'Temp3pm', 'RainToday', 'RainTomorrow'],\n",
       "      dtype='object')"
      ]
     },
     "execution_count": 9,
     "metadata": {},
     "output_type": "execute_result"
    }
   ],
   "source": [
    "df.columns"
   ]
  },
  {
   "cell_type": "code",
   "execution_count": 10,
   "id": "adb934b7",
   "metadata": {
    "execution": {
     "iopub.execute_input": "2023-02-24T08:47:25.790978Z",
     "iopub.status.busy": "2023-02-24T08:47:25.790512Z",
     "iopub.status.idle": "2023-02-24T08:47:25.804703Z",
     "shell.execute_reply": "2023-02-24T08:47:25.803583Z"
    },
    "papermill": {
     "duration": 0.026464,
     "end_time": "2023-02-24T08:47:25.807053",
     "exception": false,
     "start_time": "2023-02-24T08:47:25.780589",
     "status": "completed"
    },
    "tags": []
   },
   "outputs": [
    {
     "data": {
      "text/plain": [
       "array([2, 1, 3])"
      ]
     },
     "execution_count": 10,
     "metadata": {},
     "output_type": "execute_result"
    }
   ],
   "source": [
    "df['RainTomorrow'].unique()"
   ]
  },
  {
   "cell_type": "code",
   "execution_count": 11,
   "id": "ae01823f",
   "metadata": {
    "execution": {
     "iopub.execute_input": "2023-02-24T08:47:25.826387Z",
     "iopub.status.busy": "2023-02-24T08:47:25.825482Z",
     "iopub.status.idle": "2023-02-24T08:47:25.882669Z",
     "shell.execute_reply": "2023-02-24T08:47:25.881682Z"
    },
    "papermill": {
     "duration": 0.069937,
     "end_time": "2023-02-24T08:47:25.885356",
     "exception": false,
     "start_time": "2023-02-24T08:47:25.815419",
     "status": "completed"
    },
    "tags": []
   },
   "outputs": [],
   "source": [
    "string_var = {'RainTomorrow': {1:'Yes', 2:'No', 3:'Yes_No'}}\n",
    "\n",
    "df = df.replace(string_var)"
   ]
  },
  {
   "cell_type": "code",
   "execution_count": 12,
   "id": "90be5233",
   "metadata": {
    "execution": {
     "iopub.execute_input": "2023-02-24T08:47:25.903992Z",
     "iopub.status.busy": "2023-02-24T08:47:25.903594Z",
     "iopub.status.idle": "2023-02-24T08:47:25.909620Z",
     "shell.execute_reply": "2023-02-24T08:47:25.908033Z"
    },
    "papermill": {
     "duration": 0.018326,
     "end_time": "2023-02-24T08:47:25.912224",
     "exception": false,
     "start_time": "2023-02-24T08:47:25.893898",
     "status": "completed"
    },
    "tags": []
   },
   "outputs": [],
   "source": [
    "x_cols = ['MinTemp', 'MaxTemp', 'Rainfall', 'Evaporation', 'Sunshine',\n",
    "       'WindGustSpeed', 'WindSpeed9am', 'WindSpeed3pm', 'Humidity9am',\n",
    "       'Humidity3pm', 'Pressure9am', 'Pressure3pm', 'Cloud9am', 'Cloud3pm',\n",
    "       'Temp9am', 'Temp3pm', 'RainToday']"
   ]
  },
  {
   "cell_type": "code",
   "execution_count": 13,
   "id": "cc365902",
   "metadata": {
    "execution": {
     "iopub.execute_input": "2023-02-24T08:47:25.931289Z",
     "iopub.status.busy": "2023-02-24T08:47:25.930887Z",
     "iopub.status.idle": "2023-02-24T08:47:25.955350Z",
     "shell.execute_reply": "2023-02-24T08:47:25.954139Z"
    },
    "papermill": {
     "duration": 0.036743,
     "end_time": "2023-02-24T08:47:25.957634",
     "exception": false,
     "start_time": "2023-02-24T08:47:25.920891",
     "status": "completed"
    },
    "tags": []
   },
   "outputs": [],
   "source": [
    "x = df[x_cols]\n",
    "\n",
    "y = df[['RainTomorrow']]"
   ]
  },
  {
   "cell_type": "code",
   "execution_count": 14,
   "id": "458a7831",
   "metadata": {
    "execution": {
     "iopub.execute_input": "2023-02-24T08:47:25.976123Z",
     "iopub.status.busy": "2023-02-24T08:47:25.975724Z",
     "iopub.status.idle": "2023-02-24T08:47:26.011515Z",
     "shell.execute_reply": "2023-02-24T08:47:26.010334Z"
    },
    "papermill": {
     "duration": 0.048146,
     "end_time": "2023-02-24T08:47:26.014210",
     "exception": false,
     "start_time": "2023-02-24T08:47:25.966064",
     "status": "completed"
    },
    "tags": []
   },
   "outputs": [
    {
     "data": {
      "text/html": [
       "<div>\n",
       "<style scoped>\n",
       "    .dataframe tbody tr th:only-of-type {\n",
       "        vertical-align: middle;\n",
       "    }\n",
       "\n",
       "    .dataframe tbody tr th {\n",
       "        vertical-align: top;\n",
       "    }\n",
       "\n",
       "    .dataframe thead th {\n",
       "        text-align: right;\n",
       "    }\n",
       "</style>\n",
       "<table border=\"1\" class=\"dataframe\">\n",
       "  <thead>\n",
       "    <tr style=\"text-align: right;\">\n",
       "      <th></th>\n",
       "      <th>MinTemp</th>\n",
       "      <th>MaxTemp</th>\n",
       "      <th>Rainfall</th>\n",
       "      <th>Evaporation</th>\n",
       "      <th>Sunshine</th>\n",
       "      <th>WindGustSpeed</th>\n",
       "      <th>WindSpeed9am</th>\n",
       "      <th>WindSpeed3pm</th>\n",
       "      <th>Humidity9am</th>\n",
       "      <th>Humidity3pm</th>\n",
       "      <th>Pressure9am</th>\n",
       "      <th>Pressure3pm</th>\n",
       "      <th>Cloud9am</th>\n",
       "      <th>Cloud3pm</th>\n",
       "      <th>Temp9am</th>\n",
       "      <th>Temp3pm</th>\n",
       "      <th>RainToday</th>\n",
       "    </tr>\n",
       "  </thead>\n",
       "  <tbody>\n",
       "    <tr>\n",
       "      <th>0</th>\n",
       "      <td>17.9</td>\n",
       "      <td>35.2</td>\n",
       "      <td>0.0</td>\n",
       "      <td>12.0</td>\n",
       "      <td>12.3</td>\n",
       "      <td>48</td>\n",
       "      <td>6.0</td>\n",
       "      <td>20.0</td>\n",
       "      <td>20</td>\n",
       "      <td>13.0</td>\n",
       "      <td>1006.3</td>\n",
       "      <td>1004.4</td>\n",
       "      <td>2</td>\n",
       "      <td>5</td>\n",
       "      <td>26.6</td>\n",
       "      <td>33.4</td>\n",
       "      <td>2</td>\n",
       "    </tr>\n",
       "    <tr>\n",
       "      <th>1</th>\n",
       "      <td>17.9</td>\n",
       "      <td>35.2</td>\n",
       "      <td>0.0</td>\n",
       "      <td>12.0</td>\n",
       "      <td>12.3</td>\n",
       "      <td>48</td>\n",
       "      <td>6.0</td>\n",
       "      <td>20.0</td>\n",
       "      <td>20</td>\n",
       "      <td>13.0</td>\n",
       "      <td>1006.3</td>\n",
       "      <td>1004.4</td>\n",
       "      <td>2</td>\n",
       "      <td>5</td>\n",
       "      <td>26.6</td>\n",
       "      <td>33.4</td>\n",
       "      <td>2</td>\n",
       "    </tr>\n",
       "    <tr>\n",
       "      <th>2</th>\n",
       "      <td>17.9</td>\n",
       "      <td>35.2</td>\n",
       "      <td>0.0</td>\n",
       "      <td>12.0</td>\n",
       "      <td>12.3</td>\n",
       "      <td>48</td>\n",
       "      <td>6.0</td>\n",
       "      <td>20.0</td>\n",
       "      <td>20</td>\n",
       "      <td>13.0</td>\n",
       "      <td>1006.3</td>\n",
       "      <td>1004.4</td>\n",
       "      <td>2</td>\n",
       "      <td>5</td>\n",
       "      <td>26.6</td>\n",
       "      <td>33.4</td>\n",
       "      <td>2</td>\n",
       "    </tr>\n",
       "    <tr>\n",
       "      <th>3</th>\n",
       "      <td>17.9</td>\n",
       "      <td>35.2</td>\n",
       "      <td>0.0</td>\n",
       "      <td>12.0</td>\n",
       "      <td>12.3</td>\n",
       "      <td>48</td>\n",
       "      <td>6.0</td>\n",
       "      <td>20.0</td>\n",
       "      <td>20</td>\n",
       "      <td>13.0</td>\n",
       "      <td>1006.3</td>\n",
       "      <td>1004.4</td>\n",
       "      <td>2</td>\n",
       "      <td>5</td>\n",
       "      <td>26.6</td>\n",
       "      <td>33.4</td>\n",
       "      <td>2</td>\n",
       "    </tr>\n",
       "    <tr>\n",
       "      <th>4</th>\n",
       "      <td>17.9</td>\n",
       "      <td>35.2</td>\n",
       "      <td>0.0</td>\n",
       "      <td>12.0</td>\n",
       "      <td>12.3</td>\n",
       "      <td>48</td>\n",
       "      <td>6.0</td>\n",
       "      <td>20.0</td>\n",
       "      <td>20</td>\n",
       "      <td>13.0</td>\n",
       "      <td>1006.3</td>\n",
       "      <td>1004.4</td>\n",
       "      <td>2</td>\n",
       "      <td>5</td>\n",
       "      <td>26.6</td>\n",
       "      <td>33.4</td>\n",
       "      <td>2</td>\n",
       "    </tr>\n",
       "    <tr>\n",
       "      <th>...</th>\n",
       "      <td>...</td>\n",
       "      <td>...</td>\n",
       "      <td>...</td>\n",
       "      <td>...</td>\n",
       "      <td>...</td>\n",
       "      <td>...</td>\n",
       "      <td>...</td>\n",
       "      <td>...</td>\n",
       "      <td>...</td>\n",
       "      <td>...</td>\n",
       "      <td>...</td>\n",
       "      <td>...</td>\n",
       "      <td>...</td>\n",
       "      <td>...</td>\n",
       "      <td>...</td>\n",
       "      <td>...</td>\n",
       "      <td>...</td>\n",
       "    </tr>\n",
       "    <tr>\n",
       "      <th>351582</th>\n",
       "      <td>20.2</td>\n",
       "      <td>31.7</td>\n",
       "      <td>0.0</td>\n",
       "      <td>5.6</td>\n",
       "      <td>10.7</td>\n",
       "      <td>30</td>\n",
       "      <td>15.0</td>\n",
       "      <td>7.0</td>\n",
       "      <td>73</td>\n",
       "      <td>32.0</td>\n",
       "      <td>1013.9</td>\n",
       "      <td>1009.7</td>\n",
       "      <td>6</td>\n",
       "      <td>5</td>\n",
       "      <td>25.4</td>\n",
       "      <td>31.0</td>\n",
       "      <td>2</td>\n",
       "    </tr>\n",
       "    <tr>\n",
       "      <th>351583</th>\n",
       "      <td>20.2</td>\n",
       "      <td>31.7</td>\n",
       "      <td>0.0</td>\n",
       "      <td>5.6</td>\n",
       "      <td>10.7</td>\n",
       "      <td>30</td>\n",
       "      <td>15.0</td>\n",
       "      <td>7.0</td>\n",
       "      <td>73</td>\n",
       "      <td>32.0</td>\n",
       "      <td>1013.9</td>\n",
       "      <td>1009.7</td>\n",
       "      <td>6</td>\n",
       "      <td>5</td>\n",
       "      <td>25.4</td>\n",
       "      <td>31.0</td>\n",
       "      <td>2</td>\n",
       "    </tr>\n",
       "    <tr>\n",
       "      <th>351584</th>\n",
       "      <td>20.2</td>\n",
       "      <td>31.7</td>\n",
       "      <td>0.0</td>\n",
       "      <td>5.6</td>\n",
       "      <td>10.7</td>\n",
       "      <td>30</td>\n",
       "      <td>15.0</td>\n",
       "      <td>7.0</td>\n",
       "      <td>73</td>\n",
       "      <td>32.0</td>\n",
       "      <td>1013.9</td>\n",
       "      <td>1009.7</td>\n",
       "      <td>6</td>\n",
       "      <td>5</td>\n",
       "      <td>25.4</td>\n",
       "      <td>31.0</td>\n",
       "      <td>2</td>\n",
       "    </tr>\n",
       "    <tr>\n",
       "      <th>351585</th>\n",
       "      <td>20.2</td>\n",
       "      <td>31.7</td>\n",
       "      <td>0.0</td>\n",
       "      <td>5.6</td>\n",
       "      <td>10.7</td>\n",
       "      <td>30</td>\n",
       "      <td>15.0</td>\n",
       "      <td>7.0</td>\n",
       "      <td>73</td>\n",
       "      <td>32.0</td>\n",
       "      <td>1013.9</td>\n",
       "      <td>1009.7</td>\n",
       "      <td>6</td>\n",
       "      <td>5</td>\n",
       "      <td>25.4</td>\n",
       "      <td>31.0</td>\n",
       "      <td>2</td>\n",
       "    </tr>\n",
       "    <tr>\n",
       "      <th>351586</th>\n",
       "      <td>20.2</td>\n",
       "      <td>31.7</td>\n",
       "      <td>0.0</td>\n",
       "      <td>5.6</td>\n",
       "      <td>10.7</td>\n",
       "      <td>30</td>\n",
       "      <td>15.0</td>\n",
       "      <td>7.0</td>\n",
       "      <td>73</td>\n",
       "      <td>32.0</td>\n",
       "      <td>1013.9</td>\n",
       "      <td>1009.7</td>\n",
       "      <td>6</td>\n",
       "      <td>5</td>\n",
       "      <td>25.4</td>\n",
       "      <td>31.0</td>\n",
       "      <td>2</td>\n",
       "    </tr>\n",
       "  </tbody>\n",
       "</table>\n",
       "<p>349416 rows × 17 columns</p>\n",
       "</div>"
      ],
      "text/plain": [
       "        MinTemp  MaxTemp  Rainfall  Evaporation  Sunshine  WindGustSpeed  \\\n",
       "0          17.9     35.2       0.0         12.0      12.3             48   \n",
       "1          17.9     35.2       0.0         12.0      12.3             48   \n",
       "2          17.9     35.2       0.0         12.0      12.3             48   \n",
       "3          17.9     35.2       0.0         12.0      12.3             48   \n",
       "4          17.9     35.2       0.0         12.0      12.3             48   \n",
       "...         ...      ...       ...          ...       ...            ...   \n",
       "351582     20.2     31.7       0.0          5.6      10.7             30   \n",
       "351583     20.2     31.7       0.0          5.6      10.7             30   \n",
       "351584     20.2     31.7       0.0          5.6      10.7             30   \n",
       "351585     20.2     31.7       0.0          5.6      10.7             30   \n",
       "351586     20.2     31.7       0.0          5.6      10.7             30   \n",
       "\n",
       "        WindSpeed9am  WindSpeed3pm  Humidity9am  Humidity3pm  Pressure9am  \\\n",
       "0                6.0          20.0           20         13.0       1006.3   \n",
       "1                6.0          20.0           20         13.0       1006.3   \n",
       "2                6.0          20.0           20         13.0       1006.3   \n",
       "3                6.0          20.0           20         13.0       1006.3   \n",
       "4                6.0          20.0           20         13.0       1006.3   \n",
       "...              ...           ...          ...          ...          ...   \n",
       "351582          15.0           7.0           73         32.0       1013.9   \n",
       "351583          15.0           7.0           73         32.0       1013.9   \n",
       "351584          15.0           7.0           73         32.0       1013.9   \n",
       "351585          15.0           7.0           73         32.0       1013.9   \n",
       "351586          15.0           7.0           73         32.0       1013.9   \n",
       "\n",
       "        Pressure3pm  Cloud9am  Cloud3pm  Temp9am  Temp3pm  RainToday  \n",
       "0            1004.4         2         5     26.6     33.4          2  \n",
       "1            1004.4         2         5     26.6     33.4          2  \n",
       "2            1004.4         2         5     26.6     33.4          2  \n",
       "3            1004.4         2         5     26.6     33.4          2  \n",
       "4            1004.4         2         5     26.6     33.4          2  \n",
       "...             ...       ...       ...      ...      ...        ...  \n",
       "351582       1009.7         6         5     25.4     31.0          2  \n",
       "351583       1009.7         6         5     25.4     31.0          2  \n",
       "351584       1009.7         6         5     25.4     31.0          2  \n",
       "351585       1009.7         6         5     25.4     31.0          2  \n",
       "351586       1009.7         6         5     25.4     31.0          2  \n",
       "\n",
       "[349416 rows x 17 columns]"
      ]
     },
     "execution_count": 14,
     "metadata": {},
     "output_type": "execute_result"
    }
   ],
   "source": [
    "x"
   ]
  },
  {
   "cell_type": "code",
   "execution_count": 15,
   "id": "e31ce07c",
   "metadata": {
    "execution": {
     "iopub.execute_input": "2023-02-24T08:47:26.034123Z",
     "iopub.status.busy": "2023-02-24T08:47:26.033685Z",
     "iopub.status.idle": "2023-02-24T08:47:26.137052Z",
     "shell.execute_reply": "2023-02-24T08:47:26.135786Z"
    },
    "papermill": {
     "duration": 0.116632,
     "end_time": "2023-02-24T08:47:26.140106",
     "exception": false,
     "start_time": "2023-02-24T08:47:26.023474",
     "status": "completed"
    },
    "tags": []
   },
   "outputs": [],
   "source": [
    "scaler = MinMaxScaler().fit(x)\n",
    "\n",
    "x = scaler.transform(x)"
   ]
  },
  {
   "cell_type": "code",
   "execution_count": 16,
   "id": "14637520",
   "metadata": {
    "execution": {
     "iopub.execute_input": "2023-02-24T08:47:26.160037Z",
     "iopub.status.busy": "2023-02-24T08:47:26.159606Z",
     "iopub.status.idle": "2023-02-24T08:47:26.168764Z",
     "shell.execute_reply": "2023-02-24T08:47:26.166594Z"
    },
    "papermill": {
     "duration": 0.02194,
     "end_time": "2023-02-24T08:47:26.171110",
     "exception": false,
     "start_time": "2023-02-24T08:47:26.149170",
     "status": "completed"
    },
    "tags": []
   },
   "outputs": [
    {
     "data": {
      "text/plain": [
       "array([[0.64566929, 0.70681818, 0.        , ..., 0.68238213, 0.7004717 ,\n",
       "        1.        ],\n",
       "       [0.64566929, 0.70681818, 0.        , ..., 0.68238213, 0.7004717 ,\n",
       "        1.        ],\n",
       "       [0.64566929, 0.70681818, 0.        , ..., 0.68238213, 0.7004717 ,\n",
       "        1.        ],\n",
       "       ...,\n",
       "       [0.70603675, 0.62727273, 0.        , ..., 0.65260546, 0.64386792,\n",
       "        1.        ],\n",
       "       [0.70603675, 0.62727273, 0.        , ..., 0.65260546, 0.64386792,\n",
       "        1.        ],\n",
       "       [0.70603675, 0.62727273, 0.        , ..., 0.65260546, 0.64386792,\n",
       "        1.        ]])"
      ]
     },
     "execution_count": 16,
     "metadata": {},
     "output_type": "execute_result"
    }
   ],
   "source": [
    "x"
   ]
  },
  {
   "cell_type": "code",
   "execution_count": 17,
   "id": "5d2a94af",
   "metadata": {
    "execution": {
     "iopub.execute_input": "2023-02-24T08:47:26.191545Z",
     "iopub.status.busy": "2023-02-24T08:47:26.190817Z",
     "iopub.status.idle": "2023-02-24T08:47:26.201526Z",
     "shell.execute_reply": "2023-02-24T08:47:26.200645Z"
    },
    "papermill": {
     "duration": 0.023731,
     "end_time": "2023-02-24T08:47:26.203816",
     "exception": false,
     "start_time": "2023-02-24T08:47:26.180085",
     "status": "completed"
    },
    "tags": []
   },
   "outputs": [
    {
     "data": {
      "text/html": [
       "<div>\n",
       "<style scoped>\n",
       "    .dataframe tbody tr th:only-of-type {\n",
       "        vertical-align: middle;\n",
       "    }\n",
       "\n",
       "    .dataframe tbody tr th {\n",
       "        vertical-align: top;\n",
       "    }\n",
       "\n",
       "    .dataframe thead th {\n",
       "        text-align: right;\n",
       "    }\n",
       "</style>\n",
       "<table border=\"1\" class=\"dataframe\">\n",
       "  <thead>\n",
       "    <tr style=\"text-align: right;\">\n",
       "      <th></th>\n",
       "      <th>RainTomorrow</th>\n",
       "    </tr>\n",
       "  </thead>\n",
       "  <tbody>\n",
       "    <tr>\n",
       "      <th>0</th>\n",
       "      <td>No</td>\n",
       "    </tr>\n",
       "    <tr>\n",
       "      <th>1</th>\n",
       "      <td>No</td>\n",
       "    </tr>\n",
       "    <tr>\n",
       "      <th>2</th>\n",
       "      <td>No</td>\n",
       "    </tr>\n",
       "    <tr>\n",
       "      <th>3</th>\n",
       "      <td>No</td>\n",
       "    </tr>\n",
       "    <tr>\n",
       "      <th>4</th>\n",
       "      <td>No</td>\n",
       "    </tr>\n",
       "    <tr>\n",
       "      <th>...</th>\n",
       "      <td>...</td>\n",
       "    </tr>\n",
       "    <tr>\n",
       "      <th>351582</th>\n",
       "      <td>No</td>\n",
       "    </tr>\n",
       "    <tr>\n",
       "      <th>351583</th>\n",
       "      <td>No</td>\n",
       "    </tr>\n",
       "    <tr>\n",
       "      <th>351584</th>\n",
       "      <td>No</td>\n",
       "    </tr>\n",
       "    <tr>\n",
       "      <th>351585</th>\n",
       "      <td>No</td>\n",
       "    </tr>\n",
       "    <tr>\n",
       "      <th>351586</th>\n",
       "      <td>No</td>\n",
       "    </tr>\n",
       "  </tbody>\n",
       "</table>\n",
       "<p>349416 rows × 1 columns</p>\n",
       "</div>"
      ],
      "text/plain": [
       "       RainTomorrow\n",
       "0                No\n",
       "1                No\n",
       "2                No\n",
       "3                No\n",
       "4                No\n",
       "...             ...\n",
       "351582           No\n",
       "351583           No\n",
       "351584           No\n",
       "351585           No\n",
       "351586           No\n",
       "\n",
       "[349416 rows x 1 columns]"
      ]
     },
     "execution_count": 17,
     "metadata": {},
     "output_type": "execute_result"
    }
   ],
   "source": [
    "y"
   ]
  },
  {
   "cell_type": "code",
   "execution_count": 18,
   "id": "df19821f",
   "metadata": {
    "execution": {
     "iopub.execute_input": "2023-02-24T08:47:26.224301Z",
     "iopub.status.busy": "2023-02-24T08:47:26.223603Z",
     "iopub.status.idle": "2023-02-24T08:47:26.227620Z",
     "shell.execute_reply": "2023-02-24T08:47:26.226736Z"
    },
    "papermill": {
     "duration": 0.017166,
     "end_time": "2023-02-24T08:47:26.230133",
     "exception": false,
     "start_time": "2023-02-24T08:47:26.212967",
     "status": "completed"
    },
    "tags": []
   },
   "outputs": [],
   "source": [
    "#y_ = y.toarray()"
   ]
  },
  {
   "cell_type": "code",
   "execution_count": 19,
   "id": "177df220",
   "metadata": {
    "execution": {
     "iopub.execute_input": "2023-02-24T08:47:26.250664Z",
     "iopub.status.busy": "2023-02-24T08:47:26.250206Z",
     "iopub.status.idle": "2023-02-24T08:47:26.368835Z",
     "shell.execute_reply": "2023-02-24T08:47:26.367641Z"
    },
    "papermill": {
     "duration": 0.13199,
     "end_time": "2023-02-24T08:47:26.371676",
     "exception": false,
     "start_time": "2023-02-24T08:47:26.239686",
     "status": "completed"
    },
    "tags": []
   },
   "outputs": [],
   "source": [
    "encoder = OneHotEncoder(handle_unknown='ignore', sparse=False).fit(y)\n",
    "\n",
    "y = encoder.transform(y)"
   ]
  },
  {
   "cell_type": "code",
   "execution_count": 20,
   "id": "287ee352",
   "metadata": {
    "execution": {
     "iopub.execute_input": "2023-02-24T08:47:26.392249Z",
     "iopub.status.busy": "2023-02-24T08:47:26.391813Z",
     "iopub.status.idle": "2023-02-24T08:47:26.399336Z",
     "shell.execute_reply": "2023-02-24T08:47:26.398176Z"
    },
    "papermill": {
     "duration": 0.020729,
     "end_time": "2023-02-24T08:47:26.401707",
     "exception": false,
     "start_time": "2023-02-24T08:47:26.380978",
     "status": "completed"
    },
    "tags": []
   },
   "outputs": [
    {
     "data": {
      "text/plain": [
       "array([[1., 0., 0.],\n",
       "       [1., 0., 0.],\n",
       "       [1., 0., 0.],\n",
       "       ...,\n",
       "       [1., 0., 0.],\n",
       "       [1., 0., 0.],\n",
       "       [1., 0., 0.]])"
      ]
     },
     "execution_count": 20,
     "metadata": {},
     "output_type": "execute_result"
    }
   ],
   "source": [
    "y"
   ]
  },
  {
   "cell_type": "code",
   "execution_count": 21,
   "id": "29bc316a",
   "metadata": {
    "execution": {
     "iopub.execute_input": "2023-02-24T08:47:26.424424Z",
     "iopub.status.busy": "2023-02-24T08:47:26.423380Z",
     "iopub.status.idle": "2023-02-24T08:47:26.428302Z",
     "shell.execute_reply": "2023-02-24T08:47:26.427540Z"
    },
    "papermill": {
     "duration": 0.018685,
     "end_time": "2023-02-24T08:47:26.430427",
     "exception": false,
     "start_time": "2023-02-24T08:47:26.411742",
     "status": "completed"
    },
    "tags": []
   },
   "outputs": [],
   "source": [
    "x_ = pd.DataFrame(x)"
   ]
  },
  {
   "cell_type": "code",
   "execution_count": 22,
   "id": "4f76f606",
   "metadata": {
    "execution": {
     "iopub.execute_input": "2023-02-24T08:47:26.450977Z",
     "iopub.status.busy": "2023-02-24T08:47:26.450176Z",
     "iopub.status.idle": "2023-02-24T08:47:26.502213Z",
     "shell.execute_reply": "2023-02-24T08:47:26.501022Z"
    },
    "papermill": {
     "duration": 0.065646,
     "end_time": "2023-02-24T08:47:26.505356",
     "exception": false,
     "start_time": "2023-02-24T08:47:26.439710",
     "status": "completed"
    },
    "tags": []
   },
   "outputs": [],
   "source": [
    "X = torch.tensor(x_.values, dtype=torch.float32)"
   ]
  },
  {
   "cell_type": "code",
   "execution_count": 23,
   "id": "2c628600",
   "metadata": {
    "execution": {
     "iopub.execute_input": "2023-02-24T08:47:26.527807Z",
     "iopub.status.busy": "2023-02-24T08:47:26.527352Z",
     "iopub.status.idle": "2023-02-24T08:47:26.532810Z",
     "shell.execute_reply": "2023-02-24T08:47:26.531612Z"
    },
    "papermill": {
     "duration": 0.018527,
     "end_time": "2023-02-24T08:47:26.535198",
     "exception": false,
     "start_time": "2023-02-24T08:47:26.516671",
     "status": "completed"
    },
    "tags": []
   },
   "outputs": [],
   "source": [
    "y_ = pd.DataFrame(y)"
   ]
  },
  {
   "cell_type": "code",
   "execution_count": 24,
   "id": "25f7f7f1",
   "metadata": {
    "execution": {
     "iopub.execute_input": "2023-02-24T08:47:26.555341Z",
     "iopub.status.busy": "2023-02-24T08:47:26.554882Z",
     "iopub.status.idle": "2023-02-24T08:47:26.571289Z",
     "shell.execute_reply": "2023-02-24T08:47:26.570082Z"
    },
    "papermill": {
     "duration": 0.029437,
     "end_time": "2023-02-24T08:47:26.573845",
     "exception": false,
     "start_time": "2023-02-24T08:47:26.544408",
     "status": "completed"
    },
    "tags": []
   },
   "outputs": [
    {
     "data": {
      "text/html": [
       "<div>\n",
       "<style scoped>\n",
       "    .dataframe tbody tr th:only-of-type {\n",
       "        vertical-align: middle;\n",
       "    }\n",
       "\n",
       "    .dataframe tbody tr th {\n",
       "        vertical-align: top;\n",
       "    }\n",
       "\n",
       "    .dataframe thead th {\n",
       "        text-align: right;\n",
       "    }\n",
       "</style>\n",
       "<table border=\"1\" class=\"dataframe\">\n",
       "  <thead>\n",
       "    <tr style=\"text-align: right;\">\n",
       "      <th></th>\n",
       "      <th>0</th>\n",
       "      <th>1</th>\n",
       "      <th>2</th>\n",
       "    </tr>\n",
       "  </thead>\n",
       "  <tbody>\n",
       "    <tr>\n",
       "      <th>0</th>\n",
       "      <td>1.0</td>\n",
       "      <td>0.0</td>\n",
       "      <td>0.0</td>\n",
       "    </tr>\n",
       "    <tr>\n",
       "      <th>1</th>\n",
       "      <td>1.0</td>\n",
       "      <td>0.0</td>\n",
       "      <td>0.0</td>\n",
       "    </tr>\n",
       "    <tr>\n",
       "      <th>2</th>\n",
       "      <td>1.0</td>\n",
       "      <td>0.0</td>\n",
       "      <td>0.0</td>\n",
       "    </tr>\n",
       "    <tr>\n",
       "      <th>3</th>\n",
       "      <td>1.0</td>\n",
       "      <td>0.0</td>\n",
       "      <td>0.0</td>\n",
       "    </tr>\n",
       "    <tr>\n",
       "      <th>4</th>\n",
       "      <td>1.0</td>\n",
       "      <td>0.0</td>\n",
       "      <td>0.0</td>\n",
       "    </tr>\n",
       "    <tr>\n",
       "      <th>...</th>\n",
       "      <td>...</td>\n",
       "      <td>...</td>\n",
       "      <td>...</td>\n",
       "    </tr>\n",
       "    <tr>\n",
       "      <th>349411</th>\n",
       "      <td>1.0</td>\n",
       "      <td>0.0</td>\n",
       "      <td>0.0</td>\n",
       "    </tr>\n",
       "    <tr>\n",
       "      <th>349412</th>\n",
       "      <td>1.0</td>\n",
       "      <td>0.0</td>\n",
       "      <td>0.0</td>\n",
       "    </tr>\n",
       "    <tr>\n",
       "      <th>349413</th>\n",
       "      <td>1.0</td>\n",
       "      <td>0.0</td>\n",
       "      <td>0.0</td>\n",
       "    </tr>\n",
       "    <tr>\n",
       "      <th>349414</th>\n",
       "      <td>1.0</td>\n",
       "      <td>0.0</td>\n",
       "      <td>0.0</td>\n",
       "    </tr>\n",
       "    <tr>\n",
       "      <th>349415</th>\n",
       "      <td>1.0</td>\n",
       "      <td>0.0</td>\n",
       "      <td>0.0</td>\n",
       "    </tr>\n",
       "  </tbody>\n",
       "</table>\n",
       "<p>349416 rows × 3 columns</p>\n",
       "</div>"
      ],
      "text/plain": [
       "          0    1    2\n",
       "0       1.0  0.0  0.0\n",
       "1       1.0  0.0  0.0\n",
       "2       1.0  0.0  0.0\n",
       "3       1.0  0.0  0.0\n",
       "4       1.0  0.0  0.0\n",
       "...     ...  ...  ...\n",
       "349411  1.0  0.0  0.0\n",
       "349412  1.0  0.0  0.0\n",
       "349413  1.0  0.0  0.0\n",
       "349414  1.0  0.0  0.0\n",
       "349415  1.0  0.0  0.0\n",
       "\n",
       "[349416 rows x 3 columns]"
      ]
     },
     "execution_count": 24,
     "metadata": {},
     "output_type": "execute_result"
    }
   ],
   "source": [
    "y_"
   ]
  },
  {
   "cell_type": "code",
   "execution_count": 25,
   "id": "38a6aee7",
   "metadata": {
    "execution": {
     "iopub.execute_input": "2023-02-24T08:47:26.595532Z",
     "iopub.status.busy": "2023-02-24T08:47:26.594338Z",
     "iopub.status.idle": "2023-02-24T08:47:26.601199Z",
     "shell.execute_reply": "2023-02-24T08:47:26.600276Z"
    },
    "papermill": {
     "duration": 0.019862,
     "end_time": "2023-02-24T08:47:26.603446",
     "exception": false,
     "start_time": "2023-02-24T08:47:26.583584",
     "status": "completed"
    },
    "tags": []
   },
   "outputs": [],
   "source": [
    "y = torch.tensor(y, dtype=torch.float32)"
   ]
  },
  {
   "cell_type": "code",
   "execution_count": 26,
   "id": "553b7e3f",
   "metadata": {
    "execution": {
     "iopub.execute_input": "2023-02-24T08:47:26.626316Z",
     "iopub.status.busy": "2023-02-24T08:47:26.625552Z",
     "iopub.status.idle": "2023-02-24T08:47:26.709726Z",
     "shell.execute_reply": "2023-02-24T08:47:26.708712Z"
    },
    "papermill": {
     "duration": 0.098216,
     "end_time": "2023-02-24T08:47:26.712277",
     "exception": false,
     "start_time": "2023-02-24T08:47:26.614061",
     "status": "completed"
    },
    "tags": []
   },
   "outputs": [],
   "source": [
    "x_train, x_test, y_train, y_test = train_test_split(X, y, train_size=0.7, shuffle=True)"
   ]
  },
  {
   "cell_type": "code",
   "execution_count": 27,
   "id": "7f019f2f",
   "metadata": {
    "execution": {
     "iopub.execute_input": "2023-02-24T08:47:26.733574Z",
     "iopub.status.busy": "2023-02-24T08:47:26.733155Z",
     "iopub.status.idle": "2023-02-24T08:47:26.739739Z",
     "shell.execute_reply": "2023-02-24T08:47:26.738346Z"
    },
    "papermill": {
     "duration": 0.021398,
     "end_time": "2023-02-24T08:47:26.743456",
     "exception": false,
     "start_time": "2023-02-24T08:47:26.722058",
     "status": "completed"
    },
    "tags": []
   },
   "outputs": [
    {
     "name": "stdout",
     "output_type": "stream",
     "text": [
      "torch.Size([244591, 17])\n",
      "torch.Size([104825, 17])\n",
      "torch.Size([244591, 3])\n",
      "torch.Size([104825, 3])\n"
     ]
    }
   ],
   "source": [
    "print(x_train.shape)\n",
    "print(x_test.shape)\n",
    "print(y_train.shape)\n",
    "print(y_test.shape)"
   ]
  },
  {
   "cell_type": "code",
   "execution_count": 28,
   "id": "e5ded65e",
   "metadata": {
    "execution": {
     "iopub.execute_input": "2023-02-24T08:47:26.765554Z",
     "iopub.status.busy": "2023-02-24T08:47:26.765088Z",
     "iopub.status.idle": "2023-02-24T08:47:26.771914Z",
     "shell.execute_reply": "2023-02-24T08:47:26.770869Z"
    },
    "papermill": {
     "duration": 0.020006,
     "end_time": "2023-02-24T08:47:26.774277",
     "exception": false,
     "start_time": "2023-02-24T08:47:26.754271",
     "status": "completed"
    },
    "tags": []
   },
   "outputs": [],
   "source": [
    "class Multiclass(nn.Module):\n",
    "    \n",
    "    def __init__(self):\n",
    "        super().__init__()\n",
    "        self.hidden = nn.Linear(17, 34)\n",
    "        self.act = nn.ReLU()\n",
    "        self.output = nn.Linear(34, 3)\n",
    "        \n",
    "    def forward(self, x):\n",
    "        x = self.act(self.hidden(x))\n",
    "        x = self.output(x)\n",
    "        \n",
    "        return x"
   ]
  },
  {
   "cell_type": "code",
   "execution_count": 29,
   "id": "223fc2a7",
   "metadata": {
    "execution": {
     "iopub.execute_input": "2023-02-24T08:47:26.794932Z",
     "iopub.status.busy": "2023-02-24T08:47:26.794540Z",
     "iopub.status.idle": "2023-02-24T08:47:26.812182Z",
     "shell.execute_reply": "2023-02-24T08:47:26.810922Z"
    },
    "papermill": {
     "duration": 0.031057,
     "end_time": "2023-02-24T08:47:26.814799",
     "exception": false,
     "start_time": "2023-02-24T08:47:26.783742",
     "status": "completed"
    },
    "tags": []
   },
   "outputs": [],
   "source": [
    "model = Multiclass()\n",
    "loss_fn = nn.CrossEntropyLoss()\n",
    "optimizer = optim.Adam(model.parameters(), lr=0.001)"
   ]
  },
  {
   "cell_type": "code",
   "execution_count": null,
   "id": "12482159",
   "metadata": {
    "papermill": {
     "duration": 0.009065,
     "end_time": "2023-02-24T08:47:26.833321",
     "exception": false,
     "start_time": "2023-02-24T08:47:26.824256",
     "status": "completed"
    },
    "tags": []
   },
   "outputs": [],
   "source": []
  }
 ],
 "metadata": {
  "kernelspec": {
   "display_name": "Python 3",
   "language": "python",
   "name": "python3"
  },
  "language_info": {
   "codemirror_mode": {
    "name": "ipython",
    "version": 3
   },
   "file_extension": ".py",
   "mimetype": "text/x-python",
   "name": "python",
   "nbconvert_exporter": "python",
   "pygments_lexer": "ipython3",
   "version": "3.7.12"
  },
  "papermill": {
   "default_parameters": {},
   "duration": 14.605257,
   "end_time": "2023-02-24T08:47:27.865809",
   "environment_variables": {},
   "exception": null,
   "input_path": "__notebook__.ipynb",
   "output_path": "__notebook__.ipynb",
   "parameters": {},
   "start_time": "2023-02-24T08:47:13.260552",
   "version": "2.3.4"
  }
 },
 "nbformat": 4,
 "nbformat_minor": 5
}
