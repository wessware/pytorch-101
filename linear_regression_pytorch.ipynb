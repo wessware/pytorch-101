{
  "nbformat": 4,
  "nbformat_minor": 0,
  "metadata": {
    "colab": {
      "provenance": [],
      "authorship_tag": "ABX9TyMzZREv6ozsrx69uPamIV1/",
      "include_colab_link": true
    },
    "kernelspec": {
      "name": "python3",
      "display_name": "Python 3"
    },
    "language_info": {
      "name": "python"
    }
  },
  "cells": [
    {
      "cell_type": "markdown",
      "metadata": {
        "id": "view-in-github",
        "colab_type": "text"
      },
      "source": [
        "<a href=\"https://colab.research.google.com/github/wessware/pytorch-101/blob/main/linear_regression_pytorch.ipynb\" target=\"_parent\"><img src=\"https://colab.research.google.com/assets/colab-badge.svg\" alt=\"Open In Colab\"/></a>"
      ]
    },
    {
      "cell_type": "code",
      "execution_count": 73,
      "metadata": {
        "id": "GNlngFytvkHi"
      },
      "outputs": [],
      "source": [
        "import copy\n",
        "\n",
        "import numpy as np\n",
        "import pandas as pd\n",
        "import matplotlib.pyplot as plt\n",
        "\n",
        "import torch\n",
        "import torch.nn as nn\n",
        "import torch.optim as optim\n",
        "import torch\n",
        "\n",
        "from sklearn.model_selection import train_test_split\n",
        "from sklearn.preprocessing import StandardScaler, LabelEncoder"
      ]
    },
    {
      "cell_type": "code",
      "source": [
        "df = pd.read_csv('/content/sample_data/sales_data.csv', index_col=None)"
      ],
      "metadata": {
        "id": "s5ZdZV57wi-7"
      },
      "execution_count": 74,
      "outputs": []
    },
    {
      "cell_type": "code",
      "source": [
        "df.shape"
      ],
      "metadata": {
        "colab": {
          "base_uri": "https://localhost:8080/"
        },
        "id": "C3CC24ZTzBiM",
        "outputId": "39f3f165-4278-4313-a526-e7cfa2334833"
      },
      "execution_count": 75,
      "outputs": [
        {
          "output_type": "execute_result",
          "data": {
            "text/plain": [
              "(7991, 12)"
            ]
          },
          "metadata": {},
          "execution_count": 75
        }
      ]
    },
    {
      "cell_type": "code",
      "source": [
        "df.head()"
      ],
      "metadata": {
        "colab": {
          "base_uri": "https://localhost:8080/",
          "height": 374
        },
        "id": "bk_QeRKrwrRW",
        "outputId": "a3c0e00b-2b1d-4837-8a33-427822b236af"
      },
      "execution_count": 76,
      "outputs": [
        {
          "output_type": "execute_result",
          "data": {
            "text/plain": [
              "   OrderNumber  OrderDate WarehouseCode  Sales Channel  StoreID  SalesTeamID  \\\n",
              "0  SO - 000101  5/31/2018  WARE-UHY1004              1      259            6   \n",
              "1  SO - 000102  5/31/2018  WARE-NMK1003              2      196           14   \n",
              "2  SO - 000103  5/31/2018  WARE-UHY1004              3      213           21   \n",
              "3  SO - 000104  5/31/2018  WARE-NMK1003              4      107           28   \n",
              "4  SO - 000105  5/31/2018  WARE-NMK1003              3      111           22   \n",
              "\n",
              "   CustomerID  ProductID  Order_Quantity  Discount_Applied  Unit_Price  \\\n",
              "0          15         12               5             0.075      1963.1   \n",
              "1          20         27               3             0.075      3939.6   \n",
              "2          16         16               1             0.050      1775.5   \n",
              "3          48         23               8             0.075      2324.9   \n",
              "4          49         26               8             0.100      1822.4   \n",
              "\n",
              "   Unit_Cost  \n",
              "0    1001.18  \n",
              "1    3348.66  \n",
              "2     781.22  \n",
              "3    1464.69  \n",
              "4    1476.14  "
            ],
            "text/html": [
              "\n",
              "  <div id=\"df-28cd7de7-1b29-4dc5-b6b2-090ea97fff49\">\n",
              "    <div class=\"colab-df-container\">\n",
              "      <div>\n",
              "<style scoped>\n",
              "    .dataframe tbody tr th:only-of-type {\n",
              "        vertical-align: middle;\n",
              "    }\n",
              "\n",
              "    .dataframe tbody tr th {\n",
              "        vertical-align: top;\n",
              "    }\n",
              "\n",
              "    .dataframe thead th {\n",
              "        text-align: right;\n",
              "    }\n",
              "</style>\n",
              "<table border=\"1\" class=\"dataframe\">\n",
              "  <thead>\n",
              "    <tr style=\"text-align: right;\">\n",
              "      <th></th>\n",
              "      <th>OrderNumber</th>\n",
              "      <th>OrderDate</th>\n",
              "      <th>WarehouseCode</th>\n",
              "      <th>Sales Channel</th>\n",
              "      <th>StoreID</th>\n",
              "      <th>SalesTeamID</th>\n",
              "      <th>CustomerID</th>\n",
              "      <th>ProductID</th>\n",
              "      <th>Order_Quantity</th>\n",
              "      <th>Discount_Applied</th>\n",
              "      <th>Unit_Price</th>\n",
              "      <th>Unit_Cost</th>\n",
              "    </tr>\n",
              "  </thead>\n",
              "  <tbody>\n",
              "    <tr>\n",
              "      <th>0</th>\n",
              "      <td>SO - 000101</td>\n",
              "      <td>5/31/2018</td>\n",
              "      <td>WARE-UHY1004</td>\n",
              "      <td>1</td>\n",
              "      <td>259</td>\n",
              "      <td>6</td>\n",
              "      <td>15</td>\n",
              "      <td>12</td>\n",
              "      <td>5</td>\n",
              "      <td>0.075</td>\n",
              "      <td>1963.1</td>\n",
              "      <td>1001.18</td>\n",
              "    </tr>\n",
              "    <tr>\n",
              "      <th>1</th>\n",
              "      <td>SO - 000102</td>\n",
              "      <td>5/31/2018</td>\n",
              "      <td>WARE-NMK1003</td>\n",
              "      <td>2</td>\n",
              "      <td>196</td>\n",
              "      <td>14</td>\n",
              "      <td>20</td>\n",
              "      <td>27</td>\n",
              "      <td>3</td>\n",
              "      <td>0.075</td>\n",
              "      <td>3939.6</td>\n",
              "      <td>3348.66</td>\n",
              "    </tr>\n",
              "    <tr>\n",
              "      <th>2</th>\n",
              "      <td>SO - 000103</td>\n",
              "      <td>5/31/2018</td>\n",
              "      <td>WARE-UHY1004</td>\n",
              "      <td>3</td>\n",
              "      <td>213</td>\n",
              "      <td>21</td>\n",
              "      <td>16</td>\n",
              "      <td>16</td>\n",
              "      <td>1</td>\n",
              "      <td>0.050</td>\n",
              "      <td>1775.5</td>\n",
              "      <td>781.22</td>\n",
              "    </tr>\n",
              "    <tr>\n",
              "      <th>3</th>\n",
              "      <td>SO - 000104</td>\n",
              "      <td>5/31/2018</td>\n",
              "      <td>WARE-NMK1003</td>\n",
              "      <td>4</td>\n",
              "      <td>107</td>\n",
              "      <td>28</td>\n",
              "      <td>48</td>\n",
              "      <td>23</td>\n",
              "      <td>8</td>\n",
              "      <td>0.075</td>\n",
              "      <td>2324.9</td>\n",
              "      <td>1464.69</td>\n",
              "    </tr>\n",
              "    <tr>\n",
              "      <th>4</th>\n",
              "      <td>SO - 000105</td>\n",
              "      <td>5/31/2018</td>\n",
              "      <td>WARE-NMK1003</td>\n",
              "      <td>3</td>\n",
              "      <td>111</td>\n",
              "      <td>22</td>\n",
              "      <td>49</td>\n",
              "      <td>26</td>\n",
              "      <td>8</td>\n",
              "      <td>0.100</td>\n",
              "      <td>1822.4</td>\n",
              "      <td>1476.14</td>\n",
              "    </tr>\n",
              "  </tbody>\n",
              "</table>\n",
              "</div>\n",
              "      <button class=\"colab-df-convert\" onclick=\"convertToInteractive('df-28cd7de7-1b29-4dc5-b6b2-090ea97fff49')\"\n",
              "              title=\"Convert this dataframe to an interactive table.\"\n",
              "              style=\"display:none;\">\n",
              "        \n",
              "  <svg xmlns=\"http://www.w3.org/2000/svg\" height=\"24px\"viewBox=\"0 0 24 24\"\n",
              "       width=\"24px\">\n",
              "    <path d=\"M0 0h24v24H0V0z\" fill=\"none\"/>\n",
              "    <path d=\"M18.56 5.44l.94 2.06.94-2.06 2.06-.94-2.06-.94-.94-2.06-.94 2.06-2.06.94zm-11 1L8.5 8.5l.94-2.06 2.06-.94-2.06-.94L8.5 2.5l-.94 2.06-2.06.94zm10 10l.94 2.06.94-2.06 2.06-.94-2.06-.94-.94-2.06-.94 2.06-2.06.94z\"/><path d=\"M17.41 7.96l-1.37-1.37c-.4-.4-.92-.59-1.43-.59-.52 0-1.04.2-1.43.59L10.3 9.45l-7.72 7.72c-.78.78-.78 2.05 0 2.83L4 21.41c.39.39.9.59 1.41.59.51 0 1.02-.2 1.41-.59l7.78-7.78 2.81-2.81c.8-.78.8-2.07 0-2.86zM5.41 20L4 18.59l7.72-7.72 1.47 1.35L5.41 20z\"/>\n",
              "  </svg>\n",
              "      </button>\n",
              "      \n",
              "  <style>\n",
              "    .colab-df-container {\n",
              "      display:flex;\n",
              "      flex-wrap:wrap;\n",
              "      gap: 12px;\n",
              "    }\n",
              "\n",
              "    .colab-df-convert {\n",
              "      background-color: #E8F0FE;\n",
              "      border: none;\n",
              "      border-radius: 50%;\n",
              "      cursor: pointer;\n",
              "      display: none;\n",
              "      fill: #1967D2;\n",
              "      height: 32px;\n",
              "      padding: 0 0 0 0;\n",
              "      width: 32px;\n",
              "    }\n",
              "\n",
              "    .colab-df-convert:hover {\n",
              "      background-color: #E2EBFA;\n",
              "      box-shadow: 0px 1px 2px rgba(60, 64, 67, 0.3), 0px 1px 3px 1px rgba(60, 64, 67, 0.15);\n",
              "      fill: #174EA6;\n",
              "    }\n",
              "\n",
              "    [theme=dark] .colab-df-convert {\n",
              "      background-color: #3B4455;\n",
              "      fill: #D2E3FC;\n",
              "    }\n",
              "\n",
              "    [theme=dark] .colab-df-convert:hover {\n",
              "      background-color: #434B5C;\n",
              "      box-shadow: 0px 1px 3px 1px rgba(0, 0, 0, 0.15);\n",
              "      filter: drop-shadow(0px 1px 2px rgba(0, 0, 0, 0.3));\n",
              "      fill: #FFFFFF;\n",
              "    }\n",
              "  </style>\n",
              "\n",
              "      <script>\n",
              "        const buttonEl =\n",
              "          document.querySelector('#df-28cd7de7-1b29-4dc5-b6b2-090ea97fff49 button.colab-df-convert');\n",
              "        buttonEl.style.display =\n",
              "          google.colab.kernel.accessAllowed ? 'block' : 'none';\n",
              "\n",
              "        async function convertToInteractive(key) {\n",
              "          const element = document.querySelector('#df-28cd7de7-1b29-4dc5-b6b2-090ea97fff49');\n",
              "          const dataTable =\n",
              "            await google.colab.kernel.invokeFunction('convertToInteractive',\n",
              "                                                     [key], {});\n",
              "          if (!dataTable) return;\n",
              "\n",
              "          const docLinkHtml = 'Like what you see? Visit the ' +\n",
              "            '<a target=\"_blank\" href=https://colab.research.google.com/notebooks/data_table.ipynb>data table notebook</a>'\n",
              "            + ' to learn more about interactive tables.';\n",
              "          element.innerHTML = '';\n",
              "          dataTable['output_type'] = 'display_data';\n",
              "          await google.colab.output.renderOutput(dataTable, element);\n",
              "          const docLink = document.createElement('div');\n",
              "          docLink.innerHTML = docLinkHtml;\n",
              "          element.appendChild(docLink);\n",
              "        }\n",
              "      </script>\n",
              "    </div>\n",
              "  </div>\n",
              "  "
            ]
          },
          "metadata": {},
          "execution_count": 76
        }
      ]
    },
    {
      "cell_type": "code",
      "source": [
        "df.columns"
      ],
      "metadata": {
        "colab": {
          "base_uri": "https://localhost:8080/"
        },
        "id": "FTBb6yyEws1p",
        "outputId": "e12292fc-ed7b-45a3-ef3e-e8ed22913442"
      },
      "execution_count": 77,
      "outputs": [
        {
          "output_type": "execute_result",
          "data": {
            "text/plain": [
              "Index(['OrderNumber', 'OrderDate', 'WarehouseCode', 'Sales Channel', 'StoreID',\n",
              "       'SalesTeamID', 'CustomerID', 'ProductID', 'Order_Quantity',\n",
              "       'Discount_Applied', 'Unit_Price', 'Unit_Cost'],\n",
              "      dtype='object')"
            ]
          },
          "metadata": {},
          "execution_count": 77
        }
      ]
    },
    {
      "cell_type": "code",
      "source": [
        "df = df[['Sales Channel', 'StoreID', 'SalesTeamID', 'CustomerID', 'ProductID', 'Order_Quantity', 'Discount_Applied',\n",
        "         'Unit_Price', 'Unit_Cost']]"
      ],
      "metadata": {
        "id": "gHWXV6kKwyMx"
      },
      "execution_count": 78,
      "outputs": []
    },
    {
      "cell_type": "code",
      "source": [
        "df.columns"
      ],
      "metadata": {
        "colab": {
          "base_uri": "https://localhost:8080/"
        },
        "id": "9tczdbenxONh",
        "outputId": "e1cee78a-672c-4f64-9f50-7b23d71db7f0"
      },
      "execution_count": 79,
      "outputs": [
        {
          "output_type": "execute_result",
          "data": {
            "text/plain": [
              "Index(['Sales Channel', 'StoreID', 'SalesTeamID', 'CustomerID', 'ProductID',\n",
              "       'Order_Quantity', 'Discount_Applied', 'Unit_Price', 'Unit_Cost'],\n",
              "      dtype='object')"
            ]
          },
          "metadata": {},
          "execution_count": 79
        }
      ]
    },
    {
      "cell_type": "code",
      "source": [
        "df.isnull().sum()"
      ],
      "metadata": {
        "colab": {
          "base_uri": "https://localhost:8080/"
        },
        "id": "IqojCoPpxQAO",
        "outputId": "f886605d-d240-4d47-ca55-7eb873657c23"
      },
      "execution_count": 80,
      "outputs": [
        {
          "output_type": "execute_result",
          "data": {
            "text/plain": [
              "Sales Channel       0\n",
              "StoreID             0\n",
              "SalesTeamID         0\n",
              "CustomerID          0\n",
              "ProductID           0\n",
              "Order_Quantity      0\n",
              "Discount_Applied    0\n",
              "Unit_Price          0\n",
              "Unit_Cost           0\n",
              "dtype: int64"
            ]
          },
          "metadata": {},
          "execution_count": 80
        }
      ]
    },
    {
      "cell_type": "code",
      "source": [
        "df.info()"
      ],
      "metadata": {
        "colab": {
          "base_uri": "https://localhost:8080/"
        },
        "id": "grsUCY4oxq7c",
        "outputId": "598a33c7-0bd7-4b6a-fbfd-880aecc69695"
      },
      "execution_count": 81,
      "outputs": [
        {
          "output_type": "stream",
          "name": "stdout",
          "text": [
            "<class 'pandas.core.frame.DataFrame'>\n",
            "RangeIndex: 7991 entries, 0 to 7990\n",
            "Data columns (total 9 columns):\n",
            " #   Column            Non-Null Count  Dtype  \n",
            "---  ------            --------------  -----  \n",
            " 0   Sales Channel     7991 non-null   int64  \n",
            " 1   StoreID           7991 non-null   int64  \n",
            " 2   SalesTeamID       7991 non-null   int64  \n",
            " 3   CustomerID        7991 non-null   int64  \n",
            " 4   ProductID         7991 non-null   int64  \n",
            " 5   Order_Quantity    7991 non-null   int64  \n",
            " 6   Discount_Applied  7991 non-null   float64\n",
            " 7   Unit_Price        7991 non-null   float64\n",
            " 8   Unit_Cost         7991 non-null   float64\n",
            "dtypes: float64(3), int64(6)\n",
            "memory usage: 562.0 KB\n"
          ]
        }
      ]
    },
    {
      "cell_type": "code",
      "source": [
        "df.index"
      ],
      "metadata": {
        "colab": {
          "base_uri": "https://localhost:8080/"
        },
        "id": "mBKDwkWf1FhS",
        "outputId": "3cace1c4-2883-4670-98fc-7f4b77988b62"
      },
      "execution_count": 82,
      "outputs": [
        {
          "output_type": "execute_result",
          "data": {
            "text/plain": [
              "RangeIndex(start=0, stop=7991, step=1)"
            ]
          },
          "metadata": {},
          "execution_count": 82
        }
      ]
    },
    {
      "cell_type": "code",
      "source": [
        "x_cols = ['Sales Channel', 'StoreID', 'SalesTeamID', 'CustomerID', 'ProductID', 'Discount_Applied',\n",
        "         'Unit_Price', 'Unit_Cost']"
      ],
      "metadata": {
        "id": "EYNvnuL12fQ0"
      },
      "execution_count": 83,
      "outputs": []
    },
    {
      "cell_type": "code",
      "source": [
        "x = df[x_cols]\n",
        "y = df['Order_Quantity']"
      ],
      "metadata": {
        "id": "zYGplyge1wHy"
      },
      "execution_count": 84,
      "outputs": []
    },
    {
      "cell_type": "code",
      "source": [
        "x.head()"
      ],
      "metadata": {
        "colab": {
          "base_uri": "https://localhost:8080/",
          "height": 206
        },
        "id": "9-0ZLiLpLORH",
        "outputId": "7981ac8d-6dab-4f31-e779-5267d4766fb0"
      },
      "execution_count": 85,
      "outputs": [
        {
          "output_type": "execute_result",
          "data": {
            "text/plain": [
              "   Sales Channel  StoreID  SalesTeamID  CustomerID  ProductID  \\\n",
              "0              1      259            6          15         12   \n",
              "1              2      196           14          20         27   \n",
              "2              3      213           21          16         16   \n",
              "3              4      107           28          48         23   \n",
              "4              3      111           22          49         26   \n",
              "\n",
              "   Discount_Applied  Unit_Price  Unit_Cost  \n",
              "0             0.075      1963.1    1001.18  \n",
              "1             0.075      3939.6    3348.66  \n",
              "2             0.050      1775.5     781.22  \n",
              "3             0.075      2324.9    1464.69  \n",
              "4             0.100      1822.4    1476.14  "
            ],
            "text/html": [
              "\n",
              "  <div id=\"df-4aa5f35b-b1c8-4f7b-856c-cf736bdb3709\">\n",
              "    <div class=\"colab-df-container\">\n",
              "      <div>\n",
              "<style scoped>\n",
              "    .dataframe tbody tr th:only-of-type {\n",
              "        vertical-align: middle;\n",
              "    }\n",
              "\n",
              "    .dataframe tbody tr th {\n",
              "        vertical-align: top;\n",
              "    }\n",
              "\n",
              "    .dataframe thead th {\n",
              "        text-align: right;\n",
              "    }\n",
              "</style>\n",
              "<table border=\"1\" class=\"dataframe\">\n",
              "  <thead>\n",
              "    <tr style=\"text-align: right;\">\n",
              "      <th></th>\n",
              "      <th>Sales Channel</th>\n",
              "      <th>StoreID</th>\n",
              "      <th>SalesTeamID</th>\n",
              "      <th>CustomerID</th>\n",
              "      <th>ProductID</th>\n",
              "      <th>Discount_Applied</th>\n",
              "      <th>Unit_Price</th>\n",
              "      <th>Unit_Cost</th>\n",
              "    </tr>\n",
              "  </thead>\n",
              "  <tbody>\n",
              "    <tr>\n",
              "      <th>0</th>\n",
              "      <td>1</td>\n",
              "      <td>259</td>\n",
              "      <td>6</td>\n",
              "      <td>15</td>\n",
              "      <td>12</td>\n",
              "      <td>0.075</td>\n",
              "      <td>1963.1</td>\n",
              "      <td>1001.18</td>\n",
              "    </tr>\n",
              "    <tr>\n",
              "      <th>1</th>\n",
              "      <td>2</td>\n",
              "      <td>196</td>\n",
              "      <td>14</td>\n",
              "      <td>20</td>\n",
              "      <td>27</td>\n",
              "      <td>0.075</td>\n",
              "      <td>3939.6</td>\n",
              "      <td>3348.66</td>\n",
              "    </tr>\n",
              "    <tr>\n",
              "      <th>2</th>\n",
              "      <td>3</td>\n",
              "      <td>213</td>\n",
              "      <td>21</td>\n",
              "      <td>16</td>\n",
              "      <td>16</td>\n",
              "      <td>0.050</td>\n",
              "      <td>1775.5</td>\n",
              "      <td>781.22</td>\n",
              "    </tr>\n",
              "    <tr>\n",
              "      <th>3</th>\n",
              "      <td>4</td>\n",
              "      <td>107</td>\n",
              "      <td>28</td>\n",
              "      <td>48</td>\n",
              "      <td>23</td>\n",
              "      <td>0.075</td>\n",
              "      <td>2324.9</td>\n",
              "      <td>1464.69</td>\n",
              "    </tr>\n",
              "    <tr>\n",
              "      <th>4</th>\n",
              "      <td>3</td>\n",
              "      <td>111</td>\n",
              "      <td>22</td>\n",
              "      <td>49</td>\n",
              "      <td>26</td>\n",
              "      <td>0.100</td>\n",
              "      <td>1822.4</td>\n",
              "      <td>1476.14</td>\n",
              "    </tr>\n",
              "  </tbody>\n",
              "</table>\n",
              "</div>\n",
              "      <button class=\"colab-df-convert\" onclick=\"convertToInteractive('df-4aa5f35b-b1c8-4f7b-856c-cf736bdb3709')\"\n",
              "              title=\"Convert this dataframe to an interactive table.\"\n",
              "              style=\"display:none;\">\n",
              "        \n",
              "  <svg xmlns=\"http://www.w3.org/2000/svg\" height=\"24px\"viewBox=\"0 0 24 24\"\n",
              "       width=\"24px\">\n",
              "    <path d=\"M0 0h24v24H0V0z\" fill=\"none\"/>\n",
              "    <path d=\"M18.56 5.44l.94 2.06.94-2.06 2.06-.94-2.06-.94-.94-2.06-.94 2.06-2.06.94zm-11 1L8.5 8.5l.94-2.06 2.06-.94-2.06-.94L8.5 2.5l-.94 2.06-2.06.94zm10 10l.94 2.06.94-2.06 2.06-.94-2.06-.94-.94-2.06-.94 2.06-2.06.94z\"/><path d=\"M17.41 7.96l-1.37-1.37c-.4-.4-.92-.59-1.43-.59-.52 0-1.04.2-1.43.59L10.3 9.45l-7.72 7.72c-.78.78-.78 2.05 0 2.83L4 21.41c.39.39.9.59 1.41.59.51 0 1.02-.2 1.41-.59l7.78-7.78 2.81-2.81c.8-.78.8-2.07 0-2.86zM5.41 20L4 18.59l7.72-7.72 1.47 1.35L5.41 20z\"/>\n",
              "  </svg>\n",
              "      </button>\n",
              "      \n",
              "  <style>\n",
              "    .colab-df-container {\n",
              "      display:flex;\n",
              "      flex-wrap:wrap;\n",
              "      gap: 12px;\n",
              "    }\n",
              "\n",
              "    .colab-df-convert {\n",
              "      background-color: #E8F0FE;\n",
              "      border: none;\n",
              "      border-radius: 50%;\n",
              "      cursor: pointer;\n",
              "      display: none;\n",
              "      fill: #1967D2;\n",
              "      height: 32px;\n",
              "      padding: 0 0 0 0;\n",
              "      width: 32px;\n",
              "    }\n",
              "\n",
              "    .colab-df-convert:hover {\n",
              "      background-color: #E2EBFA;\n",
              "      box-shadow: 0px 1px 2px rgba(60, 64, 67, 0.3), 0px 1px 3px 1px rgba(60, 64, 67, 0.15);\n",
              "      fill: #174EA6;\n",
              "    }\n",
              "\n",
              "    [theme=dark] .colab-df-convert {\n",
              "      background-color: #3B4455;\n",
              "      fill: #D2E3FC;\n",
              "    }\n",
              "\n",
              "    [theme=dark] .colab-df-convert:hover {\n",
              "      background-color: #434B5C;\n",
              "      box-shadow: 0px 1px 3px 1px rgba(0, 0, 0, 0.15);\n",
              "      filter: drop-shadow(0px 1px 2px rgba(0, 0, 0, 0.3));\n",
              "      fill: #FFFFFF;\n",
              "    }\n",
              "  </style>\n",
              "\n",
              "      <script>\n",
              "        const buttonEl =\n",
              "          document.querySelector('#df-4aa5f35b-b1c8-4f7b-856c-cf736bdb3709 button.colab-df-convert');\n",
              "        buttonEl.style.display =\n",
              "          google.colab.kernel.accessAllowed ? 'block' : 'none';\n",
              "\n",
              "        async function convertToInteractive(key) {\n",
              "          const element = document.querySelector('#df-4aa5f35b-b1c8-4f7b-856c-cf736bdb3709');\n",
              "          const dataTable =\n",
              "            await google.colab.kernel.invokeFunction('convertToInteractive',\n",
              "                                                     [key], {});\n",
              "          if (!dataTable) return;\n",
              "\n",
              "          const docLinkHtml = 'Like what you see? Visit the ' +\n",
              "            '<a target=\"_blank\" href=https://colab.research.google.com/notebooks/data_table.ipynb>data table notebook</a>'\n",
              "            + ' to learn more about interactive tables.';\n",
              "          element.innerHTML = '';\n",
              "          dataTable['output_type'] = 'display_data';\n",
              "          await google.colab.output.renderOutput(dataTable, element);\n",
              "          const docLink = document.createElement('div');\n",
              "          docLink.innerHTML = docLinkHtml;\n",
              "          element.appendChild(docLink);\n",
              "        }\n",
              "      </script>\n",
              "    </div>\n",
              "  </div>\n",
              "  "
            ]
          },
          "metadata": {},
          "execution_count": 85
        }
      ]
    },
    {
      "cell_type": "code",
      "source": [
        "x_train_, x_test_, y_train, y_test = train_test_split(x, y, train_size=0.7, shuffle=True)"
      ],
      "metadata": {
        "id": "T9pOKtVJ2Aed"
      },
      "execution_count": 86,
      "outputs": []
    },
    {
      "cell_type": "code",
      "source": [
        "scaler = StandardScaler()\n",
        "\n",
        "scaler.fit(x_train_)\n",
        "\n",
        "x_train = scaler.transform(x_train_)\n",
        "x_test = scaler.transform(x_test_)"
      ],
      "metadata": {
        "id": "k5U3Q9Ep3Ihe"
      },
      "execution_count": 87,
      "outputs": []
    },
    {
      "cell_type": "code",
      "source": [
        "x_train = torch.tensor(x_train, dtype=torch.float32)\n",
        "y_train = torch.tensor(y_train, dtype=torch.float32).reshape(-1, 1)\n",
        "x_test = torch.tensor(x_test, dtype=torch.float32)\n",
        "y_test = torch.tensor(y_test, dtype=torch.float32).reshape(-1, 1)"
      ],
      "metadata": {
        "colab": {
          "base_uri": "https://localhost:8080/",
          "height": 200
        },
        "id": "NnrAoNUz3oLa",
        "outputId": "eb44b5e9-e81c-4146-fabe-0aea5df9c494"
      },
      "execution_count": 88,
      "outputs": [
        {
          "output_type": "error",
          "ename": "ValueError",
          "evalue": "ignored",
          "traceback": [
            "\u001b[0;31m---------------------------------------------------------------------------\u001b[0m",
            "\u001b[0;31mValueError\u001b[0m                                Traceback (most recent call last)",
            "\u001b[0;32m<ipython-input-88-4a813fa9984d>\u001b[0m in \u001b[0;36m<module>\u001b[0;34m\u001b[0m\n\u001b[1;32m      2\u001b[0m \u001b[0my_train\u001b[0m \u001b[0;34m=\u001b[0m \u001b[0mtorch\u001b[0m\u001b[0;34m.\u001b[0m\u001b[0mtensor\u001b[0m\u001b[0;34m(\u001b[0m\u001b[0my_train\u001b[0m\u001b[0;34m,\u001b[0m \u001b[0mdtype\u001b[0m\u001b[0;34m=\u001b[0m\u001b[0mtorch\u001b[0m\u001b[0;34m.\u001b[0m\u001b[0mfloat32\u001b[0m\u001b[0;34m)\u001b[0m\u001b[0;34m.\u001b[0m\u001b[0mreshape\u001b[0m\u001b[0;34m(\u001b[0m\u001b[0;34m-\u001b[0m\u001b[0;36m1\u001b[0m\u001b[0;34m,\u001b[0m \u001b[0;36m1\u001b[0m\u001b[0;34m)\u001b[0m\u001b[0;34m\u001b[0m\u001b[0;34m\u001b[0m\u001b[0m\n\u001b[1;32m      3\u001b[0m \u001b[0mx_test\u001b[0m \u001b[0;34m=\u001b[0m \u001b[0mtorch\u001b[0m\u001b[0;34m.\u001b[0m\u001b[0mtensor\u001b[0m\u001b[0;34m(\u001b[0m\u001b[0mx_test\u001b[0m\u001b[0;34m,\u001b[0m \u001b[0mdtype\u001b[0m\u001b[0;34m=\u001b[0m\u001b[0mtorch\u001b[0m\u001b[0;34m.\u001b[0m\u001b[0mfloat32\u001b[0m\u001b[0;34m)\u001b[0m\u001b[0;34m\u001b[0m\u001b[0;34m\u001b[0m\u001b[0m\n\u001b[0;32m----> 4\u001b[0;31m \u001b[0my_test\u001b[0m \u001b[0;34m=\u001b[0m \u001b[0mtorch\u001b[0m\u001b[0;34m.\u001b[0m\u001b[0mtensor\u001b[0m\u001b[0;34m(\u001b[0m\u001b[0my_test\u001b[0m\u001b[0;34m,\u001b[0m \u001b[0mdtype\u001b[0m\u001b[0;34m=\u001b[0m\u001b[0mtorch\u001b[0m\u001b[0;34m.\u001b[0m\u001b[0mfloat32\u001b[0m\u001b[0;34m)\u001b[0m\u001b[0;34m.\u001b[0m\u001b[0mreshape\u001b[0m\u001b[0;34m(\u001b[0m\u001b[0;34m-\u001b[0m\u001b[0;36m1\u001b[0m\u001b[0;34m,\u001b[0m \u001b[0;36m1\u001b[0m\u001b[0;34m)\u001b[0m\u001b[0;34m\u001b[0m\u001b[0;34m\u001b[0m\u001b[0m\n\u001b[0m",
            "\u001b[0;31mValueError\u001b[0m: could not determine the shape of object type 'Series'"
          ]
        }
      ]
    },
    {
      "cell_type": "code",
      "source": [],
      "metadata": {
        "id": "kmFcP45h4FQX"
      },
      "execution_count": null,
      "outputs": []
    }
  ]
}