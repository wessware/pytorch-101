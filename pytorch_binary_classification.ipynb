{
  "nbformat": 4,
  "nbformat_minor": 0,
  "metadata": {
    "colab": {
      "provenance": [],
      "authorship_tag": "ABX9TyO4jNYA4T7+HTiHsoARos9y",
      "include_colab_link": true
    },
    "kernelspec": {
      "name": "python3",
      "display_name": "Python 3"
    },
    "language_info": {
      "name": "python"
    }
  },
  "cells": [
    {
      "cell_type": "markdown",
      "metadata": {
        "id": "view-in-github",
        "colab_type": "text"
      },
      "source": [
        "<a href=\"https://colab.research.google.com/github/wessware/pytorch-101/blob/main/pytorch_binary_classification.ipynb\" target=\"_parent\"><img src=\"https://colab.research.google.com/assets/colab-badge.svg\" alt=\"Open In Colab\"/></a>"
      ]
    },
    {
      "cell_type": "code",
      "execution_count": 21,
      "metadata": {
        "id": "i_Zinlrs0_zh"
      },
      "outputs": [],
      "source": [
        "import pandas as pd\n",
        "import numpy as np\n",
        "\n",
        "import copy\n",
        " \n",
        "import matplotlib.pyplot as plt\n",
        "\n",
        "import torch\n",
        "import torch.nn as nn\n",
        "import torch.optim as optim\n",
        "\n",
        "import tqdm\n",
        "\n",
        "from sklearn.metrics import roc_curve\n",
        "from sklearn.model_selection import StratifiedKFold, train_test_split"
      ]
    },
    {
      "cell_type": "code",
      "source": [
        "df = pd.read_csv('/content/sample_data/synthesized_loan_data.csv', index_col=None)"
      ],
      "metadata": {
        "id": "QB2W5PPl3VuS"
      },
      "execution_count": 22,
      "outputs": []
    },
    {
      "cell_type": "code",
      "source": [
        "df.shape"
      ],
      "metadata": {
        "colab": {
          "base_uri": "https://localhost:8080/"
        },
        "id": "vImgJ8aY3fLl",
        "outputId": "46aa0bd2-5730-4f8f-ded9-9f8b2b497aff"
      },
      "execution_count": 23,
      "outputs": [
        {
          "output_type": "execute_result",
          "data": {
            "text/plain": [
              "(4000, 12)"
            ]
          },
          "metadata": {},
          "execution_count": 23
        }
      ]
    },
    {
      "cell_type": "code",
      "source": [
        "df.head()"
      ],
      "metadata": {
        "colab": {
          "base_uri": "https://localhost:8080/",
          "height": 270
        },
        "id": "Ixtm6mNx3lDQ",
        "outputId": "abfbc745-abd3-4162-d254-3f29987ace33"
      },
      "execution_count": 24,
      "outputs": [
        {
          "output_type": "execute_result",
          "data": {
            "text/plain": [
              "   Gender  Married  Dependents  Education  Self_Employed  ApplicantIncome  \\\n",
              "0       1        1    1.015491          0              0               60   \n",
              "1       1        1    2.793550          1              2              299   \n",
              "2       0        0    1.020575          0              1              497   \n",
              "3       1        1    0.967628          0              0               35   \n",
              "4       1        1    1.929354          0              0              340   \n",
              "\n",
              "   CoapplicantIncome  LoanAmount  Loan_Amount_Term  Credit_History  \\\n",
              "0        2263.426739  120.264574        362.034926        0.999618   \n",
              "1         207.078743   97.333547        185.855127        0.994450   \n",
              "2        -222.105153   98.957504        361.411489        0.999132   \n",
              "3        1874.200797  141.121981        360.427013        0.999273   \n",
              "4          47.080906  322.936778        360.013915        0.979882   \n",
              "\n",
              "   Property_Area  Loan_Status  \n",
              "0              2            1  \n",
              "1              1            1  \n",
              "2              0            1  \n",
              "3              2            1  \n",
              "4              0            1  "
            ],
            "text/html": [
              "\n",
              "  <div id=\"df-e6dc6fdc-694d-42c1-8ded-7c0ea65aa444\">\n",
              "    <div class=\"colab-df-container\">\n",
              "      <div>\n",
              "<style scoped>\n",
              "    .dataframe tbody tr th:only-of-type {\n",
              "        vertical-align: middle;\n",
              "    }\n",
              "\n",
              "    .dataframe tbody tr th {\n",
              "        vertical-align: top;\n",
              "    }\n",
              "\n",
              "    .dataframe thead th {\n",
              "        text-align: right;\n",
              "    }\n",
              "</style>\n",
              "<table border=\"1\" class=\"dataframe\">\n",
              "  <thead>\n",
              "    <tr style=\"text-align: right;\">\n",
              "      <th></th>\n",
              "      <th>Gender</th>\n",
              "      <th>Married</th>\n",
              "      <th>Dependents</th>\n",
              "      <th>Education</th>\n",
              "      <th>Self_Employed</th>\n",
              "      <th>ApplicantIncome</th>\n",
              "      <th>CoapplicantIncome</th>\n",
              "      <th>LoanAmount</th>\n",
              "      <th>Loan_Amount_Term</th>\n",
              "      <th>Credit_History</th>\n",
              "      <th>Property_Area</th>\n",
              "      <th>Loan_Status</th>\n",
              "    </tr>\n",
              "  </thead>\n",
              "  <tbody>\n",
              "    <tr>\n",
              "      <th>0</th>\n",
              "      <td>1</td>\n",
              "      <td>1</td>\n",
              "      <td>1.015491</td>\n",
              "      <td>0</td>\n",
              "      <td>0</td>\n",
              "      <td>60</td>\n",
              "      <td>2263.426739</td>\n",
              "      <td>120.264574</td>\n",
              "      <td>362.034926</td>\n",
              "      <td>0.999618</td>\n",
              "      <td>2</td>\n",
              "      <td>1</td>\n",
              "    </tr>\n",
              "    <tr>\n",
              "      <th>1</th>\n",
              "      <td>1</td>\n",
              "      <td>1</td>\n",
              "      <td>2.793550</td>\n",
              "      <td>1</td>\n",
              "      <td>2</td>\n",
              "      <td>299</td>\n",
              "      <td>207.078743</td>\n",
              "      <td>97.333547</td>\n",
              "      <td>185.855127</td>\n",
              "      <td>0.994450</td>\n",
              "      <td>1</td>\n",
              "      <td>1</td>\n",
              "    </tr>\n",
              "    <tr>\n",
              "      <th>2</th>\n",
              "      <td>0</td>\n",
              "      <td>0</td>\n",
              "      <td>1.020575</td>\n",
              "      <td>0</td>\n",
              "      <td>1</td>\n",
              "      <td>497</td>\n",
              "      <td>-222.105153</td>\n",
              "      <td>98.957504</td>\n",
              "      <td>361.411489</td>\n",
              "      <td>0.999132</td>\n",
              "      <td>0</td>\n",
              "      <td>1</td>\n",
              "    </tr>\n",
              "    <tr>\n",
              "      <th>3</th>\n",
              "      <td>1</td>\n",
              "      <td>1</td>\n",
              "      <td>0.967628</td>\n",
              "      <td>0</td>\n",
              "      <td>0</td>\n",
              "      <td>35</td>\n",
              "      <td>1874.200797</td>\n",
              "      <td>141.121981</td>\n",
              "      <td>360.427013</td>\n",
              "      <td>0.999273</td>\n",
              "      <td>2</td>\n",
              "      <td>1</td>\n",
              "    </tr>\n",
              "    <tr>\n",
              "      <th>4</th>\n",
              "      <td>1</td>\n",
              "      <td>1</td>\n",
              "      <td>1.929354</td>\n",
              "      <td>0</td>\n",
              "      <td>0</td>\n",
              "      <td>340</td>\n",
              "      <td>47.080906</td>\n",
              "      <td>322.936778</td>\n",
              "      <td>360.013915</td>\n",
              "      <td>0.979882</td>\n",
              "      <td>0</td>\n",
              "      <td>1</td>\n",
              "    </tr>\n",
              "  </tbody>\n",
              "</table>\n",
              "</div>\n",
              "      <button class=\"colab-df-convert\" onclick=\"convertToInteractive('df-e6dc6fdc-694d-42c1-8ded-7c0ea65aa444')\"\n",
              "              title=\"Convert this dataframe to an interactive table.\"\n",
              "              style=\"display:none;\">\n",
              "        \n",
              "  <svg xmlns=\"http://www.w3.org/2000/svg\" height=\"24px\"viewBox=\"0 0 24 24\"\n",
              "       width=\"24px\">\n",
              "    <path d=\"M0 0h24v24H0V0z\" fill=\"none\"/>\n",
              "    <path d=\"M18.56 5.44l.94 2.06.94-2.06 2.06-.94-2.06-.94-.94-2.06-.94 2.06-2.06.94zm-11 1L8.5 8.5l.94-2.06 2.06-.94-2.06-.94L8.5 2.5l-.94 2.06-2.06.94zm10 10l.94 2.06.94-2.06 2.06-.94-2.06-.94-.94-2.06-.94 2.06-2.06.94z\"/><path d=\"M17.41 7.96l-1.37-1.37c-.4-.4-.92-.59-1.43-.59-.52 0-1.04.2-1.43.59L10.3 9.45l-7.72 7.72c-.78.78-.78 2.05 0 2.83L4 21.41c.39.39.9.59 1.41.59.51 0 1.02-.2 1.41-.59l7.78-7.78 2.81-2.81c.8-.78.8-2.07 0-2.86zM5.41 20L4 18.59l7.72-7.72 1.47 1.35L5.41 20z\"/>\n",
              "  </svg>\n",
              "      </button>\n",
              "      \n",
              "  <style>\n",
              "    .colab-df-container {\n",
              "      display:flex;\n",
              "      flex-wrap:wrap;\n",
              "      gap: 12px;\n",
              "    }\n",
              "\n",
              "    .colab-df-convert {\n",
              "      background-color: #E8F0FE;\n",
              "      border: none;\n",
              "      border-radius: 50%;\n",
              "      cursor: pointer;\n",
              "      display: none;\n",
              "      fill: #1967D2;\n",
              "      height: 32px;\n",
              "      padding: 0 0 0 0;\n",
              "      width: 32px;\n",
              "    }\n",
              "\n",
              "    .colab-df-convert:hover {\n",
              "      background-color: #E2EBFA;\n",
              "      box-shadow: 0px 1px 2px rgba(60, 64, 67, 0.3), 0px 1px 3px 1px rgba(60, 64, 67, 0.15);\n",
              "      fill: #174EA6;\n",
              "    }\n",
              "\n",
              "    [theme=dark] .colab-df-convert {\n",
              "      background-color: #3B4455;\n",
              "      fill: #D2E3FC;\n",
              "    }\n",
              "\n",
              "    [theme=dark] .colab-df-convert:hover {\n",
              "      background-color: #434B5C;\n",
              "      box-shadow: 0px 1px 3px 1px rgba(0, 0, 0, 0.15);\n",
              "      filter: drop-shadow(0px 1px 2px rgba(0, 0, 0, 0.3));\n",
              "      fill: #FFFFFF;\n",
              "    }\n",
              "  </style>\n",
              "\n",
              "      <script>\n",
              "        const buttonEl =\n",
              "          document.querySelector('#df-e6dc6fdc-694d-42c1-8ded-7c0ea65aa444 button.colab-df-convert');\n",
              "        buttonEl.style.display =\n",
              "          google.colab.kernel.accessAllowed ? 'block' : 'none';\n",
              "\n",
              "        async function convertToInteractive(key) {\n",
              "          const element = document.querySelector('#df-e6dc6fdc-694d-42c1-8ded-7c0ea65aa444');\n",
              "          const dataTable =\n",
              "            await google.colab.kernel.invokeFunction('convertToInteractive',\n",
              "                                                     [key], {});\n",
              "          if (!dataTable) return;\n",
              "\n",
              "          const docLinkHtml = 'Like what you see? Visit the ' +\n",
              "            '<a target=\"_blank\" href=https://colab.research.google.com/notebooks/data_table.ipynb>data table notebook</a>'\n",
              "            + ' to learn more about interactive tables.';\n",
              "          element.innerHTML = '';\n",
              "          dataTable['output_type'] = 'display_data';\n",
              "          await google.colab.output.renderOutput(dataTable, element);\n",
              "          const docLink = document.createElement('div');\n",
              "          docLink.innerHTML = docLinkHtml;\n",
              "          element.appendChild(docLink);\n",
              "        }\n",
              "      </script>\n",
              "    </div>\n",
              "  </div>\n",
              "  "
            ]
          },
          "metadata": {},
          "execution_count": 24
        }
      ]
    },
    {
      "cell_type": "code",
      "source": [
        "df.columns"
      ],
      "metadata": {
        "colab": {
          "base_uri": "https://localhost:8080/"
        },
        "id": "9i6qRdfc3nJt",
        "outputId": "da257520-b43e-4a68-89ee-1addc6f9772b"
      },
      "execution_count": 25,
      "outputs": [
        {
          "output_type": "execute_result",
          "data": {
            "text/plain": [
              "Index(['Gender', 'Married', 'Dependents', 'Education', 'Self_Employed',\n",
              "       'ApplicantIncome', 'CoapplicantIncome', 'LoanAmount',\n",
              "       'Loan_Amount_Term', 'Credit_History', 'Property_Area', 'Loan_Status'],\n",
              "      dtype='object')"
            ]
          },
          "metadata": {},
          "execution_count": 25
        }
      ]
    },
    {
      "cell_type": "code",
      "source": [
        "df.isnull().any()"
      ],
      "metadata": {
        "colab": {
          "base_uri": "https://localhost:8080/"
        },
        "id": "6u5VxgPS30yB",
        "outputId": "69ee323c-fa2f-4d8d-d7ad-baf9b668e1e6"
      },
      "execution_count": 26,
      "outputs": [
        {
          "output_type": "execute_result",
          "data": {
            "text/plain": [
              "Gender               False\n",
              "Married              False\n",
              "Dependents           False\n",
              "Education            False\n",
              "Self_Employed        False\n",
              "ApplicantIncome      False\n",
              "CoapplicantIncome    False\n",
              "LoanAmount           False\n",
              "Loan_Amount_Term     False\n",
              "Credit_History       False\n",
              "Property_Area        False\n",
              "Loan_Status          False\n",
              "dtype: bool"
            ]
          },
          "metadata": {},
          "execution_count": 26
        }
      ]
    },
    {
      "cell_type": "code",
      "source": [
        "df.info()"
      ],
      "metadata": {
        "colab": {
          "base_uri": "https://localhost:8080/"
        },
        "id": "ceQfd5Kz346i",
        "outputId": "8a782b4d-94b5-471d-8cfd-49252122844f"
      },
      "execution_count": 27,
      "outputs": [
        {
          "output_type": "stream",
          "name": "stdout",
          "text": [
            "<class 'pandas.core.frame.DataFrame'>\n",
            "RangeIndex: 4000 entries, 0 to 3999\n",
            "Data columns (total 12 columns):\n",
            " #   Column             Non-Null Count  Dtype  \n",
            "---  ------             --------------  -----  \n",
            " 0   Gender             4000 non-null   int64  \n",
            " 1   Married            4000 non-null   int64  \n",
            " 2   Dependents         4000 non-null   float64\n",
            " 3   Education          4000 non-null   int64  \n",
            " 4   Self_Employed      4000 non-null   int64  \n",
            " 5   ApplicantIncome    4000 non-null   int64  \n",
            " 6   CoapplicantIncome  4000 non-null   float64\n",
            " 7   LoanAmount         4000 non-null   float64\n",
            " 8   Loan_Amount_Term   4000 non-null   float64\n",
            " 9   Credit_History     4000 non-null   float64\n",
            " 10  Property_Area      4000 non-null   int64  \n",
            " 11  Loan_Status        4000 non-null   int64  \n",
            "dtypes: float64(5), int64(7)\n",
            "memory usage: 375.1 KB\n"
          ]
        }
      ]
    },
    {
      "cell_type": "code",
      "source": [
        "df.columns"
      ],
      "metadata": {
        "colab": {
          "base_uri": "https://localhost:8080/"
        },
        "id": "cG1O1PRh38mK",
        "outputId": "d8582ee9-f892-4f75-e4fb-3900b1f4027e"
      },
      "execution_count": 28,
      "outputs": [
        {
          "output_type": "execute_result",
          "data": {
            "text/plain": [
              "Index(['Gender', 'Married', 'Dependents', 'Education', 'Self_Employed',\n",
              "       'ApplicantIncome', 'CoapplicantIncome', 'LoanAmount',\n",
              "       'Loan_Amount_Term', 'Credit_History', 'Property_Area', 'Loan_Status'],\n",
              "      dtype='object')"
            ]
          },
          "metadata": {},
          "execution_count": 28
        }
      ]
    },
    {
      "cell_type": "code",
      "source": [
        "x_cols = ['Gender', 'Married', 'Dependents', 'Education', 'Self_Employed', 'ApplicantIncome', 'CoapplicantIncome', \n",
        "          'LoanAmount', 'Loan_Amount_Term', 'Credit_History', 'Property_Area']\n",
        "\n",
        "x = df[x_cols]          \n",
        "y = df['Loan_Status'].values"
      ],
      "metadata": {
        "id": "9jCAk3PM4bAQ"
      },
      "execution_count": 29,
      "outputs": []
    },
    {
      "cell_type": "code",
      "source": [
        "x.values"
      ],
      "metadata": {
        "colab": {
          "base_uri": "https://localhost:8080/"
        },
        "id": "-yF-O-H64zJe",
        "outputId": "9506a0fb-4433-444f-8723-952ee3f23e3d"
      },
      "execution_count": 30,
      "outputs": [
        {
          "output_type": "execute_result",
          "data": {
            "text/plain": [
              "array([[ 1.00000000e+00,  1.00000000e+00,  1.01549140e+00, ...,\n",
              "         3.62034926e+02,  9.99617663e-01,  2.00000000e+00],\n",
              "       [ 1.00000000e+00,  1.00000000e+00,  2.79355014e+00, ...,\n",
              "         1.85855127e+02,  9.94449593e-01,  1.00000000e+00],\n",
              "       [ 0.00000000e+00,  0.00000000e+00,  1.02057543e+00, ...,\n",
              "         3.61411489e+02,  9.99131735e-01,  0.00000000e+00],\n",
              "       ...,\n",
              "       [ 1.00000000e+00,  1.00000000e+00,  1.01515374e-02, ...,\n",
              "         3.61722296e+02,  9.94602628e-01,  0.00000000e+00],\n",
              "       [ 0.00000000e+00,  1.00000000e+00, -2.62509894e-03, ...,\n",
              "         3.60723093e+02,  9.89028651e-01,  1.00000000e+00],\n",
              "       [ 1.00000000e+00,  1.00000000e+00,  7.27098969e-03, ...,\n",
              "         3.60276315e+02,  9.97789395e-01,  1.00000000e+00]])"
            ]
          },
          "metadata": {},
          "execution_count": 30
        }
      ]
    },
    {
      "cell_type": "code",
      "source": [
        "y"
      ],
      "metadata": {
        "colab": {
          "base_uri": "https://localhost:8080/"
        },
        "id": "QKPR4-vN40eg",
        "outputId": "62257325-bd2c-4e4a-d59b-6ea07d7b6900"
      },
      "execution_count": 31,
      "outputs": [
        {
          "output_type": "execute_result",
          "data": {
            "text/plain": [
              "array([1, 1, 1, ..., 1, 0, 1])"
            ]
          },
          "metadata": {},
          "execution_count": 31
        }
      ]
    },
    {
      "cell_type": "code",
      "source": [
        "x = torch.tensor(x.values, dtype=torch.float32)\n",
        "y = torch.tensor(y, dtype=torch.float32).reshape(-1, 1)"
      ],
      "metadata": {
        "id": "3cwWf5Xr43vP"
      },
      "execution_count": 32,
      "outputs": []
    },
    {
      "cell_type": "code",
      "source": [
        "class Wide(nn.Module):\n",
        "  \n",
        "  def __init__(self):\n",
        "    super().__init__()\n",
        "    self.hidden = nn.Linear(11, 66)\n",
        "    self.relu = nn.ReLU()\n",
        "\n",
        "    self.output = nn.Linear(66, 1)\n",
        "    self.sigmoid = nn.Sigmoid()\n",
        "\n",
        "  def forward(self, x):\n",
        "    x = self.relu(self.hidden(x))\n",
        "    x = self.sigmoid(self.output(x))\n",
        "\n",
        "    return x "
      ],
      "metadata": {
        "id": "Kpicg-cZ5x9K"
      },
      "execution_count": 33,
      "outputs": []
    },
    {
      "cell_type": "code",
      "source": [
        "class Deep(nn.Module):\n",
        "\n",
        "  def __init__(self):\n",
        "    super().__init__()\n",
        "    self.layer1 = nn.Linear(11, 11)\n",
        "    self.act1 = nn.ReLU()\n",
        "\n",
        "    self.layer2 = nn.Linear(11, 11)\n",
        "    self.act2 = nn.ReLU()\n",
        "\n",
        "    self.layer3 = nn.Linear(11, 11)\n",
        "    self.act3 = nn.ReLU()\n",
        "\n",
        "    self.output = nn.Linear(11, 1)\n",
        "    self.sigmoid = nn.Sigmoid()\n",
        "\n",
        "  def forward(self, x):\n",
        "    x = self.act1(self.layer1(x))\n",
        "    x = self.act2(self.layer2(x))\n",
        "    x = self.act3(self.layer3(x))\n",
        "    x = self.sigmoid(self.output(x))\n",
        "\n",
        "    return x "
      ],
      "metadata": {
        "id": "krFKRV8t8jWq"
      },
      "execution_count": 34,
      "outputs": []
    },
    {
      "cell_type": "code",
      "source": [
        "model_1 = Wide()\n",
        "model_2 = Deep()\n",
        "\n",
        "print(sum([x.reshape(-1).shape[0] for x in model_1.parameters()]))\n",
        "print(sum([x.reshape(-1).shape[0] for x in model_2.parameters()]))"
      ],
      "metadata": {
        "colab": {
          "base_uri": "https://localhost:8080/"
        },
        "id": "s9BUnen5-sWx",
        "outputId": "dc1c1c57-6877-4c6a-c3a5-1d49756c7d05"
      },
      "execution_count": 35,
      "outputs": [
        {
          "output_type": "stream",
          "name": "stdout",
          "text": [
            "859\n",
            "408\n"
          ]
        }
      ]
    },
    {
      "cell_type": "code",
      "source": [
        "def model_trainer_func(model, x_train, y_train, x_valid, y_valid):\n",
        "\n",
        "\n",
        "  loss_func = nn.BCELoss() #binary cross entropy loss function\n",
        "  optimizer = optim.Adam(model.parameters(), lr=0.0001) #adam optimizer with learning rate \n",
        "\n",
        "  n_epochs = 300\n",
        "  batch_size = 10\n",
        "  batch_start = torch.arange(0, len(x_train), batch_size)\n",
        "\n",
        "  best_accuracy = -np.inf\n",
        "  best_weights = None\n",
        "\n",
        "  for epoch in range(n_epochs):\n",
        "\n",
        "    model.train()\n",
        "\n",
        "    with tqdm.tqdm(batch_start, unit='batch', mininterval=0, disable=True) as bar:\n",
        "      bar.set_description(f\"Epoch {epoch}\")\n",
        "\n",
        "      for start in bar:\n",
        "        x_batch = x_train[start : start + batch_size]\n",
        "        y_batch = y_train[start : start + batch_size]\n",
        "\n",
        "        y_pred = model(x_batch)\n",
        "        loss = loss_func(y_pred, y_batch)\n",
        "\n",
        "        optimizer.zero_grad()\n",
        "        loss.backward()\n",
        "\n",
        "        optimizer.step()\n",
        "\n",
        "        acc = (y_pred.round() == y_batch).float().mean()\n",
        "        bar.set_postfix(\n",
        "            loss = float(loss), \n",
        "            acc = float(acc)\n",
        "        )\n",
        "\n",
        "    model.eval()\n",
        "    y_pred = model(x_valid)\n",
        "    acc = (y_pred.round() == y_valid).float().mean()\n",
        "    acc = float(acc)\n",
        "\n",
        "    if acc > best_accuracy:\n",
        "      best_accuracy = acc\n",
        "      best_weights = copy.deepcopy(model.state_dict())\n",
        "  \n",
        "  model.load_state_dict(best_weights)\n",
        "\n",
        "  return best_accuracy\n"
      ],
      "metadata": {
        "id": "OXjUpef-_ZnV"
      },
      "execution_count": 36,
      "outputs": []
    },
    {
      "cell_type": "code",
      "source": [
        "X_train, X_test, y_train, y_test = train_test_split(x, y, train_size=0.7, shuffle=True)"
      ],
      "metadata": {
        "id": "_9CMiLtGFosj"
      },
      "execution_count": 37,
      "outputs": []
    },
    {
      "cell_type": "code",
      "source": [
        "print(X_train.shape)\n",
        "print(X_test.shape)\n",
        "print(y_train.shape)\n",
        "print(y_test.shape)"
      ],
      "metadata": {
        "colab": {
          "base_uri": "https://localhost:8080/"
        },
        "id": "6XWVOXvqudIA",
        "outputId": "74b4eaef-3d82-49a2-eacf-ce2b4274d382"
      },
      "execution_count": 38,
      "outputs": [
        {
          "output_type": "stream",
          "name": "stdout",
          "text": [
            "torch.Size([2800, 11])\n",
            "torch.Size([1200, 11])\n",
            "torch.Size([2800, 1])\n",
            "torch.Size([1200, 1])\n"
          ]
        }
      ]
    },
    {
      "cell_type": "code",
      "source": [
        "k_fold = StratifiedKFold(n_splits=5, shuffle=True)"
      ],
      "metadata": {
        "id": "91ATqOERsR1S"
      },
      "execution_count": 39,
      "outputs": []
    },
    {
      "cell_type": "code",
      "source": [
        "cv_scores_wide = []\n",
        "\n",
        "for train, test in k_fold.split(X_train, y_train):\n",
        "\n",
        "  model = Wide()\n",
        "\n",
        "  acc = model_trainer_func(model, X_train[train], y_train[train], X_train[test], y_train[test])\n",
        "\n",
        "  print('Accuracy (wide): %.2f' % acc)\n",
        "\n",
        "  cv_scores_wide.append(acc)"
      ],
      "metadata": {
        "colab": {
          "base_uri": "https://localhost:8080/"
        },
        "id": "lt_lcvKooIqi",
        "outputId": "75081d34-1058-4028-952e-f032113a93ab"
      },
      "execution_count": null,
      "outputs": [
        {
          "output_type": "stream",
          "name": "stdout",
          "text": [
            "Accuracy (wide): 0.89\n",
            "Accuracy (wide): 0.90\n",
            "Accuracy (wide): 0.91\n",
            "Accuracy (wide): 0.78\n"
          ]
        }
      ]
    },
    {
      "cell_type": "code",
      "source": [
        "cv_scores_deep = []\n",
        "\n",
        "for train, test in k_fold.split(X_train, y_train):\n",
        "\n",
        "  model = Deep()\n",
        "\n",
        "  acc = model_trainer_func(model, X_train[train], y_train[train], X_train[test], y_train[test])\n",
        "\n",
        "  print('Accuracy (deep): %.2f' % acc)\n",
        "\n",
        "  cv_scores_deep.append(acc)\n"
      ],
      "metadata": {
        "id": "Mwpl9sKzsX7Z",
        "colab": {
          "base_uri": "https://localhost:8080/"
        },
        "outputId": "d905a836-b35e-496c-f2ee-fdd528bae239"
      },
      "execution_count": 42,
      "outputs": [
        {
          "output_type": "stream",
          "name": "stdout",
          "text": [
            "Accuracy (deep): 0.88\n",
            "Accuracy (deep): 0.89\n",
            "Accuracy (deep): 0.86\n",
            "Accuracy (deep): 0.89\n",
            "Accuracy (deep): 0.88\n"
          ]
        }
      ]
    },
    {
      "cell_type": "code",
      "source": [
        "wide_acc = np.mean(cv_scores_wide)\n",
        "wide_std = np.std(cv_scores_wide)\n",
        "\n",
        "deep_acc = np.mean(cv_scores_deep)\n",
        "deep_std = np.std(cv_scores_deep)\n",
        "\n",
        "print('Wide: %.3f%% (+/- %.3f%%)' % (wide_acc*100, wide_std*100))\n",
        "print('Deep: %.3f%% (+/- %.3f%%)' % (deep_acc*100, deep_std*100))"
      ],
      "metadata": {
        "colab": {
          "base_uri": "https://localhost:8080/"
        },
        "id": "5I4Rh4t-3ElH",
        "outputId": "523c0b4b-26c8-403e-caab-c5288a63a69b"
      },
      "execution_count": 43,
      "outputs": [
        {
          "output_type": "stream",
          "name": "stdout",
          "text": [
            "Wide: 87.714% (+/- 5.084%)\n",
            "Deep: 88.071% (+/- 1.466%)\n"
          ]
        }
      ]
    },
    {
      "cell_type": "code",
      "source": [
        "if wide_acc > deep_acc:\n",
        "  print('Train wide model again!')\n",
        "  model = Wide()\n",
        "else:\n",
        "  print('Train deep model again!')\n",
        "  model = Deep()\n",
        "\n",
        "acc = model_trainer_func(model, X_train, y_train, X_test, y_test)\n",
        "\n",
        "print(f'Final Model Accuracy: {acc*100:.2f}%')"
      ],
      "metadata": {
        "colab": {
          "base_uri": "https://localhost:8080/"
        },
        "id": "BBlrbd6c6Uyo",
        "outputId": "460c3d3f-4cf1-4274-a140-6c8591710525"
      },
      "execution_count": 44,
      "outputs": [
        {
          "output_type": "stream",
          "name": "stdout",
          "text": [
            "Train deep model again!\n",
            "Final Model Accuracy: 89.67%\n"
          ]
        }
      ]
    },
    {
      "cell_type": "code",
      "source": [],
      "metadata": {
        "id": "26Q0wIlT75Mm"
      },
      "execution_count": null,
      "outputs": []
    }
  ]
}