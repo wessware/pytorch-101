{
  "nbformat": 4,
  "nbformat_minor": 0,
  "metadata": {
    "colab": {
      "provenance": [],
      "authorship_tag": "ABX9TyNFp/Cg26vZeWEaLGBwBj3j",
      "include_colab_link": true
    },
    "kernelspec": {
      "name": "python3",
      "display_name": "Python 3"
    },
    "language_info": {
      "name": "python"
    }
  },
  "cells": [
    {
      "cell_type": "markdown",
      "metadata": {
        "id": "view-in-github",
        "colab_type": "text"
      },
      "source": [
        "<a href=\"https://colab.research.google.com/github/wessware/pytorch-101/blob/main/pytorch_differentiation_and_regression.ipynb\" target=\"_parent\"><img src=\"https://colab.research.google.com/assets/colab-badge.svg\" alt=\"Open In Colab\"/></a>"
      ]
    },
    {
      "cell_type": "code",
      "execution_count": 37,
      "metadata": {
        "id": "sOe3wHHDhav-"
      },
      "outputs": [],
      "source": [
        "import torch\n",
        "\n",
        "import numpy as np"
      ]
    },
    {
      "cell_type": "code",
      "source": [
        "a = torch.tensor([1,2,3])"
      ],
      "metadata": {
        "id": "bNKhoSiMh5TY"
      },
      "execution_count": 38,
      "outputs": []
    },
    {
      "cell_type": "code",
      "source": [
        "a"
      ],
      "metadata": {
        "colab": {
          "base_uri": "https://localhost:8080/"
        },
        "id": "CX-4_272iHde",
        "outputId": "f717a037-6773-4857-fec0-440e798926c6"
      },
      "execution_count": 39,
      "outputs": [
        {
          "output_type": "execute_result",
          "data": {
            "text/plain": [
              "tensor([1, 2, 3])"
            ]
          },
          "metadata": {},
          "execution_count": 39
        }
      ]
    },
    {
      "cell_type": "code",
      "source": [
        "a.shape"
      ],
      "metadata": {
        "colab": {
          "base_uri": "https://localhost:8080/"
        },
        "id": "fd-BUnwfiMgV",
        "outputId": "cbc81bc1-f72d-414d-eb5d-7738b4d64671"
      },
      "execution_count": 40,
      "outputs": [
        {
          "output_type": "execute_result",
          "data": {
            "text/plain": [
              "torch.Size([3])"
            ]
          },
          "metadata": {},
          "execution_count": 40
        }
      ]
    },
    {
      "cell_type": "code",
      "source": [
        "a.dtype"
      ],
      "metadata": {
        "colab": {
          "base_uri": "https://localhost:8080/"
        },
        "id": "7eGACuu5iPWK",
        "outputId": "07655ae5-dec0-4d86-fc75-3b2cd953ab83"
      },
      "execution_count": 41,
      "outputs": [
        {
          "output_type": "execute_result",
          "data": {
            "text/plain": [
              "torch.int64"
            ]
          },
          "metadata": {},
          "execution_count": 41
        }
      ]
    },
    {
      "cell_type": "code",
      "source": [
        "b = torch.tensor([2., 3. ,4.], requires_grad=True)"
      ],
      "metadata": {
        "id": "-VPDte9JiSyJ"
      },
      "execution_count": 42,
      "outputs": []
    },
    {
      "cell_type": "code",
      "source": [
        "c = torch.tensor([3.6], requires_grad=True)\n",
        "\n",
        "d = c * c\n",
        "d.backward()"
      ],
      "metadata": {
        "id": "Juvdaxz3iuyX"
      },
      "execution_count": 43,
      "outputs": []
    },
    {
      "cell_type": "code",
      "source": [
        "print(c.grad)"
      ],
      "metadata": {
        "colab": {
          "base_uri": "https://localhost:8080/"
        },
        "id": "UYKK317mjbeA",
        "outputId": "55858cb7-c444-4acf-eb62-2ac1706db174"
      },
      "execution_count": 44,
      "outputs": [
        {
          "output_type": "stream",
          "name": "stdout",
          "text": [
            "tensor([7.2000])\n"
          ]
        }
      ]
    },
    {
      "cell_type": "markdown",
      "source": [
        "AutoGrad for Polynomial Regression"
      ],
      "metadata": {
        "id": "o3-ZFd2XkbqU"
      }
    },
    {
      "cell_type": "code",
      "source": [
        "pol = np.poly1d([2, 3, 5])"
      ],
      "metadata": {
        "id": "bYX8qSbDkiw4"
      },
      "execution_count": 45,
      "outputs": []
    },
    {
      "cell_type": "code",
      "source": [
        "print(pol)"
      ],
      "metadata": {
        "colab": {
          "base_uri": "https://localhost:8080/"
        },
        "id": "6zf9D7Imk26B",
        "outputId": "fa23bc39-a1a9-490a-822a-c37b4fb7ed77"
      },
      "execution_count": 46,
      "outputs": [
        {
          "output_type": "stream",
          "name": "stdout",
          "text": [
            "   2\n",
            "2 x + 3 x + 5\n"
          ]
        }
      ]
    },
    {
      "cell_type": "code",
      "source": [
        "pol(2.8)"
      ],
      "metadata": {
        "colab": {
          "base_uri": "https://localhost:8080/"
        },
        "id": "6imJKpJJk5x7",
        "outputId": "61f46de5-da74-4424-fa2d-e706ee87b4ff"
      },
      "execution_count": 47,
      "outputs": [
        {
          "output_type": "execute_result",
          "data": {
            "text/plain": [
              "29.08"
            ]
          },
          "metadata": {},
          "execution_count": 47
        }
      ]
    },
    {
      "cell_type": "code",
      "source": [
        "d = 36\n",
        "\n",
        "x = np.random.randn(d, 1) * 5\n",
        "y = pol(x)"
      ],
      "metadata": {
        "id": "zpac7E44lOfa"
      },
      "execution_count": 48,
      "outputs": []
    },
    {
      "cell_type": "code",
      "source": [
        "x"
      ],
      "metadata": {
        "colab": {
          "base_uri": "https://localhost:8080/"
        },
        "id": "eAMB5wB-mRk6",
        "outputId": "d84c8b9c-a173-48e3-80e9-8d6736273475"
      },
      "execution_count": 49,
      "outputs": [
        {
          "output_type": "execute_result",
          "data": {
            "text/plain": [
              "array([[  0.69405438],\n",
              "       [ -4.85238163],\n",
              "       [-13.27959818],\n",
              "       [  2.34649487],\n",
              "       [  5.34791484],\n",
              "       [  1.1884433 ],\n",
              "       [ -0.77651399],\n",
              "       [  4.81236963],\n",
              "       [ -1.6366191 ],\n",
              "       [  8.88534572],\n",
              "       [ -9.9229198 ],\n",
              "       [  7.7021306 ],\n",
              "       [  0.64969721],\n",
              "       [  4.12023623],\n",
              "       [  1.03687016],\n",
              "       [-10.51504392],\n",
              "       [  6.98438264],\n",
              "       [ -8.20981994],\n",
              "       [  6.85921254],\n",
              "       [  9.62890783],\n",
              "       [  2.25393776],\n",
              "       [  2.36576114],\n",
              "       [  0.59242414],\n",
              "       [  7.63575858],\n",
              "       [ -1.53798361],\n",
              "       [  0.17533921],\n",
              "       [ -4.63514482],\n",
              "       [ 12.45653065],\n",
              "       [  1.44948598],\n",
              "       [ -2.81635235],\n",
              "       [  4.1784001 ],\n",
              "       [ -7.09454634],\n",
              "       [ -2.92685328],\n",
              "       [ -3.74866606],\n",
              "       [ -1.80794608],\n",
              "       [  2.10457159]])"
            ]
          },
          "metadata": {},
          "execution_count": 49
        }
      ]
    },
    {
      "cell_type": "code",
      "source": [
        "y"
      ],
      "metadata": {
        "colab": {
          "base_uri": "https://localhost:8080/"
        },
        "id": "UCCZ06mcmYgN",
        "outputId": "91ddf513-632b-4510-b6fa-758b8eb67391"
      },
      "execution_count": 50,
      "outputs": [
        {
          "output_type": "execute_result",
          "data": {
            "text/plain": [
              "array([[  8.04558612],\n",
              "       [ 37.53407013],\n",
              "       [317.85666107],\n",
              "       [ 23.05156096],\n",
              "       [ 78.24413073],\n",
              "       [ 11.39012487],\n",
              "       [  3.87640598],\n",
              "       [ 65.75491174],\n",
              "       [  5.44718686],\n",
              "       [189.55477419],\n",
              "       [172.15991519],\n",
              "       [146.7520235 ],\n",
              "       [  7.79330457],\n",
              "       [ 51.31340188],\n",
              "       [ 10.26080992],\n",
              "       [194.5871655 ],\n",
              "       [123.51634974],\n",
              "       [115.17282698],\n",
              "       [119.67523089],\n",
              "       [219.31845539],\n",
              "       [ 21.92228413],\n",
              "       [ 23.29093502],\n",
              "       [  7.47920512],\n",
              "       [144.51689379],\n",
              "       [  5.11683635],\n",
              "       [  5.58750532],\n",
              "       [ 34.06370048],\n",
              "       [352.69990347],\n",
              "       [ 13.55047719],\n",
              "       [ 12.41462406],\n",
              "       [ 52.45325516],\n",
              "       [ 84.38153647],\n",
              "       [ 13.3523804 ],\n",
              "       [ 21.85899631],\n",
              "       [  6.1134998 ],\n",
              "       [ 20.17215792]])"
            ]
          },
          "metadata": {},
          "execution_count": 50
        }
      ]
    },
    {
      "cell_type": "markdown",
      "source": [
        "Evaluating the coefficients of a polynomial"
      ],
      "metadata": {
        "id": "-rhzEx-rnKdW"
      }
    },
    {
      "cell_type": "code",
      "source": [
        "poly_1 = np.poly1d([6,7,8])\n",
        "\n",
        "j = 32"
      ],
      "metadata": {
        "id": "0NnUGqtXnjgW"
      },
      "execution_count": 51,
      "outputs": []
    },
    {
      "cell_type": "code",
      "source": [
        "x_ = np.random.randn(j, 1) * 8\n",
        "y_ = poly_1(x_)"
      ],
      "metadata": {
        "id": "l5P7aBekn_CP"
      },
      "execution_count": 52,
      "outputs": []
    },
    {
      "cell_type": "code",
      "source": [
        "X = np.hstack([x_*x_, np.ones_like(x_)])"
      ],
      "metadata": {
        "id": "HExdFKa4oXPF"
      },
      "execution_count": 53,
      "outputs": []
    },
    {
      "cell_type": "code",
      "source": [
        "r = torch.randn(3, 1, requires_grad=True)\n",
        "k = torch.tensor(X, dtype = torch.float32)\n",
        "l = torch.tensor(y_, dtype=torch.float32)"
      ],
      "metadata": {
        "id": "SMIzEvu5owdz"
      },
      "execution_count": 54,
      "outputs": []
    },
    {
      "cell_type": "code",
      "source": [
        "optimizer = torch.optim.NAdam([r], lr=0.01)\n",
        "\n",
        "print(r)"
      ],
      "metadata": {
        "colab": {
          "base_uri": "https://localhost:8080/"
        },
        "id": "oxGxDo7oqJbo",
        "outputId": "c9411965-b942-49ba-9db8-4ce14c50f2fb"
      },
      "execution_count": 55,
      "outputs": [
        {
          "output_type": "stream",
          "name": "stdout",
          "text": [
            "tensor([[ 0.9667],\n",
            "        [-1.6016],\n",
            "        [ 1.3918]], requires_grad=True)\n"
          ]
        }
      ]
    },
    {
      "cell_type": "code",
      "source": [
        "for _ in range(1000):\n",
        "  optimizer.zero_grad()\n",
        "\n",
        "  y_pred = k @ r\n",
        "\n",
        "  mse = torch.mean(torch.square(y_ - y_pred))\n",
        "  mse.backward()\n",
        "  optimizer.step()\n"
      ],
      "metadata": {
        "colab": {
          "base_uri": "https://localhost:8080/",
          "height": 235
        },
        "id": "fWkzJyBnqZiD",
        "outputId": "3bc27df4-3735-45aa-c148-9cc3bf083bf7"
      },
      "execution_count": 56,
      "outputs": [
        {
          "output_type": "error",
          "ename": "RuntimeError",
          "evalue": "ignored",
          "traceback": [
            "\u001b[0;31m---------------------------------------------------------------------------\u001b[0m",
            "\u001b[0;31mRuntimeError\u001b[0m                              Traceback (most recent call last)",
            "\u001b[0;32m<ipython-input-56-a7a0f9983f40>\u001b[0m in \u001b[0;36m<module>\u001b[0;34m\u001b[0m\n\u001b[1;32m      2\u001b[0m   \u001b[0moptimizer\u001b[0m\u001b[0;34m.\u001b[0m\u001b[0mzero_grad\u001b[0m\u001b[0;34m(\u001b[0m\u001b[0;34m)\u001b[0m\u001b[0;34m\u001b[0m\u001b[0;34m\u001b[0m\u001b[0m\n\u001b[1;32m      3\u001b[0m \u001b[0;34m\u001b[0m\u001b[0m\n\u001b[0;32m----> 4\u001b[0;31m   \u001b[0my_pred\u001b[0m \u001b[0;34m=\u001b[0m \u001b[0mk\u001b[0m \u001b[0;34m@\u001b[0m \u001b[0mr\u001b[0m\u001b[0;34m\u001b[0m\u001b[0;34m\u001b[0m\u001b[0m\n\u001b[0m\u001b[1;32m      5\u001b[0m \u001b[0;34m\u001b[0m\u001b[0m\n\u001b[1;32m      6\u001b[0m   \u001b[0mmse\u001b[0m \u001b[0;34m=\u001b[0m \u001b[0mtorch\u001b[0m\u001b[0;34m.\u001b[0m\u001b[0mmean\u001b[0m\u001b[0;34m(\u001b[0m\u001b[0mtorch\u001b[0m\u001b[0;34m.\u001b[0m\u001b[0msquare\u001b[0m\u001b[0;34m(\u001b[0m\u001b[0my_\u001b[0m \u001b[0;34m-\u001b[0m \u001b[0my_pred\u001b[0m\u001b[0;34m)\u001b[0m\u001b[0;34m)\u001b[0m\u001b[0;34m\u001b[0m\u001b[0;34m\u001b[0m\u001b[0m\n",
            "\u001b[0;31mRuntimeError\u001b[0m: mat1 and mat2 shapes cannot be multiplied (32x2 and 3x1)"
          ]
        }
      ]
    },
    {
      "cell_type": "code",
      "source": [
        "\n",
        "\n",
        "# Run optimizer\n",
        "for _ in range(1000):\n",
        "    optimizer.zero_grad()\n",
        "    y_pred = x @ w\n",
        "    mse = torch.mean(torch.square(y - y_pred))\n",
        "    mse.backward()\n",
        "    optimizer.step()\n",
        "\n",
        "print(w)"
      ],
      "metadata": {
        "id": "6OEgo5zKmhnN"
      },
      "execution_count": null,
      "outputs": []
    }
  ]
}