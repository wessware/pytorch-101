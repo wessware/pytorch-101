{
  "nbformat": 4,
  "nbformat_minor": 0,
  "metadata": {
    "colab": {
      "provenance": [],
      "authorship_tag": "ABX9TyNHIoapKmYNLqoPL8GvL/s+",
      "include_colab_link": true
    },
    "kernelspec": {
      "name": "python3",
      "display_name": "Python 3"
    },
    "language_info": {
      "name": "python"
    }
  },
  "cells": [
    {
      "cell_type": "markdown",
      "metadata": {
        "id": "view-in-github",
        "colab_type": "text"
      },
      "source": [
        "<a href=\"https://colab.research.google.com/github/wessware/pytorch-101/blob/main/pytorch_binary_classification.ipynb\" target=\"_parent\"><img src=\"https://colab.research.google.com/assets/colab-badge.svg\" alt=\"Open In Colab\"/></a>"
      ]
    },
    {
      "cell_type": "code",
      "execution_count": 1,
      "metadata": {
        "id": "i_Zinlrs0_zh"
      },
      "outputs": [],
      "source": [
        "import pandas as pd\n",
        "import numpy as np\n",
        "\n",
        "import copy\n",
        " \n",
        "import matplotlib.pyplot as plt\n",
        "\n",
        "import torch\n",
        "import torch.nn as nn\n",
        "import torch.optim as optim\n",
        "\n",
        "import tqdm\n",
        "\n",
        "from sklearn.metrics import roc_curve\n",
        "from sklearn.model_selection import StratifiedKFold, train_test_split"
      ]
    },
    {
      "cell_type": "code",
      "source": [
        "df = pd.read_csv('/content/sample_data/synthesized_loan_data.csv', index_col=None)"
      ],
      "metadata": {
        "id": "QB2W5PPl3VuS"
      },
      "execution_count": 2,
      "outputs": []
    },
    {
      "cell_type": "code",
      "source": [
        "df.shape"
      ],
      "metadata": {
        "colab": {
          "base_uri": "https://localhost:8080/"
        },
        "id": "vImgJ8aY3fLl",
        "outputId": "d0367445-e7d2-401e-efdb-a51d1ee41bdf"
      },
      "execution_count": 3,
      "outputs": [
        {
          "output_type": "execute_result",
          "data": {
            "text/plain": [
              "(4000, 12)"
            ]
          },
          "metadata": {},
          "execution_count": 3
        }
      ]
    },
    {
      "cell_type": "code",
      "source": [
        "df.head()"
      ],
      "metadata": {
        "colab": {
          "base_uri": "https://localhost:8080/",
          "height": 270
        },
        "id": "Ixtm6mNx3lDQ",
        "outputId": "420c6909-7ad0-462b-ccfc-185cf97c2731"
      },
      "execution_count": 4,
      "outputs": [
        {
          "output_type": "execute_result",
          "data": {
            "text/plain": [
              "   Gender  Married  Dependents  Education  Self_Employed  ApplicantIncome  \\\n",
              "0       1        1    1.015491          0              0               60   \n",
              "1       1        1    2.793550          1              2              299   \n",
              "2       0        0    1.020575          0              1              497   \n",
              "3       1        1    0.967628          0              0               35   \n",
              "4       1        1    1.929354          0              0              340   \n",
              "\n",
              "   CoapplicantIncome  LoanAmount  Loan_Amount_Term  Credit_History  \\\n",
              "0        2263.426739  120.264574        362.034926        0.999618   \n",
              "1         207.078743   97.333547        185.855127        0.994450   \n",
              "2        -222.105153   98.957504        361.411489        0.999132   \n",
              "3        1874.200797  141.121981        360.427013        0.999273   \n",
              "4          47.080906  322.936778        360.013915        0.979882   \n",
              "\n",
              "   Property_Area  Loan_Status  \n",
              "0              2            1  \n",
              "1              1            1  \n",
              "2              0            1  \n",
              "3              2            1  \n",
              "4              0            1  "
            ],
            "text/html": [
              "\n",
              "  <div id=\"df-352f94eb-1e81-4ec5-a2a2-df42cd118107\">\n",
              "    <div class=\"colab-df-container\">\n",
              "      <div>\n",
              "<style scoped>\n",
              "    .dataframe tbody tr th:only-of-type {\n",
              "        vertical-align: middle;\n",
              "    }\n",
              "\n",
              "    .dataframe tbody tr th {\n",
              "        vertical-align: top;\n",
              "    }\n",
              "\n",
              "    .dataframe thead th {\n",
              "        text-align: right;\n",
              "    }\n",
              "</style>\n",
              "<table border=\"1\" class=\"dataframe\">\n",
              "  <thead>\n",
              "    <tr style=\"text-align: right;\">\n",
              "      <th></th>\n",
              "      <th>Gender</th>\n",
              "      <th>Married</th>\n",
              "      <th>Dependents</th>\n",
              "      <th>Education</th>\n",
              "      <th>Self_Employed</th>\n",
              "      <th>ApplicantIncome</th>\n",
              "      <th>CoapplicantIncome</th>\n",
              "      <th>LoanAmount</th>\n",
              "      <th>Loan_Amount_Term</th>\n",
              "      <th>Credit_History</th>\n",
              "      <th>Property_Area</th>\n",
              "      <th>Loan_Status</th>\n",
              "    </tr>\n",
              "  </thead>\n",
              "  <tbody>\n",
              "    <tr>\n",
              "      <th>0</th>\n",
              "      <td>1</td>\n",
              "      <td>1</td>\n",
              "      <td>1.015491</td>\n",
              "      <td>0</td>\n",
              "      <td>0</td>\n",
              "      <td>60</td>\n",
              "      <td>2263.426739</td>\n",
              "      <td>120.264574</td>\n",
              "      <td>362.034926</td>\n",
              "      <td>0.999618</td>\n",
              "      <td>2</td>\n",
              "      <td>1</td>\n",
              "    </tr>\n",
              "    <tr>\n",
              "      <th>1</th>\n",
              "      <td>1</td>\n",
              "      <td>1</td>\n",
              "      <td>2.793550</td>\n",
              "      <td>1</td>\n",
              "      <td>2</td>\n",
              "      <td>299</td>\n",
              "      <td>207.078743</td>\n",
              "      <td>97.333547</td>\n",
              "      <td>185.855127</td>\n",
              "      <td>0.994450</td>\n",
              "      <td>1</td>\n",
              "      <td>1</td>\n",
              "    </tr>\n",
              "    <tr>\n",
              "      <th>2</th>\n",
              "      <td>0</td>\n",
              "      <td>0</td>\n",
              "      <td>1.020575</td>\n",
              "      <td>0</td>\n",
              "      <td>1</td>\n",
              "      <td>497</td>\n",
              "      <td>-222.105153</td>\n",
              "      <td>98.957504</td>\n",
              "      <td>361.411489</td>\n",
              "      <td>0.999132</td>\n",
              "      <td>0</td>\n",
              "      <td>1</td>\n",
              "    </tr>\n",
              "    <tr>\n",
              "      <th>3</th>\n",
              "      <td>1</td>\n",
              "      <td>1</td>\n",
              "      <td>0.967628</td>\n",
              "      <td>0</td>\n",
              "      <td>0</td>\n",
              "      <td>35</td>\n",
              "      <td>1874.200797</td>\n",
              "      <td>141.121981</td>\n",
              "      <td>360.427013</td>\n",
              "      <td>0.999273</td>\n",
              "      <td>2</td>\n",
              "      <td>1</td>\n",
              "    </tr>\n",
              "    <tr>\n",
              "      <th>4</th>\n",
              "      <td>1</td>\n",
              "      <td>1</td>\n",
              "      <td>1.929354</td>\n",
              "      <td>0</td>\n",
              "      <td>0</td>\n",
              "      <td>340</td>\n",
              "      <td>47.080906</td>\n",
              "      <td>322.936778</td>\n",
              "      <td>360.013915</td>\n",
              "      <td>0.979882</td>\n",
              "      <td>0</td>\n",
              "      <td>1</td>\n",
              "    </tr>\n",
              "  </tbody>\n",
              "</table>\n",
              "</div>\n",
              "      <button class=\"colab-df-convert\" onclick=\"convertToInteractive('df-352f94eb-1e81-4ec5-a2a2-df42cd118107')\"\n",
              "              title=\"Convert this dataframe to an interactive table.\"\n",
              "              style=\"display:none;\">\n",
              "        \n",
              "  <svg xmlns=\"http://www.w3.org/2000/svg\" height=\"24px\"viewBox=\"0 0 24 24\"\n",
              "       width=\"24px\">\n",
              "    <path d=\"M0 0h24v24H0V0z\" fill=\"none\"/>\n",
              "    <path d=\"M18.56 5.44l.94 2.06.94-2.06 2.06-.94-2.06-.94-.94-2.06-.94 2.06-2.06.94zm-11 1L8.5 8.5l.94-2.06 2.06-.94-2.06-.94L8.5 2.5l-.94 2.06-2.06.94zm10 10l.94 2.06.94-2.06 2.06-.94-2.06-.94-.94-2.06-.94 2.06-2.06.94z\"/><path d=\"M17.41 7.96l-1.37-1.37c-.4-.4-.92-.59-1.43-.59-.52 0-1.04.2-1.43.59L10.3 9.45l-7.72 7.72c-.78.78-.78 2.05 0 2.83L4 21.41c.39.39.9.59 1.41.59.51 0 1.02-.2 1.41-.59l7.78-7.78 2.81-2.81c.8-.78.8-2.07 0-2.86zM5.41 20L4 18.59l7.72-7.72 1.47 1.35L5.41 20z\"/>\n",
              "  </svg>\n",
              "      </button>\n",
              "      \n",
              "  <style>\n",
              "    .colab-df-container {\n",
              "      display:flex;\n",
              "      flex-wrap:wrap;\n",
              "      gap: 12px;\n",
              "    }\n",
              "\n",
              "    .colab-df-convert {\n",
              "      background-color: #E8F0FE;\n",
              "      border: none;\n",
              "      border-radius: 50%;\n",
              "      cursor: pointer;\n",
              "      display: none;\n",
              "      fill: #1967D2;\n",
              "      height: 32px;\n",
              "      padding: 0 0 0 0;\n",
              "      width: 32px;\n",
              "    }\n",
              "\n",
              "    .colab-df-convert:hover {\n",
              "      background-color: #E2EBFA;\n",
              "      box-shadow: 0px 1px 2px rgba(60, 64, 67, 0.3), 0px 1px 3px 1px rgba(60, 64, 67, 0.15);\n",
              "      fill: #174EA6;\n",
              "    }\n",
              "\n",
              "    [theme=dark] .colab-df-convert {\n",
              "      background-color: #3B4455;\n",
              "      fill: #D2E3FC;\n",
              "    }\n",
              "\n",
              "    [theme=dark] .colab-df-convert:hover {\n",
              "      background-color: #434B5C;\n",
              "      box-shadow: 0px 1px 3px 1px rgba(0, 0, 0, 0.15);\n",
              "      filter: drop-shadow(0px 1px 2px rgba(0, 0, 0, 0.3));\n",
              "      fill: #FFFFFF;\n",
              "    }\n",
              "  </style>\n",
              "\n",
              "      <script>\n",
              "        const buttonEl =\n",
              "          document.querySelector('#df-352f94eb-1e81-4ec5-a2a2-df42cd118107 button.colab-df-convert');\n",
              "        buttonEl.style.display =\n",
              "          google.colab.kernel.accessAllowed ? 'block' : 'none';\n",
              "\n",
              "        async function convertToInteractive(key) {\n",
              "          const element = document.querySelector('#df-352f94eb-1e81-4ec5-a2a2-df42cd118107');\n",
              "          const dataTable =\n",
              "            await google.colab.kernel.invokeFunction('convertToInteractive',\n",
              "                                                     [key], {});\n",
              "          if (!dataTable) return;\n",
              "\n",
              "          const docLinkHtml = 'Like what you see? Visit the ' +\n",
              "            '<a target=\"_blank\" href=https://colab.research.google.com/notebooks/data_table.ipynb>data table notebook</a>'\n",
              "            + ' to learn more about interactive tables.';\n",
              "          element.innerHTML = '';\n",
              "          dataTable['output_type'] = 'display_data';\n",
              "          await google.colab.output.renderOutput(dataTable, element);\n",
              "          const docLink = document.createElement('div');\n",
              "          docLink.innerHTML = docLinkHtml;\n",
              "          element.appendChild(docLink);\n",
              "        }\n",
              "      </script>\n",
              "    </div>\n",
              "  </div>\n",
              "  "
            ]
          },
          "metadata": {},
          "execution_count": 4
        }
      ]
    },
    {
      "cell_type": "code",
      "source": [
        "df.columns"
      ],
      "metadata": {
        "colab": {
          "base_uri": "https://localhost:8080/"
        },
        "id": "9i6qRdfc3nJt",
        "outputId": "7fabc084-b9d4-4953-8604-0795cc04b5ae"
      },
      "execution_count": 5,
      "outputs": [
        {
          "output_type": "execute_result",
          "data": {
            "text/plain": [
              "Index(['Gender', 'Married', 'Dependents', 'Education', 'Self_Employed',\n",
              "       'ApplicantIncome', 'CoapplicantIncome', 'LoanAmount',\n",
              "       'Loan_Amount_Term', 'Credit_History', 'Property_Area', 'Loan_Status'],\n",
              "      dtype='object')"
            ]
          },
          "metadata": {},
          "execution_count": 5
        }
      ]
    },
    {
      "cell_type": "code",
      "source": [
        "df.isnull().any()"
      ],
      "metadata": {
        "colab": {
          "base_uri": "https://localhost:8080/"
        },
        "id": "6u5VxgPS30yB",
        "outputId": "f5945f62-57cc-475d-eaa0-8dae3e8e636d"
      },
      "execution_count": 6,
      "outputs": [
        {
          "output_type": "execute_result",
          "data": {
            "text/plain": [
              "Gender               False\n",
              "Married              False\n",
              "Dependents           False\n",
              "Education            False\n",
              "Self_Employed        False\n",
              "ApplicantIncome      False\n",
              "CoapplicantIncome    False\n",
              "LoanAmount           False\n",
              "Loan_Amount_Term     False\n",
              "Credit_History       False\n",
              "Property_Area        False\n",
              "Loan_Status          False\n",
              "dtype: bool"
            ]
          },
          "metadata": {},
          "execution_count": 6
        }
      ]
    },
    {
      "cell_type": "code",
      "source": [
        "df.info()"
      ],
      "metadata": {
        "colab": {
          "base_uri": "https://localhost:8080/"
        },
        "id": "ceQfd5Kz346i",
        "outputId": "f8d75646-3787-4eb4-b527-9275227feede"
      },
      "execution_count": 7,
      "outputs": [
        {
          "output_type": "stream",
          "name": "stdout",
          "text": [
            "<class 'pandas.core.frame.DataFrame'>\n",
            "RangeIndex: 4000 entries, 0 to 3999\n",
            "Data columns (total 12 columns):\n",
            " #   Column             Non-Null Count  Dtype  \n",
            "---  ------             --------------  -----  \n",
            " 0   Gender             4000 non-null   int64  \n",
            " 1   Married            4000 non-null   int64  \n",
            " 2   Dependents         4000 non-null   float64\n",
            " 3   Education          4000 non-null   int64  \n",
            " 4   Self_Employed      4000 non-null   int64  \n",
            " 5   ApplicantIncome    4000 non-null   int64  \n",
            " 6   CoapplicantIncome  4000 non-null   float64\n",
            " 7   LoanAmount         4000 non-null   float64\n",
            " 8   Loan_Amount_Term   4000 non-null   float64\n",
            " 9   Credit_History     4000 non-null   float64\n",
            " 10  Property_Area      4000 non-null   int64  \n",
            " 11  Loan_Status        4000 non-null   int64  \n",
            "dtypes: float64(5), int64(7)\n",
            "memory usage: 375.1 KB\n"
          ]
        }
      ]
    },
    {
      "cell_type": "code",
      "source": [
        "df.columns"
      ],
      "metadata": {
        "colab": {
          "base_uri": "https://localhost:8080/"
        },
        "id": "cG1O1PRh38mK",
        "outputId": "ff7f33f9-bffa-44dc-95b3-1414a412539b"
      },
      "execution_count": 8,
      "outputs": [
        {
          "output_type": "execute_result",
          "data": {
            "text/plain": [
              "Index(['Gender', 'Married', 'Dependents', 'Education', 'Self_Employed',\n",
              "       'ApplicantIncome', 'CoapplicantIncome', 'LoanAmount',\n",
              "       'Loan_Amount_Term', 'Credit_History', 'Property_Area', 'Loan_Status'],\n",
              "      dtype='object')"
            ]
          },
          "metadata": {},
          "execution_count": 8
        }
      ]
    },
    {
      "cell_type": "code",
      "source": [
        "x_cols = ['Gender', 'Married', 'Dependents', 'Education', 'Self_Employed', 'ApplicantIncome', 'CoapplicantIncome', \n",
        "          'LoanAmount', 'Loan_Amount_Term', 'Credit_History', 'Property_Area']\n",
        "\n",
        "x = df[x_cols]          \n",
        "y = df['Loan_Status'].values"
      ],
      "metadata": {
        "id": "9jCAk3PM4bAQ"
      },
      "execution_count": 9,
      "outputs": []
    },
    {
      "cell_type": "code",
      "source": [
        "x.values"
      ],
      "metadata": {
        "colab": {
          "base_uri": "https://localhost:8080/"
        },
        "id": "-yF-O-H64zJe",
        "outputId": "7bf127d5-a457-4709-b307-4c7f0621997c"
      },
      "execution_count": 10,
      "outputs": [
        {
          "output_type": "execute_result",
          "data": {
            "text/plain": [
              "array([[ 1.00000000e+00,  1.00000000e+00,  1.01549140e+00, ...,\n",
              "         3.62034926e+02,  9.99617663e-01,  2.00000000e+00],\n",
              "       [ 1.00000000e+00,  1.00000000e+00,  2.79355014e+00, ...,\n",
              "         1.85855127e+02,  9.94449593e-01,  1.00000000e+00],\n",
              "       [ 0.00000000e+00,  0.00000000e+00,  1.02057543e+00, ...,\n",
              "         3.61411489e+02,  9.99131735e-01,  0.00000000e+00],\n",
              "       ...,\n",
              "       [ 1.00000000e+00,  1.00000000e+00,  1.01515374e-02, ...,\n",
              "         3.61722296e+02,  9.94602628e-01,  0.00000000e+00],\n",
              "       [ 0.00000000e+00,  1.00000000e+00, -2.62509894e-03, ...,\n",
              "         3.60723093e+02,  9.89028651e-01,  1.00000000e+00],\n",
              "       [ 1.00000000e+00,  1.00000000e+00,  7.27098969e-03, ...,\n",
              "         3.60276315e+02,  9.97789395e-01,  1.00000000e+00]])"
            ]
          },
          "metadata": {},
          "execution_count": 10
        }
      ]
    },
    {
      "cell_type": "code",
      "source": [
        "y"
      ],
      "metadata": {
        "colab": {
          "base_uri": "https://localhost:8080/"
        },
        "id": "QKPR4-vN40eg",
        "outputId": "297f11a4-6230-4869-a317-15a99f5f164f"
      },
      "execution_count": 11,
      "outputs": [
        {
          "output_type": "execute_result",
          "data": {
            "text/plain": [
              "array([1, 1, 1, ..., 1, 0, 1])"
            ]
          },
          "metadata": {},
          "execution_count": 11
        }
      ]
    },
    {
      "cell_type": "code",
      "source": [
        "x = torch.tensor(x.values, dtype=torch.float32)\n",
        "y = torch.tensor(y, dtype=torch.float32).reshape(-1, 1)"
      ],
      "metadata": {
        "id": "3cwWf5Xr43vP"
      },
      "execution_count": 12,
      "outputs": []
    },
    {
      "cell_type": "code",
      "source": [
        "class Wide(nn.Module):\n",
        "  \n",
        "  def __init__(self):\n",
        "    super().__init__()\n",
        "    self.hidden = nn.Linear(11, 66)\n",
        "    self.relu = nn.ReLU()\n",
        "\n",
        "    self.output = nn.Linear(66, 1)\n",
        "    self.sigmoid = nn.Sigmoid()\n",
        "\n",
        "  def forward(self, x):\n",
        "    x = self.relu(self.hidden(x))\n",
        "    x = self.sigmoid(self.output(x))\n",
        "\n",
        "    return x "
      ],
      "metadata": {
        "id": "Kpicg-cZ5x9K"
      },
      "execution_count": 13,
      "outputs": []
    },
    {
      "cell_type": "code",
      "source": [
        "class Deep(nn.Module):\n",
        "\n",
        "  def __init__(self):\n",
        "    super().__init__()\n",
        "    self.layer1 = nn.Linear(11, 11)\n",
        "    self.act1 = nn.ReLU()\n",
        "\n",
        "    self.layer2 = nn.Linear(11, 11)\n",
        "    self.act2 = nn.ReLU()\n",
        "\n",
        "    self.layer3 = nn.Linear(11, 11)\n",
        "    self.act3 = nn.ReLU()\n",
        "\n",
        "    self.output = nn.Linear(11, 1)\n",
        "    self.sigmoid = nn.Sigmoid()\n",
        "\n",
        "  def forward(self, x):\n",
        "    x = self.act1(self.layer1(x))\n",
        "    x = self.act2(self.layer2(x))\n",
        "    x = self.act3(self.layer3(x))\n",
        "    x = self.sigmoid(self.output(x))\n",
        "\n",
        "    return x "
      ],
      "metadata": {
        "id": "krFKRV8t8jWq"
      },
      "execution_count": 14,
      "outputs": []
    },
    {
      "cell_type": "code",
      "source": [
        "model_1 = Wide()\n",
        "model_2 = Deep()\n",
        "\n",
        "print(sum([x.reshape(-1).shape[0] for x in model_1.parameters()]))\n",
        "print(sum([x.reshape(-1).shape[0] for x in model_2.parameters()]))"
      ],
      "metadata": {
        "colab": {
          "base_uri": "https://localhost:8080/"
        },
        "id": "s9BUnen5-sWx",
        "outputId": "63d3a0ab-347c-4ddb-d9ae-b341cb1c9a0c"
      },
      "execution_count": 15,
      "outputs": [
        {
          "output_type": "stream",
          "name": "stdout",
          "text": [
            "859\n",
            "408\n"
          ]
        }
      ]
    },
    {
      "cell_type": "code",
      "source": [
        "def model_trainer_func(model, x_train, y_train, x_valid, y_valid):\n",
        "\n",
        "\n",
        "  loss_func = nn.BCELoss() #binary cross entropy loss function\n",
        "  optimizer = optim.Adam(model.parameters(), lr=0.0001) #adam optimizer with learning rate \n",
        "\n",
        "  n_epochs = 300\n",
        "  batch_size = 10\n",
        "  batch_start = torch.arange(0, len(x_train), batch_size)\n",
        "\n",
        "  best_accuracy = -np.inf\n",
        "  best_weights = None\n",
        "\n",
        "  for epoch in range(n_epochs):\n",
        "\n",
        "    model.train()\n",
        "\n",
        "    with tqdm.tqdm(batch_start, unit='batch', mininterval=0, disable=True) as bar:\n",
        "      bar.set_description(f\"Epoch {epoch}\")\n",
        "\n",
        "      for start in bar:\n",
        "        x_batch = x_train[start : start + batch_size]\n",
        "        y_batch = y_train[start : start + batch_size]\n",
        "\n",
        "        y_pred = model(x_batch)\n",
        "        loss = loss_func(y_pred, y_batch)\n",
        "\n",
        "        optimizer.zero_grad()\n",
        "        loss.backward()\n",
        "\n",
        "        optimizer.step()\n",
        "\n",
        "        acc = (y_pred.round() == y_batch).float().mean()\n",
        "        bar.set_postfix(\n",
        "            loss = float(loss), \n",
        "            acc = float(acc)\n",
        "        )\n",
        "\n",
        "    model.eval()\n",
        "    y_pred = model(x_valid)\n",
        "    acc = (y_pred.round() == y_valid).float().mean()\n",
        "    acc = float(acc)\n",
        "\n",
        "    if acc > best_accuracy:\n",
        "      best_accuracy = acc\n",
        "      best_weights = copy.deepcopy(model.state_dict())\n",
        "  \n",
        "  model.load_state_dict(best_weights)\n",
        "\n",
        "  return best_accuracy\n"
      ],
      "metadata": {
        "id": "OXjUpef-_ZnV"
      },
      "execution_count": 16,
      "outputs": []
    },
    {
      "cell_type": "code",
      "source": [
        "X_train, X_test, y_train, y_test = train_test_split(x, y, train_size=0.7, shuffle=True)"
      ],
      "metadata": {
        "id": "_9CMiLtGFosj"
      },
      "execution_count": 17,
      "outputs": []
    },
    {
      "cell_type": "code",
      "source": [
        "print(X_train.shape)\n",
        "print(X_test.shape)\n",
        "print(y_train.shape)\n",
        "print(y_test.shape)"
      ],
      "metadata": {
        "colab": {
          "base_uri": "https://localhost:8080/"
        },
        "id": "6XWVOXvqudIA",
        "outputId": "a449bff2-eb1c-4deb-b2a6-b6356357f386"
      },
      "execution_count": 18,
      "outputs": [
        {
          "output_type": "stream",
          "name": "stdout",
          "text": [
            "torch.Size([2800, 11])\n",
            "torch.Size([1200, 11])\n",
            "torch.Size([2800, 1])\n",
            "torch.Size([1200, 1])\n"
          ]
        }
      ]
    },
    {
      "cell_type": "code",
      "source": [
        "k_fold = StratifiedKFold(n_splits=5, shuffle=True)"
      ],
      "metadata": {
        "id": "91ATqOERsR1S"
      },
      "execution_count": 19,
      "outputs": []
    },
    {
      "cell_type": "code",
      "source": [
        "cv_scores_wide = []\n",
        "\n",
        "for train, test in k_fold.split(X_train, y_train):\n",
        "\n",
        "  model = Wide()\n",
        "\n",
        "  acc = model_trainer_func(model, X_train[train], y_train[train], X_train[test], y_train[test])\n",
        "\n",
        "  print('Accuracy (wide): %.2f' % acc)\n",
        "\n",
        "  cv_scores_wide.append(acc)"
      ],
      "metadata": {
        "colab": {
          "base_uri": "https://localhost:8080/"
        },
        "id": "lt_lcvKooIqi",
        "outputId": "954813b7-cc86-4626-bab7-ce073c27fb7c"
      },
      "execution_count": 20,
      "outputs": [
        {
          "output_type": "stream",
          "name": "stdout",
          "text": [
            "Accuracy (wide): 0.90\n",
            "Accuracy (wide): 0.89\n",
            "Accuracy (wide): 0.90\n",
            "Accuracy (wide): 0.89\n",
            "Accuracy (wide): 0.88\n"
          ]
        }
      ]
    },
    {
      "cell_type": "code",
      "source": [
        "cv_scores_deep = []\n",
        "\n",
        "for train, test in k_fold.split(X_train, y_train):\n",
        "\n",
        "  model = Deep()\n",
        "\n",
        "  acc = model_trainer_func(model, X_train[train], y_train[train], X_train[test], y_train[test])\n",
        "\n",
        "  print('Accuracy (deep): %.2f' % acc)\n",
        "\n",
        "  cv_scores_deep.append(acc)\n"
      ],
      "metadata": {
        "id": "Mwpl9sKzsX7Z",
        "colab": {
          "base_uri": "https://localhost:8080/"
        },
        "outputId": "6b2c3a5c-4f70-416f-c9ee-bc3b75682fa0"
      },
      "execution_count": 21,
      "outputs": [
        {
          "output_type": "stream",
          "name": "stdout",
          "text": [
            "Accuracy (deep): 0.89\n",
            "Accuracy (deep): 0.87\n",
            "Accuracy (deep): 0.89\n",
            "Accuracy (deep): 0.89\n",
            "Accuracy (deep): 0.89\n"
          ]
        }
      ]
    },
    {
      "cell_type": "code",
      "source": [
        "wide_acc = np.mean(cv_scores_wide)\n",
        "wide_std = np.std(cv_scores_wide)\n",
        "\n",
        "deep_acc = np.mean(cv_scores_deep)\n",
        "deep_std = np.std(cv_scores_deep)\n",
        "\n",
        "print('Wide: %.3f%% (+/- %.3f%%)' % (wide_acc*100, wide_std*100))\n",
        "print('Deep: %.3f%% (+/- %.3f%%)' % (deep_acc*100, deep_std*100))"
      ],
      "metadata": {
        "colab": {
          "base_uri": "https://localhost:8080/"
        },
        "id": "5I4Rh4t-3ElH",
        "outputId": "421388cb-81a6-4b92-a112-768cd3127c6b"
      },
      "execution_count": 22,
      "outputs": [
        {
          "output_type": "stream",
          "name": "stdout",
          "text": [
            "Wide: 89.357% (+/- 0.787%)\n",
            "Deep: 88.607% (+/- 0.954%)\n"
          ]
        }
      ]
    },
    {
      "cell_type": "code",
      "source": [
        "if wide_acc > deep_acc:\n",
        "  print('Train wide model again!')\n",
        "  model = Wide()\n",
        "else:\n",
        "  print('Train deep model again!')\n",
        "  model = Deep()\n",
        "\n",
        "acc = model_trainer_func(model, X_train, y_train, X_test, y_test)\n",
        "\n",
        "print(f'Final Model Accuracy: {acc*100:.2f}%')"
      ],
      "metadata": {
        "colab": {
          "base_uri": "https://localhost:8080/"
        },
        "id": "BBlrbd6c6Uyo",
        "outputId": "22bcbaa4-22ea-4f04-9e54-a05fa18adb92"
      },
      "execution_count": 23,
      "outputs": [
        {
          "output_type": "stream",
          "name": "stdout",
          "text": [
            "Train wide model again!\n",
            "Final Model Accuracy: 90.58%\n"
          ]
        }
      ]
    },
    {
      "cell_type": "code",
      "source": [
        "model.eval()\n",
        "\n",
        "with torch.no_grad():\n",
        "\n",
        "  for i in range(5):\n",
        "    y_pred = model(X_test[i:i+1])\n",
        "    print(f'{X_test[i].numpy()} -> {y_pred[0].numpy()} (expected {y_test[i].numpy()})')"
      ],
      "metadata": {
        "id": "26Q0wIlT75Mm",
        "colab": {
          "base_uri": "https://localhost:8080/"
        },
        "outputId": "17de5dcd-e759-433d-d377-0b192d131243"
      },
      "execution_count": 24,
      "outputs": [
        {
          "output_type": "stream",
          "name": "stdout",
          "text": [
            "[1.0000000e+00 1.0000000e+00 2.0300503e+00 0.0000000e+00 1.0000000e+00\n",
            " 4.1800000e+02 9.2572969e+03 2.3152983e+02 3.6026712e+02 9.9452597e-01\n",
            " 0.0000000e+00] -> [0.97551733] (expected [1.])\n",
            "[0.0000000e+00 0.0000000e+00 7.6472893e-02 0.0000000e+00 0.0000000e+00\n",
            " 7.4000000e+01 2.0054139e+03 7.0269043e+01 3.6174362e+02 9.8860800e-01\n",
            " 0.0000000e+00] -> [0.90013933] (expected [1.])\n",
            "[ 1.0000000e+00  0.0000000e+00 -1.3368432e-03  1.0000000e+00\n",
            "  0.0000000e+00  1.2300000e+02  1.6541571e+02  1.0109142e+02\n",
            "  3.6381442e+02  9.9629444e-01  0.0000000e+00] -> [0.761963] (expected [1.])\n",
            "[ 1.0000000e+00  0.0000000e+00 -1.5192738e-02  0.0000000e+00\n",
            "  0.0000000e+00  2.2100000e+02  2.7338696e+03  1.1920833e+02\n",
            "  3.6130249e+02  9.9186218e-01  2.0000000e+00] -> [0.9377089] (expected [1.])\n",
            "[ 0.00000000e+00  0.00000000e+00 -1.54230483e-02  0.00000000e+00\n",
            "  0.00000000e+00  1.16000000e+02  1.02640724e+02  8.37852631e+01\n",
            "  3.58211761e+02  9.92743790e-01  0.00000000e+00] -> [0.8971067] (expected [1.])\n"
          ]
        }
      ]
    },
    {
      "cell_type": "code",
      "source": [
        "model.eval()\n",
        "\n",
        "with torch.no_grad():\n",
        "\n",
        "  for i in range(20):\n",
        "    y_pred = model(X_test[i:i+1])\n",
        "    print(f'{X_test[i].numpy()} -> {y_pred[0].numpy()} (expected {y_test[i].numpy()})')"
      ],
      "metadata": {
        "id": "k6MHnrz2HIxe",
        "outputId": "df759622-41c8-49bb-fc56-c171aa94f13e",
        "colab": {
          "base_uri": "https://localhost:8080/"
        }
      },
      "execution_count": 28,
      "outputs": [
        {
          "output_type": "stream",
          "name": "stdout",
          "text": [
            "[1.0000000e+00 1.0000000e+00 2.0300503e+00 0.0000000e+00 1.0000000e+00\n",
            " 4.1800000e+02 9.2572969e+03 2.3152983e+02 3.6026712e+02 9.9452597e-01\n",
            " 0.0000000e+00] -> [0.97551733] (expected [1.])\n",
            "[0.0000000e+00 0.0000000e+00 7.6472893e-02 0.0000000e+00 0.0000000e+00\n",
            " 7.4000000e+01 2.0054139e+03 7.0269043e+01 3.6174362e+02 9.8860800e-01\n",
            " 0.0000000e+00] -> [0.90013933] (expected [1.])\n",
            "[ 1.0000000e+00  0.0000000e+00 -1.3368432e-03  1.0000000e+00\n",
            "  0.0000000e+00  1.2300000e+02  1.6541571e+02  1.0109142e+02\n",
            "  3.6381442e+02  9.9629444e-01  0.0000000e+00] -> [0.761963] (expected [1.])\n",
            "[ 1.0000000e+00  0.0000000e+00 -1.5192738e-02  0.0000000e+00\n",
            "  0.0000000e+00  2.2100000e+02  2.7338696e+03  1.1920833e+02\n",
            "  3.6130249e+02  9.9186218e-01  2.0000000e+00] -> [0.9377089] (expected [1.])\n",
            "[ 0.00000000e+00  0.00000000e+00 -1.54230483e-02  0.00000000e+00\n",
            "  0.00000000e+00  1.16000000e+02  1.02640724e+02  8.37852631e+01\n",
            "  3.58211761e+02  9.92743790e-01  0.00000000e+00] -> [0.8971067] (expected [1.])\n",
            "[  1.          1.          2.0333438   0.          1.        511.\n",
            " 145.70686   253.97807   361.21194     0.9834133   1.       ] -> [0.7021874] (expected [0.])\n",
            "[ 1.0000000e+00  0.0000000e+00  1.0006038e+00  0.0000000e+00\n",
            "  1.0000000e+00  4.9600000e+02  1.4741336e+02  1.1364335e+02\n",
            "  3.6025330e+02 -9.0859607e-03  0.0000000e+00] -> [0.07840247] (expected [0.])\n",
            "[1.0000000e+00 0.0000000e+00 9.4424021e-01 0.0000000e+00 1.0000000e+00\n",
            " 1.6600000e+02 2.2478669e+03 1.0399582e+02 3.5969229e+02 9.9864274e-01\n",
            " 2.0000000e+00] -> [0.96685123] (expected [1.])\n",
            "[ 1.0000000e+00  0.0000000e+00 -4.6759346e-03  0.0000000e+00\n",
            "  0.0000000e+00  3.7500000e+02  1.8426834e+02  1.3602031e+02\n",
            "  3.6165833e+02  9.9033731e-01  0.0000000e+00] -> [0.89820945] (expected [0.])\n",
            "[ 1.0000000e+00  0.0000000e+00 -4.1257806e-02  1.0000000e+00\n",
            "  0.0000000e+00  3.3800000e+02  1.3879987e+03  9.1604195e+01\n",
            "  3.6023441e+02 -7.3741056e-04  1.0000000e+00] -> [0.5447696] (expected [1.])\n",
            "[ 0.0000000e+00  0.0000000e+00  9.5776776e-03  0.0000000e+00\n",
            "  0.0000000e+00  1.3600000e+02 -1.8855106e+02  1.1381645e+02\n",
            "  3.6211691e+02  9.8021221e-01  0.0000000e+00] -> [0.8952417] (expected [0.])\n",
            "[1.0000000e+00 0.0000000e+00 4.1101824e-02 0.0000000e+00 2.0000000e+00\n",
            " 8.4000000e+01 7.2201963e+03 1.1195103e+02 3.6172394e+02 9.8823059e-01\n",
            " 1.0000000e+00] -> [0.9928479] (expected [1.])\n",
            "[1.0000000e+00 0.0000000e+00 1.7922584e-02 1.0000000e+00 0.0000000e+00\n",
            " 1.8700000e+02 7.3162010e+01 9.9184731e+01 3.6197516e+02 9.9829477e-01\n",
            " 2.0000000e+00] -> [0.8649782] (expected [1.])\n",
            "[ 1.0000000e+00  1.0000000e+00  2.9662321e+00  0.0000000e+00\n",
            "  1.0000000e+00  4.7800000e+02  1.2747984e+02  1.1314766e+02\n",
            "  1.9760712e+02 -3.8702250e-02  2.0000000e+00] -> [0.23547742] (expected [0.])\n",
            "[ 1.0000000e+00  1.0000000e+00  2.9048359e+00  0.0000000e+00\n",
            "  0.0000000e+00  4.3400000e+02  3.8979337e+02  1.8472186e+02\n",
            "  3.6012003e+02 -6.3476749e-02  1.0000000e+00] -> [0.0805219] (expected [0.])\n",
            "[ 1.0000000e+00  1.0000000e+00 -1.1881649e-02  0.0000000e+00\n",
            "  0.0000000e+00  4.6200000e+02  3.4237920e+03  1.7093007e+02\n",
            "  3.5853412e+02 -5.7496484e-02  0.0000000e+00] -> [0.72255707] (expected [0.])\n",
            "[1.0000000e+00 1.0000000e+00 4.9683478e-02 0.0000000e+00 0.0000000e+00\n",
            " 7.8000000e+01 2.6316560e+03 1.0806637e+02 3.5989868e+02 9.9618882e-01\n",
            " 2.0000000e+00] -> [0.97548467] (expected [1.])\n",
            "[1.0000000e+00 1.0000000e+00 1.0769458e-02 0.0000000e+00 0.0000000e+00\n",
            " 1.7500000e+02 2.3069998e+03 1.6451048e+02 2.9916028e+02 9.9090207e-01\n",
            " 0.0000000e+00] -> [0.9739707] (expected [1.])\n",
            "[0.0000000e+00 0.0000000e+00 1.2536854e-02 1.0000000e+00 0.0000000e+00\n",
            " 7.9000000e+01 1.6616465e+03 7.4446159e+01 3.5994305e+02 9.9712574e-01\n",
            " 0.0000000e+00] -> [0.9223882] (expected [1.])\n",
            "[1.0000000e+00 1.0000000e+00 8.8522172e-01 0.0000000e+00 0.0000000e+00\n",
            " 2.1300000e+02 4.2252695e+03 2.4049107e+02 3.6009622e+02 9.9116534e-01\n",
            " 1.0000000e+00] -> [0.9506674] (expected [1.])\n"
          ]
        }
      ]
    },
    {
      "cell_type": "code",
      "source": [],
      "metadata": {
        "id": "v-1ubBP5MBSf"
      },
      "execution_count": null,
      "outputs": []
    }
  ]
}